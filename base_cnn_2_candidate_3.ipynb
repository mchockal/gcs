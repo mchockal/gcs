{
 "cells": [
  {
   "cell_type": "markdown",
   "metadata": {
    "id": "0JVff8Viqq-H"
   },
   "source": [
    "# Base CNN model from NVIDIA paper\n"
   ]
  },
  {
   "cell_type": "code",
   "execution_count": 1,
   "metadata": {
    "id": "qeXi0CRoXleM"
   },
   "outputs": [],
   "source": [
    "import copy\n",
    "import time\n",
    "import matplotlib.pyplot as plt\n",
    "\n",
    "import torch\n",
    "import torch.nn as nn\n",
    "import torch.optim\n",
    "import torchvision.transforms as transforms\n",
    "from torchsummary import summary\n",
    "\n",
    "from utils import dataset\n",
    "from models import nvidia_2\n",
    "\n",
    "# Tqdm progress bar\n",
    "from tqdm import tqdm_notebook, tqdm\n",
    "import sigopt\n",
    "\n",
    "LEARNING_RATE = 0.0001 # 0.00002  #0.000001  # 0.000007  # 0.0000007 for batchsize=1\n",
    "# MOMENTUM = 0.4  # maybe decrease this below 0.5\n",
    "WEIGHT_DECAY_REGULARIZATION_TERM = 0.003 # 0.001 \n",
    "BATCH_SIZE = 1\n",
    "NUM_EPOCHS = 15\n",
    "\n",
    "\n",
    "# Citation:\n",
    "# - AverageMeter taken verbatim from the Assignment 2 training code.\n",
    "# - Remainder of code in this file based on Assignment 2 training code.\n",
    "def seed_everything(seed: int):\n",
    "    import random, os\n",
    "    import numpy as np\n",
    "    import torch\n",
    "    \n",
    "    random.seed(seed)\n",
    "    os.environ['PYTHONHASHSEED'] = str(seed)\n",
    "    np.random.seed(seed)\n",
    "    torch.manual_seed(seed)\n",
    "    torch.cuda.manual_seed(seed)\n",
    "    torch.backends.cudnn.deterministic = True\n",
    "    torch.backends.cudnn.benchmark = True\n",
    "    \n",
    "seed_everything(42)\n",
    "\n",
    "class AverageMeter(object):\n",
    "    \"\"\"Computes and stores the average and current value\"\"\"\n",
    "\n",
    "    def __init__(self):\n",
    "        self.reset()\n",
    "\n",
    "    def reset(self):\n",
    "        self.val = 0\n",
    "        self.avg = 0\n",
    "        self.sum = 0\n",
    "        self.count = 0\n",
    "\n",
    "    def update(self, val, n=1):\n",
    "        self.val = val\n",
    "        self.sum += val * n\n",
    "        self.count += n\n",
    "        self.avg = self.sum / self.count\n",
    "\n",
    "def train(epoch, data_loader, model, optimizer, criterion, scaler=None):\n",
    "    iter_time = AverageMeter()\n",
    "    losses = AverageMeter()\n",
    "    \n",
    "\n",
    "    # Get the progress bar for later modification\n",
    "    progress_bar = tqdm_notebook(data_loader, ascii=True)\n",
    "\n",
    "    for idx, (data, target) in enumerate(progress_bar):\n",
    "        start = time.time()\n",
    "\n",
    "        if torch.cuda.is_available():\n",
    "            data = data.cuda()\n",
    "            target = target.cuda()\n",
    "\n",
    "        # Forward pass and computation of loss.\n",
    "        with torch.autocast(\"cuda\"): #Automatic Mixed precision\n",
    "            out = model(data).reshape(target.shape)\n",
    "            # MSE loss\n",
    "            loss = criterion(out, target)\n",
    "\n",
    "        \n",
    "        # Backwards pass to determine gradients and update model parameters.\n",
    "        # optimizer.zero_grad()\n",
    "        # loss.backward()\n",
    "        # optimizer.step()\n",
    "\n",
    "        for param in model.parameters():\n",
    "            param.grad = None\n",
    "        scaler.scale(loss).backward()\n",
    "        scaler.step(optimizer)\n",
    "\n",
    "        scaler.update()\n",
    "        losses.update(loss, out.shape[0])\n",
    "\n",
    "        iter_time.update(time.time() - start)\n",
    "        # if idx % 5 == 0:\n",
    "        #     print(('Epoch: [{0}][{1}/{2}]\\t'\n",
    "        #            'Time {iter_time.val:.3f} ({iter_time.avg:.3f})\\t'\n",
    "        #            'Loss {loss.val:.4f} ({loss.avg:.4f})\\t'\n",
    "        #           .format(epoch, idx, len(data_loader), iter_time=iter_time, loss=losses)))\n",
    "\n",
    "        progress_bar.set_description_str(f\"Epoch {epoch}, Batch: {idx+1}, Loss: {loss.item():.4f}\")\n",
    "            # \"Batch: %d, Loss: %.4f\" % ((idx + 1), loss.item()))\n",
    "        \n",
    "    return losses.avg\n",
    "\n",
    "def validate(epoch, validation_loader, model, criterion):\n",
    "    iter_time = AverageMeter()\n",
    "    losses = AverageMeter()\n",
    "\n",
    "    # Get the progress bar for later modification\n",
    "    progress_bar = tqdm_notebook(validation_loader, ascii=True)\n",
    "\n",
    "    for idx, (data, target) in enumerate(progress_bar):\n",
    "        start = time.time()\n",
    "\n",
    "        if torch.cuda.is_available():\n",
    "            data = data.cuda()\n",
    "            target = target.cuda()\n",
    "\n",
    "        out = None\n",
    "        loss = None\n",
    "\n",
    "        with torch.no_grad():\n",
    "            out = model(data)\n",
    "            # MSE loss\n",
    "            loss = criterion(out, target)\n",
    "\n",
    "        # loss.squeeze()\n",
    "        losses.update(loss, out.shape[0])\n",
    "\n",
    "        iter_time.update(time.time() - start)\n",
    "\n",
    "#         if idx % 10 == 0:\n",
    "#             print(('Epoch: [{0}][{1}/{2}]\\t'\n",
    "#                    'Time {iter_time.val:.3f} ({iter_time.avg:.3f})\\t')\n",
    "#                   .format(epoch, idx, len(validation_loader), iter_time=iter_time, loss=losses))\n",
    "\n",
    "        progress_bar.set_description_str(f\"Batch: {idx+1}, Loss: {loss.item():.4f}\")\n",
    "           \n",
    "        \n",
    "        # progress_bar.set_description_str(\n",
    "        #     \"Batch: %d, Loss: %.4f\" % ((idx + 1), loss.item()))\n",
    "\n",
    "    print(\"* Average Loss @1: {loss.avg:.4f}\".format(loss=losses))\n",
    "    return losses.avg\n",
    "\n",
    "def test(testing_loader, model, criterion):\n",
    "    iter_time = AverageMeter()\n",
    "    losses = AverageMeter()\n",
    "\n",
    "    # Get the progress bar for later modification\n",
    "    progress_bar = tqdm_notebook(testing_loader, ascii=True)\n",
    "\n",
    "    for idx, (data, target) in enumerate(progress_bar):\n",
    "        start = time.time()\n",
    "\n",
    "        if torch.cuda.is_available():\n",
    "            data = data.cuda()\n",
    "            target = target.cuda()\n",
    "\n",
    "        out = None\n",
    "        loss = None\n",
    "\n",
    "        with torch.inference_mode():   #no_grad():\n",
    "            out = model(data)\n",
    "            # MSE loss\n",
    "            loss = criterion(out, target)\n",
    "\n",
    "        losses.update(loss, out.shape[0])\n",
    "\n",
    "        iter_time.update(time.time() - start)\n",
    "\n",
    "        progress_bar.set_description_str(f\"Batch: {idx+1}, Loss: {loss.item():.4f}\")\n",
    "\n",
    "    print(\"* Average Loss MSE @1: {loss.avg:.4f}\".format(loss=losses))\n",
    "    return torch.sqrt(losses.avg)\n",
    "\n",
    "\n",
    "# RSME Loss function. eps prevents [nan] in the backward pass\n",
    "def RSMELoss(yhat, y, eps=1e-6):\n",
    "    return torch.sqrt(torch.mean((yhat-y)**2) + eps)\n",
    "\n",
    "def plots(losses, lr=LEARNING_RATE, reg=WEIGHT_DECAY_REGULARIZATION_TERM, batch=BATCH_SIZE): #, momentum=MOMENTUM):\n",
    "    fig1, ax1 = plt.subplots(figsize=(8, 10))\n",
    "    ax1.plot(losses[0], label='Training Losses')\n",
    "    ax1.plot(losses[1], label='Validation Losses')\n",
    "    ax1.set_xlabel('Epochs')\n",
    "    ax1.set_ylabel('MSE Loss')\n",
    "    ax1.set_title(f'CNN Loss Curve w/Adam; LR={lr}; Reg={reg}; Batch={batch}')\n",
    "    ax1.legend(loc=\"best\")\n",
    "    plt.grid()\n",
    "    plt.savefig('CNN_2_Adam.png')\n",
    "    plt.show()\n",
    "\n"
   ]
  },
  {
   "cell_type": "code",
   "execution_count": 2,
   "metadata": {
    "colab": {
     "base_uri": "https://8080-2e46ab78-c9c2-48d3-bdaf-4bac61d839fb.cs-us-west1-wolo.cloudshell.dev/",
     "height": 499,
     "referenced_widgets": [
      "07702d46ef4f4adbb6c49636db4a20b8",
      "58bc3d954d4b4c0da4d5fc0a38b2f796",
      "16ffac94f38b4f7c962c882c01ba2419",
      "9cf8a9eed4d14e01aa4c275aa84b3344",
      "982edd4d3e5143d585358e1a4052a2fe",
      "b7a58eef48524b0c8a66e53fb7a14083",
      "dbfab81740ee484b95af7851f79c4440",
      "d7f3eed35e324d489ba1adae8b5489a3",
      "bb2d238560dc4490a7275b1b77d5e8a8",
      "1694cb1688e04ff98b97745bd89e9eca",
      "aafa9c5f04b84ffa8cb7b946f085c306"
     ]
    },
    "executionInfo": {
     "elapsed": 648202,
     "status": "error",
     "timestamp": 1658206427736,
     "user": {
      "displayName": "Meena Chockalingam",
      "userId": "09228565184695634950"
     },
     "user_tz": 300
    },
    "id": "iVdav7RtkH-B",
    "outputId": "73cf0f2d-035f-4ea7-9c31-a523c0397b9d",
    "scrolled": true,
    "tags": []
   },
   "outputs": [
    {
     "name": "stderr",
     "output_type": "stream",
     "text": [
      "/opt/conda/lib/python3.7/site-packages/torch/nn/modules/lazy.py:178: UserWarning: Lazy modules are a new feature under heavy development so changes to the API or functionality can happen at any moment.\n",
      "  warnings.warn('Lazy modules are a new feature under heavy development '\n"
     ]
    },
    {
     "name": "stdout",
     "output_type": "stream",
     "text": [
      "----------------------------------------------------------------\n",
      "        Layer (type)               Output Shape         Param #\n",
      "================================================================\n",
      "            Conv2d-1           [-1, 20, 61, 61]           2,960\n",
      "         LeakyReLU-2           [-1, 20, 61, 61]               0\n",
      "         MaxPool2d-3           [-1, 20, 60, 60]               0\n",
      "       BatchNorm2d-4           [-1, 20, 60, 60]              40\n",
      "            Conv2d-5           [-1, 25, 28, 28]          18,025\n",
      "         LeakyReLU-6           [-1, 25, 28, 28]               0\n",
      "         MaxPool2d-7           [-1, 25, 27, 27]               0\n",
      "       BatchNorm2d-8           [-1, 25, 27, 27]              50\n",
      "            Conv2d-9           [-1, 40, 12, 12]          25,040\n",
      "        LeakyReLU-10           [-1, 40, 12, 12]               0\n",
      "        MaxPool2d-11           [-1, 40, 11, 11]               0\n",
      "      BatchNorm2d-12           [-1, 40, 11, 11]              80\n",
      "           Conv2d-13             [-1, 55, 8, 8]          35,255\n",
      "        LeakyReLU-14             [-1, 55, 8, 8]               0\n",
      "        MaxPool2d-15             [-1, 55, 7, 7]               0\n",
      "      BatchNorm2d-16             [-1, 55, 7, 7]             110\n",
      "           Conv2d-17             [-1, 70, 5, 5]          34,720\n",
      "        LeakyReLU-18             [-1, 70, 5, 5]               0\n",
      "        MaxPool2d-19             [-1, 70, 4, 4]               0\n",
      "      BatchNorm2d-20             [-1, 70, 4, 4]             140\n",
      "           Conv2d-21             [-1, 85, 3, 3]          23,885\n",
      "        LeakyReLU-22             [-1, 85, 3, 3]               0\n",
      "        MaxPool2d-23             [-1, 85, 2, 2]               0\n",
      "      BatchNorm2d-24             [-1, 85, 2, 2]             170\n",
      "          Flatten-25                  [-1, 340]               0\n",
      "           Linear-26                  [-1, 104]          35,464\n",
      "        LeakyReLU-27                  [-1, 104]               0\n",
      "           Linear-28                   [-1, 56]           5,880\n",
      "        LeakyReLU-29                   [-1, 56]               0\n",
      "           Linear-30                    [-1, 8]             456\n",
      "        LeakyReLU-31                    [-1, 8]               0\n",
      "           Linear-32                    [-1, 1]               9\n",
      "================================================================\n",
      "Total params: 182,284\n",
      "Trainable params: 182,284\n",
      "Non-trainable params: 0\n",
      "----------------------------------------------------------------\n",
      "Input size (MB): 0.19\n",
      "Forward/backward pass size (MB): 3.13\n",
      "Params size (MB): 0.70\n",
      "Estimated Total Size (MB): 4.02\n",
      "----------------------------------------------------------------\n",
      "None\n"
     ]
    },
    {
     "name": "stderr",
     "output_type": "stream",
     "text": [
      "/opt/conda/lib/python3.7/site-packages/ipykernel_launcher.py:67: TqdmDeprecationWarning: This function will be removed in tqdm==5.0.0\n",
      "Please use `tqdm.notebook.tqdm` instead of `tqdm.tqdm_notebook`\n"
     ]
    },
    {
     "data": {
      "application/vnd.jupyter.widget-view+json": {
       "model_id": "337d3ab25c6a40298066b8ae1c2d6d4b",
       "version_major": 2,
       "version_minor": 0
      },
      "text/plain": [
       "  0%|          | 0/27046 [00:00<?, ?it/s]"
      ]
     },
     "metadata": {},
     "output_type": "display_data"
    },
    {
     "name": "stdout",
     "output_type": "stream",
     "text": [
      "Average training loss this epoch: 0.0498\n"
     ]
    },
    {
     "name": "stderr",
     "output_type": "stream",
     "text": [
      "/opt/conda/lib/python3.7/site-packages/ipykernel_launcher.py:113: TqdmDeprecationWarning: This function will be removed in tqdm==5.0.0\n",
      "Please use `tqdm.notebook.tqdm` instead of `tqdm.tqdm_notebook`\n"
     ]
    },
    {
     "data": {
      "application/vnd.jupyter.widget-view+json": {
       "model_id": "ea201af10fa344b38b029a45b6d46ecb",
       "version_major": 2,
       "version_minor": 0
      },
      "text/plain": [
       "  0%|          | 0/6762 [00:00<?, ?it/s]"
      ]
     },
     "metadata": {},
     "output_type": "display_data"
    },
    {
     "name": "stderr",
     "output_type": "stream",
     "text": [
      "/opt/conda/lib/python3.7/site-packages/torch/nn/modules/loss.py:529: UserWarning: Using a target size (torch.Size([1])) that is different to the input size (torch.Size([1, 1])). This will likely lead to incorrect results due to broadcasting. Please ensure they have the same size.\n",
      "  return F.mse_loss(input, target, reduction=self.reduction)\n"
     ]
    },
    {
     "name": "stdout",
     "output_type": "stream",
     "text": [
      "* Average Loss @1: 0.0488\n",
      "Best performing model so far average validation loss: 0.0488 on epoch 0\n",
      "\n"
     ]
    },
    {
     "data": {
      "application/vnd.jupyter.widget-view+json": {
       "model_id": "8cea37d3355b45b2a1e6fe9ad0fecb41",
       "version_major": 2,
       "version_minor": 0
      },
      "text/plain": [
       "  0%|          | 0/27046 [00:00<?, ?it/s]"
      ]
     },
     "metadata": {},
     "output_type": "display_data"
    },
    {
     "name": "stdout",
     "output_type": "stream",
     "text": [
      "Average training loss this epoch: 0.0345\n"
     ]
    },
    {
     "data": {
      "application/vnd.jupyter.widget-view+json": {
       "model_id": "7d72942ca934474fbf14a3a9f51c1018",
       "version_major": 2,
       "version_minor": 0
      },
      "text/plain": [
       "  0%|          | 0/6762 [00:00<?, ?it/s]"
      ]
     },
     "metadata": {},
     "output_type": "display_data"
    },
    {
     "name": "stdout",
     "output_type": "stream",
     "text": [
      "* Average Loss @1: 0.0461\n",
      "Best performing model so far average validation loss: 0.0461 on epoch 1\n",
      "\n",
      "\n",
      "Crossover condition met\n",
      "\n"
     ]
    },
    {
     "data": {
      "application/vnd.jupyter.widget-view+json": {
       "model_id": "e889c9b6128541e39f37347a4aef91bd",
       "version_major": 2,
       "version_minor": 0
      },
      "text/plain": [
       "  0%|          | 0/27046 [00:00<?, ?it/s]"
      ]
     },
     "metadata": {},
     "output_type": "display_data"
    },
    {
     "name": "stdout",
     "output_type": "stream",
     "text": [
      "Average training loss this epoch: 0.0318\n"
     ]
    },
    {
     "data": {
      "application/vnd.jupyter.widget-view+json": {
       "model_id": "aff0d1edb1c44f2bbd67c8e30a6d4da4",
       "version_major": 2,
       "version_minor": 0
      },
      "text/plain": [
       "  0%|          | 0/6762 [00:00<?, ?it/s]"
      ]
     },
     "metadata": {},
     "output_type": "display_data"
    },
    {
     "name": "stdout",
     "output_type": "stream",
     "text": [
      "* Average Loss @1: 0.0272\n",
      "Best performing model so far average validation loss: 0.0272 on epoch 2\n",
      "\n"
     ]
    },
    {
     "data": {
      "application/vnd.jupyter.widget-view+json": {
       "model_id": "41ff4b7d2e714d5fb2a9179ded4c6e04",
       "version_major": 2,
       "version_minor": 0
      },
      "text/plain": [
       "  0%|          | 0/27046 [00:00<?, ?it/s]"
      ]
     },
     "metadata": {},
     "output_type": "display_data"
    },
    {
     "name": "stdout",
     "output_type": "stream",
     "text": [
      "Average training loss this epoch: 0.0300\n"
     ]
    },
    {
     "data": {
      "application/vnd.jupyter.widget-view+json": {
       "model_id": "2f630b00c4344a66adfdb0c5fa51b6c9",
       "version_major": 2,
       "version_minor": 0
      },
      "text/plain": [
       "  0%|          | 0/6762 [00:00<?, ?it/s]"
      ]
     },
     "metadata": {},
     "output_type": "display_data"
    },
    {
     "name": "stdout",
     "output_type": "stream",
     "text": [
      "* Average Loss @1: 0.0298\n",
      "Epoch 00004: reducing learning rate of group 0 to 1.0000e-05.\n",
      "Best performing model so far average validation loss: 0.0272 on epoch 2\n",
      "\n"
     ]
    },
    {
     "data": {
      "application/vnd.jupyter.widget-view+json": {
       "model_id": "7426caa05a8349da9c87e81ce9ae4e3c",
       "version_major": 2,
       "version_minor": 0
      },
      "text/plain": [
       "  0%|          | 0/27046 [00:00<?, ?it/s]"
      ]
     },
     "metadata": {},
     "output_type": "display_data"
    },
    {
     "name": "stdout",
     "output_type": "stream",
     "text": [
      "Average training loss this epoch: 0.0210\n"
     ]
    },
    {
     "data": {
      "application/vnd.jupyter.widget-view+json": {
       "model_id": "2eb0fa01a81a4934a91131f2fbe7a570",
       "version_major": 2,
       "version_minor": 0
      },
      "text/plain": [
       "  0%|          | 0/6762 [00:00<?, ?it/s]"
      ]
     },
     "metadata": {},
     "output_type": "display_data"
    },
    {
     "name": "stdout",
     "output_type": "stream",
     "text": [
      "* Average Loss @1: 0.0175\n",
      "Best performing model so far average validation loss: 0.0175 on epoch 4\n",
      "\n"
     ]
    },
    {
     "data": {
      "application/vnd.jupyter.widget-view+json": {
       "model_id": "3785db742bdd432a9528e4bbc997cc4b",
       "version_major": 2,
       "version_minor": 0
      },
      "text/plain": [
       "  0%|          | 0/27046 [00:00<?, ?it/s]"
      ]
     },
     "metadata": {},
     "output_type": "display_data"
    },
    {
     "name": "stdout",
     "output_type": "stream",
     "text": [
      "Average training loss this epoch: 0.0153\n"
     ]
    },
    {
     "data": {
      "application/vnd.jupyter.widget-view+json": {
       "model_id": "0353954a8c7441bd97bb6dce47247d89",
       "version_major": 2,
       "version_minor": 0
      },
      "text/plain": [
       "  0%|          | 0/6762 [00:00<?, ?it/s]"
      ]
     },
     "metadata": {},
     "output_type": "display_data"
    },
    {
     "name": "stdout",
     "output_type": "stream",
     "text": [
      "* Average Loss @1: 0.0146\n",
      "Best performing model so far average validation loss: 0.0146 on epoch 5\n",
      "\n"
     ]
    },
    {
     "data": {
      "application/vnd.jupyter.widget-view+json": {
       "model_id": "d74b8368e9df44029113673e6f07a205",
       "version_major": 2,
       "version_minor": 0
      },
      "text/plain": [
       "  0%|          | 0/27046 [00:00<?, ?it/s]"
      ]
     },
     "metadata": {},
     "output_type": "display_data"
    },
    {
     "name": "stdout",
     "output_type": "stream",
     "text": [
      "Average training loss this epoch: 0.0121\n"
     ]
    },
    {
     "data": {
      "application/vnd.jupyter.widget-view+json": {
       "model_id": "900a1f77fefc4a149e2fb2d5f41c9078",
       "version_major": 2,
       "version_minor": 0
      },
      "text/plain": [
       "  0%|          | 0/6762 [00:00<?, ?it/s]"
      ]
     },
     "metadata": {},
     "output_type": "display_data"
    },
    {
     "name": "stdout",
     "output_type": "stream",
     "text": [
      "* Average Loss @1: 0.0123\n",
      "Best performing model so far average validation loss: 0.0123 on epoch 6\n",
      "\n"
     ]
    },
    {
     "data": {
      "application/vnd.jupyter.widget-view+json": {
       "model_id": "127b4ed0ca3749f8beb85c19a733c1b4",
       "version_major": 2,
       "version_minor": 0
      },
      "text/plain": [
       "  0%|          | 0/27046 [00:00<?, ?it/s]"
      ]
     },
     "metadata": {},
     "output_type": "display_data"
    },
    {
     "name": "stdout",
     "output_type": "stream",
     "text": [
      "Average training loss this epoch: 0.0092\n"
     ]
    },
    {
     "data": {
      "application/vnd.jupyter.widget-view+json": {
       "model_id": "f63eeb8d017a40ceb379f6b0dc115c94",
       "version_major": 2,
       "version_minor": 0
      },
      "text/plain": [
       "  0%|          | 0/6762 [00:00<?, ?it/s]"
      ]
     },
     "metadata": {},
     "output_type": "display_data"
    },
    {
     "name": "stdout",
     "output_type": "stream",
     "text": [
      "* Average Loss @1: 0.0087\n",
      "Best performing model so far average validation loss: 0.0087 on epoch 7\n",
      "\n"
     ]
    },
    {
     "data": {
      "application/vnd.jupyter.widget-view+json": {
       "model_id": "340f809b429d492d98f052740dad7b36",
       "version_major": 2,
       "version_minor": 0
      },
      "text/plain": [
       "  0%|          | 0/27046 [00:00<?, ?it/s]"
      ]
     },
     "metadata": {},
     "output_type": "display_data"
    },
    {
     "name": "stdout",
     "output_type": "stream",
     "text": [
      "Average training loss this epoch: 0.0072\n"
     ]
    },
    {
     "data": {
      "application/vnd.jupyter.widget-view+json": {
       "model_id": "9661a30c477c4f7db5d45e3a1a333334",
       "version_major": 2,
       "version_minor": 0
      },
      "text/plain": [
       "  0%|          | 0/6762 [00:00<?, ?it/s]"
      ]
     },
     "metadata": {},
     "output_type": "display_data"
    },
    {
     "name": "stdout",
     "output_type": "stream",
     "text": [
      "* Average Loss @1: 0.0074\n",
      "Best performing model so far average validation loss: 0.0074 on epoch 8\n",
      "\n"
     ]
    },
    {
     "data": {
      "application/vnd.jupyter.widget-view+json": {
       "model_id": "546caccf3fb440a7a642ed280b8c3d44",
       "version_major": 2,
       "version_minor": 0
      },
      "text/plain": [
       "  0%|          | 0/27046 [00:00<?, ?it/s]"
      ]
     },
     "metadata": {},
     "output_type": "display_data"
    },
    {
     "name": "stdout",
     "output_type": "stream",
     "text": [
      "Average training loss this epoch: 0.0059\n"
     ]
    },
    {
     "data": {
      "application/vnd.jupyter.widget-view+json": {
       "model_id": "f2996910aa734a668a3dd432cd56d499",
       "version_major": 2,
       "version_minor": 0
      },
      "text/plain": [
       "  0%|          | 0/6762 [00:00<?, ?it/s]"
      ]
     },
     "metadata": {},
     "output_type": "display_data"
    },
    {
     "name": "stdout",
     "output_type": "stream",
     "text": [
      "* Average Loss @1: 0.0067\n",
      "Best performing model so far average validation loss: 0.0067 on epoch 9\n",
      "\n"
     ]
    },
    {
     "data": {
      "application/vnd.jupyter.widget-view+json": {
       "model_id": "7ee675914028428e81896cc6376f6301",
       "version_major": 2,
       "version_minor": 0
      },
      "text/plain": [
       "  0%|          | 0/27046 [00:00<?, ?it/s]"
      ]
     },
     "metadata": {},
     "output_type": "display_data"
    },
    {
     "name": "stdout",
     "output_type": "stream",
     "text": [
      "Average training loss this epoch: 0.0050\n"
     ]
    },
    {
     "data": {
      "application/vnd.jupyter.widget-view+json": {
       "model_id": "16fb0cd0804d4922acdb0d0a2d5d0741",
       "version_major": 2,
       "version_minor": 0
      },
      "text/plain": [
       "  0%|          | 0/6762 [00:00<?, ?it/s]"
      ]
     },
     "metadata": {},
     "output_type": "display_data"
    },
    {
     "name": "stdout",
     "output_type": "stream",
     "text": [
      "* Average Loss @1: 0.0063\n",
      "Best performing model so far average validation loss: 0.0063 on epoch 10\n",
      "\n"
     ]
    },
    {
     "data": {
      "application/vnd.jupyter.widget-view+json": {
       "model_id": "234127ada8134d00aa700fa86bed48a2",
       "version_major": 2,
       "version_minor": 0
      },
      "text/plain": [
       "  0%|          | 0/27046 [00:00<?, ?it/s]"
      ]
     },
     "metadata": {},
     "output_type": "display_data"
    },
    {
     "name": "stdout",
     "output_type": "stream",
     "text": [
      "Average training loss this epoch: 0.0045\n"
     ]
    },
    {
     "data": {
      "application/vnd.jupyter.widget-view+json": {
       "model_id": "84ae183be7f04174adcc7ae269567462",
       "version_major": 2,
       "version_minor": 0
      },
      "text/plain": [
       "  0%|          | 0/6762 [00:00<?, ?it/s]"
      ]
     },
     "metadata": {},
     "output_type": "display_data"
    },
    {
     "name": "stdout",
     "output_type": "stream",
     "text": [
      "* Average Loss @1: 0.0050\n",
      "Best performing model so far average validation loss: 0.0050 on epoch 11\n",
      "\n"
     ]
    },
    {
     "data": {
      "application/vnd.jupyter.widget-view+json": {
       "model_id": "96b8d9f4001243c59ad39973ecbeb552",
       "version_major": 2,
       "version_minor": 0
      },
      "text/plain": [
       "  0%|          | 0/27046 [00:00<?, ?it/s]"
      ]
     },
     "metadata": {},
     "output_type": "display_data"
    },
    {
     "name": "stdout",
     "output_type": "stream",
     "text": [
      "Average training loss this epoch: 0.0041\n"
     ]
    },
    {
     "data": {
      "application/vnd.jupyter.widget-view+json": {
       "model_id": "b1a9768cda464981a7bfd9a076a12023",
       "version_major": 2,
       "version_minor": 0
      },
      "text/plain": [
       "  0%|          | 0/6762 [00:00<?, ?it/s]"
      ]
     },
     "metadata": {},
     "output_type": "display_data"
    },
    {
     "name": "stdout",
     "output_type": "stream",
     "text": [
      "* Average Loss @1: 0.0046\n",
      "Best performing model so far average validation loss: 0.0046 on epoch 12\n",
      "\n"
     ]
    },
    {
     "data": {
      "application/vnd.jupyter.widget-view+json": {
       "model_id": "b7fa1cba68a94845bf7860cbfe281d87",
       "version_major": 2,
       "version_minor": 0
      },
      "text/plain": [
       "  0%|          | 0/27046 [00:00<?, ?it/s]"
      ]
     },
     "metadata": {},
     "output_type": "display_data"
    },
    {
     "name": "stdout",
     "output_type": "stream",
     "text": [
      "Average training loss this epoch: 0.0039\n"
     ]
    },
    {
     "data": {
      "application/vnd.jupyter.widget-view+json": {
       "model_id": "7838b2f854a148c1b3e355d0aad5e834",
       "version_major": 2,
       "version_minor": 0
      },
      "text/plain": [
       "  0%|          | 0/6762 [00:00<?, ?it/s]"
      ]
     },
     "metadata": {},
     "output_type": "display_data"
    },
    {
     "name": "stdout",
     "output_type": "stream",
     "text": [
      "* Average Loss @1: 0.0054\n",
      "Epoch 00014: reducing learning rate of group 0 to 1.0000e-06.\n",
      "Best performing model so far average validation loss: 0.0046 on epoch 12\n",
      "\n"
     ]
    },
    {
     "data": {
      "application/vnd.jupyter.widget-view+json": {
       "model_id": "eaa59c9894f44fee976b7747996cd027",
       "version_major": 2,
       "version_minor": 0
      },
      "text/plain": [
       "  0%|          | 0/27046 [00:00<?, ?it/s]"
      ]
     },
     "metadata": {},
     "output_type": "display_data"
    },
    {
     "name": "stdout",
     "output_type": "stream",
     "text": [
      "Average training loss this epoch: 0.0028\n"
     ]
    },
    {
     "data": {
      "application/vnd.jupyter.widget-view+json": {
       "model_id": "43b6f34ea688406ea24d65e741cc3656",
       "version_major": 2,
       "version_minor": 0
      },
      "text/plain": [
       "  0%|          | 0/6762 [00:00<?, ?it/s]"
      ]
     },
     "metadata": {},
     "output_type": "display_data"
    },
    {
     "name": "stdout",
     "output_type": "stream",
     "text": [
      "* Average Loss @1: 0.0035\n",
      "Best performing model so far average validation loss: 0.0035 on epoch 14\n",
      "\n",
      "Best Training Loss @1: 0.0035\n",
      "\n",
      "Best Model:\n"
     ]
    },
    {
     "name": "stderr",
     "output_type": "stream",
     "text": [
      "/opt/conda/lib/python3.7/site-packages/ipykernel_launcher.py:154: TqdmDeprecationWarning: This function will be removed in tqdm==5.0.0\n",
      "Please use `tqdm.notebook.tqdm` instead of `tqdm.tqdm_notebook`\n"
     ]
    },
    {
     "data": {
      "application/vnd.jupyter.widget-view+json": {
       "model_id": "6cc58d859439452ebbb0623ef821bd58",
       "version_major": 2,
       "version_minor": 0
      },
      "text/plain": [
       "  0%|          | 0/5614 [00:00<?, ?it/s]"
      ]
     },
     "metadata": {},
     "output_type": "display_data"
    },
    {
     "name": "stdout",
     "output_type": "stream",
     "text": [
      "* Average Loss MSE @1: 0.0191\n",
      "Test Loss RMSE @1: 0.13836958647264547\n",
      "\n",
      "Crossover Model:\n"
     ]
    },
    {
     "data": {
      "application/vnd.jupyter.widget-view+json": {
       "model_id": "9230aeae8c7b4cfaa50ad8eaddb48fda",
       "version_major": 2,
       "version_minor": 0
      },
      "text/plain": [
       "  0%|          | 0/5614 [00:00<?, ?it/s]"
      ]
     },
     "metadata": {},
     "output_type": "display_data"
    },
    {
     "name": "stdout",
     "output_type": "stream",
     "text": [
      "* Average Loss MSE @1: 0.0246\n",
      "Test Loss RMSE @1: 0.15671567399887884\n"
     ]
    },
    {
     "data": {
      "image/png": "[encoded data removed]",
      "text/plain": [
       "<Figure size 576x720 with 1 Axes>"
      ]
     },
     "metadata": {
      "needs_background": "light"
     },
     "output_type": "display_data"
    }
   ],
   "source": [
    "# !! Skip this cell for sigopt experimentation !!\n",
    "def main():\n",
    "    # Normalizing images per the paper and resizing each image to 66 x 200.\n",
    "    transform = transforms.Compose([\n",
    "        # Citation:\n",
    "        # https://pytorch.org/vision/stable/transforms.html#scriptable-transforms\n",
    "        transforms.Resize((128, 128)),\n",
    "        transforms.Normalize((0.485, 0.456, 0.406), (0.229, 0.224, 0.225))  \n",
    "    ])\n",
    "\n",
    "    # Loading in images with normalization and resizing applied.\n",
    "    training_set, validation_set, testing_set = dataset.load_nvidia_dataset(transform=transform, batch_size=BATCH_SIZE)\n",
    "    torch.cuda.empty_cache()\n",
    "\n",
    "    # Loading in the NVIDIA DAVE-2 model.\n",
    "    model = nvidia_2.NvidiaDaveCNN_2()\n",
    "\n",
    "    if torch.cuda.is_available():\n",
    "        model = model.to(torch.device(\"cuda\"))\n",
    "\n",
    "    print(summary(model, (3, 128, 128)))\n",
    "\n",
    "    # Specify Mean Squared Error (MSE) or RSME as the criterion since this is a regression task.\n",
    "    criterion = nn.MSELoss()\n",
    "    # criterion = RMSELoss\n",
    "\n",
    "    # Using Stochastic Gradient Descent (SGD) as the optimizer.\n",
    "    optimizer = torch.optim.Adam(model.parameters(), \n",
    "                                LEARNING_RATE,\n",
    "                                # MOMENTUM,\n",
    "                                weight_decay=WEIGHT_DECAY_REGULARIZATION_TERM)\n",
    "    \n",
    "    scheduler = torch.optim.lr_scheduler.ReduceLROnPlateau(optimizer, patience=0, verbose=True) \n",
    "    # torch.backends.cudnn.benchmark = True\n",
    "\n",
    "    best = float('inf')\n",
    "    best_model = None\n",
    "    best_epoch = None\n",
    "    train_losses = []\n",
    "    valid_losses = []\n",
    "    scaler = torch.cuda.amp.GradScaler()\n",
    "    crossover_flag = False\n",
    "    crossover_model = None\n",
    "    for epoch in range(NUM_EPOCHS):\n",
    "\n",
    "        # Training.\n",
    "        train_loss = train(epoch, training_set, model, optimizer, criterion, scaler=scaler)\n",
    "        temp = train_loss\n",
    "        temp.cpu()\n",
    "        temp = float(temp)\n",
    "        train_losses.append(temp)  # average losses\n",
    "        print(f\"Average training loss this epoch: {temp:.4f}\")\n",
    "\n",
    "        # Validation.\n",
    "        valid_loss = validate(epoch, validation_set, model, criterion)\n",
    "        temp = valid_loss\n",
    "        temp.cpu()\n",
    "        temp = float(temp)\n",
    "        valid_losses.append(temp)\n",
    "\n",
    "        scheduler.step(valid_loss)\n",
    "\n",
    "        if valid_loss < best:\n",
    "            best = valid_loss\n",
    "            best_model = copy.deepcopy(model)\n",
    "            best_epoch = epoch\n",
    "        print(f\"Best performing model so far average validation loss: {best:.4f} on epoch {best_epoch}\\n\")\n",
    "        \n",
    "        if not crossover_flag and valid_losses[-1] > train_losses[-1]:\n",
    "            crossover_flag = True\n",
    "            crossover_model = copy.deepcopy(best_model)\n",
    "            print('\\nCrossover condition met\\n')\n",
    "            torch.save(crossover_model.state_dict(), './checkpoints/jts_nvidia_dave2_crossover.pth')\n",
    "\n",
    "    print('Best Training Loss @1: {:.4f}'.format(best))\n",
    "\n",
    "    torch.save(best_model.state_dict(), './checkpoints/jts_nvidia_dave2.pth')\n",
    "\n",
    "    # Testing the best models.\n",
    "    print('\\nBest Model:')\n",
    "    test_loss = test(testing_set, best_model, criterion)\n",
    "    print(f'Test Loss RMSE @1: {test_loss}')\n",
    "    \n",
    "    if crossover_model is not None:\n",
    "        print('\\nCrossover Model:')\n",
    "        test_loss = test(testing_set, crossover_model, criterion)\n",
    "        print(f'Test Loss RMSE @1: {test_loss}')\n",
    "    \n",
    "    losses_to_plot = train_losses, valid_losses\n",
    "    plots(losses_to_plot, \n",
    "          lr=LEARNING_RATE, \n",
    "          reg=WEIGHT_DECAY_REGULARIZATION_TERM,\n",
    "          batch=BATCH_SIZE, \n",
    "          # momentum=MOMENTUM  # not necessary for ADAM\n",
    "         )\n",
    "\n",
    "    \n",
    "\n",
    "if __name__ == '__main__':\n",
    "    main()"
   ]
  },
  {
   "cell_type": "code",
   "execution_count": null,
   "metadata": {},
   "outputs": [],
   "source": [
    "def evaluate(args):       \n",
    "        \n",
    "    # log source of hyperparameter suggestion\n",
    "    sigopt.log_metadata('optimizer', \"Adam\")\n",
    "    sigopt.log_model(\"CNN - NVIDIA inspired\")\n",
    "    sigopt.log_dataset(\"Udacity self-driving dataset \")\n",
    "    \n",
    "    sigopt.params.setdefault(\"learning_rate\", args['learning_rate'])\n",
    "    sigopt.params.setdefault(\"reg\", args['reg'])\n",
    "    sigopt.params.setdefault(\"batch_size\", int(args['batch_size']))\n",
    "    \n",
    "    # Normalizing images per the paper and resizing each image to 66 x 200.\n",
    "    transform = transforms.Compose([\n",
    "        # Citation:\n",
    "        # https://pytorch.org/vision/stable/transforms.html#scriptable-transforms\n",
    "        transforms.Resize((224, 224)),\n",
    "        # transforms.Normalize((0.485, 0.456, 0.406), (0.229, 0.224, 0.225)),\n",
    "        # transforms.RandomRotation(degrees=2)\n",
    "    ])\n",
    "\n",
    "    print(\"Params : \", sigopt.params)\n",
    "    # Loading in images with normalization and resizing applied.\n",
    "    training_set, validation_set = dataset.load_nvidia_dataset(transform=transform, batch_size=int(sigopt.params.batch_size))\n",
    "    torch.cuda.empty_cache()\n",
    "\n",
    "    # Loading in the NVIDIA DAVE-2 model.\n",
    "    model = nvidia_2.NvidiaDaveCNN_2()\n",
    "\n",
    "    if torch.cuda.is_available():\n",
    "        model = model.to(torch.device(\"cuda\"))\n",
    "\n",
    "\n",
    "    # Specify Mean Squared Error (MSE) as criterion since this is a regression task. (We ultimately take sqrt and convert it to RMSE)\n",
    "    criterion = nn.MSELoss()\n",
    "\n",
    "    # Using Stochastic Gradient Descent (SGD) as the optimizer.\n",
    "    optimizer = torch.optim.Adam(model.parameters(), sigopt.params.learning_rate,\n",
    "                                weight_decay=sigopt.params.reg)\n",
    "    \n",
    "    scheduler = torch.optim.lr_scheduler.ReduceLROnPlateau(optimizer, patience=1, verbose=True) \n",
    "    # torch.backends.cudnn.benchmark = True\n",
    "\n",
    "    best = float('inf')\n",
    "    best_model = None\n",
    "    best_epoch = None\n",
    "    train_losses = []\n",
    "    valid_losses = []\n",
    "    scaler = torch.cuda.amp.GradScaler()\n",
    "    for epoch in range(NUM_EPOCHS):\n",
    "\n",
    "        # Training.\n",
    "        train_loss = train(epoch, training_set, model, optimizer, criterion, scaler=scaler)\n",
    "        temp = train_loss\n",
    "        temp.cpu()\n",
    "        temp = float(temp)\n",
    "        train_losses.append(temp)  # average losses\n",
    "        print(f\"Average training loss this epoch: {temp:.4f}\")\n",
    "\n",
    "        # Validation.\n",
    "        valid_loss = validate(epoch, validation_set, model, criterion)  # JTS - changed from test to validation\n",
    "        temp = valid_loss\n",
    "        temp.cpu()\n",
    "        temp = float(temp)\n",
    "        valid_losses.append(temp)\n",
    "\n",
    "        # scheduler.step(train_loss)  # JTS - this may or may not interfere with sigopt\n",
    "\n",
    "        if valid_loss < best:\n",
    "            best = valid_loss\n",
    "            best_model = copy.deepcopy(model)\n",
    "            best_epoch = epoch\n",
    "        print(f\"Best performing model so far average validation loss: {best:.4f} on epoch {best_epoch}\\n\")\n",
    "\n",
    "    print('Best Validation Loss @1: {:.4f}'.format(best))\n",
    "\n",
    "    torch.save(best_model.state_dict(), './checkpoints/nvidia_dave2.pth')\n",
    "    sigopt.log_metric(name='MSE', value=best)\n",
    "    return best.cpu().numpy()"
   ]
  },
  {
   "cell_type": "code",
   "execution_count": 12,
   "metadata": {},
   "outputs": [],
   "source": [
    "import os\n",
    "os.environ[\"SIGOPT_API_TOKEN\"] = \"XWBIVDWCVQXALUZQFDHNGOELLLKDJBMOJALEPCNQXQGBNIGC\"\n",
    "os.environ['SIGOPT_PROJECT'] = 'nvidia_cnn'\n",
    "%reload_ext sigopt\n",
    "args = {\n",
    "    'batch_size': 32,\n",
    "    'learning_rate': 0.005,\n",
    "    # 'momentum': 0.9,  # not necessary for ADAM\n",
    "    'reg': 0.0005\n",
    "}"
   ]
  },
  {
   "cell_type": "code",
   "execution_count": 16,
   "metadata": {},
   "outputs": [
    {
     "name": "stdout",
     "output_type": "stream",
     "text": [
      "Experiment created, view it on the SigOpt dashboard at https://app.sigopt.com/experiment/530502\n"
     ]
    }
   ],
   "source": [
    "%%experiment\n",
    "{\n",
    "    'name': 'GCP NVIDIA CNN model Optimization 4',\n",
    "    'metrics': [\n",
    "        {\n",
    "            'name': 'MSE',\n",
    "            'strategy': 'optimize',\n",
    "            'objective': 'minimize',\n",
    "        }\n",
    "    ],\n",
    "    'parameters': [\n",
    "        {\n",
    "            'name': 'reg',\n",
    "            'type': 'double',\n",
    "            'bounds': {'min': 0.0001, 'max': 0.5},\n",
    "            'transformation': 'log'\n",
    "        },\n",
    "        {\n",
    "            'name': 'learning_rate',\n",
    "            'type': 'double',\n",
    "            'bounds': {'min': 0.0001, 'max': 0.9},\n",
    "            'transformation': 'log'\n",
    "        },\n",
    "        {\n",
    "            'name': 'batch_size',\n",
    "            'type': 'categorical',\n",
    "            'categorical_values': ['32', '64']\n",
    "        }\n",
    "    ],\n",
    "    'budget': 50\n",
    "}"
   ]
  },
  {
   "cell_type": "code",
   "execution_count": 17,
   "metadata": {},
   "outputs": [
    {
     "name": "stdout",
     "output_type": "stream",
     "text": [
      "Run started, view it on the SigOpt dashboard at https://app.sigopt.com/run/443907\n",
      "Params :  {'learning_rate': 0.018230363908128745, 'batch_size': '64', 'reg': 0.0008720609512752354}\n"
     ]
    },
    {
     "name": "stderr",
     "output_type": "stream",
     "text": [
      "/opt/conda/lib/python3.7/site-packages/ipykernel_launcher.py:66: TqdmDeprecationWarning: This function will be removed in tqdm==5.0.0\n",
      "Please use `tqdm.notebook.tqdm` instead of `tqdm.tqdm_notebook`\n"
     ]
    },
    {
     "data": {
      "application/vnd.jupyter.widget-view+json": {
       "model_id": "7c84f28b8ffb4d148b692850273a5544",
       "version_major": 2,
       "version_minor": 0
      },
      "text/plain": [
       "  0%|          | 0/423 [00:00<?, ?it/s]"
      ]
     },
     "metadata": {},
     "output_type": "display_data"
    },
    {
     "name": "stdout",
     "output_type": "stream",
     "text": [
      "Average training loss this epoch: nan\n"
     ]
    },
    {
     "name": "stderr",
     "output_type": "stream",
     "text": [
      "/opt/conda/lib/python3.7/site-packages/ipykernel_launcher.py:112: TqdmDeprecationWarning: This function will be removed in tqdm==5.0.0\n",
      "Please use `tqdm.notebook.tqdm` instead of `tqdm.tqdm_notebook`\n"
     ]
    },
    {
     "data": {
      "application/vnd.jupyter.widget-view+json": {
       "model_id": "5436b68321c745c3bb688612a45e3df4",
       "version_major": 2,
       "version_minor": 0
      },
      "text/plain": [
       "  0%|          | 0/106 [00:00<?, ?it/s]"
      ]
     },
     "metadata": {},
     "output_type": "display_data"
    },
    {
     "name": "stderr",
     "output_type": "stream",
     "text": [
      "/opt/conda/lib/python3.7/site-packages/torch/nn/modules/loss.py:529: UserWarning: Using a target size (torch.Size([64])) that is different to the input size (torch.Size([64, 1])). This will likely lead to incorrect results due to broadcasting. Please ensure they have the same size.\n",
      "  return F.mse_loss(input, target, reduction=self.reduction)\n"
     ]
    },
    {
     "name": "stdout",
     "output_type": "stream",
     "text": [
      "* Average Loss @1: 0.0709\n",
      "Best performing model so far average validation loss: 0.0709 on epoch 0\n",
      "\n"
     ]
    },
    {
     "name": "stderr",
     "output_type": "stream",
     "text": [
      "/opt/conda/lib/python3.7/site-packages/torch/nn/modules/loss.py:529: UserWarning: Using a target size (torch.Size([42])) that is different to the input size (torch.Size([42, 1])). This will likely lead to incorrect results due to broadcasting. Please ensure they have the same size.\n",
      "  return F.mse_loss(input, target, reduction=self.reduction)\n"
     ]
    },
    {
     "data": {
      "application/vnd.jupyter.widget-view+json": {
       "model_id": "e4ae152518cb4fe98cf7d4b11643f3e5",
       "version_major": 2,
       "version_minor": 0
      },
      "text/plain": [
       "  0%|          | 0/423 [00:00<?, ?it/s]"
      ]
     },
     "metadata": {},
     "output_type": "display_data"
    },
    {
     "name": "stdout",
     "output_type": "stream",
     "text": [
      "Average training loss this epoch: nan\n"
     ]
    },
    {
     "data": {
      "application/vnd.jupyter.widget-view+json": {
       "model_id": "46c47ebf9f51447ea991a0398a0ddd75",
       "version_major": 2,
       "version_minor": 0
      },
      "text/plain": [
       "  0%|          | 0/106 [00:00<?, ?it/s]"
      ]
     },
     "metadata": {},
     "output_type": "display_data"
    },
    {
     "name": "stdout",
     "output_type": "stream",
     "text": [
      "* Average Loss @1: 0.0709\n",
      "Best performing model so far average validation loss: 0.0709 on epoch 0\n",
      "\n"
     ]
    },
    {
     "data": {
      "application/vnd.jupyter.widget-view+json": {
       "model_id": "29d7dd26bac34f14bfa88fa574262165",
       "version_major": 2,
       "version_minor": 0
      },
      "text/plain": [
       "  0%|          | 0/423 [00:00<?, ?it/s]"
      ]
     },
     "metadata": {},
     "output_type": "display_data"
    },
    {
     "name": "stdout",
     "output_type": "stream",
     "text": [
      "Average training loss this epoch: nan\n"
     ]
    },
    {
     "data": {
      "application/vnd.jupyter.widget-view+json": {
       "model_id": "f2774be128a64ca7bb1698a43fc11eed",
       "version_major": 2,
       "version_minor": 0
      },
      "text/plain": [
       "  0%|          | 0/106 [00:00<?, ?it/s]"
      ]
     },
     "metadata": {},
     "output_type": "display_data"
    },
    {
     "name": "stdout",
     "output_type": "stream",
     "text": [
      "* Average Loss @1: 0.0709\n",
      "Best performing model so far average validation loss: 0.0709 on epoch 2\n",
      "\n"
     ]
    },
    {
     "data": {
      "application/vnd.jupyter.widget-view+json": {
       "model_id": "4a2b9830387e4c599d7c1eda1ec0114a",
       "version_major": 2,
       "version_minor": 0
      },
      "text/plain": [
       "  0%|          | 0/423 [00:00<?, ?it/s]"
      ]
     },
     "metadata": {},
     "output_type": "display_data"
    },
    {
     "name": "stdout",
     "output_type": "stream",
     "text": [
      "Average training loss this epoch: nan\n"
     ]
    },
    {
     "data": {
      "application/vnd.jupyter.widget-view+json": {
       "model_id": "13ac43ba09d6474fbd242bed3623cc71",
       "version_major": 2,
       "version_minor": 0
      },
      "text/plain": [
       "  0%|          | 0/106 [00:00<?, ?it/s]"
      ]
     },
     "metadata": {},
     "output_type": "display_data"
    },
    {
     "name": "stdout",
     "output_type": "stream",
     "text": [
      "* Average Loss @1: 0.0709\n",
      "Best performing model so far average validation loss: 0.0709 on epoch 3\n",
      "\n"
     ]
    },
    {
     "data": {
      "application/vnd.jupyter.widget-view+json": {
       "model_id": "bb3c4cb5c5554a199f033e6dc91a5814",
       "version_major": 2,
       "version_minor": 0
      },
      "text/plain": [
       "  0%|          | 0/423 [00:00<?, ?it/s]"
      ]
     },
     "metadata": {},
     "output_type": "display_data"
    },
    {
     "name": "stdout",
     "output_type": "stream",
     "text": [
      "Average training loss this epoch: nan\n"
     ]
    },
    {
     "data": {
      "application/vnd.jupyter.widget-view+json": {
       "model_id": "32011f47c1404bc9bc2f9d0bfe7d9857",
       "version_major": 2,
       "version_minor": 0
      },
      "text/plain": [
       "  0%|          | 0/106 [00:00<?, ?it/s]"
      ]
     },
     "metadata": {},
     "output_type": "display_data"
    },
    {
     "name": "stdout",
     "output_type": "stream",
     "text": [
      "* Average Loss @1: 0.0709\n",
      "Best performing model so far average validation loss: 0.0709 on epoch 3\n",
      "\n",
      "Best Training Loss @1: 0.0709\n",
      "Run finished, view it on the SigOpt dashboard at https://app.sigopt.com/run/443907\n",
      "Run started, view it on the SigOpt dashboard at https://app.sigopt.com/run/444077\n",
      "Params :  {'batch_size': '32', 'learning_rate': 0.00025388111084780133, 'reg': 0.04765246332354775}\n"
     ]
    },
    {
     "data": {
      "application/vnd.jupyter.widget-view+json": {
       "model_id": "eaadc96fc4e6494c8232b8261be5ab5c",
       "version_major": 2,
       "version_minor": 0
      },
      "text/plain": [
       "  0%|          | 0/846 [00:00<?, ?it/s]"
      ]
     },
     "metadata": {},
     "output_type": "display_data"
    },
    {
     "name": "stdout",
     "output_type": "stream",
     "text": [
      "Average training loss this epoch: 0.0718\n"
     ]
    },
    {
     "data": {
      "application/vnd.jupyter.widget-view+json": {
       "model_id": "1e61f21c9b8f42e983f007cf4e455e84",
       "version_major": 2,
       "version_minor": 0
      },
      "text/plain": [
       "  0%|          | 0/212 [00:00<?, ?it/s]"
      ]
     },
     "metadata": {},
     "output_type": "display_data"
    },
    {
     "name": "stdout",
     "output_type": "stream",
     "text": [
      "* Average Loss @1: 0.0804\n",
      "Best performing model so far average validation loss: 0.0804 on epoch 0\n",
      "\n"
     ]
    },
    {
     "data": {
      "application/vnd.jupyter.widget-view+json": {
       "model_id": "a8200cf78a1449ba86fc33b03a31791f",
       "version_major": 2,
       "version_minor": 0
      },
      "text/plain": [
       "  0%|          | 0/846 [00:00<?, ?it/s]"
      ]
     },
     "metadata": {},
     "output_type": "display_data"
    },
    {
     "name": "stdout",
     "output_type": "stream",
     "text": [
      "Average training loss this epoch: 0.0688\n"
     ]
    },
    {
     "data": {
      "application/vnd.jupyter.widget-view+json": {
       "model_id": "75a0d5416ec54b65ba73eb7a84d3ace5",
       "version_major": 2,
       "version_minor": 0
      },
      "text/plain": [
       "  0%|          | 0/212 [00:00<?, ?it/s]"
      ]
     },
     "metadata": {},
     "output_type": "display_data"
    },
    {
     "name": "stdout",
     "output_type": "stream",
     "text": [
      "* Average Loss @1: 0.0790\n",
      "Best performing model so far average validation loss: 0.0790 on epoch 1\n",
      "\n"
     ]
    },
    {
     "data": {
      "application/vnd.jupyter.widget-view+json": {
       "model_id": "9151a3dd5f0345e5bd36f95cfc6cfaa0",
       "version_major": 2,
       "version_minor": 0
      },
      "text/plain": [
       "  0%|          | 0/846 [00:00<?, ?it/s]"
      ]
     },
     "metadata": {},
     "output_type": "display_data"
    },
    {
     "name": "stdout",
     "output_type": "stream",
     "text": [
      "Average training loss this epoch: 0.0689\n"
     ]
    },
    {
     "data": {
      "application/vnd.jupyter.widget-view+json": {
       "model_id": "57ecb9d3c4bf491b96c132eb93dddd26",
       "version_major": 2,
       "version_minor": 0
      },
      "text/plain": [
       "  0%|          | 0/212 [00:00<?, ?it/s]"
      ]
     },
     "metadata": {},
     "output_type": "display_data"
    },
    {
     "name": "stdout",
     "output_type": "stream",
     "text": [
      "* Average Loss @1: 0.0772\n",
      "Best performing model so far average validation loss: 0.0772 on epoch 2\n",
      "\n"
     ]
    },
    {
     "data": {
      "application/vnd.jupyter.widget-view+json": {
       "model_id": "6f33fa18f72b45c892ef7809b779daf2",
       "version_major": 2,
       "version_minor": 0
      },
      "text/plain": [
       "  0%|          | 0/846 [00:00<?, ?it/s]"
      ]
     },
     "metadata": {},
     "output_type": "display_data"
    },
    {
     "name": "stdout",
     "output_type": "stream",
     "text": [
      "Average training loss this epoch: 0.0731\n"
     ]
    },
    {
     "data": {
      "application/vnd.jupyter.widget-view+json": {
       "model_id": "e95a56543c384a72b73eceb1c6a3320b",
       "version_major": 2,
       "version_minor": 0
      },
      "text/plain": [
       "  0%|          | 0/212 [00:00<?, ?it/s]"
      ]
     },
     "metadata": {},
     "output_type": "display_data"
    },
    {
     "name": "stdout",
     "output_type": "stream",
     "text": [
      "* Average Loss @1: 0.0769\n",
      "Best performing model so far average validation loss: 0.0769 on epoch 3\n",
      "\n"
     ]
    },
    {
     "data": {
      "application/vnd.jupyter.widget-view+json": {
       "model_id": "c62ea4ee61fd449c80ef176520b16fb7",
       "version_major": 2,
       "version_minor": 0
      },
      "text/plain": [
       "  0%|          | 0/846 [00:00<?, ?it/s]"
      ]
     },
     "metadata": {},
     "output_type": "display_data"
    },
    {
     "name": "stdout",
     "output_type": "stream",
     "text": [
      "Average training loss this epoch: 0.0730\n"
     ]
    },
    {
     "data": {
      "application/vnd.jupyter.widget-view+json": {
       "model_id": "2bc97139f89841d28760be312dbbfac6",
       "version_major": 2,
       "version_minor": 0
      },
      "text/plain": [
       "  0%|          | 0/212 [00:00<?, ?it/s]"
      ]
     },
     "metadata": {},
     "output_type": "display_data"
    },
    {
     "name": "stdout",
     "output_type": "stream",
     "text": [
      "* Average Loss @1: 0.0769\n",
      "Best performing model so far average validation loss: 0.0769 on epoch 4\n",
      "\n",
      "Best Training Loss @1: 0.0769\n",
      "Run finished, view it on the SigOpt dashboard at https://app.sigopt.com/run/444077\n",
      "Run started, view it on the SigOpt dashboard at https://app.sigopt.com/run/444264\n",
      "Params :  {'reg': 0.0005272268225859176, 'learning_rate': 0.7134881025056684, 'batch_size': '32'}\n"
     ]
    },
    {
     "data": {
      "application/vnd.jupyter.widget-view+json": {
       "model_id": "afd40ecb8e674d0f93978774c44aa7fe",
       "version_major": 2,
       "version_minor": 0
      },
      "text/plain": [
       "  0%|          | 0/846 [00:00<?, ?it/s]"
      ]
     },
     "metadata": {},
     "output_type": "display_data"
    },
    {
     "name": "stdout",
     "output_type": "stream",
     "text": [
      "Average training loss this epoch: 34202864.5150\n"
     ]
    },
    {
     "data": {
      "application/vnd.jupyter.widget-view+json": {
       "model_id": "c045330eb7d340a19e9cefffd37e3dba",
       "version_major": 2,
       "version_minor": 0
      },
      "text/plain": [
       "  0%|          | 0/212 [00:00<?, ?it/s]"
      ]
     },
     "metadata": {},
     "output_type": "display_data"
    },
    {
     "name": "stdout",
     "output_type": "stream",
     "text": [
      "* Average Loss @1: 11890627092470866903040.0000\n",
      "Best performing model so far average validation loss: 11890627092470866903040.0000 on epoch 0\n",
      "\n"
     ]
    },
    {
     "data": {
      "application/vnd.jupyter.widget-view+json": {
       "model_id": "290971dd5f0f4f5a955cbce34f369c58",
       "version_major": 2,
       "version_minor": 0
      },
      "text/plain": [
       "  0%|          | 0/846 [00:00<?, ?it/s]"
      ]
     },
     "metadata": {},
     "output_type": "display_data"
    },
    {
     "name": "stdout",
     "output_type": "stream",
     "text": [
      "Average training loss this epoch: 34265717.0084\n"
     ]
    },
    {
     "data": {
      "application/vnd.jupyter.widget-view+json": {
       "model_id": "63935ec3c87d4ed29b30fd805f53c462",
       "version_major": 2,
       "version_minor": 0
      },
      "text/plain": [
       "  0%|          | 0/212 [00:00<?, ?it/s]"
      ]
     },
     "metadata": {},
     "output_type": "display_data"
    },
    {
     "name": "stdout",
     "output_type": "stream",
     "text": [
      "* Average Loss @1: 11883849091945601171456.0000\n",
      "Best performing model so far average validation loss: 11883849091945601171456.0000 on epoch 1\n",
      "\n"
     ]
    },
    {
     "data": {
      "application/vnd.jupyter.widget-view+json": {
       "model_id": "21fa768b6f96405f970940441dae7a56",
       "version_major": 2,
       "version_minor": 0
      },
      "text/plain": [
       "  0%|          | 0/846 [00:00<?, ?it/s]"
      ]
     },
     "metadata": {},
     "output_type": "display_data"
    },
    {
     "name": "stdout",
     "output_type": "stream",
     "text": [
      "Average training loss this epoch: 34236751.1348\n"
     ]
    },
    {
     "data": {
      "application/vnd.jupyter.widget-view+json": {
       "model_id": "7658df1face841c5ace0ef1a6802d1ee",
       "version_major": 2,
       "version_minor": 0
      },
      "text/plain": [
       "  0%|          | 0/212 [00:00<?, ?it/s]"
      ]
     },
     "metadata": {},
     "output_type": "display_data"
    },
    {
     "name": "stdout",
     "output_type": "stream",
     "text": [
      "* Average Loss @1: 11855942193712409346048.0000\n",
      "Best performing model so far average validation loss: 11855942193712409346048.0000 on epoch 2\n",
      "\n"
     ]
    },
    {
     "data": {
      "application/vnd.jupyter.widget-view+json": {
       "model_id": "7663c3376e73440590daa3fea9d4c4e3",
       "version_major": 2,
       "version_minor": 0
      },
      "text/plain": [
       "  0%|          | 0/846 [00:00<?, ?it/s]"
      ]
     },
     "metadata": {},
     "output_type": "display_data"
    },
    {
     "name": "stdout",
     "output_type": "stream",
     "text": [
      "Average training loss this epoch: 34255920.8216\n"
     ]
    },
    {
     "data": {
      "application/vnd.jupyter.widget-view+json": {
       "model_id": "e7efe1acc2484031a12673dfd43af47a",
       "version_major": 2,
       "version_minor": 0
      },
      "text/plain": [
       "  0%|          | 0/212 [00:00<?, ?it/s]"
      ]
     },
     "metadata": {},
     "output_type": "display_data"
    },
    {
     "name": "stdout",
     "output_type": "stream",
     "text": [
      "* Average Loss @1: 11910976162671135555584.0000\n",
      "Best performing model so far average validation loss: 11855942193712409346048.0000 on epoch 2\n",
      "\n"
     ]
    },
    {
     "data": {
      "application/vnd.jupyter.widget-view+json": {
       "model_id": "a0961ee5aae84789bc92a34de1932615",
       "version_major": 2,
       "version_minor": 0
      },
      "text/plain": [
       "  0%|          | 0/846 [00:00<?, ?it/s]"
      ]
     },
     "metadata": {},
     "output_type": "display_data"
    },
    {
     "name": "stdout",
     "output_type": "stream",
     "text": [
      "Average training loss this epoch: 34237862.7241\n"
     ]
    },
    {
     "data": {
      "application/vnd.jupyter.widget-view+json": {
       "model_id": "e9fc334ca94b429e9efdb8f0515def32",
       "version_major": 2,
       "version_minor": 0
      },
      "text/plain": [
       "  0%|          | 0/212 [00:00<?, ?it/s]"
      ]
     },
     "metadata": {},
     "output_type": "display_data"
    },
    {
     "name": "stdout",
     "output_type": "stream",
     "text": [
      "* Average Loss @1: 11899939502109726081024.0000\n",
      "Best performing model so far average validation loss: 11855942193712409346048.0000 on epoch 2\n",
      "\n",
      "Best Training Loss @1: 11855942193712409346048.0000\n",
      "Run finished, view it on the SigOpt dashboard at https://app.sigopt.com/run/444264\n",
      "Run started, view it on the SigOpt dashboard at https://app.sigopt.com/run/444451\n",
      "Params :  {'learning_rate': 0.007553313536995135, 'reg': 0.1329966022205953, 'batch_size': '32'}\n"
     ]
    },
    {
     "data": {
      "application/vnd.jupyter.widget-view+json": {
       "model_id": "b1803d6caf814ff4a02d3c4b4c28851e",
       "version_major": 2,
       "version_minor": 0
      },
      "text/plain": [
       "  0%|          | 0/846 [00:00<?, ?it/s]"
      ]
     },
     "metadata": {},
     "output_type": "display_data"
    },
    {
     "name": "stdout",
     "output_type": "stream",
     "text": [
      "Average training loss this epoch: 0.0738\n"
     ]
    },
    {
     "data": {
      "application/vnd.jupyter.widget-view+json": {
       "model_id": "bdfcfb85380e42ca849e308604abadd5",
       "version_major": 2,
       "version_minor": 0
      },
      "text/plain": [
       "  0%|          | 0/212 [00:00<?, ?it/s]"
      ]
     },
     "metadata": {},
     "output_type": "display_data"
    },
    {
     "name": "stdout",
     "output_type": "stream",
     "text": [
      "* Average Loss @1: 0.0744\n",
      "Best performing model so far average validation loss: 0.0744 on epoch 0\n",
      "\n"
     ]
    },
    {
     "data": {
      "application/vnd.jupyter.widget-view+json": {
       "model_id": "5f40b5b531944a7783573ff85566a177",
       "version_major": 2,
       "version_minor": 0
      },
      "text/plain": [
       "  0%|          | 0/846 [00:00<?, ?it/s]"
      ]
     },
     "metadata": {},
     "output_type": "display_data"
    },
    {
     "name": "stdout",
     "output_type": "stream",
     "text": [
      "Average training loss this epoch: 0.0737\n"
     ]
    },
    {
     "data": {
      "application/vnd.jupyter.widget-view+json": {
       "model_id": "bccb2b891aeb41d4a86e3d755c011742",
       "version_major": 2,
       "version_minor": 0
      },
      "text/plain": [
       "  0%|          | 0/212 [00:00<?, ?it/s]"
      ]
     },
     "metadata": {},
     "output_type": "display_data"
    },
    {
     "name": "stdout",
     "output_type": "stream",
     "text": [
      "* Average Loss @1: 0.0744\n",
      "Best performing model so far average validation loss: 0.0744 on epoch 1\n",
      "\n"
     ]
    },
    {
     "data": {
      "application/vnd.jupyter.widget-view+json": {
       "model_id": "8261a47bc0104e61a8051759f50db6fe",
       "version_major": 2,
       "version_minor": 0
      },
      "text/plain": [
       "  0%|          | 0/846 [00:00<?, ?it/s]"
      ]
     },
     "metadata": {},
     "output_type": "display_data"
    },
    {
     "name": "stdout",
     "output_type": "stream",
     "text": [
      "Average training loss this epoch: 0.0737\n"
     ]
    },
    {
     "data": {
      "application/vnd.jupyter.widget-view+json": {
       "model_id": "9c4ece6b0a2b4ff88ae578b24229d643",
       "version_major": 2,
       "version_minor": 0
      },
      "text/plain": [
       "  0%|          | 0/212 [00:00<?, ?it/s]"
      ]
     },
     "metadata": {},
     "output_type": "display_data"
    },
    {
     "name": "stdout",
     "output_type": "stream",
     "text": [
      "* Average Loss @1: 0.0744\n",
      "Best performing model so far average validation loss: 0.0744 on epoch 1\n",
      "\n"
     ]
    },
    {
     "data": {
      "application/vnd.jupyter.widget-view+json": {
       "model_id": "245162081293443f81ff09e21af1af4b",
       "version_major": 2,
       "version_minor": 0
      },
      "text/plain": [
       "  0%|          | 0/846 [00:00<?, ?it/s]"
      ]
     },
     "metadata": {},
     "output_type": "display_data"
    },
    {
     "name": "stdout",
     "output_type": "stream",
     "text": [
      "Average training loss this epoch: 0.0737\n"
     ]
    },
    {
     "data": {
      "application/vnd.jupyter.widget-view+json": {
       "model_id": "96bfaca7373c4f18ab2d4db7e7aee5a2",
       "version_major": 2,
       "version_minor": 0
      },
      "text/plain": [
       "  0%|          | 0/212 [00:00<?, ?it/s]"
      ]
     },
     "metadata": {},
     "output_type": "display_data"
    },
    {
     "name": "stdout",
     "output_type": "stream",
     "text": [
      "* Average Loss @1: 0.0745\n",
      "Best performing model so far average validation loss: 0.0744 on epoch 1\n",
      "\n"
     ]
    },
    {
     "data": {
      "application/vnd.jupyter.widget-view+json": {
       "model_id": "3bc3c0d1a493409aa81b1d6808eb858a",
       "version_major": 2,
       "version_minor": 0
      },
      "text/plain": [
       "  0%|          | 0/846 [00:00<?, ?it/s]"
      ]
     },
     "metadata": {},
     "output_type": "display_data"
    },
    {
     "name": "stdout",
     "output_type": "stream",
     "text": [
      "Average training loss this epoch: 0.0737\n"
     ]
    },
    {
     "data": {
      "application/vnd.jupyter.widget-view+json": {
       "model_id": "48e27a71993340969026b7747994f02a",
       "version_major": 2,
       "version_minor": 0
      },
      "text/plain": [
       "  0%|          | 0/212 [00:00<?, ?it/s]"
      ]
     },
     "metadata": {},
     "output_type": "display_data"
    },
    {
     "name": "stdout",
     "output_type": "stream",
     "text": [
      "* Average Loss @1: 0.0753\n",
      "Best performing model so far average validation loss: 0.0744 on epoch 1\n",
      "\n",
      "Best Training Loss @1: 0.0744\n",
      "Run finished, view it on the SigOpt dashboard at https://app.sigopt.com/run/444451\n",
      "Run started, view it on the SigOpt dashboard at https://app.sigopt.com/run/444629\n",
      "Params :  {'reg': 0.0007035963531847655, 'learning_rate': 0.009593277880234343, 'batch_size': '64'}\n"
     ]
    },
    {
     "data": {
      "application/vnd.jupyter.widget-view+json": {
       "model_id": "db5ff396492841a991df7497b4eb1838",
       "version_major": 2,
       "version_minor": 0
      },
      "text/plain": [
       "  0%|          | 0/423 [00:00<?, ?it/s]"
      ]
     },
     "metadata": {},
     "output_type": "display_data"
    },
    {
     "name": "stdout",
     "output_type": "stream",
     "text": [
      "Average training loss this epoch: nan\n"
     ]
    },
    {
     "data": {
      "application/vnd.jupyter.widget-view+json": {
       "model_id": "16ffd0a4984b44739c6ee2afd5480db7",
       "version_major": 2,
       "version_minor": 0
      },
      "text/plain": [
       "  0%|          | 0/106 [00:00<?, ?it/s]"
      ]
     },
     "metadata": {},
     "output_type": "display_data"
    },
    {
     "name": "stdout",
     "output_type": "stream",
     "text": [
      "* Average Loss @1: 0.5095\n",
      "Best performing model so far average validation loss: 0.5095 on epoch 0\n",
      "\n"
     ]
    },
    {
     "data": {
      "application/vnd.jupyter.widget-view+json": {
       "model_id": "fcad7cc6fd6d45baa06f9e26b49bdc77",
       "version_major": 2,
       "version_minor": 0
      },
      "text/plain": [
       "  0%|          | 0/423 [00:00<?, ?it/s]"
      ]
     },
     "metadata": {},
     "output_type": "display_data"
    },
    {
     "name": "stdout",
     "output_type": "stream",
     "text": [
      "Average training loss this epoch: nan\n"
     ]
    },
    {
     "data": {
      "application/vnd.jupyter.widget-view+json": {
       "model_id": "4b277a6508d74c5fbf6786415007f454",
       "version_major": 2,
       "version_minor": 0
      },
      "text/plain": [
       "  0%|          | 0/106 [00:00<?, ?it/s]"
      ]
     },
     "metadata": {},
     "output_type": "display_data"
    },
    {
     "name": "stdout",
     "output_type": "stream",
     "text": [
      "* Average Loss @1: 0.5095\n",
      "Best performing model so far average validation loss: 0.5095 on epoch 0\n",
      "\n"
     ]
    },
    {
     "data": {
      "application/vnd.jupyter.widget-view+json": {
       "model_id": "232e305ceab74d2ba9905639052d5555",
       "version_major": 2,
       "version_minor": 0
      },
      "text/plain": [
       "  0%|          | 0/423 [00:00<?, ?it/s]"
      ]
     },
     "metadata": {},
     "output_type": "display_data"
    },
    {
     "name": "stdout",
     "output_type": "stream",
     "text": [
      "Average training loss this epoch: nan\n"
     ]
    },
    {
     "data": {
      "application/vnd.jupyter.widget-view+json": {
       "model_id": "9eb46561525045818e93a7206fbd5509",
       "version_major": 2,
       "version_minor": 0
      },
      "text/plain": [
       "  0%|          | 0/106 [00:00<?, ?it/s]"
      ]
     },
     "metadata": {},
     "output_type": "display_data"
    },
    {
     "name": "stdout",
     "output_type": "stream",
     "text": [
      "* Average Loss @1: 0.5095\n",
      "Best performing model so far average validation loss: 0.5095 on epoch 2\n",
      "\n"
     ]
    },
    {
     "data": {
      "application/vnd.jupyter.widget-view+json": {
       "model_id": "e67b52cd9c3147888ab20ed1ade8ec90",
       "version_major": 2,
       "version_minor": 0
      },
      "text/plain": [
       "  0%|          | 0/423 [00:00<?, ?it/s]"
      ]
     },
     "metadata": {},
     "output_type": "display_data"
    },
    {
     "name": "stdout",
     "output_type": "stream",
     "text": [
      "Average training loss this epoch: nan\n"
     ]
    },
    {
     "data": {
      "application/vnd.jupyter.widget-view+json": {
       "model_id": "94be3d939ce84a618989bffa1960753a",
       "version_major": 2,
       "version_minor": 0
      },
      "text/plain": [
       "  0%|          | 0/106 [00:00<?, ?it/s]"
      ]
     },
     "metadata": {},
     "output_type": "display_data"
    },
    {
     "name": "stdout",
     "output_type": "stream",
     "text": [
      "* Average Loss @1: 0.5095\n",
      "Best performing model so far average validation loss: 0.5095 on epoch 2\n",
      "\n"
     ]
    },
    {
     "data": {
      "application/vnd.jupyter.widget-view+json": {
       "model_id": "bf60707afc664862a633e82679c24fdc",
       "version_major": 2,
       "version_minor": 0
      },
      "text/plain": [
       "  0%|          | 0/423 [00:00<?, ?it/s]"
      ]
     },
     "metadata": {},
     "output_type": "display_data"
    },
    {
     "name": "stdout",
     "output_type": "stream",
     "text": [
      "Average training loss this epoch: nan\n"
     ]
    },
    {
     "data": {
      "application/vnd.jupyter.widget-view+json": {
       "model_id": "bbbb5e17e7d049479871bb8cbca2e5c4",
       "version_major": 2,
       "version_minor": 0
      },
      "text/plain": [
       "  0%|          | 0/106 [00:00<?, ?it/s]"
      ]
     },
     "metadata": {},
     "output_type": "display_data"
    },
    {
     "name": "stdout",
     "output_type": "stream",
     "text": [
      "* Average Loss @1: 0.5095\n",
      "Best performing model so far average validation loss: 0.5095 on epoch 4\n",
      "\n",
      "Best Training Loss @1: 0.5095\n",
      "Run finished, view it on the SigOpt dashboard at https://app.sigopt.com/run/444629\n",
      "Run started, view it on the SigOpt dashboard at https://app.sigopt.com/run/444799\n",
      "Params :  {'reg': 0.0004599567574657335, 'batch_size': '64', 'learning_rate': 0.014772097543530914}\n"
     ]
    },
    {
     "data": {
      "application/vnd.jupyter.widget-view+json": {
       "model_id": "d3cf28ec0a6d4c7c92b957bad644a9ff",
       "version_major": 2,
       "version_minor": 0
      },
      "text/plain": [
       "  0%|          | 0/423 [00:00<?, ?it/s]"
      ]
     },
     "metadata": {},
     "output_type": "display_data"
    },
    {
     "name": "stdout",
     "output_type": "stream",
     "text": [
      "Average training loss this epoch: nan\n"
     ]
    },
    {
     "data": {
      "application/vnd.jupyter.widget-view+json": {
       "model_id": "c2e2ec5e1de3485da6aedec3f74ba294",
       "version_major": 2,
       "version_minor": 0
      },
      "text/plain": [
       "  0%|          | 0/106 [00:00<?, ?it/s]"
      ]
     },
     "metadata": {},
     "output_type": "display_data"
    },
    {
     "name": "stdout",
     "output_type": "stream",
     "text": [
      "* Average Loss @1: 1425.1371\n",
      "Best performing model so far average validation loss: 1425.1371 on epoch 0\n",
      "\n"
     ]
    },
    {
     "data": {
      "application/vnd.jupyter.widget-view+json": {
       "model_id": "570be9feb1774c4787ee2c083b1baada",
       "version_major": 2,
       "version_minor": 0
      },
      "text/plain": [
       "  0%|          | 0/423 [00:00<?, ?it/s]"
      ]
     },
     "metadata": {},
     "output_type": "display_data"
    },
    {
     "name": "stdout",
     "output_type": "stream",
     "text": [
      "Average training loss this epoch: nan\n"
     ]
    },
    {
     "data": {
      "application/vnd.jupyter.widget-view+json": {
       "model_id": "682e9225bd3641f1884ac7fd8227f5ae",
       "version_major": 2,
       "version_minor": 0
      },
      "text/plain": [
       "  0%|          | 0/106 [00:00<?, ?it/s]"
      ]
     },
     "metadata": {},
     "output_type": "display_data"
    },
    {
     "name": "stdout",
     "output_type": "stream",
     "text": [
      "* Average Loss @1: 1430.4717\n",
      "Best performing model so far average validation loss: 1425.1371 on epoch 0\n",
      "\n"
     ]
    },
    {
     "data": {
      "application/vnd.jupyter.widget-view+json": {
       "model_id": "ec369b09e9064129aa8aba0501100dbb",
       "version_major": 2,
       "version_minor": 0
      },
      "text/plain": [
       "  0%|          | 0/423 [00:00<?, ?it/s]"
      ]
     },
     "metadata": {},
     "output_type": "display_data"
    },
    {
     "name": "stdout",
     "output_type": "stream",
     "text": [
      "Average training loss this epoch: nan\n"
     ]
    },
    {
     "data": {
      "application/vnd.jupyter.widget-view+json": {
       "model_id": "bc5de63389e5449da2ffaba2e499e963",
       "version_major": 2,
       "version_minor": 0
      },
      "text/plain": [
       "  0%|          | 0/106 [00:00<?, ?it/s]"
      ]
     },
     "metadata": {},
     "output_type": "display_data"
    },
    {
     "name": "stdout",
     "output_type": "stream",
     "text": [
      "* Average Loss @1: 1424.6259\n",
      "Best performing model so far average validation loss: 1424.6259 on epoch 2\n",
      "\n"
     ]
    },
    {
     "data": {
      "application/vnd.jupyter.widget-view+json": {
       "model_id": "3fb72fc254984bd1a42d61af0aa0feae",
       "version_major": 2,
       "version_minor": 0
      },
      "text/plain": [
       "  0%|          | 0/423 [00:00<?, ?it/s]"
      ]
     },
     "metadata": {},
     "output_type": "display_data"
    },
    {
     "name": "stdout",
     "output_type": "stream",
     "text": [
      "Average training loss this epoch: nan\n"
     ]
    },
    {
     "data": {
      "application/vnd.jupyter.widget-view+json": {
       "model_id": "2736496e0f6948748f6241c630da222c",
       "version_major": 2,
       "version_minor": 0
      },
      "text/plain": [
       "  0%|          | 0/106 [00:00<?, ?it/s]"
      ]
     },
     "metadata": {},
     "output_type": "display_data"
    },
    {
     "name": "stdout",
     "output_type": "stream",
     "text": [
      "* Average Loss @1: 1431.0008\n",
      "Best performing model so far average validation loss: 1424.6259 on epoch 2\n",
      "\n"
     ]
    },
    {
     "data": {
      "application/vnd.jupyter.widget-view+json": {
       "model_id": "821f7b285dd847898dddfe488580500f",
       "version_major": 2,
       "version_minor": 0
      },
      "text/plain": [
       "  0%|          | 0/423 [00:00<?, ?it/s]"
      ]
     },
     "metadata": {},
     "output_type": "display_data"
    },
    {
     "name": "stdout",
     "output_type": "stream",
     "text": [
      "Average training loss this epoch: nan\n"
     ]
    },
    {
     "data": {
      "application/vnd.jupyter.widget-view+json": {
       "model_id": "45b64beee87f4cbfbe5bd9bb12779fe4",
       "version_major": 2,
       "version_minor": 0
      },
      "text/plain": [
       "  0%|          | 0/106 [00:00<?, ?it/s]"
      ]
     },
     "metadata": {},
     "output_type": "display_data"
    },
    {
     "name": "stdout",
     "output_type": "stream",
     "text": [
      "* Average Loss @1: 1420.9196\n",
      "Best performing model so far average validation loss: 1420.9196 on epoch 4\n",
      "\n",
      "Best Training Loss @1: 1420.9196\n",
      "Run finished, view it on the SigOpt dashboard at https://app.sigopt.com/run/444799\n",
      "Run started, view it on the SigOpt dashboard at https://app.sigopt.com/run/444976\n",
      "Params :  {'learning_rate': 0.009065370749114841, 'reg': 0.0011099402464313823, 'batch_size': '32'}\n"
     ]
    },
    {
     "data": {
      "application/vnd.jupyter.widget-view+json": {
       "model_id": "2fcc347011784a73a706d0df0417516e",
       "version_major": 2,
       "version_minor": 0
      },
      "text/plain": [
       "  0%|          | 0/846 [00:00<?, ?it/s]"
      ]
     },
     "metadata": {},
     "output_type": "display_data"
    },
    {
     "name": "stdout",
     "output_type": "stream",
     "text": [
      "Average training loss this epoch: nan\n"
     ]
    },
    {
     "data": {
      "application/vnd.jupyter.widget-view+json": {
       "model_id": "cedceba2505d487f8eae256100027a9d",
       "version_major": 2,
       "version_minor": 0
      },
      "text/plain": [
       "  0%|          | 0/212 [00:00<?, ?it/s]"
      ]
     },
     "metadata": {},
     "output_type": "display_data"
    },
    {
     "name": "stdout",
     "output_type": "stream",
     "text": [
      "* Average Loss @1: 0.7618\n",
      "Best performing model so far average validation loss: 0.7618 on epoch 0\n",
      "\n"
     ]
    },
    {
     "data": {
      "application/vnd.jupyter.widget-view+json": {
       "model_id": "f7ffc3c12df24e5286f7b565279e84ea",
       "version_major": 2,
       "version_minor": 0
      },
      "text/plain": [
       "  0%|          | 0/846 [00:00<?, ?it/s]"
      ]
     },
     "metadata": {},
     "output_type": "display_data"
    },
    {
     "name": "stdout",
     "output_type": "stream",
     "text": [
      "Average training loss this epoch: nan\n"
     ]
    },
    {
     "data": {
      "application/vnd.jupyter.widget-view+json": {
       "model_id": "809db58dca1e4b29b541ebee8ec88de5",
       "version_major": 2,
       "version_minor": 0
      },
      "text/plain": [
       "  0%|          | 0/212 [00:00<?, ?it/s]"
      ]
     },
     "metadata": {},
     "output_type": "display_data"
    },
    {
     "name": "stdout",
     "output_type": "stream",
     "text": [
      "* Average Loss @1: 0.7618\n",
      "Best performing model so far average validation loss: 0.7618 on epoch 0\n",
      "\n"
     ]
    },
    {
     "data": {
      "application/vnd.jupyter.widget-view+json": {
       "model_id": "7dbc22171db74b1b95407594b30f7530",
       "version_major": 2,
       "version_minor": 0
      },
      "text/plain": [
       "  0%|          | 0/846 [00:00<?, ?it/s]"
      ]
     },
     "metadata": {},
     "output_type": "display_data"
    },
    {
     "name": "stdout",
     "output_type": "stream",
     "text": [
      "Average training loss this epoch: nan\n"
     ]
    },
    {
     "data": {
      "application/vnd.jupyter.widget-view+json": {
       "model_id": "bfc1bebb82094c8eaa99563d5ea6594d",
       "version_major": 2,
       "version_minor": 0
      },
      "text/plain": [
       "  0%|          | 0/212 [00:00<?, ?it/s]"
      ]
     },
     "metadata": {},
     "output_type": "display_data"
    },
    {
     "name": "stdout",
     "output_type": "stream",
     "text": [
      "* Average Loss @1: 0.7618\n",
      "Best performing model so far average validation loss: 0.7618 on epoch 0\n",
      "\n"
     ]
    },
    {
     "data": {
      "application/vnd.jupyter.widget-view+json": {
       "model_id": "25d27e8adaae404c9fe7079af4687c0a",
       "version_major": 2,
       "version_minor": 0
      },
      "text/plain": [
       "  0%|          | 0/846 [00:00<?, ?it/s]"
      ]
     },
     "metadata": {},
     "output_type": "display_data"
    },
    {
     "name": "stdout",
     "output_type": "stream",
     "text": [
      "Average training loss this epoch: nan\n"
     ]
    },
    {
     "data": {
      "application/vnd.jupyter.widget-view+json": {
       "model_id": "c92558bfc3f54373923e768dadf2371d",
       "version_major": 2,
       "version_minor": 0
      },
      "text/plain": [
       "  0%|          | 0/212 [00:00<?, ?it/s]"
      ]
     },
     "metadata": {},
     "output_type": "display_data"
    },
    {
     "name": "stdout",
     "output_type": "stream",
     "text": [
      "* Average Loss @1: 0.7618\n",
      "Best performing model so far average validation loss: 0.7618 on epoch 0\n",
      "\n"
     ]
    },
    {
     "data": {
      "application/vnd.jupyter.widget-view+json": {
       "model_id": "46f76142802447f593fadebb65d0d924",
       "version_major": 2,
       "version_minor": 0
      },
      "text/plain": [
       "  0%|          | 0/846 [00:00<?, ?it/s]"
      ]
     },
     "metadata": {},
     "output_type": "display_data"
    },
    {
     "name": "stdout",
     "output_type": "stream",
     "text": [
      "Average training loss this epoch: nan\n"
     ]
    },
    {
     "data": {
      "application/vnd.jupyter.widget-view+json": {
       "model_id": "b29fe7d1f1484536b16d3381456f3be4",
       "version_major": 2,
       "version_minor": 0
      },
      "text/plain": [
       "  0%|          | 0/212 [00:00<?, ?it/s]"
      ]
     },
     "metadata": {},
     "output_type": "display_data"
    },
    {
     "name": "stdout",
     "output_type": "stream",
     "text": [
      "* Average Loss @1: 0.7618\n",
      "Best performing model so far average validation loss: 0.7618 on epoch 0\n",
      "\n",
      "Best Training Loss @1: 0.7618\n",
      "Run finished, view it on the SigOpt dashboard at https://app.sigopt.com/run/444976\n",
      "Run started, view it on the SigOpt dashboard at https://app.sigopt.com/run/445150\n",
      "Params :  {'reg': 0.0005929757866880466, 'learning_rate': 0.029201383841976538, 'batch_size': '32'}\n"
     ]
    },
    {
     "data": {
      "application/vnd.jupyter.widget-view+json": {
       "model_id": "386671a873df43e0871b822a94ebfff2",
       "version_major": 2,
       "version_minor": 0
      },
      "text/plain": [
       "  0%|          | 0/846 [00:00<?, ?it/s]"
      ]
     },
     "metadata": {},
     "output_type": "display_data"
    },
    {
     "name": "stdout",
     "output_type": "stream",
     "text": [
      "Average training loss this epoch: nan\n"
     ]
    },
    {
     "data": {
      "application/vnd.jupyter.widget-view+json": {
       "model_id": "ca958c6b4b984eaeb2c5e6891312b20d",
       "version_major": 2,
       "version_minor": 0
      },
      "text/plain": [
       "  0%|          | 0/212 [00:00<?, ?it/s]"
      ]
     },
     "metadata": {},
     "output_type": "display_data"
    },
    {
     "name": "stdout",
     "output_type": "stream",
     "text": [
      "* Average Loss @1: 38042506.9348\n",
      "Best performing model so far average validation loss: 38042506.9348 on epoch 0\n",
      "\n"
     ]
    },
    {
     "data": {
      "application/vnd.jupyter.widget-view+json": {
       "model_id": "ab66139c141f4228b5ec190b1fb002c3",
       "version_major": 2,
       "version_minor": 0
      },
      "text/plain": [
       "  0%|          | 0/846 [00:00<?, ?it/s]"
      ]
     },
     "metadata": {},
     "output_type": "display_data"
    },
    {
     "name": "stdout",
     "output_type": "stream",
     "text": [
      "Average training loss this epoch: nan\n"
     ]
    },
    {
     "data": {
      "application/vnd.jupyter.widget-view+json": {
       "model_id": "ca520a02e422461aab391b10513e2b76",
       "version_major": 2,
       "version_minor": 0
      },
      "text/plain": [
       "  0%|          | 0/212 [00:00<?, ?it/s]"
      ]
     },
     "metadata": {},
     "output_type": "display_data"
    },
    {
     "name": "stdout",
     "output_type": "stream",
     "text": [
      "* Average Loss @1: 38053252.8533\n",
      "Best performing model so far average validation loss: 38042506.9348 on epoch 0\n",
      "\n"
     ]
    },
    {
     "data": {
      "application/vnd.jupyter.widget-view+json": {
       "model_id": "15ec5deaff15458fa248e16379a55f83",
       "version_major": 2,
       "version_minor": 0
      },
      "text/plain": [
       "  0%|          | 0/846 [00:00<?, ?it/s]"
      ]
     },
     "metadata": {},
     "output_type": "display_data"
    },
    {
     "name": "stdout",
     "output_type": "stream",
     "text": [
      "Average training loss this epoch: nan\n"
     ]
    },
    {
     "data": {
      "application/vnd.jupyter.widget-view+json": {
       "model_id": "fb105ff95909499a803a63ab8c72df9d",
       "version_major": 2,
       "version_minor": 0
      },
      "text/plain": [
       "  0%|          | 0/212 [00:00<?, ?it/s]"
      ]
     },
     "metadata": {},
     "output_type": "display_data"
    },
    {
     "name": "stdout",
     "output_type": "stream",
     "text": [
      "* Average Loss @1: 38087126.8629\n",
      "Best performing model so far average validation loss: 38042506.9348 on epoch 0\n",
      "\n"
     ]
    },
    {
     "data": {
      "application/vnd.jupyter.widget-view+json": {
       "model_id": "6ac38035c862425f97254db073e9170f",
       "version_major": 2,
       "version_minor": 0
      },
      "text/plain": [
       "  0%|          | 0/846 [00:00<?, ?it/s]"
      ]
     },
     "metadata": {},
     "output_type": "display_data"
    },
    {
     "name": "stdout",
     "output_type": "stream",
     "text": [
      "Average training loss this epoch: nan\n"
     ]
    },
    {
     "data": {
      "application/vnd.jupyter.widget-view+json": {
       "model_id": "1ea77fd14c824b1da83c2227f3254536",
       "version_major": 2,
       "version_minor": 0
      },
      "text/plain": [
       "  0%|          | 0/212 [00:00<?, ?it/s]"
      ]
     },
     "metadata": {},
     "output_type": "display_data"
    },
    {
     "name": "stdout",
     "output_type": "stream",
     "text": [
      "* Average Loss @1: 38144168.0146\n",
      "Best performing model so far average validation loss: 38042506.9348 on epoch 0\n",
      "\n"
     ]
    },
    {
     "data": {
      "application/vnd.jupyter.widget-view+json": {
       "model_id": "ca7a3802b9354c488f34382c526c9a72",
       "version_major": 2,
       "version_minor": 0
      },
      "text/plain": [
       "  0%|          | 0/846 [00:00<?, ?it/s]"
      ]
     },
     "metadata": {},
     "output_type": "display_data"
    },
    {
     "name": "stdout",
     "output_type": "stream",
     "text": [
      "Average training loss this epoch: nan\n"
     ]
    },
    {
     "data": {
      "application/vnd.jupyter.widget-view+json": {
       "model_id": "704813c9bce34d0f9a4846542d73002c",
       "version_major": 2,
       "version_minor": 0
      },
      "text/plain": [
       "  0%|          | 0/212 [00:00<?, ?it/s]"
      ]
     },
     "metadata": {},
     "output_type": "display_data"
    },
    {
     "name": "stdout",
     "output_type": "stream",
     "text": [
      "* Average Loss @1: 38060143.7712\n",
      "Best performing model so far average validation loss: 38042506.9348 on epoch 0\n",
      "\n",
      "Best Training Loss @1: 38042506.9348\n",
      "Run finished, view it on the SigOpt dashboard at https://app.sigopt.com/run/445150\n",
      "Run started, view it on the SigOpt dashboard at https://app.sigopt.com/run/445334\n",
      "Params :  {'reg': 0.14280090723486485, 'learning_rate': 0.0028654375439597537, 'batch_size': '32'}\n"
     ]
    },
    {
     "data": {
      "application/vnd.jupyter.widget-view+json": {
       "model_id": "5eaf98905a46439f8b05c644ba265a33",
       "version_major": 2,
       "version_minor": 0
      },
      "text/plain": [
       "  0%|          | 0/846 [00:00<?, ?it/s]"
      ]
     },
     "metadata": {},
     "output_type": "display_data"
    },
    {
     "name": "stdout",
     "output_type": "stream",
     "text": [
      "Average training loss this epoch: 0.0796\n"
     ]
    },
    {
     "data": {
      "application/vnd.jupyter.widget-view+json": {
       "model_id": "9643d2a894fd4a12959923f3d8d198fb",
       "version_major": 2,
       "version_minor": 0
      },
      "text/plain": [
       "  0%|          | 0/212 [00:00<?, ?it/s]"
      ]
     },
     "metadata": {},
     "output_type": "display_data"
    },
    {
     "name": "stdout",
     "output_type": "stream",
     "text": [
      "* Average Loss @1: 0.0690\n",
      "Best performing model so far average validation loss: 0.0690 on epoch 0\n",
      "\n"
     ]
    },
    {
     "data": {
      "application/vnd.jupyter.widget-view+json": {
       "model_id": "b9519af72c2f40f6bd507fb72a6ec5be",
       "version_major": 2,
       "version_minor": 0
      },
      "text/plain": [
       "  0%|          | 0/846 [00:00<?, ?it/s]"
      ]
     },
     "metadata": {},
     "output_type": "display_data"
    },
    {
     "name": "stdout",
     "output_type": "stream",
     "text": [
      "Average training loss this epoch: 0.0749\n"
     ]
    },
    {
     "data": {
      "application/vnd.jupyter.widget-view+json": {
       "model_id": "d8ffc1929bde490ab94f429c62c500d1",
       "version_major": 2,
       "version_minor": 0
      },
      "text/plain": [
       "  0%|          | 0/212 [00:00<?, ?it/s]"
      ]
     },
     "metadata": {},
     "output_type": "display_data"
    },
    {
     "name": "stdout",
     "output_type": "stream",
     "text": [
      "* Average Loss @1: 0.0690\n",
      "Best performing model so far average validation loss: 0.0690 on epoch 0\n",
      "\n"
     ]
    },
    {
     "data": {
      "application/vnd.jupyter.widget-view+json": {
       "model_id": "db569f2030da4fab8fda230078753878",
       "version_major": 2,
       "version_minor": 0
      },
      "text/plain": [
       "  0%|          | 0/846 [00:00<?, ?it/s]"
      ]
     },
     "metadata": {},
     "output_type": "display_data"
    },
    {
     "name": "stdout",
     "output_type": "stream",
     "text": [
      "Average training loss this epoch: 0.0750\n"
     ]
    },
    {
     "data": {
      "application/vnd.jupyter.widget-view+json": {
       "model_id": "c002469c5f014fc78a408a7cd71fb8c9",
       "version_major": 2,
       "version_minor": 0
      },
      "text/plain": [
       "  0%|          | 0/212 [00:00<?, ?it/s]"
      ]
     },
     "metadata": {},
     "output_type": "display_data"
    },
    {
     "name": "stdout",
     "output_type": "stream",
     "text": [
      "* Average Loss @1: 0.0690\n",
      "Best performing model so far average validation loss: 0.0690 on epoch 0\n",
      "\n"
     ]
    },
    {
     "data": {
      "application/vnd.jupyter.widget-view+json": {
       "model_id": "a97f8a1ee3cc4dabbe2223d1f790920c",
       "version_major": 2,
       "version_minor": 0
      },
      "text/plain": [
       "  0%|          | 0/846 [00:00<?, ?it/s]"
      ]
     },
     "metadata": {},
     "output_type": "display_data"
    },
    {
     "name": "stdout",
     "output_type": "stream",
     "text": [
      "Average training loss this epoch: 0.0749\n"
     ]
    },
    {
     "data": {
      "application/vnd.jupyter.widget-view+json": {
       "model_id": "7d797125236b495f9fd808f07859d02b",
       "version_major": 2,
       "version_minor": 0
      },
      "text/plain": [
       "  0%|          | 0/212 [00:00<?, ?it/s]"
      ]
     },
     "metadata": {},
     "output_type": "display_data"
    },
    {
     "name": "stdout",
     "output_type": "stream",
     "text": [
      "* Average Loss @1: 0.0690\n",
      "Best performing model so far average validation loss: 0.0690 on epoch 0\n",
      "\n"
     ]
    },
    {
     "data": {
      "application/vnd.jupyter.widget-view+json": {
       "model_id": "49ac47b28c2546f489cdef88b84d56fc",
       "version_major": 2,
       "version_minor": 0
      },
      "text/plain": [
       "  0%|          | 0/846 [00:00<?, ?it/s]"
      ]
     },
     "metadata": {},
     "output_type": "display_data"
    },
    {
     "name": "stdout",
     "output_type": "stream",
     "text": [
      "Average training loss this epoch: 0.0750\n"
     ]
    },
    {
     "data": {
      "application/vnd.jupyter.widget-view+json": {
       "model_id": "dad28607b9c3474698312324ced963e4",
       "version_major": 2,
       "version_minor": 0
      },
      "text/plain": [
       "  0%|          | 0/212 [00:00<?, ?it/s]"
      ]
     },
     "metadata": {},
     "output_type": "display_data"
    },
    {
     "name": "stdout",
     "output_type": "stream",
     "text": [
      "* Average Loss @1: 0.0691\n",
      "Best performing model so far average validation loss: 0.0690 on epoch 0\n",
      "\n",
      "Best Training Loss @1: 0.0690\n",
      "Run finished, view it on the SigOpt dashboard at https://app.sigopt.com/run/445334\n",
      "Run started, view it on the SigOpt dashboard at https://app.sigopt.com/run/445520\n",
      "Params :  {'learning_rate': 0.0006892811923412726, 'batch_size': '64', 'reg': 0.06698899511649309}\n"
     ]
    },
    {
     "data": {
      "application/vnd.jupyter.widget-view+json": {
       "model_id": "1aec685e8e34465eb317cb10f2c4eee3",
       "version_major": 2,
       "version_minor": 0
      },
      "text/plain": [
       "  0%|          | 0/423 [00:00<?, ?it/s]"
      ]
     },
     "metadata": {},
     "output_type": "display_data"
    },
    {
     "name": "stdout",
     "output_type": "stream",
     "text": [
      "Average training loss this epoch: 0.0741\n"
     ]
    },
    {
     "data": {
      "application/vnd.jupyter.widget-view+json": {
       "model_id": "deefe42cddfa4057bdc5cf4ac65e5951",
       "version_major": 2,
       "version_minor": 0
      },
      "text/plain": [
       "  0%|          | 0/106 [00:00<?, ?it/s]"
      ]
     },
     "metadata": {},
     "output_type": "display_data"
    },
    {
     "name": "stdout",
     "output_type": "stream",
     "text": [
      "* Average Loss @1: 0.0733\n",
      "Best performing model so far average validation loss: 0.0733 on epoch 0\n",
      "\n"
     ]
    },
    {
     "data": {
      "application/vnd.jupyter.widget-view+json": {
       "model_id": "38837c23797c48f0bb022587e5231abc",
       "version_major": 2,
       "version_minor": 0
      },
      "text/plain": [
       "  0%|          | 0/423 [00:00<?, ?it/s]"
      ]
     },
     "metadata": {},
     "output_type": "display_data"
    },
    {
     "name": "stdout",
     "output_type": "stream",
     "text": [
      "Average training loss this epoch: 0.0738\n"
     ]
    },
    {
     "data": {
      "application/vnd.jupyter.widget-view+json": {
       "model_id": "0f48519f71bb4c928c64dff28640b444",
       "version_major": 2,
       "version_minor": 0
      },
      "text/plain": [
       "  0%|          | 0/106 [00:00<?, ?it/s]"
      ]
     },
     "metadata": {},
     "output_type": "display_data"
    },
    {
     "name": "stdout",
     "output_type": "stream",
     "text": [
      "* Average Loss @1: 0.0733\n",
      "Best performing model so far average validation loss: 0.0733 on epoch 1\n",
      "\n"
     ]
    },
    {
     "data": {
      "application/vnd.jupyter.widget-view+json": {
       "model_id": "515e7213282248eea5edc5b10b1dac2e",
       "version_major": 2,
       "version_minor": 0
      },
      "text/plain": [
       "  0%|          | 0/423 [00:00<?, ?it/s]"
      ]
     },
     "metadata": {},
     "output_type": "display_data"
    },
    {
     "name": "stdout",
     "output_type": "stream",
     "text": [
      "Average training loss this epoch: 0.0738\n"
     ]
    },
    {
     "data": {
      "application/vnd.jupyter.widget-view+json": {
       "model_id": "5c841b57d16f487d8a6817707eb2cce0",
       "version_major": 2,
       "version_minor": 0
      },
      "text/plain": [
       "  0%|          | 0/106 [00:00<?, ?it/s]"
      ]
     },
     "metadata": {},
     "output_type": "display_data"
    },
    {
     "name": "stdout",
     "output_type": "stream",
     "text": [
      "* Average Loss @1: 0.0733\n",
      "Best performing model so far average validation loss: 0.0733 on epoch 1\n",
      "\n"
     ]
    },
    {
     "data": {
      "application/vnd.jupyter.widget-view+json": {
       "model_id": "b2c502ca571d414b83d48ca5a4bd78bf",
       "version_major": 2,
       "version_minor": 0
      },
      "text/plain": [
       "  0%|          | 0/423 [00:00<?, ?it/s]"
      ]
     },
     "metadata": {},
     "output_type": "display_data"
    },
    {
     "name": "stdout",
     "output_type": "stream",
     "text": [
      "Average training loss this epoch: 0.0738\n"
     ]
    },
    {
     "data": {
      "application/vnd.jupyter.widget-view+json": {
       "model_id": "016589ffa70b4ebda59a5e8f99d094bc",
       "version_major": 2,
       "version_minor": 0
      },
      "text/plain": [
       "  0%|          | 0/106 [00:00<?, ?it/s]"
      ]
     },
     "metadata": {},
     "output_type": "display_data"
    },
    {
     "name": "stdout",
     "output_type": "stream",
     "text": [
      "* Average Loss @1: 0.0733\n",
      "Best performing model so far average validation loss: 0.0733 on epoch 3\n",
      "\n"
     ]
    },
    {
     "data": {
      "application/vnd.jupyter.widget-view+json": {
       "model_id": "579c7f3a9b334fa8ae8d28f06ad3014d",
       "version_major": 2,
       "version_minor": 0
      },
      "text/plain": [
       "  0%|          | 0/423 [00:00<?, ?it/s]"
      ]
     },
     "metadata": {},
     "output_type": "display_data"
    },
    {
     "name": "stdout",
     "output_type": "stream",
     "text": [
      "Average training loss this epoch: 0.0738\n"
     ]
    },
    {
     "data": {
      "application/vnd.jupyter.widget-view+json": {
       "model_id": "503b9fa7ff754aaab9754057dbb3192a",
       "version_major": 2,
       "version_minor": 0
      },
      "text/plain": [
       "  0%|          | 0/106 [00:00<?, ?it/s]"
      ]
     },
     "metadata": {},
     "output_type": "display_data"
    },
    {
     "name": "stdout",
     "output_type": "stream",
     "text": [
      "* Average Loss @1: 0.0733\n",
      "Best performing model so far average validation loss: 0.0733 on epoch 3\n",
      "\n",
      "Best Training Loss @1: 0.0733\n",
      "Run finished, view it on the SigOpt dashboard at https://app.sigopt.com/run/445520\n",
      "Run started, view it on the SigOpt dashboard at https://app.sigopt.com/run/445712\n",
      "Params :  {'batch_size': '64', 'reg': 0.00040030229649861814, 'learning_rate': 0.00010758708461306807}\n"
     ]
    },
    {
     "data": {
      "application/vnd.jupyter.widget-view+json": {
       "model_id": "9be706330bcf41d389fe9cd8e6ed5041",
       "version_major": 2,
       "version_minor": 0
      },
      "text/plain": [
       "  0%|          | 0/423 [00:00<?, ?it/s]"
      ]
     },
     "metadata": {},
     "output_type": "display_data"
    },
    {
     "name": "stdout",
     "output_type": "stream",
     "text": [
      "Average training loss this epoch: 0.0486\n"
     ]
    },
    {
     "data": {
      "application/vnd.jupyter.widget-view+json": {
       "model_id": "43509999cfd64d7bb54f5ad0c59d43b0",
       "version_major": 2,
       "version_minor": 0
      },
      "text/plain": [
       "  0%|          | 0/106 [00:00<?, ?it/s]"
      ]
     },
     "metadata": {},
     "output_type": "display_data"
    },
    {
     "name": "stdout",
     "output_type": "stream",
     "text": [
      "* Average Loss @1: 0.1061\n",
      "Best performing model so far average validation loss: 0.1061 on epoch 0\n",
      "\n"
     ]
    },
    {
     "data": {
      "application/vnd.jupyter.widget-view+json": {
       "model_id": "5f8ec54f69504f03a0334639d1ed8eb9",
       "version_major": 2,
       "version_minor": 0
      },
      "text/plain": [
       "  0%|          | 0/423 [00:00<?, ?it/s]"
      ]
     },
     "metadata": {},
     "output_type": "display_data"
    },
    {
     "name": "stdout",
     "output_type": "stream",
     "text": [
      "Average training loss this epoch: 0.0251\n"
     ]
    },
    {
     "data": {
      "application/vnd.jupyter.widget-view+json": {
       "model_id": "657db1a84daf419186e9ccd0d5f6f933",
       "version_major": 2,
       "version_minor": 0
      },
      "text/plain": [
       "  0%|          | 0/106 [00:00<?, ?it/s]"
      ]
     },
     "metadata": {},
     "output_type": "display_data"
    },
    {
     "name": "stdout",
     "output_type": "stream",
     "text": [
      "* Average Loss @1: 0.1250\n",
      "Best performing model so far average validation loss: 0.1061 on epoch 0\n",
      "\n"
     ]
    },
    {
     "data": {
      "application/vnd.jupyter.widget-view+json": {
       "model_id": "aa3393c075ff41859aa039dc18d6ee65",
       "version_major": 2,
       "version_minor": 0
      },
      "text/plain": [
       "  0%|          | 0/423 [00:00<?, ?it/s]"
      ]
     },
     "metadata": {},
     "output_type": "display_data"
    },
    {
     "name": "stdout",
     "output_type": "stream",
     "text": [
      "Average training loss this epoch: 0.0138\n"
     ]
    },
    {
     "data": {
      "application/vnd.jupyter.widget-view+json": {
       "model_id": "f9722f8cb77148d7b7518c4ff01d155e",
       "version_major": 2,
       "version_minor": 0
      },
      "text/plain": [
       "  0%|          | 0/106 [00:00<?, ?it/s]"
      ]
     },
     "metadata": {},
     "output_type": "display_data"
    },
    {
     "name": "stdout",
     "output_type": "stream",
     "text": [
      "* Average Loss @1: 0.1286\n",
      "Best performing model so far average validation loss: 0.1061 on epoch 0\n",
      "\n"
     ]
    },
    {
     "data": {
      "application/vnd.jupyter.widget-view+json": {
       "model_id": "8404f1de13074c3ea47819ee18f7b39e",
       "version_major": 2,
       "version_minor": 0
      },
      "text/plain": [
       "  0%|          | 0/423 [00:00<?, ?it/s]"
      ]
     },
     "metadata": {},
     "output_type": "display_data"
    },
    {
     "name": "stdout",
     "output_type": "stream",
     "text": [
      "Average training loss this epoch: 0.0097\n"
     ]
    },
    {
     "data": {
      "application/vnd.jupyter.widget-view+json": {
       "model_id": "bcba32779fea4a50a3001be1bbcdabf6",
       "version_major": 2,
       "version_minor": 0
      },
      "text/plain": [
       "  0%|          | 0/106 [00:00<?, ?it/s]"
      ]
     },
     "metadata": {},
     "output_type": "display_data"
    },
    {
     "name": "stdout",
     "output_type": "stream",
     "text": [
      "* Average Loss @1: 0.1264\n",
      "Best performing model so far average validation loss: 0.1061 on epoch 0\n",
      "\n"
     ]
    },
    {
     "data": {
      "application/vnd.jupyter.widget-view+json": {
       "model_id": "8efa291173274a738f9e8c40cf86605d",
       "version_major": 2,
       "version_minor": 0
      },
      "text/plain": [
       "  0%|          | 0/423 [00:00<?, ?it/s]"
      ]
     },
     "metadata": {},
     "output_type": "display_data"
    },
    {
     "name": "stdout",
     "output_type": "stream",
     "text": [
      "Average training loss this epoch: 0.0076\n"
     ]
    },
    {
     "data": {
      "application/vnd.jupyter.widget-view+json": {
       "model_id": "67f9936d4f5a41d19b870fde7dafa1fb",
       "version_major": 2,
       "version_minor": 0
      },
      "text/plain": [
       "  0%|          | 0/106 [00:00<?, ?it/s]"
      ]
     },
     "metadata": {},
     "output_type": "display_data"
    },
    {
     "name": "stdout",
     "output_type": "stream",
     "text": [
      "* Average Loss @1: 0.1343\n",
      "Best performing model so far average validation loss: 0.1061 on epoch 0\n",
      "\n",
      "Best Training Loss @1: 0.1061\n",
      "Run finished, view it on the SigOpt dashboard at https://app.sigopt.com/run/445712\n",
      "Run started, view it on the SigOpt dashboard at https://app.sigopt.com/run/445890\n",
      "Params :  {'batch_size': '32', 'learning_rate': 0.000795985914865582, 'reg': 0.00010566931443326124}\n"
     ]
    },
    {
     "data": {
      "application/vnd.jupyter.widget-view+json": {
       "model_id": "4f8fd41d3f5049ff98888438611e9864",
       "version_major": 2,
       "version_minor": 0
      },
      "text/plain": [
       "  0%|          | 0/846 [00:00<?, ?it/s]"
      ]
     },
     "metadata": {},
     "output_type": "display_data"
    },
    {
     "name": "stdout",
     "output_type": "stream",
     "text": [
      "Average training loss this epoch: 0.0507\n"
     ]
    },
    {
     "data": {
      "application/vnd.jupyter.widget-view+json": {
       "model_id": "1948bab2dca247e596a92144af61fda2",
       "version_major": 2,
       "version_minor": 0
      },
      "text/plain": [
       "  0%|          | 0/212 [00:00<?, ?it/s]"
      ]
     },
     "metadata": {},
     "output_type": "display_data"
    },
    {
     "name": "stdout",
     "output_type": "stream",
     "text": [
      "* Average Loss @1: 0.1229\n",
      "Best performing model so far average validation loss: 0.1229 on epoch 0\n",
      "\n"
     ]
    },
    {
     "data": {
      "application/vnd.jupyter.widget-view+json": {
       "model_id": "698ae60736bb4a7cb3754969b4cdf52f",
       "version_major": 2,
       "version_minor": 0
      },
      "text/plain": [
       "  0%|          | 0/846 [00:00<?, ?it/s]"
      ]
     },
     "metadata": {},
     "output_type": "display_data"
    },
    {
     "name": "stdout",
     "output_type": "stream",
     "text": [
      "Average training loss this epoch: 0.0334\n"
     ]
    },
    {
     "data": {
      "application/vnd.jupyter.widget-view+json": {
       "model_id": "b5dbd8267f4b46b0bfe291440a620780",
       "version_major": 2,
       "version_minor": 0
      },
      "text/plain": [
       "  0%|          | 0/212 [00:00<?, ?it/s]"
      ]
     },
     "metadata": {},
     "output_type": "display_data"
    },
    {
     "name": "stdout",
     "output_type": "stream",
     "text": [
      "* Average Loss @1: 0.1141\n",
      "Best performing model so far average validation loss: 0.1141 on epoch 1\n",
      "\n"
     ]
    },
    {
     "data": {
      "application/vnd.jupyter.widget-view+json": {
       "model_id": "b2f7187ae55e4e6eb66f70757e120a8c",
       "version_major": 2,
       "version_minor": 0
      },
      "text/plain": [
       "  0%|          | 0/846 [00:00<?, ?it/s]"
      ]
     },
     "metadata": {},
     "output_type": "display_data"
    },
    {
     "name": "stdout",
     "output_type": "stream",
     "text": [
      "Average training loss this epoch: 0.0256\n"
     ]
    },
    {
     "data": {
      "application/vnd.jupyter.widget-view+json": {
       "model_id": "623ee814baa84ce280849299d85b5ff5",
       "version_major": 2,
       "version_minor": 0
      },
      "text/plain": [
       "  0%|          | 0/212 [00:00<?, ?it/s]"
      ]
     },
     "metadata": {},
     "output_type": "display_data"
    },
    {
     "name": "stdout",
     "output_type": "stream",
     "text": [
      "* Average Loss @1: 0.1399\n",
      "Best performing model so far average validation loss: 0.1141 on epoch 1\n",
      "\n"
     ]
    },
    {
     "data": {
      "application/vnd.jupyter.widget-view+json": {
       "model_id": "5c42cebe43a84425a318c90aecba6c45",
       "version_major": 2,
       "version_minor": 0
      },
      "text/plain": [
       "  0%|          | 0/846 [00:00<?, ?it/s]"
      ]
     },
     "metadata": {},
     "output_type": "display_data"
    },
    {
     "name": "stdout",
     "output_type": "stream",
     "text": [
      "Average training loss this epoch: 0.0240\n"
     ]
    },
    {
     "data": {
      "application/vnd.jupyter.widget-view+json": {
       "model_id": "08bce6e0fa02490796ecebd40f0c282a",
       "version_major": 2,
       "version_minor": 0
      },
      "text/plain": [
       "  0%|          | 0/212 [00:00<?, ?it/s]"
      ]
     },
     "metadata": {},
     "output_type": "display_data"
    },
    {
     "name": "stdout",
     "output_type": "stream",
     "text": [
      "* Average Loss @1: 0.1053\n",
      "Best performing model so far average validation loss: 0.1053 on epoch 3\n",
      "\n"
     ]
    },
    {
     "data": {
      "application/vnd.jupyter.widget-view+json": {
       "model_id": "83667f9d08b94989bb4c1b309a826dd3",
       "version_major": 2,
       "version_minor": 0
      },
      "text/plain": [
       "  0%|          | 0/846 [00:00<?, ?it/s]"
      ]
     },
     "metadata": {},
     "output_type": "display_data"
    },
    {
     "name": "stdout",
     "output_type": "stream",
     "text": [
      "Average training loss this epoch: 0.0179\n"
     ]
    },
    {
     "data": {
      "application/vnd.jupyter.widget-view+json": {
       "model_id": "517da99475554a99865f949dd36d493d",
       "version_major": 2,
       "version_minor": 0
      },
      "text/plain": [
       "  0%|          | 0/212 [00:00<?, ?it/s]"
      ]
     },
     "metadata": {},
     "output_type": "display_data"
    },
    {
     "name": "stdout",
     "output_type": "stream",
     "text": [
      "* Average Loss @1: 0.1217\n",
      "Best performing model so far average validation loss: 0.1053 on epoch 3\n",
      "\n",
      "Best Training Loss @1: 0.1053\n",
      "Run finished, view it on the SigOpt dashboard at https://app.sigopt.com/run/445890\n",
      "Run started, view it on the SigOpt dashboard at https://app.sigopt.com/run/446064\n",
      "Params :  {'batch_size': '64', 'learning_rate': 0.00013904476526628112, 'reg': 0.5}\n"
     ]
    },
    {
     "data": {
      "application/vnd.jupyter.widget-view+json": {
       "model_id": "bfcb874a217f4f339ac7be6e229681c5",
       "version_major": 2,
       "version_minor": 0
      },
      "text/plain": [
       "  0%|          | 0/423 [00:00<?, ?it/s]"
      ]
     },
     "metadata": {},
     "output_type": "display_data"
    },
    {
     "name": "stdout",
     "output_type": "stream",
     "text": [
      "Average training loss this epoch: 0.0865\n"
     ]
    },
    {
     "data": {
      "application/vnd.jupyter.widget-view+json": {
       "model_id": "c6221fa2b01142a58dfbd6c1ff71ac25",
       "version_major": 2,
       "version_minor": 0
      },
      "text/plain": [
       "  0%|          | 0/106 [00:00<?, ?it/s]"
      ]
     },
     "metadata": {},
     "output_type": "display_data"
    },
    {
     "name": "stdout",
     "output_type": "stream",
     "text": [
      "* Average Loss @1: 0.0833\n",
      "Best performing model so far average validation loss: 0.0833 on epoch 0\n",
      "\n"
     ]
    },
    {
     "data": {
      "application/vnd.jupyter.widget-view+json": {
       "model_id": "0f80086028ba4c98899014136d1e2548",
       "version_major": 2,
       "version_minor": 0
      },
      "text/plain": [
       "  0%|          | 0/423 [00:00<?, ?it/s]"
      ]
     },
     "metadata": {},
     "output_type": "display_data"
    },
    {
     "name": "stdout",
     "output_type": "stream",
     "text": [
      "Average training loss this epoch: 0.0803\n"
     ]
    },
    {
     "data": {
      "application/vnd.jupyter.widget-view+json": {
       "model_id": "73b3d89fc7de435bb0e141065aad7361",
       "version_major": 2,
       "version_minor": 0
      },
      "text/plain": [
       "  0%|          | 0/106 [00:00<?, ?it/s]"
      ]
     },
     "metadata": {},
     "output_type": "display_data"
    },
    {
     "name": "stdout",
     "output_type": "stream",
     "text": [
      "* Average Loss @1: 0.0751\n",
      "Best performing model so far average validation loss: 0.0751 on epoch 1\n",
      "\n"
     ]
    },
    {
     "data": {
      "application/vnd.jupyter.widget-view+json": {
       "model_id": "8e5684a1f52e4b4bb62b52ea9ad54f60",
       "version_major": 2,
       "version_minor": 0
      },
      "text/plain": [
       "  0%|          | 0/423 [00:00<?, ?it/s]"
      ]
     },
     "metadata": {},
     "output_type": "display_data"
    },
    {
     "name": "stdout",
     "output_type": "stream",
     "text": [
      "Average training loss this epoch: 0.0759\n"
     ]
    },
    {
     "data": {
      "application/vnd.jupyter.widget-view+json": {
       "model_id": "89e8fb5c13a74bf1949c8684d1edbfc1",
       "version_major": 2,
       "version_minor": 0
      },
      "text/plain": [
       "  0%|          | 0/106 [00:00<?, ?it/s]"
      ]
     },
     "metadata": {},
     "output_type": "display_data"
    },
    {
     "name": "stdout",
     "output_type": "stream",
     "text": [
      "* Average Loss @1: 0.0727\n",
      "Best performing model so far average validation loss: 0.0727 on epoch 2\n",
      "\n"
     ]
    },
    {
     "data": {
      "application/vnd.jupyter.widget-view+json": {
       "model_id": "0a4527af33ad43278b48b1f951a04579",
       "version_major": 2,
       "version_minor": 0
      },
      "text/plain": [
       "  0%|          | 0/423 [00:00<?, ?it/s]"
      ]
     },
     "metadata": {},
     "output_type": "display_data"
    },
    {
     "name": "stdout",
     "output_type": "stream",
     "text": [
      "Average training loss this epoch: 0.0746\n"
     ]
    },
    {
     "data": {
      "application/vnd.jupyter.widget-view+json": {
       "model_id": "dcba167b9f5041078253c7a6d8528b92",
       "version_major": 2,
       "version_minor": 0
      },
      "text/plain": [
       "  0%|          | 0/106 [00:00<?, ?it/s]"
      ]
     },
     "metadata": {},
     "output_type": "display_data"
    },
    {
     "name": "stdout",
     "output_type": "stream",
     "text": [
      "* Average Loss @1: 0.0720\n",
      "Best performing model so far average validation loss: 0.0720 on epoch 3\n",
      "\n"
     ]
    },
    {
     "data": {
      "application/vnd.jupyter.widget-view+json": {
       "model_id": "6cae5159eac44b32835126078cdafdb1",
       "version_major": 2,
       "version_minor": 0
      },
      "text/plain": [
       "  0%|          | 0/423 [00:00<?, ?it/s]"
      ]
     },
     "metadata": {},
     "output_type": "display_data"
    },
    {
     "name": "stdout",
     "output_type": "stream",
     "text": [
      "Average training loss this epoch: 0.0743\n"
     ]
    },
    {
     "data": {
      "application/vnd.jupyter.widget-view+json": {
       "model_id": "f7e636825b9f416783cf32f4155a6ada",
       "version_major": 2,
       "version_minor": 0
      },
      "text/plain": [
       "  0%|          | 0/106 [00:00<?, ?it/s]"
      ]
     },
     "metadata": {},
     "output_type": "display_data"
    },
    {
     "name": "stdout",
     "output_type": "stream",
     "text": [
      "* Average Loss @1: 0.0718\n",
      "Best performing model so far average validation loss: 0.0718 on epoch 4\n",
      "\n",
      "Best Training Loss @1: 0.0718\n",
      "Run finished, view it on the SigOpt dashboard at https://app.sigopt.com/run/446064\n",
      "Run started, view it on the SigOpt dashboard at https://app.sigopt.com/run/446239\n",
      "Params :  {'batch_size': '64', 'learning_rate': 0.00046675296107294634, 'reg': 0.00013601077923175155}\n"
     ]
    },
    {
     "data": {
      "application/vnd.jupyter.widget-view+json": {
       "model_id": "6172f29dde64445aaa9964b6108f19ca",
       "version_major": 2,
       "version_minor": 0
      },
      "text/plain": [
       "  0%|          | 0/423 [00:00<?, ?it/s]"
      ]
     },
     "metadata": {},
     "output_type": "display_data"
    },
    {
     "name": "stdout",
     "output_type": "stream",
     "text": [
      "Average training loss this epoch: 0.0415\n"
     ]
    },
    {
     "data": {
      "application/vnd.jupyter.widget-view+json": {
       "model_id": "db1c9182837f4a2fb6fe25a66cd70a33",
       "version_major": 2,
       "version_minor": 0
      },
      "text/plain": [
       "  0%|          | 0/106 [00:00<?, ?it/s]"
      ]
     },
     "metadata": {},
     "output_type": "display_data"
    },
    {
     "name": "stdout",
     "output_type": "stream",
     "text": [
      "* Average Loss @1: 0.1316\n",
      "Best performing model so far average validation loss: 0.1316 on epoch 0\n",
      "\n"
     ]
    },
    {
     "data": {
      "application/vnd.jupyter.widget-view+json": {
       "model_id": "4ea29017af144265988e63f3c0153c9c",
       "version_major": 2,
       "version_minor": 0
      },
      "text/plain": [
       "  0%|          | 0/423 [00:00<?, ?it/s]"
      ]
     },
     "metadata": {},
     "output_type": "display_data"
    },
    {
     "name": "stdout",
     "output_type": "stream",
     "text": [
      "Average training loss this epoch: 0.0239\n"
     ]
    },
    {
     "data": {
      "application/vnd.jupyter.widget-view+json": {
       "model_id": "4130c9c7c6434235b0f52941cb8f28ec",
       "version_major": 2,
       "version_minor": 0
      },
      "text/plain": [
       "  0%|          | 0/106 [00:00<?, ?it/s]"
      ]
     },
     "metadata": {},
     "output_type": "display_data"
    },
    {
     "name": "stdout",
     "output_type": "stream",
     "text": [
      "* Average Loss @1: 0.1221\n",
      "Best performing model so far average validation loss: 0.1221 on epoch 1\n",
      "\n"
     ]
    },
    {
     "data": {
      "application/vnd.jupyter.widget-view+json": {
       "model_id": "d91980b8666a409096af5a14da9cc1a6",
       "version_major": 2,
       "version_minor": 0
      },
      "text/plain": [
       "  0%|          | 0/423 [00:00<?, ?it/s]"
      ]
     },
     "metadata": {},
     "output_type": "display_data"
    },
    {
     "name": "stdout",
     "output_type": "stream",
     "text": [
      "Average training loss this epoch: 0.0145\n"
     ]
    },
    {
     "data": {
      "application/vnd.jupyter.widget-view+json": {
       "model_id": "668db8a07a2e429db6ce119fe0110bbc",
       "version_major": 2,
       "version_minor": 0
      },
      "text/plain": [
       "  0%|          | 0/106 [00:00<?, ?it/s]"
      ]
     },
     "metadata": {},
     "output_type": "display_data"
    },
    {
     "name": "stdout",
     "output_type": "stream",
     "text": [
      "* Average Loss @1: 0.1339\n",
      "Best performing model so far average validation loss: 0.1221 on epoch 1\n",
      "\n"
     ]
    },
    {
     "data": {
      "application/vnd.jupyter.widget-view+json": {
       "model_id": "3c46d8122e1a4d049d389a555417741c",
       "version_major": 2,
       "version_minor": 0
      },
      "text/plain": [
       "  0%|          | 0/423 [00:00<?, ?it/s]"
      ]
     },
     "metadata": {},
     "output_type": "display_data"
    },
    {
     "name": "stdout",
     "output_type": "stream",
     "text": [
      "Average training loss this epoch: 0.0116\n"
     ]
    },
    {
     "data": {
      "application/vnd.jupyter.widget-view+json": {
       "model_id": "3afda45675e84194a8b43064e7594c10",
       "version_major": 2,
       "version_minor": 0
      },
      "text/plain": [
       "  0%|          | 0/106 [00:00<?, ?it/s]"
      ]
     },
     "metadata": {},
     "output_type": "display_data"
    },
    {
     "name": "stdout",
     "output_type": "stream",
     "text": [
      "* Average Loss @1: 0.1275\n",
      "Best performing model so far average validation loss: 0.1221 on epoch 1\n",
      "\n"
     ]
    },
    {
     "data": {
      "application/vnd.jupyter.widget-view+json": {
       "model_id": "bc9b37c4b6864ae086a7b30062be8fd5",
       "version_major": 2,
       "version_minor": 0
      },
      "text/plain": [
       "  0%|          | 0/423 [00:00<?, ?it/s]"
      ]
     },
     "metadata": {},
     "output_type": "display_data"
    },
    {
     "name": "stdout",
     "output_type": "stream",
     "text": [
      "Average training loss this epoch: 0.0076\n"
     ]
    },
    {
     "data": {
      "application/vnd.jupyter.widget-view+json": {
       "model_id": "1f2f5b87ebf242bdbc936438177cc38f",
       "version_major": 2,
       "version_minor": 0
      },
      "text/plain": [
       "  0%|          | 0/106 [00:00<?, ?it/s]"
      ]
     },
     "metadata": {},
     "output_type": "display_data"
    },
    {
     "name": "stdout",
     "output_type": "stream",
     "text": [
      "* Average Loss @1: 0.1419\n",
      "Best performing model so far average validation loss: 0.1221 on epoch 1\n",
      "\n",
      "Best Training Loss @1: 0.1221\n",
      "Run finished, view it on the SigOpt dashboard at https://app.sigopt.com/run/446239\n",
      "Run started, view it on the SigOpt dashboard at https://app.sigopt.com/run/446418\n",
      "Params :  {'learning_rate': 0.0006947940381421509, 'batch_size': '32', 'reg': 0.16753266012635545}\n"
     ]
    },
    {
     "data": {
      "application/vnd.jupyter.widget-view+json": {
       "model_id": "1d274ab8b6ee4a81a63fcf047537ad68",
       "version_major": 2,
       "version_minor": 0
      },
      "text/plain": [
       "  0%|          | 0/846 [00:00<?, ?it/s]"
      ]
     },
     "metadata": {},
     "output_type": "display_data"
    },
    {
     "name": "stdout",
     "output_type": "stream",
     "text": [
      "Average training loss this epoch: 0.0743\n"
     ]
    },
    {
     "data": {
      "application/vnd.jupyter.widget-view+json": {
       "model_id": "0a984a9ca33f407a952ff64621cda5cd",
       "version_major": 2,
       "version_minor": 0
      },
      "text/plain": [
       "  0%|          | 0/212 [00:00<?, ?it/s]"
      ]
     },
     "metadata": {},
     "output_type": "display_data"
    },
    {
     "name": "stdout",
     "output_type": "stream",
     "text": [
      "* Average Loss @1: 0.0727\n",
      "Best performing model so far average validation loss: 0.0727 on epoch 0\n",
      "\n"
     ]
    },
    {
     "data": {
      "application/vnd.jupyter.widget-view+json": {
       "model_id": "d4529faa55c24a61be44d97264e7da62",
       "version_major": 2,
       "version_minor": 0
      },
      "text/plain": [
       "  0%|          | 0/846 [00:00<?, ?it/s]"
      ]
     },
     "metadata": {},
     "output_type": "display_data"
    },
    {
     "name": "stdout",
     "output_type": "stream",
     "text": [
      "Average training loss this epoch: 0.0740\n"
     ]
    },
    {
     "data": {
      "application/vnd.jupyter.widget-view+json": {
       "model_id": "ad912ad516a74c5ab60d6ecd7142ab79",
       "version_major": 2,
       "version_minor": 0
      },
      "text/plain": [
       "  0%|          | 0/212 [00:00<?, ?it/s]"
      ]
     },
     "metadata": {},
     "output_type": "display_data"
    },
    {
     "name": "stdout",
     "output_type": "stream",
     "text": [
      "* Average Loss @1: 0.0727\n",
      "Best performing model so far average validation loss: 0.0727 on epoch 1\n",
      "\n"
     ]
    },
    {
     "data": {
      "application/vnd.jupyter.widget-view+json": {
       "model_id": "39b0c9dca7e040988a87ea944db50ef8",
       "version_major": 2,
       "version_minor": 0
      },
      "text/plain": [
       "  0%|          | 0/846 [00:00<?, ?it/s]"
      ]
     },
     "metadata": {},
     "output_type": "display_data"
    },
    {
     "name": "stdout",
     "output_type": "stream",
     "text": [
      "Average training loss this epoch: 0.0740\n"
     ]
    },
    {
     "data": {
      "application/vnd.jupyter.widget-view+json": {
       "model_id": "c55d66c402194909a08d73939eef1f8e",
       "version_major": 2,
       "version_minor": 0
      },
      "text/plain": [
       "  0%|          | 0/212 [00:00<?, ?it/s]"
      ]
     },
     "metadata": {},
     "output_type": "display_data"
    },
    {
     "name": "stdout",
     "output_type": "stream",
     "text": [
      "* Average Loss @1: 0.0727\n",
      "Best performing model so far average validation loss: 0.0727 on epoch 2\n",
      "\n"
     ]
    },
    {
     "data": {
      "application/vnd.jupyter.widget-view+json": {
       "model_id": "94d85df046b54255b65b0c0e75f026b1",
       "version_major": 2,
       "version_minor": 0
      },
      "text/plain": [
       "  0%|          | 0/846 [00:00<?, ?it/s]"
      ]
     },
     "metadata": {},
     "output_type": "display_data"
    },
    {
     "name": "stdout",
     "output_type": "stream",
     "text": [
      "Average training loss this epoch: 0.0740\n"
     ]
    },
    {
     "data": {
      "application/vnd.jupyter.widget-view+json": {
       "model_id": "ea89b977b73349b1b19bf1914198e32b",
       "version_major": 2,
       "version_minor": 0
      },
      "text/plain": [
       "  0%|          | 0/212 [00:00<?, ?it/s]"
      ]
     },
     "metadata": {},
     "output_type": "display_data"
    },
    {
     "name": "stdout",
     "output_type": "stream",
     "text": [
      "* Average Loss @1: 0.0727\n",
      "Best performing model so far average validation loss: 0.0727 on epoch 3\n",
      "\n"
     ]
    },
    {
     "data": {
      "application/vnd.jupyter.widget-view+json": {
       "model_id": "10cdd7c081a84c998f2c54e3a6311bf6",
       "version_major": 2,
       "version_minor": 0
      },
      "text/plain": [
       "  0%|          | 0/846 [00:00<?, ?it/s]"
      ]
     },
     "metadata": {},
     "output_type": "display_data"
    },
    {
     "name": "stdout",
     "output_type": "stream",
     "text": [
      "Average training loss this epoch: 0.0740\n"
     ]
    },
    {
     "data": {
      "application/vnd.jupyter.widget-view+json": {
       "model_id": "f82f3571222e47cf9821a9807333ed28",
       "version_major": 2,
       "version_minor": 0
      },
      "text/plain": [
       "  0%|          | 0/212 [00:00<?, ?it/s]"
      ]
     },
     "metadata": {},
     "output_type": "display_data"
    },
    {
     "name": "stdout",
     "output_type": "stream",
     "text": [
      "* Average Loss @1: 0.0727\n",
      "Best performing model so far average validation loss: 0.0727 on epoch 3\n",
      "\n",
      "Best Training Loss @1: 0.0727\n",
      "Run finished, view it on the SigOpt dashboard at https://app.sigopt.com/run/446418\n",
      "Run started, view it on the SigOpt dashboard at https://app.sigopt.com/run/446589\n",
      "Params :  {'reg': 0.3454693992376663, 'learning_rate': 0.014610826492620613, 'batch_size': '64'}\n"
     ]
    },
    {
     "data": {
      "application/vnd.jupyter.widget-view+json": {
       "model_id": "11c9b4a00508438488949e8e0fda4da9",
       "version_major": 2,
       "version_minor": 0
      },
      "text/plain": [
       "  0%|          | 0/423 [00:00<?, ?it/s]"
      ]
     },
     "metadata": {},
     "output_type": "display_data"
    },
    {
     "name": "stdout",
     "output_type": "stream",
     "text": [
      "Average training loss this epoch: 0.0742\n"
     ]
    },
    {
     "data": {
      "application/vnd.jupyter.widget-view+json": {
       "model_id": "d4333919cb9e410b87f3cb291cc95d1e",
       "version_major": 2,
       "version_minor": 0
      },
      "text/plain": [
       "  0%|          | 0/106 [00:00<?, ?it/s]"
      ]
     },
     "metadata": {},
     "output_type": "display_data"
    },
    {
     "name": "stdout",
     "output_type": "stream",
     "text": [
      "* Average Loss @1: 0.0743\n",
      "Best performing model so far average validation loss: 0.0743 on epoch 0\n",
      "\n"
     ]
    },
    {
     "data": {
      "application/vnd.jupyter.widget-view+json": {
       "model_id": "d7186699b1164395969c54c9948dec1b",
       "version_major": 2,
       "version_minor": 0
      },
      "text/plain": [
       "  0%|          | 0/423 [00:00<?, ?it/s]"
      ]
     },
     "metadata": {},
     "output_type": "display_data"
    },
    {
     "name": "stdout",
     "output_type": "stream",
     "text": [
      "Average training loss this epoch: 0.0739\n"
     ]
    },
    {
     "data": {
      "application/vnd.jupyter.widget-view+json": {
       "model_id": "d24169a4b407456b89c0a7875c1b56bc",
       "version_major": 2,
       "version_minor": 0
      },
      "text/plain": [
       "  0%|          | 0/106 [00:00<?, ?it/s]"
      ]
     },
     "metadata": {},
     "output_type": "display_data"
    },
    {
     "name": "stdout",
     "output_type": "stream",
     "text": [
      "* Average Loss @1: 0.0741\n",
      "Best performing model so far average validation loss: 0.0741 on epoch 1\n",
      "\n"
     ]
    },
    {
     "data": {
      "application/vnd.jupyter.widget-view+json": {
       "model_id": "721714395a6e4edcbfcfa4529e10916f",
       "version_major": 2,
       "version_minor": 0
      },
      "text/plain": [
       "  0%|          | 0/423 [00:00<?, ?it/s]"
      ]
     },
     "metadata": {},
     "output_type": "display_data"
    },
    {
     "name": "stdout",
     "output_type": "stream",
     "text": [
      "Average training loss this epoch: 0.0738\n"
     ]
    },
    {
     "data": {
      "application/vnd.jupyter.widget-view+json": {
       "model_id": "c2cf1712209849809f914c929a0dded0",
       "version_major": 2,
       "version_minor": 0
      },
      "text/plain": [
       "  0%|          | 0/106 [00:00<?, ?it/s]"
      ]
     },
     "metadata": {},
     "output_type": "display_data"
    },
    {
     "name": "stdout",
     "output_type": "stream",
     "text": [
      "* Average Loss @1: 0.0740\n",
      "Best performing model so far average validation loss: 0.0740 on epoch 2\n",
      "\n"
     ]
    },
    {
     "data": {
      "application/vnd.jupyter.widget-view+json": {
       "model_id": "75b6532f8d924c068fc2c3a2637dae90",
       "version_major": 2,
       "version_minor": 0
      },
      "text/plain": [
       "  0%|          | 0/423 [00:00<?, ?it/s]"
      ]
     },
     "metadata": {},
     "output_type": "display_data"
    },
    {
     "name": "stdout",
     "output_type": "stream",
     "text": [
      "Average training loss this epoch: 0.0738\n"
     ]
    },
    {
     "data": {
      "application/vnd.jupyter.widget-view+json": {
       "model_id": "3a2e71e1d7b94d1b9aad73d8da7221dc",
       "version_major": 2,
       "version_minor": 0
      },
      "text/plain": [
       "  0%|          | 0/106 [00:00<?, ?it/s]"
      ]
     },
     "metadata": {},
     "output_type": "display_data"
    },
    {
     "name": "stdout",
     "output_type": "stream",
     "text": [
      "* Average Loss @1: 0.0741\n",
      "Best performing model so far average validation loss: 0.0740 on epoch 2\n",
      "\n"
     ]
    },
    {
     "data": {
      "application/vnd.jupyter.widget-view+json": {
       "model_id": "201b061a150b475398f4fd78de096609",
       "version_major": 2,
       "version_minor": 0
      },
      "text/plain": [
       "  0%|          | 0/423 [00:00<?, ?it/s]"
      ]
     },
     "metadata": {},
     "output_type": "display_data"
    },
    {
     "name": "stdout",
     "output_type": "stream",
     "text": [
      "Average training loss this epoch: 0.0739\n"
     ]
    },
    {
     "data": {
      "application/vnd.jupyter.widget-view+json": {
       "model_id": "7609a1b0c93147b89799c3373d53ed23",
       "version_major": 2,
       "version_minor": 0
      },
      "text/plain": [
       "  0%|          | 0/106 [00:00<?, ?it/s]"
      ]
     },
     "metadata": {},
     "output_type": "display_data"
    },
    {
     "name": "stdout",
     "output_type": "stream",
     "text": [
      "* Average Loss @1: 0.0740\n",
      "Best performing model so far average validation loss: 0.0740 on epoch 2\n",
      "\n",
      "Best Training Loss @1: 0.0740\n",
      "Run finished, view it on the SigOpt dashboard at https://app.sigopt.com/run/446589\n",
      "Run started, view it on the SigOpt dashboard at https://app.sigopt.com/run/446765\n",
      "Params :  {'batch_size': '32', 'learning_rate': 0.00010787139805185393, 'reg': 0.00011189621138379568}\n"
     ]
    },
    {
     "data": {
      "application/vnd.jupyter.widget-view+json": {
       "model_id": "75809b410ef647bbba2d2bf4267347f8",
       "version_major": 2,
       "version_minor": 0
      },
      "text/plain": [
       "  0%|          | 0/846 [00:00<?, ?it/s]"
      ]
     },
     "metadata": {},
     "output_type": "display_data"
    },
    {
     "name": "stdout",
     "output_type": "stream",
     "text": [
      "Average training loss this epoch: 0.0475\n"
     ]
    },
    {
     "data": {
      "application/vnd.jupyter.widget-view+json": {
       "model_id": "a1afa92053b1434aa1a67b603d9059ab",
       "version_major": 2,
       "version_minor": 0
      },
      "text/plain": [
       "  0%|          | 0/212 [00:00<?, ?it/s]"
      ]
     },
     "metadata": {},
     "output_type": "display_data"
    },
    {
     "name": "stdout",
     "output_type": "stream",
     "text": [
      "* Average Loss @1: 0.1079\n",
      "Best performing model so far average validation loss: 0.1079 on epoch 0\n",
      "\n"
     ]
    },
    {
     "data": {
      "application/vnd.jupyter.widget-view+json": {
       "model_id": "83f3ae67d6e24e49a01c3a3926c860d3",
       "version_major": 2,
       "version_minor": 0
      },
      "text/plain": [
       "  0%|          | 0/846 [00:00<?, ?it/s]"
      ]
     },
     "metadata": {},
     "output_type": "display_data"
    },
    {
     "name": "stdout",
     "output_type": "stream",
     "text": [
      "Average training loss this epoch: 0.0218\n"
     ]
    },
    {
     "data": {
      "application/vnd.jupyter.widget-view+json": {
       "model_id": "266d927374c3441b8bddb95c9d7b4ce1",
       "version_major": 2,
       "version_minor": 0
      },
      "text/plain": [
       "  0%|          | 0/212 [00:00<?, ?it/s]"
      ]
     },
     "metadata": {},
     "output_type": "display_data"
    },
    {
     "name": "stdout",
     "output_type": "stream",
     "text": [
      "* Average Loss @1: 0.1159\n",
      "Best performing model so far average validation loss: 0.1079 on epoch 0\n",
      "\n"
     ]
    },
    {
     "data": {
      "application/vnd.jupyter.widget-view+json": {
       "model_id": "25de32f60e8c4ef397c07e0c0743cb0e",
       "version_major": 2,
       "version_minor": 0
      },
      "text/plain": [
       "  0%|          | 0/846 [00:00<?, ?it/s]"
      ]
     },
     "metadata": {},
     "output_type": "display_data"
    },
    {
     "name": "stdout",
     "output_type": "stream",
     "text": [
      "Average training loss this epoch: 0.0116\n"
     ]
    },
    {
     "data": {
      "application/vnd.jupyter.widget-view+json": {
       "model_id": "ad7a7ae9952141a694876d143db8056e",
       "version_major": 2,
       "version_minor": 0
      },
      "text/plain": [
       "  0%|          | 0/212 [00:00<?, ?it/s]"
      ]
     },
     "metadata": {},
     "output_type": "display_data"
    },
    {
     "name": "stdout",
     "output_type": "stream",
     "text": [
      "* Average Loss @1: 0.1151\n",
      "Best performing model so far average validation loss: 0.1079 on epoch 0\n",
      "\n"
     ]
    },
    {
     "data": {
      "application/vnd.jupyter.widget-view+json": {
       "model_id": "a1a3bd5cba5e45c9a5024ee8ede7ec13",
       "version_major": 2,
       "version_minor": 0
      },
      "text/plain": [
       "  0%|          | 0/846 [00:00<?, ?it/s]"
      ]
     },
     "metadata": {},
     "output_type": "display_data"
    },
    {
     "name": "stdout",
     "output_type": "stream",
     "text": [
      "Average training loss this epoch: 0.0077\n"
     ]
    },
    {
     "data": {
      "application/vnd.jupyter.widget-view+json": {
       "model_id": "bcd9970653a344a191e90fdde2b4117c",
       "version_major": 2,
       "version_minor": 0
      },
      "text/plain": [
       "  0%|          | 0/212 [00:00<?, ?it/s]"
      ]
     },
     "metadata": {},
     "output_type": "display_data"
    },
    {
     "name": "stdout",
     "output_type": "stream",
     "text": [
      "* Average Loss @1: 0.1216\n",
      "Best performing model so far average validation loss: 0.1079 on epoch 0\n",
      "\n"
     ]
    },
    {
     "data": {
      "application/vnd.jupyter.widget-view+json": {
       "model_id": "0fdbd59c48ae4d23a4c738ff1485a7b5",
       "version_major": 2,
       "version_minor": 0
      },
      "text/plain": [
       "  0%|          | 0/846 [00:00<?, ?it/s]"
      ]
     },
     "metadata": {},
     "output_type": "display_data"
    },
    {
     "name": "stdout",
     "output_type": "stream",
     "text": [
      "Average training loss this epoch: 0.0062\n"
     ]
    },
    {
     "data": {
      "application/vnd.jupyter.widget-view+json": {
       "model_id": "6bab71eee6654c4aa0b552b5c288f054",
       "version_major": 2,
       "version_minor": 0
      },
      "text/plain": [
       "  0%|          | 0/212 [00:00<?, ?it/s]"
      ]
     },
     "metadata": {},
     "output_type": "display_data"
    },
    {
     "name": "stdout",
     "output_type": "stream",
     "text": [
      "* Average Loss @1: 0.1221\n",
      "Best performing model so far average validation loss: 0.1079 on epoch 0\n",
      "\n",
      "Best Training Loss @1: 0.1079\n",
      "Run finished, view it on the SigOpt dashboard at https://app.sigopt.com/run/446765\n",
      "Run started, view it on the SigOpt dashboard at https://app.sigopt.com/run/446942\n",
      "Params :  {'learning_rate': 0.01652395156278354, 'reg': 0.0017779648434006526, 'batch_size': '32'}\n"
     ]
    },
    {
     "data": {
      "application/vnd.jupyter.widget-view+json": {
       "model_id": "cc6e286cc82c4e4b904d8d3fb47cfa5a",
       "version_major": 2,
       "version_minor": 0
      },
      "text/plain": [
       "  0%|          | 0/846 [00:00<?, ?it/s]"
      ]
     },
     "metadata": {},
     "output_type": "display_data"
    },
    {
     "name": "stdout",
     "output_type": "stream",
     "text": [
      "Average training loss this epoch: nan\n"
     ]
    },
    {
     "data": {
      "application/vnd.jupyter.widget-view+json": {
       "model_id": "3865ec5fe0ac43aab304f31f37479663",
       "version_major": 2,
       "version_minor": 0
      },
      "text/plain": [
       "  0%|          | 0/212 [00:00<?, ?it/s]"
      ]
     },
     "metadata": {},
     "output_type": "display_data"
    },
    {
     "name": "stdout",
     "output_type": "stream",
     "text": [
      "* Average Loss @1: 0.3494\n",
      "Best performing model so far average validation loss: 0.3494 on epoch 0\n",
      "\n"
     ]
    },
    {
     "data": {
      "application/vnd.jupyter.widget-view+json": {
       "model_id": "9d89b9f7c31e481cb213f77844e0bcdd",
       "version_major": 2,
       "version_minor": 0
      },
      "text/plain": [
       "  0%|          | 0/846 [00:00<?, ?it/s]"
      ]
     },
     "metadata": {},
     "output_type": "display_data"
    },
    {
     "name": "stdout",
     "output_type": "stream",
     "text": [
      "Average training loss this epoch: nan\n"
     ]
    },
    {
     "data": {
      "application/vnd.jupyter.widget-view+json": {
       "model_id": "0207dbf7ec3f4ee38247592936bc68a4",
       "version_major": 2,
       "version_minor": 0
      },
      "text/plain": [
       "  0%|          | 0/212 [00:00<?, ?it/s]"
      ]
     },
     "metadata": {},
     "output_type": "display_data"
    },
    {
     "name": "stdout",
     "output_type": "stream",
     "text": [
      "* Average Loss @1: 0.3494\n",
      "Best performing model so far average validation loss: 0.3494 on epoch 1\n",
      "\n"
     ]
    },
    {
     "data": {
      "application/vnd.jupyter.widget-view+json": {
       "model_id": "fda8c3210fc54a28808eb1bda4ce162c",
       "version_major": 2,
       "version_minor": 0
      },
      "text/plain": [
       "  0%|          | 0/846 [00:00<?, ?it/s]"
      ]
     },
     "metadata": {},
     "output_type": "display_data"
    },
    {
     "name": "stdout",
     "output_type": "stream",
     "text": [
      "Average training loss this epoch: nan\n"
     ]
    },
    {
     "data": {
      "application/vnd.jupyter.widget-view+json": {
       "model_id": "36809016f70b4a0e930f96d5b31cae80",
       "version_major": 2,
       "version_minor": 0
      },
      "text/plain": [
       "  0%|          | 0/212 [00:00<?, ?it/s]"
      ]
     },
     "metadata": {},
     "output_type": "display_data"
    },
    {
     "name": "stdout",
     "output_type": "stream",
     "text": [
      "* Average Loss @1: 0.3494\n",
      "Best performing model so far average validation loss: 0.3494 on epoch 1\n",
      "\n"
     ]
    },
    {
     "data": {
      "application/vnd.jupyter.widget-view+json": {
       "model_id": "c5719fe846e64fa3885c9987e2d018c1",
       "version_major": 2,
       "version_minor": 0
      },
      "text/plain": [
       "  0%|          | 0/846 [00:00<?, ?it/s]"
      ]
     },
     "metadata": {},
     "output_type": "display_data"
    },
    {
     "name": "stdout",
     "output_type": "stream",
     "text": [
      "Average training loss this epoch: nan\n"
     ]
    },
    {
     "data": {
      "application/vnd.jupyter.widget-view+json": {
       "model_id": "20f93c9068fc406c8bb292833df01d00",
       "version_major": 2,
       "version_minor": 0
      },
      "text/plain": [
       "  0%|          | 0/212 [00:00<?, ?it/s]"
      ]
     },
     "metadata": {},
     "output_type": "display_data"
    },
    {
     "name": "stdout",
     "output_type": "stream",
     "text": [
      "* Average Loss @1: 0.3494\n",
      "Best performing model so far average validation loss: 0.3494 on epoch 1\n",
      "\n"
     ]
    },
    {
     "data": {
      "application/vnd.jupyter.widget-view+json": {
       "model_id": "052e86d38b7a486484c0543bfe6c0c85",
       "version_major": 2,
       "version_minor": 0
      },
      "text/plain": [
       "  0%|          | 0/846 [00:00<?, ?it/s]"
      ]
     },
     "metadata": {},
     "output_type": "display_data"
    },
    {
     "name": "stdout",
     "output_type": "stream",
     "text": [
      "Average training loss this epoch: nan\n"
     ]
    },
    {
     "data": {
      "application/vnd.jupyter.widget-view+json": {
       "model_id": "79a25fa57ea54cc7b86d0da73660a9c8",
       "version_major": 2,
       "version_minor": 0
      },
      "text/plain": [
       "  0%|          | 0/212 [00:00<?, ?it/s]"
      ]
     },
     "metadata": {},
     "output_type": "display_data"
    },
    {
     "name": "stdout",
     "output_type": "stream",
     "text": [
      "* Average Loss @1: 0.3494\n",
      "Best performing model so far average validation loss: 0.3494 on epoch 1\n",
      "\n",
      "Best Training Loss @1: 0.3494\n",
      "Run finished, view it on the SigOpt dashboard at https://app.sigopt.com/run/446942\n",
      "Run started, view it on the SigOpt dashboard at https://app.sigopt.com/run/447115\n",
      "Params :  {'learning_rate': 0.0035227565620396836, 'batch_size': '64', 'reg': 0.5}\n"
     ]
    },
    {
     "data": {
      "application/vnd.jupyter.widget-view+json": {
       "model_id": "6e8f9df6315449269f4c4fb9bbba8cc2",
       "version_major": 2,
       "version_minor": 0
      },
      "text/plain": [
       "  0%|          | 0/423 [00:00<?, ?it/s]"
      ]
     },
     "metadata": {},
     "output_type": "display_data"
    },
    {
     "name": "stdout",
     "output_type": "stream",
     "text": [
      "Average training loss this epoch: 0.0771\n"
     ]
    },
    {
     "data": {
      "application/vnd.jupyter.widget-view+json": {
       "model_id": "afa75e8064d1485888e4c85d8cf8afe3",
       "version_major": 2,
       "version_minor": 0
      },
      "text/plain": [
       "  0%|          | 0/106 [00:00<?, ?it/s]"
      ]
     },
     "metadata": {},
     "output_type": "display_data"
    },
    {
     "name": "stdout",
     "output_type": "stream",
     "text": [
      "* Average Loss @1: 0.0707\n",
      "Best performing model so far average validation loss: 0.0707 on epoch 0\n",
      "\n"
     ]
    },
    {
     "data": {
      "application/vnd.jupyter.widget-view+json": {
       "model_id": "ecd7df2a2acf4dfab467f2178fc1ca03",
       "version_major": 2,
       "version_minor": 0
      },
      "text/plain": [
       "  0%|          | 0/423 [00:00<?, ?it/s]"
      ]
     },
     "metadata": {},
     "output_type": "display_data"
    },
    {
     "name": "stdout",
     "output_type": "stream",
     "text": [
      "Average training loss this epoch: 0.0746\n"
     ]
    },
    {
     "data": {
      "application/vnd.jupyter.widget-view+json": {
       "model_id": "275de60ada874b24a79e23849496f775",
       "version_major": 2,
       "version_minor": 0
      },
      "text/plain": [
       "  0%|          | 0/106 [00:00<?, ?it/s]"
      ]
     },
     "metadata": {},
     "output_type": "display_data"
    },
    {
     "name": "stdout",
     "output_type": "stream",
     "text": [
      "* Average Loss @1: 0.0705\n",
      "Best performing model so far average validation loss: 0.0705 on epoch 1\n",
      "\n"
     ]
    },
    {
     "data": {
      "application/vnd.jupyter.widget-view+json": {
       "model_id": "f7a711d9240246e19ab10ed6e533def0",
       "version_major": 2,
       "version_minor": 0
      },
      "text/plain": [
       "  0%|          | 0/423 [00:00<?, ?it/s]"
      ]
     },
     "metadata": {},
     "output_type": "display_data"
    },
    {
     "name": "stdout",
     "output_type": "stream",
     "text": [
      "Average training loss this epoch: 0.0746\n"
     ]
    },
    {
     "data": {
      "application/vnd.jupyter.widget-view+json": {
       "model_id": "3bbd33d83adf4aeaac962dfa0d668a3f",
       "version_major": 2,
       "version_minor": 0
      },
      "text/plain": [
       "  0%|          | 0/106 [00:00<?, ?it/s]"
      ]
     },
     "metadata": {},
     "output_type": "display_data"
    },
    {
     "name": "stdout",
     "output_type": "stream",
     "text": [
      "* Average Loss @1: 0.0706\n",
      "Best performing model so far average validation loss: 0.0705 on epoch 1\n",
      "\n"
     ]
    },
    {
     "data": {
      "application/vnd.jupyter.widget-view+json": {
       "model_id": "77cfdc790a0d4dda9c0f9b149c8254a8",
       "version_major": 2,
       "version_minor": 0
      },
      "text/plain": [
       "  0%|          | 0/423 [00:00<?, ?it/s]"
      ]
     },
     "metadata": {},
     "output_type": "display_data"
    },
    {
     "name": "stdout",
     "output_type": "stream",
     "text": [
      "Average training loss this epoch: 0.0746\n"
     ]
    },
    {
     "data": {
      "application/vnd.jupyter.widget-view+json": {
       "model_id": "6cba4f5114de4898b441ce90235ad863",
       "version_major": 2,
       "version_minor": 0
      },
      "text/plain": [
       "  0%|          | 0/106 [00:00<?, ?it/s]"
      ]
     },
     "metadata": {},
     "output_type": "display_data"
    },
    {
     "name": "stdout",
     "output_type": "stream",
     "text": [
      "* Average Loss @1: 0.0705\n",
      "Best performing model so far average validation loss: 0.0705 on epoch 3\n",
      "\n"
     ]
    },
    {
     "data": {
      "application/vnd.jupyter.widget-view+json": {
       "model_id": "228cb2638cdf4b40b4b0dee301fe0223",
       "version_major": 2,
       "version_minor": 0
      },
      "text/plain": [
       "  0%|          | 0/423 [00:00<?, ?it/s]"
      ]
     },
     "metadata": {},
     "output_type": "display_data"
    },
    {
     "name": "stdout",
     "output_type": "stream",
     "text": [
      "Average training loss this epoch: 0.0745\n"
     ]
    },
    {
     "data": {
      "application/vnd.jupyter.widget-view+json": {
       "model_id": "f0a5218b7a8d4511bd44545c3425ce94",
       "version_major": 2,
       "version_minor": 0
      },
      "text/plain": [
       "  0%|          | 0/106 [00:00<?, ?it/s]"
      ]
     },
     "metadata": {},
     "output_type": "display_data"
    },
    {
     "name": "stdout",
     "output_type": "stream",
     "text": [
      "* Average Loss @1: 0.0705\n",
      "Best performing model so far average validation loss: 0.0705 on epoch 3\n",
      "\n",
      "Best Training Loss @1: 0.0705\n",
      "Run finished, view it on the SigOpt dashboard at https://app.sigopt.com/run/447115\n",
      "Run started, view it on the SigOpt dashboard at https://app.sigopt.com/run/447293\n",
      "Params :  {'reg': 0.00391369506452751, 'batch_size': '64', 'learning_rate': 0.0002474048690739496}\n"
     ]
    },
    {
     "data": {
      "application/vnd.jupyter.widget-view+json": {
       "model_id": "8b797db8120b4d5d8837a778e4e79de0",
       "version_major": 2,
       "version_minor": 0
      },
      "text/plain": [
       "  0%|          | 0/423 [00:00<?, ?it/s]"
      ]
     },
     "metadata": {},
     "output_type": "display_data"
    },
    {
     "name": "stdout",
     "output_type": "stream",
     "text": [
      "Average training loss this epoch: 0.0556\n"
     ]
    },
    {
     "data": {
      "application/vnd.jupyter.widget-view+json": {
       "model_id": "eefa9e1531a74a61a1bc5bae9cd7cea1",
       "version_major": 2,
       "version_minor": 0
      },
      "text/plain": [
       "  0%|          | 0/106 [00:00<?, ?it/s]"
      ]
     },
     "metadata": {},
     "output_type": "display_data"
    },
    {
     "name": "stdout",
     "output_type": "stream",
     "text": [
      "* Average Loss @1: 0.1100\n",
      "Best performing model so far average validation loss: 0.1100 on epoch 0\n",
      "\n"
     ]
    },
    {
     "data": {
      "application/vnd.jupyter.widget-view+json": {
       "model_id": "dc03d66060bd41178c1ea9378d9d176a",
       "version_major": 2,
       "version_minor": 0
      },
      "text/plain": [
       "  0%|          | 0/423 [00:00<?, ?it/s]"
      ]
     },
     "metadata": {},
     "output_type": "display_data"
    },
    {
     "name": "stdout",
     "output_type": "stream",
     "text": [
      "Average training loss this epoch: 0.0443\n"
     ]
    },
    {
     "data": {
      "application/vnd.jupyter.widget-view+json": {
       "model_id": "f3db11d90fd54d07b0eb7d3ec9a5cd81",
       "version_major": 2,
       "version_minor": 0
      },
      "text/plain": [
       "  0%|          | 0/106 [00:00<?, ?it/s]"
      ]
     },
     "metadata": {},
     "output_type": "display_data"
    },
    {
     "name": "stdout",
     "output_type": "stream",
     "text": [
      "* Average Loss @1: 0.1067\n",
      "Best performing model so far average validation loss: 0.1067 on epoch 1\n",
      "\n"
     ]
    },
    {
     "data": {
      "application/vnd.jupyter.widget-view+json": {
       "model_id": "275d95899eb14be780994bca74535811",
       "version_major": 2,
       "version_minor": 0
      },
      "text/plain": [
       "  0%|          | 0/423 [00:00<?, ?it/s]"
      ]
     },
     "metadata": {},
     "output_type": "display_data"
    },
    {
     "name": "stdout",
     "output_type": "stream",
     "text": [
      "Average training loss this epoch: 0.0336\n"
     ]
    },
    {
     "data": {
      "application/vnd.jupyter.widget-view+json": {
       "model_id": "7a82a3b130664b509b03a209abcb6c82",
       "version_major": 2,
       "version_minor": 0
      },
      "text/plain": [
       "  0%|          | 0/106 [00:00<?, ?it/s]"
      ]
     },
     "metadata": {},
     "output_type": "display_data"
    },
    {
     "name": "stdout",
     "output_type": "stream",
     "text": [
      "* Average Loss @1: 0.1261\n",
      "Best performing model so far average validation loss: 0.1067 on epoch 1\n",
      "\n"
     ]
    },
    {
     "data": {
      "application/vnd.jupyter.widget-view+json": {
       "model_id": "818897cb5c0e424fbd4ab5b5f4afd22e",
       "version_major": 2,
       "version_minor": 0
      },
      "text/plain": [
       "  0%|          | 0/423 [00:00<?, ?it/s]"
      ]
     },
     "metadata": {},
     "output_type": "display_data"
    },
    {
     "name": "stdout",
     "output_type": "stream",
     "text": [
      "Average training loss this epoch: 0.0276\n"
     ]
    },
    {
     "data": {
      "application/vnd.jupyter.widget-view+json": {
       "model_id": "f260b363daf2422e8e7ef866b17d8ef6",
       "version_major": 2,
       "version_minor": 0
      },
      "text/plain": [
       "  0%|          | 0/106 [00:00<?, ?it/s]"
      ]
     },
     "metadata": {},
     "output_type": "display_data"
    },
    {
     "name": "stdout",
     "output_type": "stream",
     "text": [
      "* Average Loss @1: 0.1141\n",
      "Best performing model so far average validation loss: 0.1067 on epoch 1\n",
      "\n"
     ]
    },
    {
     "data": {
      "application/vnd.jupyter.widget-view+json": {
       "model_id": "7b50b8b5c0b147b28fde4e118d52a82c",
       "version_major": 2,
       "version_minor": 0
      },
      "text/plain": [
       "  0%|          | 0/423 [00:00<?, ?it/s]"
      ]
     },
     "metadata": {},
     "output_type": "display_data"
    },
    {
     "name": "stdout",
     "output_type": "stream",
     "text": [
      "Average training loss this epoch: 0.0241\n"
     ]
    },
    {
     "data": {
      "application/vnd.jupyter.widget-view+json": {
       "model_id": "deaa4d67cf5d4f988e0f14b4023d1635",
       "version_major": 2,
       "version_minor": 0
      },
      "text/plain": [
       "  0%|          | 0/106 [00:00<?, ?it/s]"
      ]
     },
     "metadata": {},
     "output_type": "display_data"
    },
    {
     "name": "stdout",
     "output_type": "stream",
     "text": [
      "* Average Loss @1: 0.1207\n",
      "Best performing model so far average validation loss: 0.1067 on epoch 1\n",
      "\n",
      "Best Training Loss @1: 0.1067\n",
      "Run finished, view it on the SigOpt dashboard at https://app.sigopt.com/run/447293\n",
      "Run started, view it on the SigOpt dashboard at https://app.sigopt.com/run/447471\n",
      "Params :  {'reg': 0.5, 'batch_size': '32', 'learning_rate': 0.0001}\n"
     ]
    },
    {
     "data": {
      "application/vnd.jupyter.widget-view+json": {
       "model_id": "ba3206959ce347e4b5e40cbbcefec4e8",
       "version_major": 2,
       "version_minor": 0
      },
      "text/plain": [
       "  0%|          | 0/846 [00:00<?, ?it/s]"
      ]
     },
     "metadata": {},
     "output_type": "display_data"
    },
    {
     "name": "stdout",
     "output_type": "stream",
     "text": [
      "Average training loss this epoch: 0.0928\n"
     ]
    },
    {
     "data": {
      "application/vnd.jupyter.widget-view+json": {
       "model_id": "b845f816ada6478cbf870eb0f68e240b",
       "version_major": 2,
       "version_minor": 0
      },
      "text/plain": [
       "  0%|          | 0/212 [00:00<?, ?it/s]"
      ]
     },
     "metadata": {},
     "output_type": "display_data"
    },
    {
     "name": "stdout",
     "output_type": "stream",
     "text": [
      "* Average Loss @1: 0.0953\n",
      "Best performing model so far average validation loss: 0.0953 on epoch 0\n",
      "\n"
     ]
    },
    {
     "data": {
      "application/vnd.jupyter.widget-view+json": {
       "model_id": "675e7cccbceb4ed79822820eb4e067ff",
       "version_major": 2,
       "version_minor": 0
      },
      "text/plain": [
       "  0%|          | 0/846 [00:00<?, ?it/s]"
      ]
     },
     "metadata": {},
     "output_type": "display_data"
    },
    {
     "name": "stdout",
     "output_type": "stream",
     "text": [
      "Average training loss this epoch: 0.0898\n"
     ]
    },
    {
     "data": {
      "application/vnd.jupyter.widget-view+json": {
       "model_id": "fbe6b63fcc1441b2bd89d97bee2a4f0d",
       "version_major": 2,
       "version_minor": 0
      },
      "text/plain": [
       "  0%|          | 0/212 [00:00<?, ?it/s]"
      ]
     },
     "metadata": {},
     "output_type": "display_data"
    },
    {
     "name": "stdout",
     "output_type": "stream",
     "text": [
      "* Average Loss @1: 0.0860\n",
      "Best performing model so far average validation loss: 0.0860 on epoch 1\n",
      "\n"
     ]
    },
    {
     "data": {
      "application/vnd.jupyter.widget-view+json": {
       "model_id": "facfe1d5b03844f39d277f889dfcfa30",
       "version_major": 2,
       "version_minor": 0
      },
      "text/plain": [
       "  0%|          | 0/846 [00:00<?, ?it/s]"
      ]
     },
     "metadata": {},
     "output_type": "display_data"
    },
    {
     "name": "stdout",
     "output_type": "stream",
     "text": [
      "Average training loss this epoch: 0.0821\n"
     ]
    },
    {
     "data": {
      "application/vnd.jupyter.widget-view+json": {
       "model_id": "e19b94d368f5460dbf31e1617e87d751",
       "version_major": 2,
       "version_minor": 0
      },
      "text/plain": [
       "  0%|          | 0/212 [00:00<?, ?it/s]"
      ]
     },
     "metadata": {},
     "output_type": "display_data"
    },
    {
     "name": "stdout",
     "output_type": "stream",
     "text": [
      "* Average Loss @1: 0.0795\n",
      "Best performing model so far average validation loss: 0.0795 on epoch 2\n",
      "\n"
     ]
    },
    {
     "data": {
      "application/vnd.jupyter.widget-view+json": {
       "model_id": "f51c8bed1ee64dd286335a27da5d6776",
       "version_major": 2,
       "version_minor": 0
      },
      "text/plain": [
       "  0%|          | 0/846 [00:00<?, ?it/s]"
      ]
     },
     "metadata": {},
     "output_type": "display_data"
    },
    {
     "name": "stdout",
     "output_type": "stream",
     "text": [
      "Average training loss this epoch: 0.0768\n"
     ]
    },
    {
     "data": {
      "application/vnd.jupyter.widget-view+json": {
       "model_id": "4427e5ca14774947a54634ddf012aed5",
       "version_major": 2,
       "version_minor": 0
      },
      "text/plain": [
       "  0%|          | 0/212 [00:00<?, ?it/s]"
      ]
     },
     "metadata": {},
     "output_type": "display_data"
    },
    {
     "name": "stdout",
     "output_type": "stream",
     "text": [
      "* Average Loss @1: 0.0755\n",
      "Best performing model so far average validation loss: 0.0755 on epoch 3\n",
      "\n"
     ]
    },
    {
     "data": {
      "application/vnd.jupyter.widget-view+json": {
       "model_id": "734e24dc81f94d8abcfe9bacacdc29ba",
       "version_major": 2,
       "version_minor": 0
      },
      "text/plain": [
       "  0%|          | 0/846 [00:00<?, ?it/s]"
      ]
     },
     "metadata": {},
     "output_type": "display_data"
    },
    {
     "name": "stdout",
     "output_type": "stream",
     "text": [
      "Average training loss this epoch: 0.0743\n"
     ]
    },
    {
     "data": {
      "application/vnd.jupyter.widget-view+json": {
       "model_id": "da58e6b80ddd427b83f20581b7c64655",
       "version_major": 2,
       "version_minor": 0
      },
      "text/plain": [
       "  0%|          | 0/212 [00:00<?, ?it/s]"
      ]
     },
     "metadata": {},
     "output_type": "display_data"
    },
    {
     "name": "stdout",
     "output_type": "stream",
     "text": [
      "* Average Loss @1: 0.0743\n",
      "Best performing model so far average validation loss: 0.0743 on epoch 4\n",
      "\n",
      "Best Training Loss @1: 0.0743\n",
      "Run finished, view it on the SigOpt dashboard at https://app.sigopt.com/run/447471\n",
      "Run started, view it on the SigOpt dashboard at https://app.sigopt.com/run/447644\n",
      "Params :  {'learning_rate': 0.019695512462225936, 'reg': 0.0001, 'batch_size': '32'}\n"
     ]
    },
    {
     "data": {
      "application/vnd.jupyter.widget-view+json": {
       "model_id": "b42a6118e4fe42559e688e1c66f86f99",
       "version_major": 2,
       "version_minor": 0
      },
      "text/plain": [
       "  0%|          | 0/846 [00:00<?, ?it/s]"
      ]
     },
     "metadata": {},
     "output_type": "display_data"
    },
    {
     "name": "stdout",
     "output_type": "stream",
     "text": [
      "Average training loss this epoch: nan\n"
     ]
    },
    {
     "data": {
      "application/vnd.jupyter.widget-view+json": {
       "model_id": "f72387aa93e3467182644df03491af61",
       "version_major": 2,
       "version_minor": 0
      },
      "text/plain": [
       "  0%|          | 0/212 [00:00<?, ?it/s]"
      ]
     },
     "metadata": {},
     "output_type": "display_data"
    },
    {
     "name": "stdout",
     "output_type": "stream",
     "text": [
      "* Average Loss @1: 217930711.4941\n",
      "Best performing model so far average validation loss: 217930711.4941 on epoch 0\n",
      "\n"
     ]
    },
    {
     "data": {
      "application/vnd.jupyter.widget-view+json": {
       "model_id": "5eeca1274e2f42618059bd0829297dc8",
       "version_major": 2,
       "version_minor": 0
      },
      "text/plain": [
       "  0%|          | 0/846 [00:00<?, ?it/s]"
      ]
     },
     "metadata": {},
     "output_type": "display_data"
    },
    {
     "name": "stdout",
     "output_type": "stream",
     "text": [
      "Average training loss this epoch: nan\n"
     ]
    },
    {
     "data": {
      "application/vnd.jupyter.widget-view+json": {
       "model_id": "e167741cc94643839e3cdf19f8b3e9e2",
       "version_major": 2,
       "version_minor": 0
      },
      "text/plain": [
       "  0%|          | 0/212 [00:00<?, ?it/s]"
      ]
     },
     "metadata": {},
     "output_type": "display_data"
    },
    {
     "name": "stdout",
     "output_type": "stream",
     "text": [
      "* Average Loss @1: 217881524.9862\n",
      "Best performing model so far average validation loss: 217881524.9862 on epoch 1\n",
      "\n"
     ]
    },
    {
     "data": {
      "application/vnd.jupyter.widget-view+json": {
       "model_id": "0f6060ac98e24ce7a73551406252faba",
       "version_major": 2,
       "version_minor": 0
      },
      "text/plain": [
       "  0%|          | 0/846 [00:00<?, ?it/s]"
      ]
     },
     "metadata": {},
     "output_type": "display_data"
    },
    {
     "name": "stdout",
     "output_type": "stream",
     "text": [
      "Average training loss this epoch: nan\n"
     ]
    },
    {
     "data": {
      "application/vnd.jupyter.widget-view+json": {
       "model_id": "47f2aa5db3cc47f194f71812022ea70c",
       "version_major": 2,
       "version_minor": 0
      },
      "text/plain": [
       "  0%|          | 0/212 [00:00<?, ?it/s]"
      ]
     },
     "metadata": {},
     "output_type": "display_data"
    },
    {
     "name": "stdout",
     "output_type": "stream",
     "text": [
      "* Average Loss @1: 217837954.1920\n",
      "Best performing model so far average validation loss: 217837954.1920 on epoch 2\n",
      "\n"
     ]
    },
    {
     "data": {
      "application/vnd.jupyter.widget-view+json": {
       "model_id": "4b31028a1d624cd1afe2b7a6ca7b8fcd",
       "version_major": 2,
       "version_minor": 0
      },
      "text/plain": [
       "  0%|          | 0/846 [00:00<?, ?it/s]"
      ]
     },
     "metadata": {},
     "output_type": "display_data"
    },
    {
     "name": "stdout",
     "output_type": "stream",
     "text": [
      "Average training loss this epoch: nan\n"
     ]
    },
    {
     "data": {
      "application/vnd.jupyter.widget-view+json": {
       "model_id": "0fe7a093ad8d445abf3c61cd2e4b9031",
       "version_major": 2,
       "version_minor": 0
      },
      "text/plain": [
       "  0%|          | 0/212 [00:00<?, ?it/s]"
      ]
     },
     "metadata": {},
     "output_type": "display_data"
    },
    {
     "name": "stdout",
     "output_type": "stream",
     "text": [
      "* Average Loss @1: 217726525.7700\n",
      "Best performing model so far average validation loss: 217726525.7700 on epoch 3\n",
      "\n"
     ]
    },
    {
     "data": {
      "application/vnd.jupyter.widget-view+json": {
       "model_id": "de92e955ab364ae8b7826045b1b3f51d",
       "version_major": 2,
       "version_minor": 0
      },
      "text/plain": [
       "  0%|          | 0/846 [00:00<?, ?it/s]"
      ]
     },
     "metadata": {},
     "output_type": "display_data"
    },
    {
     "name": "stdout",
     "output_type": "stream",
     "text": [
      "Average training loss this epoch: nan\n"
     ]
    },
    {
     "data": {
      "application/vnd.jupyter.widget-view+json": {
       "model_id": "dc72e99d11894ec49f31a6782e9d26f2",
       "version_major": 2,
       "version_minor": 0
      },
      "text/plain": [
       "  0%|          | 0/212 [00:00<?, ?it/s]"
      ]
     },
     "metadata": {},
     "output_type": "display_data"
    },
    {
     "name": "stdout",
     "output_type": "stream",
     "text": [
      "* Average Loss @1: 217757695.3290\n",
      "Best performing model so far average validation loss: 217726525.7700 on epoch 3\n",
      "\n",
      "Best Training Loss @1: 217726525.7700\n",
      "Run finished, view it on the SigOpt dashboard at https://app.sigopt.com/run/447644\n",
      "Run started, view it on the SigOpt dashboard at https://app.sigopt.com/run/447780\n",
      "Params :  {'batch_size': '64', 'reg': 0.0001, 'learning_rate': 0.0014993386242399586}\n"
     ]
    },
    {
     "data": {
      "application/vnd.jupyter.widget-view+json": {
       "model_id": "dcabbc2a36a742fdb4849a43c72c1261",
       "version_major": 2,
       "version_minor": 0
      },
      "text/plain": [
       "  0%|          | 0/423 [00:00<?, ?it/s]"
      ]
     },
     "metadata": {},
     "output_type": "display_data"
    },
    {
     "name": "stdout",
     "output_type": "stream",
     "text": [
      "Average training loss this epoch: 0.0810\n"
     ]
    },
    {
     "data": {
      "application/vnd.jupyter.widget-view+json": {
       "model_id": "5e75f2700aa34b52b49b1795be252de2",
       "version_major": 2,
       "version_minor": 0
      },
      "text/plain": [
       "  0%|          | 0/106 [00:00<?, ?it/s]"
      ]
     },
     "metadata": {},
     "output_type": "display_data"
    },
    {
     "name": "stdout",
     "output_type": "stream",
     "text": [
      "* Average Loss @1: 0.0781\n",
      "Best performing model so far average validation loss: 0.0781 on epoch 0\n",
      "\n"
     ]
    },
    {
     "data": {
      "application/vnd.jupyter.widget-view+json": {
       "model_id": "37c75860cec84e18ad7fa4220d921a4a",
       "version_major": 2,
       "version_minor": 0
      },
      "text/plain": [
       "  0%|          | 0/423 [00:00<?, ?it/s]"
      ]
     },
     "metadata": {},
     "output_type": "display_data"
    },
    {
     "name": "stdout",
     "output_type": "stream",
     "text": [
      "Average training loss this epoch: 0.0728\n"
     ]
    },
    {
     "data": {
      "application/vnd.jupyter.widget-view+json": {
       "model_id": "da4ec292b3154eb9a76419d2b5fcb44d",
       "version_major": 2,
       "version_minor": 0
      },
      "text/plain": [
       "  0%|          | 0/106 [00:00<?, ?it/s]"
      ]
     },
     "metadata": {},
     "output_type": "display_data"
    },
    {
     "name": "stdout",
     "output_type": "stream",
     "text": [
      "* Average Loss @1: 0.0780\n",
      "Best performing model so far average validation loss: 0.0780 on epoch 1\n",
      "\n"
     ]
    },
    {
     "data": {
      "application/vnd.jupyter.widget-view+json": {
       "model_id": "f552533ac2cd436abfea7cbf9207aad1",
       "version_major": 2,
       "version_minor": 0
      },
      "text/plain": [
       "  0%|          | 0/423 [00:00<?, ?it/s]"
      ]
     },
     "metadata": {},
     "output_type": "display_data"
    },
    {
     "name": "stdout",
     "output_type": "stream",
     "text": [
      "Average training loss this epoch: 0.0718\n"
     ]
    },
    {
     "data": {
      "application/vnd.jupyter.widget-view+json": {
       "model_id": "fcd5c7d10de14572a3e5d5d098df7e90",
       "version_major": 2,
       "version_minor": 0
      },
      "text/plain": [
       "  0%|          | 0/106 [00:00<?, ?it/s]"
      ]
     },
     "metadata": {},
     "output_type": "display_data"
    },
    {
     "name": "stdout",
     "output_type": "stream",
     "text": [
      "* Average Loss @1: 0.0880\n",
      "Best performing model so far average validation loss: 0.0780 on epoch 1\n",
      "\n"
     ]
    },
    {
     "data": {
      "application/vnd.jupyter.widget-view+json": {
       "model_id": "f0bbd51df2c8447cb4fa15f8c8d1fa7b",
       "version_major": 2,
       "version_minor": 0
      },
      "text/plain": [
       "  0%|          | 0/423 [00:00<?, ?it/s]"
      ]
     },
     "metadata": {},
     "output_type": "display_data"
    },
    {
     "name": "stdout",
     "output_type": "stream",
     "text": [
      "Average training loss this epoch: 0.0553\n"
     ]
    },
    {
     "data": {
      "application/vnd.jupyter.widget-view+json": {
       "model_id": "de889bf26b1b4094854bfb3a73091b68",
       "version_major": 2,
       "version_minor": 0
      },
      "text/plain": [
       "  0%|          | 0/106 [00:00<?, ?it/s]"
      ]
     },
     "metadata": {},
     "output_type": "display_data"
    },
    {
     "name": "stdout",
     "output_type": "stream",
     "text": [
      "* Average Loss @1: 0.0966\n",
      "Best performing model so far average validation loss: 0.0780 on epoch 1\n",
      "\n"
     ]
    },
    {
     "data": {
      "application/vnd.jupyter.widget-view+json": {
       "model_id": "7af95ee74a4c4210923c618d07643652",
       "version_major": 2,
       "version_minor": 0
      },
      "text/plain": [
       "  0%|          | 0/423 [00:00<?, ?it/s]"
      ]
     },
     "metadata": {},
     "output_type": "display_data"
    },
    {
     "name": "stdout",
     "output_type": "stream",
     "text": [
      "Average training loss this epoch: 0.0441\n"
     ]
    },
    {
     "data": {
      "application/vnd.jupyter.widget-view+json": {
       "model_id": "b02872fdc9614f3a8889fcd007b8cedd",
       "version_major": 2,
       "version_minor": 0
      },
      "text/plain": [
       "  0%|          | 0/106 [00:00<?, ?it/s]"
      ]
     },
     "metadata": {},
     "output_type": "display_data"
    },
    {
     "name": "stdout",
     "output_type": "stream",
     "text": [
      "* Average Loss @1: 0.1121\n",
      "Best performing model so far average validation loss: 0.0780 on epoch 1\n",
      "\n",
      "Best Training Loss @1: 0.0780\n",
      "Run finished, view it on the SigOpt dashboard at https://app.sigopt.com/run/447780\n",
      "Run started, view it on the SigOpt dashboard at https://app.sigopt.com/run/447952\n",
      "Params :  {'batch_size': '32', 'learning_rate': 0.003080041338447943, 'reg': 0.0001}\n"
     ]
    },
    {
     "data": {
      "application/vnd.jupyter.widget-view+json": {
       "model_id": "a20a044982254696a496de6f9f34bab5",
       "version_major": 2,
       "version_minor": 0
      },
      "text/plain": [
       "  0%|          | 0/846 [00:00<?, ?it/s]"
      ]
     },
     "metadata": {},
     "output_type": "display_data"
    },
    {
     "name": "stdout",
     "output_type": "stream",
     "text": [
      "Average training loss this epoch: 0.2540\n"
     ]
    },
    {
     "data": {
      "application/vnd.jupyter.widget-view+json": {
       "model_id": "a82e1b5519944606b00746449dccc429",
       "version_major": 2,
       "version_minor": 0
      },
      "text/plain": [
       "  0%|          | 0/212 [00:00<?, ?it/s]"
      ]
     },
     "metadata": {},
     "output_type": "display_data"
    },
    {
     "name": "stdout",
     "output_type": "stream",
     "text": [
      "* Average Loss @1: 0.0737\n",
      "Best performing model so far average validation loss: 0.0737 on epoch 0\n",
      "\n"
     ]
    },
    {
     "data": {
      "application/vnd.jupyter.widget-view+json": {
       "model_id": "a38b8e67773b408c9a03008725998bab",
       "version_major": 2,
       "version_minor": 0
      },
      "text/plain": [
       "  0%|          | 0/846 [00:00<?, ?it/s]"
      ]
     },
     "metadata": {},
     "output_type": "display_data"
    },
    {
     "name": "stdout",
     "output_type": "stream",
     "text": [
      "Average training loss this epoch: 0.0738\n"
     ]
    },
    {
     "data": {
      "application/vnd.jupyter.widget-view+json": {
       "model_id": "4d26f3db7f0d404a8fec8fdacd44b709",
       "version_major": 2,
       "version_minor": 0
      },
      "text/plain": [
       "  0%|          | 0/212 [00:00<?, ?it/s]"
      ]
     },
     "metadata": {},
     "output_type": "display_data"
    },
    {
     "name": "stdout",
     "output_type": "stream",
     "text": [
      "* Average Loss @1: 0.0737\n",
      "Best performing model so far average validation loss: 0.0737 on epoch 1\n",
      "\n"
     ]
    },
    {
     "data": {
      "application/vnd.jupyter.widget-view+json": {
       "model_id": "8de75a32fbee4587bf1438686ec17486",
       "version_major": 2,
       "version_minor": 0
      },
      "text/plain": [
       "  0%|          | 0/846 [00:00<?, ?it/s]"
      ]
     },
     "metadata": {},
     "output_type": "display_data"
    },
    {
     "name": "stdout",
     "output_type": "stream",
     "text": [
      "Average training loss this epoch: 0.0739\n"
     ]
    },
    {
     "data": {
      "application/vnd.jupyter.widget-view+json": {
       "model_id": "3797641e6383490f87827c6997b971da",
       "version_major": 2,
       "version_minor": 0
      },
      "text/plain": [
       "  0%|          | 0/212 [00:00<?, ?it/s]"
      ]
     },
     "metadata": {},
     "output_type": "display_data"
    },
    {
     "name": "stdout",
     "output_type": "stream",
     "text": [
      "* Average Loss @1: 0.0740\n",
      "Best performing model so far average validation loss: 0.0737 on epoch 1\n",
      "\n"
     ]
    },
    {
     "data": {
      "application/vnd.jupyter.widget-view+json": {
       "model_id": "64beb81f4dfa4bca8a879f53ea0a5192",
       "version_major": 2,
       "version_minor": 0
      },
      "text/plain": [
       "  0%|          | 0/846 [00:00<?, ?it/s]"
      ]
     },
     "metadata": {},
     "output_type": "display_data"
    },
    {
     "name": "stdout",
     "output_type": "stream",
     "text": [
      "Average training loss this epoch: 0.0739\n"
     ]
    },
    {
     "data": {
      "application/vnd.jupyter.widget-view+json": {
       "model_id": "17d9a497d6e0460284fe766430789cbd",
       "version_major": 2,
       "version_minor": 0
      },
      "text/plain": [
       "  0%|          | 0/212 [00:00<?, ?it/s]"
      ]
     },
     "metadata": {},
     "output_type": "display_data"
    },
    {
     "name": "stdout",
     "output_type": "stream",
     "text": [
      "* Average Loss @1: 0.0740\n",
      "Best performing model so far average validation loss: 0.0737 on epoch 1\n",
      "\n"
     ]
    },
    {
     "data": {
      "application/vnd.jupyter.widget-view+json": {
       "model_id": "f77e254c9719470aa3ee128cfb019570",
       "version_major": 2,
       "version_minor": 0
      },
      "text/plain": [
       "  0%|          | 0/846 [00:00<?, ?it/s]"
      ]
     },
     "metadata": {},
     "output_type": "display_data"
    },
    {
     "name": "stdout",
     "output_type": "stream",
     "text": [
      "Average training loss this epoch: 0.0740\n"
     ]
    },
    {
     "data": {
      "application/vnd.jupyter.widget-view+json": {
       "model_id": "c012ecd1b08d4e0982902e2ceae405ee",
       "version_major": 2,
       "version_minor": 0
      },
      "text/plain": [
       "  0%|          | 0/212 [00:00<?, ?it/s]"
      ]
     },
     "metadata": {},
     "output_type": "display_data"
    },
    {
     "name": "stdout",
     "output_type": "stream",
     "text": [
      "* Average Loss @1: 0.0738\n",
      "Best performing model so far average validation loss: 0.0737 on epoch 1\n",
      "\n",
      "Best Training Loss @1: 0.0737\n",
      "Run finished, view it on the SigOpt dashboard at https://app.sigopt.com/run/447952\n",
      "Run started, view it on the SigOpt dashboard at https://app.sigopt.com/run/448157\n",
      "Params :  {'reg': 0.004280725436972789, 'learning_rate': 0.001528219754039935, 'batch_size': '32'}\n"
     ]
    },
    {
     "data": {
      "application/vnd.jupyter.widget-view+json": {
       "model_id": "90f5610ffae84ee6824cf3bbf71d84c4",
       "version_major": 2,
       "version_minor": 0
      },
      "text/plain": [
       "  0%|          | 0/846 [00:00<?, ?it/s]"
      ]
     },
     "metadata": {},
     "output_type": "display_data"
    },
    {
     "name": "stdout",
     "output_type": "stream",
     "text": [
      "Average training loss this epoch: 0.0685\n"
     ]
    },
    {
     "data": {
      "application/vnd.jupyter.widget-view+json": {
       "model_id": "8756bd8c486848d3a551ee401460a063",
       "version_major": 2,
       "version_minor": 0
      },
      "text/plain": [
       "  0%|          | 0/212 [00:00<?, ?it/s]"
      ]
     },
     "metadata": {},
     "output_type": "display_data"
    },
    {
     "name": "stdout",
     "output_type": "stream",
     "text": [
      "* Average Loss @1: 0.0916\n",
      "Best performing model so far average validation loss: 0.0916 on epoch 0\n",
      "\n"
     ]
    },
    {
     "data": {
      "application/vnd.jupyter.widget-view+json": {
       "model_id": "737dcf195f2b493c9baca6afbd8983c9",
       "version_major": 2,
       "version_minor": 0
      },
      "text/plain": [
       "  0%|          | 0/846 [00:00<?, ?it/s]"
      ]
     },
     "metadata": {},
     "output_type": "display_data"
    },
    {
     "name": "stdout",
     "output_type": "stream",
     "text": [
      "Average training loss this epoch: 0.0554\n"
     ]
    },
    {
     "data": {
      "application/vnd.jupyter.widget-view+json": {
       "model_id": "6bb7146e360844c8aadd0eef01ac2925",
       "version_major": 2,
       "version_minor": 0
      },
      "text/plain": [
       "  0%|          | 0/212 [00:00<?, ?it/s]"
      ]
     },
     "metadata": {},
     "output_type": "display_data"
    },
    {
     "name": "stdout",
     "output_type": "stream",
     "text": [
      "* Average Loss @1: 0.0849\n",
      "Best performing model so far average validation loss: 0.0849 on epoch 1\n",
      "\n"
     ]
    },
    {
     "data": {
      "application/vnd.jupyter.widget-view+json": {
       "model_id": "2d83eec7008941db8492cb0d2c62d318",
       "version_major": 2,
       "version_minor": 0
      },
      "text/plain": [
       "  0%|          | 0/846 [00:00<?, ?it/s]"
      ]
     },
     "metadata": {},
     "output_type": "display_data"
    },
    {
     "name": "stdout",
     "output_type": "stream",
     "text": [
      "Average training loss this epoch: 0.0525\n"
     ]
    },
    {
     "data": {
      "application/vnd.jupyter.widget-view+json": {
       "model_id": "61ef56929768440f866f6c38f0834370",
       "version_major": 2,
       "version_minor": 0
      },
      "text/plain": [
       "  0%|          | 0/212 [00:00<?, ?it/s]"
      ]
     },
     "metadata": {},
     "output_type": "display_data"
    },
    {
     "name": "stdout",
     "output_type": "stream",
     "text": [
      "* Average Loss @1: 0.0843\n",
      "Best performing model so far average validation loss: 0.0843 on epoch 2\n",
      "\n"
     ]
    },
    {
     "data": {
      "application/vnd.jupyter.widget-view+json": {
       "model_id": "f9251afc201d47ed96050fbe00a6811e",
       "version_major": 2,
       "version_minor": 0
      },
      "text/plain": [
       "  0%|          | 0/846 [00:00<?, ?it/s]"
      ]
     },
     "metadata": {},
     "output_type": "display_data"
    },
    {
     "name": "stdout",
     "output_type": "stream",
     "text": [
      "Average training loss this epoch: 0.0540\n"
     ]
    },
    {
     "data": {
      "application/vnd.jupyter.widget-view+json": {
       "model_id": "a85fd3601d0d4935b4408c469b76a848",
       "version_major": 2,
       "version_minor": 0
      },
      "text/plain": [
       "  0%|          | 0/212 [00:00<?, ?it/s]"
      ]
     },
     "metadata": {},
     "output_type": "display_data"
    },
    {
     "name": "stdout",
     "output_type": "stream",
     "text": [
      "* Average Loss @1: 0.0776\n",
      "Best performing model so far average validation loss: 0.0776 on epoch 3\n",
      "\n"
     ]
    },
    {
     "data": {
      "application/vnd.jupyter.widget-view+json": {
       "model_id": "ec47440fa2ac4a91b7a10bcfa579fa89",
       "version_major": 2,
       "version_minor": 0
      },
      "text/plain": [
       "  0%|          | 0/846 [00:00<?, ?it/s]"
      ]
     },
     "metadata": {},
     "output_type": "display_data"
    },
    {
     "name": "stdout",
     "output_type": "stream",
     "text": [
      "Average training loss this epoch: 0.0517\n"
     ]
    },
    {
     "data": {
      "application/vnd.jupyter.widget-view+json": {
       "model_id": "542ccfbd92a84aff9074a97bda2a60ad",
       "version_major": 2,
       "version_minor": 0
      },
      "text/plain": [
       "  0%|          | 0/212 [00:00<?, ?it/s]"
      ]
     },
     "metadata": {},
     "output_type": "display_data"
    },
    {
     "name": "stdout",
     "output_type": "stream",
     "text": [
      "* Average Loss @1: 0.0963\n",
      "Best performing model so far average validation loss: 0.0776 on epoch 3\n",
      "\n",
      "Best Training Loss @1: 0.0776\n",
      "Run finished, view it on the SigOpt dashboard at https://app.sigopt.com/run/448157\n",
      "Run started, view it on the SigOpt dashboard at https://app.sigopt.com/run/448377\n",
      "Params :  {'batch_size': '32', 'learning_rate': 0.0001, 'reg': 0.019477546248408372}\n"
     ]
    },
    {
     "data": {
      "application/vnd.jupyter.widget-view+json": {
       "model_id": "eccaba6ea0144bc0ba8d7180c2d710ae",
       "version_major": 2,
       "version_minor": 0
      },
      "text/plain": [
       "  0%|          | 0/846 [00:00<?, ?it/s]"
      ]
     },
     "metadata": {},
     "output_type": "display_data"
    },
    {
     "name": "stdout",
     "output_type": "stream",
     "text": [
      "Average training loss this epoch: 0.0613\n"
     ]
    },
    {
     "data": {
      "application/vnd.jupyter.widget-view+json": {
       "model_id": "e3770e2f33ee4f1081e09bf0ff9c0756",
       "version_major": 2,
       "version_minor": 0
      },
      "text/plain": [
       "  0%|          | 0/212 [00:00<?, ?it/s]"
      ]
     },
     "metadata": {},
     "output_type": "display_data"
    },
    {
     "name": "stdout",
     "output_type": "stream",
     "text": [
      "* Average Loss @1: 0.0826\n",
      "Best performing model so far average validation loss: 0.0826 on epoch 0\n",
      "\n"
     ]
    },
    {
     "data": {
      "application/vnd.jupyter.widget-view+json": {
       "model_id": "5bd1fdf84f8749c58a28109c26bf02bd",
       "version_major": 2,
       "version_minor": 0
      },
      "text/plain": [
       "  0%|          | 0/846 [00:00<?, ?it/s]"
      ]
     },
     "metadata": {},
     "output_type": "display_data"
    },
    {
     "name": "stdout",
     "output_type": "stream",
     "text": [
      "Average training loss this epoch: 0.0567\n"
     ]
    },
    {
     "data": {
      "application/vnd.jupyter.widget-view+json": {
       "model_id": "795b45f7454e4a589c8c4b4ee2a9a3a9",
       "version_major": 2,
       "version_minor": 0
      },
      "text/plain": [
       "  0%|          | 0/212 [00:00<?, ?it/s]"
      ]
     },
     "metadata": {},
     "output_type": "display_data"
    },
    {
     "name": "stdout",
     "output_type": "stream",
     "text": [
      "* Average Loss @1: 0.0897\n",
      "Best performing model so far average validation loss: 0.0826 on epoch 0\n",
      "\n"
     ]
    },
    {
     "data": {
      "application/vnd.jupyter.widget-view+json": {
       "model_id": "73245b995c9d444e9a38b6758a672b0e",
       "version_major": 2,
       "version_minor": 0
      },
      "text/plain": [
       "  0%|          | 0/846 [00:00<?, ?it/s]"
      ]
     },
     "metadata": {},
     "output_type": "display_data"
    },
    {
     "name": "stdout",
     "output_type": "stream",
     "text": [
      "Average training loss this epoch: 0.0549\n"
     ]
    },
    {
     "data": {
      "application/vnd.jupyter.widget-view+json": {
       "model_id": "a53dcedbbb974aba93b1e8d648c853c8",
       "version_major": 2,
       "version_minor": 0
      },
      "text/plain": [
       "  0%|          | 0/212 [00:00<?, ?it/s]"
      ]
     },
     "metadata": {},
     "output_type": "display_data"
    },
    {
     "name": "stdout",
     "output_type": "stream",
     "text": [
      "* Average Loss @1: 0.0930\n",
      "Best performing model so far average validation loss: 0.0826 on epoch 0\n",
      "\n"
     ]
    },
    {
     "data": {
      "application/vnd.jupyter.widget-view+json": {
       "model_id": "681dc905259c43728b9e1c75e1c1b03f",
       "version_major": 2,
       "version_minor": 0
      },
      "text/plain": [
       "  0%|          | 0/846 [00:00<?, ?it/s]"
      ]
     },
     "metadata": {},
     "output_type": "display_data"
    },
    {
     "name": "stdout",
     "output_type": "stream",
     "text": [
      "Average training loss this epoch: 0.0538\n"
     ]
    },
    {
     "data": {
      "application/vnd.jupyter.widget-view+json": {
       "model_id": "cafd3456ba324788ab752af1bffbfb25",
       "version_major": 2,
       "version_minor": 0
      },
      "text/plain": [
       "  0%|          | 0/212 [00:00<?, ?it/s]"
      ]
     },
     "metadata": {},
     "output_type": "display_data"
    },
    {
     "name": "stdout",
     "output_type": "stream",
     "text": [
      "* Average Loss @1: 0.0904\n",
      "Best performing model so far average validation loss: 0.0826 on epoch 0\n",
      "\n"
     ]
    },
    {
     "data": {
      "application/vnd.jupyter.widget-view+json": {
       "model_id": "3c1a17788a464657b2d871d4bbbe5396",
       "version_major": 2,
       "version_minor": 0
      },
      "text/plain": [
       "  0%|          | 0/846 [00:00<?, ?it/s]"
      ]
     },
     "metadata": {},
     "output_type": "display_data"
    },
    {
     "name": "stdout",
     "output_type": "stream",
     "text": [
      "Average training loss this epoch: 0.0527\n"
     ]
    },
    {
     "data": {
      "application/vnd.jupyter.widget-view+json": {
       "model_id": "5dd56d013b834d73a9feb74169e12941",
       "version_major": 2,
       "version_minor": 0
      },
      "text/plain": [
       "  0%|          | 0/212 [00:00<?, ?it/s]"
      ]
     },
     "metadata": {},
     "output_type": "display_data"
    },
    {
     "name": "stdout",
     "output_type": "stream",
     "text": [
      "* Average Loss @1: 0.0907\n",
      "Best performing model so far average validation loss: 0.0826 on epoch 0\n",
      "\n",
      "Best Training Loss @1: 0.0826\n",
      "Run finished, view it on the SigOpt dashboard at https://app.sigopt.com/run/448377\n",
      "Run started, view it on the SigOpt dashboard at https://app.sigopt.com/run/448582\n",
      "Params :  {'reg': 0.027204703957656423, 'batch_size': '64', 'learning_rate': 0.012473186837404643}\n"
     ]
    },
    {
     "data": {
      "application/vnd.jupyter.widget-view+json": {
       "model_id": "b2b0d62481294f1c89a227ee6b0dca5c",
       "version_major": 2,
       "version_minor": 0
      },
      "text/plain": [
       "  0%|          | 0/423 [00:00<?, ?it/s]"
      ]
     },
     "metadata": {},
     "output_type": "display_data"
    },
    {
     "name": "stdout",
     "output_type": "stream",
     "text": [
      "Average training loss this epoch: nan\n"
     ]
    },
    {
     "data": {
      "application/vnd.jupyter.widget-view+json": {
       "model_id": "a5099a7330db47fab66abc5175dacffd",
       "version_major": 2,
       "version_minor": 0
      },
      "text/plain": [
       "  0%|          | 0/106 [00:00<?, ?it/s]"
      ]
     },
     "metadata": {},
     "output_type": "display_data"
    },
    {
     "name": "stdout",
     "output_type": "stream",
     "text": [
      "* Average Loss @1: 24622.0710\n",
      "Best performing model so far average validation loss: 24622.0710 on epoch 0\n",
      "\n"
     ]
    },
    {
     "data": {
      "application/vnd.jupyter.widget-view+json": {
       "model_id": "94a6a31a2ff54f189fed840ce0315f01",
       "version_major": 2,
       "version_minor": 0
      },
      "text/plain": [
       "  0%|          | 0/423 [00:00<?, ?it/s]"
      ]
     },
     "metadata": {},
     "output_type": "display_data"
    },
    {
     "name": "stdout",
     "output_type": "stream",
     "text": [
      "Average training loss this epoch: nan\n"
     ]
    },
    {
     "data": {
      "application/vnd.jupyter.widget-view+json": {
       "model_id": "a2a9cbbe398e4829a8c241e85ddd297f",
       "version_major": 2,
       "version_minor": 0
      },
      "text/plain": [
       "  0%|          | 0/106 [00:00<?, ?it/s]"
      ]
     },
     "metadata": {},
     "output_type": "display_data"
    },
    {
     "name": "stdout",
     "output_type": "stream",
     "text": [
      "* Average Loss @1: 24591.3463\n",
      "Best performing model so far average validation loss: 24591.3463 on epoch 1\n",
      "\n"
     ]
    },
    {
     "data": {
      "application/vnd.jupyter.widget-view+json": {
       "model_id": "1a778b5b71ef4af09e5258af1cee444e",
       "version_major": 2,
       "version_minor": 0
      },
      "text/plain": [
       "  0%|          | 0/423 [00:00<?, ?it/s]"
      ]
     },
     "metadata": {},
     "output_type": "display_data"
    },
    {
     "name": "stdout",
     "output_type": "stream",
     "text": [
      "Average training loss this epoch: nan\n"
     ]
    },
    {
     "data": {
      "application/vnd.jupyter.widget-view+json": {
       "model_id": "dddbcc860fc74ef9982f4ff6f3964c32",
       "version_major": 2,
       "version_minor": 0
      },
      "text/plain": [
       "  0%|          | 0/106 [00:00<?, ?it/s]"
      ]
     },
     "metadata": {},
     "output_type": "display_data"
    },
    {
     "name": "stdout",
     "output_type": "stream",
     "text": [
      "* Average Loss @1: 24597.7143\n",
      "Best performing model so far average validation loss: 24591.3463 on epoch 1\n",
      "\n"
     ]
    },
    {
     "data": {
      "application/vnd.jupyter.widget-view+json": {
       "model_id": "456abea4076046ebbf26c13409c446e2",
       "version_major": 2,
       "version_minor": 0
      },
      "text/plain": [
       "  0%|          | 0/423 [00:00<?, ?it/s]"
      ]
     },
     "metadata": {},
     "output_type": "display_data"
    },
    {
     "name": "stdout",
     "output_type": "stream",
     "text": [
      "Average training loss this epoch: nan\n"
     ]
    },
    {
     "data": {
      "application/vnd.jupyter.widget-view+json": {
       "model_id": "30718255cdcc4c2db8d3b37b63ae303b",
       "version_major": 2,
       "version_minor": 0
      },
      "text/plain": [
       "  0%|          | 0/106 [00:00<?, ?it/s]"
      ]
     },
     "metadata": {},
     "output_type": "display_data"
    },
    {
     "name": "stdout",
     "output_type": "stream",
     "text": [
      "* Average Loss @1: 24563.2854\n",
      "Best performing model so far average validation loss: 24563.2854 on epoch 3\n",
      "\n"
     ]
    },
    {
     "data": {
      "application/vnd.jupyter.widget-view+json": {
       "model_id": "7cff0c3bd08a4bae9bc1183c9bcdc6ee",
       "version_major": 2,
       "version_minor": 0
      },
      "text/plain": [
       "  0%|          | 0/423 [00:00<?, ?it/s]"
      ]
     },
     "metadata": {},
     "output_type": "display_data"
    },
    {
     "name": "stdout",
     "output_type": "stream",
     "text": [
      "Average training loss this epoch: nan\n"
     ]
    },
    {
     "data": {
      "application/vnd.jupyter.widget-view+json": {
       "model_id": "61a2a6c465d3445b8f5b2d84e6c45499",
       "version_major": 2,
       "version_minor": 0
      },
      "text/plain": [
       "  0%|          | 0/106 [00:00<?, ?it/s]"
      ]
     },
     "metadata": {},
     "output_type": "display_data"
    },
    {
     "name": "stdout",
     "output_type": "stream",
     "text": [
      "* Average Loss @1: 24617.5350\n",
      "Best performing model so far average validation loss: 24563.2854 on epoch 3\n",
      "\n",
      "Best Training Loss @1: 24563.2854\n",
      "Run finished, view it on the SigOpt dashboard at https://app.sigopt.com/run/448582\n",
      "Run started, view it on the SigOpt dashboard at https://app.sigopt.com/run/448788\n",
      "Params :  {'learning_rate': 0.0002549502503996142, 'batch_size': '32', 'reg': 0.00016393850349765592}\n"
     ]
    },
    {
     "data": {
      "application/vnd.jupyter.widget-view+json": {
       "model_id": "1ec72785a9244d789d3cda33c016a491",
       "version_major": 2,
       "version_minor": 0
      },
      "text/plain": [
       "  0%|          | 0/846 [00:00<?, ?it/s]"
      ]
     },
     "metadata": {},
     "output_type": "display_data"
    },
    {
     "name": "stdout",
     "output_type": "stream",
     "text": [
      "Average training loss this epoch: 0.0453\n"
     ]
    },
    {
     "data": {
      "application/vnd.jupyter.widget-view+json": {
       "model_id": "fc9f1bfef4ed4edbb1dd41809df5db9b",
       "version_major": 2,
       "version_minor": 0
      },
      "text/plain": [
       "  0%|          | 0/212 [00:00<?, ?it/s]"
      ]
     },
     "metadata": {},
     "output_type": "display_data"
    },
    {
     "name": "stdout",
     "output_type": "stream",
     "text": [
      "* Average Loss @1: 0.1007\n",
      "Best performing model so far average validation loss: 0.1007 on epoch 0\n",
      "\n"
     ]
    },
    {
     "data": {
      "application/vnd.jupyter.widget-view+json": {
       "model_id": "f7af9a88082940f786960373954aab31",
       "version_major": 2,
       "version_minor": 0
      },
      "text/plain": [
       "  0%|          | 0/846 [00:00<?, ?it/s]"
      ]
     },
     "metadata": {},
     "output_type": "display_data"
    },
    {
     "name": "stdout",
     "output_type": "stream",
     "text": [
      "Average training loss this epoch: 0.0224\n"
     ]
    },
    {
     "data": {
      "application/vnd.jupyter.widget-view+json": {
       "model_id": "f95ca697e4174812b7c9d1c893d3f7b6",
       "version_major": 2,
       "version_minor": 0
      },
      "text/plain": [
       "  0%|          | 0/212 [00:00<?, ?it/s]"
      ]
     },
     "metadata": {},
     "output_type": "display_data"
    },
    {
     "name": "stdout",
     "output_type": "stream",
     "text": [
      "* Average Loss @1: 0.1289\n",
      "Best performing model so far average validation loss: 0.1007 on epoch 0\n",
      "\n"
     ]
    },
    {
     "data": {
      "application/vnd.jupyter.widget-view+json": {
       "model_id": "319e79f523a84246bd02368a39f5b0f0",
       "version_major": 2,
       "version_minor": 0
      },
      "text/plain": [
       "  0%|          | 0/846 [00:00<?, ?it/s]"
      ]
     },
     "metadata": {},
     "output_type": "display_data"
    },
    {
     "name": "stdout",
     "output_type": "stream",
     "text": [
      "Average training loss this epoch: 0.0151\n"
     ]
    },
    {
     "data": {
      "application/vnd.jupyter.widget-view+json": {
       "model_id": "bcde274f2679463797cfdce12db261ab",
       "version_major": 2,
       "version_minor": 0
      },
      "text/plain": [
       "  0%|          | 0/212 [00:00<?, ?it/s]"
      ]
     },
     "metadata": {},
     "output_type": "display_data"
    },
    {
     "name": "stdout",
     "output_type": "stream",
     "text": [
      "* Average Loss @1: 0.1320\n",
      "Best performing model so far average validation loss: 0.1007 on epoch 0\n",
      "\n"
     ]
    },
    {
     "data": {
      "application/vnd.jupyter.widget-view+json": {
       "model_id": "65496d0f628348e68ac1e4e6970f29fb",
       "version_major": 2,
       "version_minor": 0
      },
      "text/plain": [
       "  0%|          | 0/846 [00:00<?, ?it/s]"
      ]
     },
     "metadata": {},
     "output_type": "display_data"
    },
    {
     "name": "stdout",
     "output_type": "stream",
     "text": [
      "Average training loss this epoch: 0.0098\n"
     ]
    },
    {
     "data": {
      "application/vnd.jupyter.widget-view+json": {
       "model_id": "e97f19572f8240b69af43ce4879959bb",
       "version_major": 2,
       "version_minor": 0
      },
      "text/plain": [
       "  0%|          | 0/212 [00:00<?, ?it/s]"
      ]
     },
     "metadata": {},
     "output_type": "display_data"
    },
    {
     "name": "stdout",
     "output_type": "stream",
     "text": [
      "* Average Loss @1: 0.1294\n",
      "Best performing model so far average validation loss: 0.1007 on epoch 0\n",
      "\n"
     ]
    },
    {
     "data": {
      "application/vnd.jupyter.widget-view+json": {
       "model_id": "4bd7577e2c604d6d9fb8e0ad8991e95f",
       "version_major": 2,
       "version_minor": 0
      },
      "text/plain": [
       "  0%|          | 0/846 [00:00<?, ?it/s]"
      ]
     },
     "metadata": {},
     "output_type": "display_data"
    },
    {
     "name": "stdout",
     "output_type": "stream",
     "text": [
      "Average training loss this epoch: 0.0079\n"
     ]
    },
    {
     "data": {
      "application/vnd.jupyter.widget-view+json": {
       "model_id": "7e8e32a9a5f34c7bbce0ef022b4453ff",
       "version_major": 2,
       "version_minor": 0
      },
      "text/plain": [
       "  0%|          | 0/212 [00:00<?, ?it/s]"
      ]
     },
     "metadata": {},
     "output_type": "display_data"
    },
    {
     "name": "stdout",
     "output_type": "stream",
     "text": [
      "* Average Loss @1: 0.1308\n",
      "Best performing model so far average validation loss: 0.1007 on epoch 0\n",
      "\n",
      "Best Training Loss @1: 0.1007\n",
      "Run finished, view it on the SigOpt dashboard at https://app.sigopt.com/run/448788\n",
      "Run started, view it on the SigOpt dashboard at https://app.sigopt.com/run/449001\n",
      "Params :  {'reg': 0.03978362716630089, 'learning_rate': 0.0018808754891849926, 'batch_size': '64'}\n"
     ]
    },
    {
     "data": {
      "application/vnd.jupyter.widget-view+json": {
       "model_id": "f290feb0eae849f09f4cb2bd67efbb96",
       "version_major": 2,
       "version_minor": 0
      },
      "text/plain": [
       "  0%|          | 0/423 [00:00<?, ?it/s]"
      ]
     },
     "metadata": {},
     "output_type": "display_data"
    },
    {
     "name": "stdout",
     "output_type": "stream",
     "text": [
      "Average training loss this epoch: 0.0751\n"
     ]
    },
    {
     "data": {
      "application/vnd.jupyter.widget-view+json": {
       "model_id": "6dcd42aa22ec412db394928fc5928e34",
       "version_major": 2,
       "version_minor": 0
      },
      "text/plain": [
       "  0%|          | 0/106 [00:00<?, ?it/s]"
      ]
     },
     "metadata": {},
     "output_type": "display_data"
    },
    {
     "name": "stdout",
     "output_type": "stream",
     "text": [
      "* Average Loss @1: 0.0765\n",
      "Best performing model so far average validation loss: 0.0765 on epoch 0\n",
      "\n"
     ]
    },
    {
     "data": {
      "application/vnd.jupyter.widget-view+json": {
       "model_id": "525762d718cf4afd99805cfe5e323a53",
       "version_major": 2,
       "version_minor": 0
      },
      "text/plain": [
       "  0%|          | 0/423 [00:00<?, ?it/s]"
      ]
     },
     "metadata": {},
     "output_type": "display_data"
    },
    {
     "name": "stdout",
     "output_type": "stream",
     "text": [
      "Average training loss this epoch: 0.0731\n"
     ]
    },
    {
     "data": {
      "application/vnd.jupyter.widget-view+json": {
       "model_id": "65eccd12e2e64cdf8f84ff3b070adb6a",
       "version_major": 2,
       "version_minor": 0
      },
      "text/plain": [
       "  0%|          | 0/106 [00:00<?, ?it/s]"
      ]
     },
     "metadata": {},
     "output_type": "display_data"
    },
    {
     "name": "stdout",
     "output_type": "stream",
     "text": [
      "* Average Loss @1: 0.0765\n",
      "Best performing model so far average validation loss: 0.0765 on epoch 0\n",
      "\n"
     ]
    },
    {
     "data": {
      "application/vnd.jupyter.widget-view+json": {
       "model_id": "16aadb998fcf4ae5a4538efe6ddcac39",
       "version_major": 2,
       "version_minor": 0
      },
      "text/plain": [
       "  0%|          | 0/423 [00:00<?, ?it/s]"
      ]
     },
     "metadata": {},
     "output_type": "display_data"
    },
    {
     "name": "stdout",
     "output_type": "stream",
     "text": [
      "Average training loss this epoch: 0.0731\n"
     ]
    },
    {
     "data": {
      "application/vnd.jupyter.widget-view+json": {
       "model_id": "d881107565674e1ea7f68ce96dcefc71",
       "version_major": 2,
       "version_minor": 0
      },
      "text/plain": [
       "  0%|          | 0/106 [00:00<?, ?it/s]"
      ]
     },
     "metadata": {},
     "output_type": "display_data"
    },
    {
     "name": "stdout",
     "output_type": "stream",
     "text": [
      "* Average Loss @1: 0.0766\n",
      "Best performing model so far average validation loss: 0.0765 on epoch 0\n",
      "\n"
     ]
    },
    {
     "data": {
      "application/vnd.jupyter.widget-view+json": {
       "model_id": "c98262054b8a4ef4a780772331902637",
       "version_major": 2,
       "version_minor": 0
      },
      "text/plain": [
       "  0%|          | 0/423 [00:00<?, ?it/s]"
      ]
     },
     "metadata": {},
     "output_type": "display_data"
    },
    {
     "name": "stdout",
     "output_type": "stream",
     "text": [
      "Average training loss this epoch: 0.0731\n"
     ]
    },
    {
     "data": {
      "application/vnd.jupyter.widget-view+json": {
       "model_id": "f5d7fab670d447a688cf9183519e8d4a",
       "version_major": 2,
       "version_minor": 0
      },
      "text/plain": [
       "  0%|          | 0/106 [00:00<?, ?it/s]"
      ]
     },
     "metadata": {},
     "output_type": "display_data"
    },
    {
     "name": "stdout",
     "output_type": "stream",
     "text": [
      "* Average Loss @1: 0.0764\n",
      "Best performing model so far average validation loss: 0.0764 on epoch 3\n",
      "\n"
     ]
    },
    {
     "data": {
      "application/vnd.jupyter.widget-view+json": {
       "model_id": "6d55658b67d24c2db10a4c8b27341f49",
       "version_major": 2,
       "version_minor": 0
      },
      "text/plain": [
       "  0%|          | 0/423 [00:00<?, ?it/s]"
      ]
     },
     "metadata": {},
     "output_type": "display_data"
    },
    {
     "name": "stdout",
     "output_type": "stream",
     "text": [
      "Average training loss this epoch: 0.0731\n"
     ]
    },
    {
     "data": {
      "application/vnd.jupyter.widget-view+json": {
       "model_id": "019a78ac8ff64584a8d65275a00a72e1",
       "version_major": 2,
       "version_minor": 0
      },
      "text/plain": [
       "  0%|          | 0/106 [00:00<?, ?it/s]"
      ]
     },
     "metadata": {},
     "output_type": "display_data"
    },
    {
     "name": "stdout",
     "output_type": "stream",
     "text": [
      "* Average Loss @1: 0.0764\n",
      "Best performing model so far average validation loss: 0.0764 on epoch 4\n",
      "\n",
      "Best Training Loss @1: 0.0764\n",
      "Run finished, view it on the SigOpt dashboard at https://app.sigopt.com/run/449001\n",
      "Run started, view it on the SigOpt dashboard at https://app.sigopt.com/run/449214\n",
      "Params :  {'batch_size': '64', 'learning_rate': 0.0001, 'reg': 0.10336652425114365}\n"
     ]
    },
    {
     "data": {
      "application/vnd.jupyter.widget-view+json": {
       "model_id": "0fa3d475dab44d7b9ce495918cc4e78f",
       "version_major": 2,
       "version_minor": 0
      },
      "text/plain": [
       "  0%|          | 0/423 [00:00<?, ?it/s]"
      ]
     },
     "metadata": {},
     "output_type": "display_data"
    },
    {
     "name": "stdout",
     "output_type": "stream",
     "text": [
      "Average training loss this epoch: 0.0748\n"
     ]
    },
    {
     "data": {
      "application/vnd.jupyter.widget-view+json": {
       "model_id": "5abd93f898fa422888c9df366552f4ef",
       "version_major": 2,
       "version_minor": 0
      },
      "text/plain": [
       "  0%|          | 0/106 [00:00<?, ?it/s]"
      ]
     },
     "metadata": {},
     "output_type": "display_data"
    },
    {
     "name": "stdout",
     "output_type": "stream",
     "text": [
      "* Average Loss @1: 0.0759\n",
      "Best performing model so far average validation loss: 0.0759 on epoch 0\n",
      "\n"
     ]
    },
    {
     "data": {
      "application/vnd.jupyter.widget-view+json": {
       "model_id": "7c4458ddaec0401c8e3909d0f1e4bb7a",
       "version_major": 2,
       "version_minor": 0
      },
      "text/plain": [
       "  0%|          | 0/423 [00:00<?, ?it/s]"
      ]
     },
     "metadata": {},
     "output_type": "display_data"
    },
    {
     "name": "stdout",
     "output_type": "stream",
     "text": [
      "Average training loss this epoch: 0.0761\n"
     ]
    },
    {
     "data": {
      "application/vnd.jupyter.widget-view+json": {
       "model_id": "641b48443a7a434693d9e620e071bbd3",
       "version_major": 2,
       "version_minor": 0
      },
      "text/plain": [
       "  0%|          | 0/106 [00:00<?, ?it/s]"
      ]
     },
     "metadata": {},
     "output_type": "display_data"
    },
    {
     "name": "stdout",
     "output_type": "stream",
     "text": [
      "* Average Loss @1: 0.0767\n",
      "Best performing model so far average validation loss: 0.0759 on epoch 0\n",
      "\n"
     ]
    },
    {
     "data": {
      "application/vnd.jupyter.widget-view+json": {
       "model_id": "fe81361106124966990cf7957e8da323",
       "version_major": 2,
       "version_minor": 0
      },
      "text/plain": [
       "  0%|          | 0/423 [00:00<?, ?it/s]"
      ]
     },
     "metadata": {},
     "output_type": "display_data"
    },
    {
     "name": "stdout",
     "output_type": "stream",
     "text": [
      "Average training loss this epoch: 0.0768\n"
     ]
    },
    {
     "data": {
      "application/vnd.jupyter.widget-view+json": {
       "model_id": "28be13353a5b4b51a400bae8a0b0f9a4",
       "version_major": 2,
       "version_minor": 0
      },
      "text/plain": [
       "  0%|          | 0/106 [00:00<?, ?it/s]"
      ]
     },
     "metadata": {},
     "output_type": "display_data"
    },
    {
     "name": "stdout",
     "output_type": "stream",
     "text": [
      "* Average Loss @1: 0.0744\n",
      "Best performing model so far average validation loss: 0.0744 on epoch 2\n",
      "\n"
     ]
    },
    {
     "data": {
      "application/vnd.jupyter.widget-view+json": {
       "model_id": "2d6dfb55f1324c598797dfef2591331c",
       "version_major": 2,
       "version_minor": 0
      },
      "text/plain": [
       "  0%|          | 0/423 [00:00<?, ?it/s]"
      ]
     },
     "metadata": {},
     "output_type": "display_data"
    },
    {
     "name": "stdout",
     "output_type": "stream",
     "text": [
      "Average training loss this epoch: 0.0752\n"
     ]
    },
    {
     "data": {
      "application/vnd.jupyter.widget-view+json": {
       "model_id": "b07531fb6cef49598278a00035f24ad7",
       "version_major": 2,
       "version_minor": 0
      },
      "text/plain": [
       "  0%|          | 0/106 [00:00<?, ?it/s]"
      ]
     },
     "metadata": {},
     "output_type": "display_data"
    },
    {
     "name": "stdout",
     "output_type": "stream",
     "text": [
      "* Average Loss @1: 0.0736\n",
      "Best performing model so far average validation loss: 0.0736 on epoch 3\n",
      "\n"
     ]
    },
    {
     "data": {
      "application/vnd.jupyter.widget-view+json": {
       "model_id": "66af7b1134b44bf28cd0fb58a17195ea",
       "version_major": 2,
       "version_minor": 0
      },
      "text/plain": [
       "  0%|          | 0/423 [00:00<?, ?it/s]"
      ]
     },
     "metadata": {},
     "output_type": "display_data"
    },
    {
     "name": "stdout",
     "output_type": "stream",
     "text": [
      "Average training loss this epoch: 0.0747\n"
     ]
    },
    {
     "data": {
      "application/vnd.jupyter.widget-view+json": {
       "model_id": "5dce4b15e4684ca1b1df2603ddfb1e33",
       "version_major": 2,
       "version_minor": 0
      },
      "text/plain": [
       "  0%|          | 0/106 [00:00<?, ?it/s]"
      ]
     },
     "metadata": {},
     "output_type": "display_data"
    },
    {
     "name": "stdout",
     "output_type": "stream",
     "text": [
      "* Average Loss @1: 0.0733\n",
      "Best performing model so far average validation loss: 0.0733 on epoch 4\n",
      "\n",
      "Best Training Loss @1: 0.0733\n",
      "Run finished, view it on the SigOpt dashboard at https://app.sigopt.com/run/449214\n"
     ]
    }
   ],
   "source": [
    "%%optimize gcp_nvidia_cnn_optimization_run_4\n",
    "evaluate(args)"
   ]
  },
  {
   "cell_type": "code",
   "execution_count": null,
   "metadata": {},
   "outputs": [],
   "source": []
  }
 ],
 "metadata": {
  "accelerator": "GPU",
  "colab": {
   "collapsed_sections": [],
   "name": "base_cnn.ipynb",
   "provenance": []
  },
  "environment": {
   "kernel": "python3",
   "name": "pytorch-gpu.1-11.m94",
   "type": "gcloud",
   "uri": "gcr.io/deeplearning-platform-release/pytorch-gpu.1-11:m94"
  },
  "gpuClass": "standard",
  "kernelspec": {
   "display_name": "Python 3",
   "language": "python",
   "name": "python3"
  },
  "language_info": {
   "codemirror_mode": {
    "name": "ipython",
    "version": 3
   },
   "file_extension": ".py",
   "mimetype": "text/x-python",
   "name": "python",
   "nbconvert_exporter": "python",
   "pygments_lexer": "ipython3",
   "version": "3.7.12"
  },
  "widgets": {
   "application/vnd.jupyter.widget-state+json": {
    "state": {
     "01fadf0d8be84bffa7ca85e3276ae883": {
      "model_module": "@jupyter-widgets/controls",
      "model_module_version": "1.5.0",
      "model_name": "DescriptionStyleModel",
      "state": {
       "description_width": ""
      }
     },
     "02c67c983f7642f39fc580d1e2e330b5": {
      "model_module": "@jupyter-widgets/controls",
      "model_module_version": "1.5.0",
      "model_name": "DescriptionStyleModel",
      "state": {
       "description_width": ""
      }
     },
     "0353954a8c7441bd97bb6dce47247d89": {
      "model_module": "@jupyter-widgets/controls",
      "model_module_version": "1.5.0",
      "model_name": "HBoxModel",
      "state": {
       "children": [
        "IPY_MODEL_27270cd902da432ba33eb9f88d905cbb",
        "IPY_MODEL_ea1e33503b0b4259b0d96f386fd173fb",
        "IPY_MODEL_756aad002470457bac135119afe5599d"
       ],
       "layout": "IPY_MODEL_8f23bb7d2b0549a186a4dfa6b25f34f2"
      }
     },
     "03635efec3e241dc93c1ce21954bafd0": {
      "model_module": "@jupyter-widgets/controls",
      "model_module_version": "1.5.0",
      "model_name": "DescriptionStyleModel",
      "state": {
       "description_width": ""
      }
     },
     "05e067499d11459b98a04eb7359170f8": {
      "model_module": "@jupyter-widgets/base",
      "model_module_version": "1.2.0",
      "model_name": "LayoutModel",
      "state": {}
     },
     "065f7e7947a5499bad27317774e9aff1": {
      "model_module": "@jupyter-widgets/base",
      "model_module_version": "1.2.0",
      "model_name": "LayoutModel",
      "state": {}
     },
     "078e11dfb827494bae706ae893e7a0bb": {
      "model_module": "@jupyter-widgets/controls",
      "model_module_version": "1.5.0",
      "model_name": "HTMLModel",
      "state": {
       "layout": "IPY_MODEL_8a4e68076ba5467e91ebc9a7aeecc3a3",
       "style": "IPY_MODEL_61edc39f1d214cd6a0d0407dc5c10163",
       "value": "Batch: 6762, Loss: 0.0007: 100%"
      }
     },
     "0824b0ff3aa24f02ac81b48e60c7ebbc": {
      "model_module": "@jupyter-widgets/controls",
      "model_module_version": "1.5.0",
      "model_name": "HTMLModel",
      "state": {
       "layout": "IPY_MODEL_f222c8a1d5de4cd8b2cfdf315352e541",
       "style": "IPY_MODEL_e1da3f7d3e2643688a00d287a442e956",
       "value": "Batch: 6762, Loss: 0.0000: 100%"
      }
     },
     "0bc74811512d4fb3ac07524e6b36c2d3": {
      "model_module": "@jupyter-widgets/controls",
      "model_module_version": "1.5.0",
      "model_name": "FloatProgressModel",
      "state": {
       "bar_style": "success",
       "layout": "IPY_MODEL_f8ff0f2ae0214e178fb13345ef290703",
       "max": 6762,
       "style": "IPY_MODEL_a9ded25a7c77463c9745f955a57a54fc",
       "value": 6762
      }
     },
     "0c22c4d76b8b47479dacc0d37f5b84dd": {
      "model_module": "@jupyter-widgets/base",
      "model_module_version": "1.2.0",
      "model_name": "LayoutModel",
      "state": {}
     },
     "0c76ed93f327405f91ef481ef78270ec": {
      "model_module": "@jupyter-widgets/controls",
      "model_module_version": "1.5.0",
      "model_name": "HTMLModel",
      "state": {
       "layout": "IPY_MODEL_bd8abb837ac249689da382182aa5f535",
       "style": "IPY_MODEL_1faf470a94864e56a7e98175a7b58d47",
       "value": " 6762/6762 [00:32&lt;00:00, 214.13it/s]"
      }
     },
     "0e12aeb1fc894744924de315b859d1ef": {
      "model_module": "@jupyter-widgets/controls",
      "model_module_version": "1.5.0",
      "model_name": "ProgressStyleModel",
      "state": {
       "description_width": ""
      }
     },
     "0e5658ea381343749f2c438dd1db6907": {
      "model_module": "@jupyter-widgets/base",
      "model_module_version": "1.2.0",
      "model_name": "LayoutModel",
      "state": {}
     },
     "0f284a3c249c4f1d933343aa96b9d6fb": {
      "model_module": "@jupyter-widgets/controls",
      "model_module_version": "1.5.0",
      "model_name": "DescriptionStyleModel",
      "state": {
       "description_width": ""
      }
     },
     "104e6645cca542e0bbb2410af3203f80": {
      "model_module": "@jupyter-widgets/controls",
      "model_module_version": "1.5.0",
      "model_name": "HTMLModel",
      "state": {
       "layout": "IPY_MODEL_9e6558f6de5946dca90719e18fb38b62",
       "style": "IPY_MODEL_7bdfc666479d4fabab72dce4dc127fae",
       "value": " 27046/27046 [04:53&lt;00:00, 93.54it/s]"
      }
     },
     "1093e3782cc5451d8fb4fb8004bca140": {
      "model_module": "@jupyter-widgets/controls",
      "model_module_version": "1.5.0",
      "model_name": "FloatProgressModel",
      "state": {
       "bar_style": "success",
       "layout": "IPY_MODEL_1456c00cee734f73a709e9313337ce07",
       "max": 27046,
       "style": "IPY_MODEL_12ce95faeade40c78ad49ab0ec2b466d",
       "value": 27046
      }
     },
     "111472d3a45e489abf0f02334738ddb5": {
      "model_module": "@jupyter-widgets/controls",
      "model_module_version": "1.5.0",
      "model_name": "DescriptionStyleModel",
      "state": {
       "description_width": ""
      }
     },
     "120bbf37aa7f443f8a76bee7da363ae2": {
      "model_module": "@jupyter-widgets/controls",
      "model_module_version": "1.5.0",
      "model_name": "HTMLModel",
      "state": {
       "layout": "IPY_MODEL_8d5cb8735e1e4584bcebaa12da4498fd",
       "style": "IPY_MODEL_2a97e3b149444777af544c150ed4ebdd",
       "value": "Batch: 5614, Loss: 0.0023: 100%"
      }
     },
     "1224caefaae649c5995464da20745618": {
      "model_module": "@jupyter-widgets/controls",
      "model_module_version": "1.5.0",
      "model_name": "HTMLModel",
      "state": {
       "layout": "IPY_MODEL_2b32b0a13b4445b589e3473a14b6c436",
       "style": "IPY_MODEL_3b4f1741f3244f4598debd8b34b15acd",
       "value": " 27046/27046 [04:59&lt;00:00, 90.05it/s]"
      }
     },
     "127b4ed0ca3749f8beb85c19a733c1b4": {
      "model_module": "@jupyter-widgets/controls",
      "model_module_version": "1.5.0",
      "model_name": "HBoxModel",
      "state": {
       "children": [
        "IPY_MODEL_416143dc026d491b95533555215bfe4c",
        "IPY_MODEL_909f3110719947fd9aedd4142b4b8fc8",
        "IPY_MODEL_cd84fc2b633549c0ac7404b292ec5864"
       ],
       "layout": "IPY_MODEL_667b723b566d47babe1213e182d69d4f"
      }
     },
     "127eb2021d2a4387b65e589ef271f668": {
      "model_module": "@jupyter-widgets/base",
      "model_module_version": "1.2.0",
      "model_name": "LayoutModel",
      "state": {}
     },
     "12ce95faeade40c78ad49ab0ec2b466d": {
      "model_module": "@jupyter-widgets/controls",
      "model_module_version": "1.5.0",
      "model_name": "ProgressStyleModel",
      "state": {
       "description_width": ""
      }
     },
     "1456c00cee734f73a709e9313337ce07": {
      "model_module": "@jupyter-widgets/base",
      "model_module_version": "1.2.0",
      "model_name": "LayoutModel",
      "state": {}
     },
     "14eebb73d72f45db961fd2dd572fd694": {
      "model_module": "@jupyter-widgets/base",
      "model_module_version": "1.2.0",
      "model_name": "LayoutModel",
      "state": {}
     },
     "15d359062ade4ed98e3a2c4a29bb5695": {
      "model_module": "@jupyter-widgets/base",
      "model_module_version": "1.2.0",
      "model_name": "LayoutModel",
      "state": {}
     },
     "1610c5d7a18b4c36b3525b57ea65d47e": {
      "model_module": "@jupyter-widgets/controls",
      "model_module_version": "1.5.0",
      "model_name": "ProgressStyleModel",
      "state": {
       "description_width": ""
      }
     },
     "1678f10919d64dec84ee1b508044646c": {
      "model_module": "@jupyter-widgets/base",
      "model_module_version": "1.2.0",
      "model_name": "LayoutModel",
      "state": {}
     },
     "16fb0cd0804d4922acdb0d0a2d5d0741": {
      "model_module": "@jupyter-widgets/controls",
      "model_module_version": "1.5.0",
      "model_name": "HBoxModel",
      "state": {
       "children": [
        "IPY_MODEL_29629e2cd9a64f3291385fdb96579afe",
        "IPY_MODEL_e9e41cfc1a1a43159ef2d9ffdf4e35f0",
        "IPY_MODEL_9c877cb26efb408d954ebc26b4fb6bbb"
       ],
       "layout": "IPY_MODEL_bf1d520194a14bb682102802a06aeb99"
      }
     },
     "193fc7e3934f462d82a5c26683b667e9": {
      "model_module": "@jupyter-widgets/base",
      "model_module_version": "1.2.0",
      "model_name": "LayoutModel",
      "state": {}
     },
     "19f117cd6b0b40288d07590cb921a119": {
      "model_module": "@jupyter-widgets/base",
      "model_module_version": "1.2.0",
      "model_name": "LayoutModel",
      "state": {}
     },
     "1af791ce19e4421595bc91a81cae0b6c": {
      "model_module": "@jupyter-widgets/controls",
      "model_module_version": "1.5.0",
      "model_name": "DescriptionStyleModel",
      "state": {
       "description_width": ""
      }
     },
     "1b490b3d0c8741e7b0d2e4b8e5eddae8": {
      "model_module": "@jupyter-widgets/controls",
      "model_module_version": "1.5.0",
      "model_name": "DescriptionStyleModel",
      "state": {
       "description_width": ""
      }
     },
     "1b9a4ac4753c4af4a01b8ae35e8b5540": {
      "model_module": "@jupyter-widgets/controls",
      "model_module_version": "1.5.0",
      "model_name": "ProgressStyleModel",
      "state": {
       "description_width": ""
      }
     },
     "1dfdf8930b474085876b8ecbd3f3973c": {
      "model_module": "@jupyter-widgets/base",
      "model_module_version": "1.2.0",
      "model_name": "LayoutModel",
      "state": {}
     },
     "1eb2b28a20a14850869ceb34af120b3d": {
      "model_module": "@jupyter-widgets/controls",
      "model_module_version": "1.5.0",
      "model_name": "DescriptionStyleModel",
      "state": {
       "description_width": ""
      }
     },
     "1fa45a8772b5413ba85447bebe6436b0": {
      "model_module": "@jupyter-widgets/controls",
      "model_module_version": "1.5.0",
      "model_name": "DescriptionStyleModel",
      "state": {
       "description_width": ""
      }
     },
     "1faf470a94864e56a7e98175a7b58d47": {
      "model_module": "@jupyter-widgets/controls",
      "model_module_version": "1.5.0",
      "model_name": "DescriptionStyleModel",
      "state": {
       "description_width": ""
      }
     },
     "20ea7606b6394a0f8ffef60aaae65a6f": {
      "model_module": "@jupyter-widgets/controls",
      "model_module_version": "1.5.0",
      "model_name": "FloatProgressModel",
      "state": {
       "bar_style": "success",
       "layout": "IPY_MODEL_d52744f9be034bcc9be53ecfc3c9971b",
       "max": 27046,
       "style": "IPY_MODEL_70cd6156d94541a8b9cb552b4388046a",
       "value": 27046
      }
     },
     "234127ada8134d00aa700fa86bed48a2": {
      "model_module": "@jupyter-widgets/controls",
      "model_module_version": "1.5.0",
      "model_name": "HBoxModel",
      "state": {
       "children": [
        "IPY_MODEL_9f76ebc0f0a440c185a46549703c6917",
        "IPY_MODEL_623720b4cb904defb10d4a39124bc95c",
        "IPY_MODEL_a6f15afbd1c74a1095d95fb70c7afb64"
       ],
       "layout": "IPY_MODEL_1dfdf8930b474085876b8ecbd3f3973c"
      }
     },
     "247797b48311466faaa6365160fb3488": {
      "model_module": "@jupyter-widgets/base",
      "model_module_version": "1.2.0",
      "model_name": "LayoutModel",
      "state": {}
     },
     "252d9831c69e4a238d9511f08f8dd75c": {
      "model_module": "@jupyter-widgets/base",
      "model_module_version": "1.2.0",
      "model_name": "LayoutModel",
      "state": {}
     },
     "259050717e144e08a8663cfc7839abd4": {
      "model_module": "@jupyter-widgets/controls",
      "model_module_version": "1.5.0",
      "model_name": "HTMLModel",
      "state": {
       "layout": "IPY_MODEL_3d6f1e136b8642e5a2d6bb1e1e0fa67a",
       "style": "IPY_MODEL_cb4a5d1f05764eef91b5de5a92579405",
       "value": "Epoch 13, Batch: 27046, Loss: 0.0001: 100%"
      }
     },
     "25c96223644a4fde947ce81979dce3ad": {
      "model_module": "@jupyter-widgets/controls",
      "model_module_version": "1.5.0",
      "model_name": "DescriptionStyleModel",
      "state": {
       "description_width": ""
      }
     },
     "27270cd902da432ba33eb9f88d905cbb": {
      "model_module": "@jupyter-widgets/controls",
      "model_module_version": "1.5.0",
      "model_name": "HTMLModel",
      "state": {
       "layout": "IPY_MODEL_86311a41b1bc4547bc59da17e2d19a2e",
       "style": "IPY_MODEL_111472d3a45e489abf0f02334738ddb5",
       "value": "Batch: 6762, Loss: 0.0077: 100%"
      }
     },
     "29629e2cd9a64f3291385fdb96579afe": {
      "model_module": "@jupyter-widgets/controls",
      "model_module_version": "1.5.0",
      "model_name": "HTMLModel",
      "state": {
       "layout": "IPY_MODEL_d30b1698a822450e9614d2164c500736",
       "style": "IPY_MODEL_02c67c983f7642f39fc580d1e2e330b5",
       "value": "Batch: 6762, Loss: 0.0003: 100%"
      }
     },
     "29a50da159c6459b87deb797c12efcb7": {
      "model_module": "@jupyter-widgets/controls",
      "model_module_version": "1.5.0",
      "model_name": "HTMLModel",
      "state": {
       "layout": "IPY_MODEL_68169a2413d4448b8c23b9cccea9dd57",
       "style": "IPY_MODEL_ab309bdf76aa419784f316810c614810",
       "value": "Epoch 3, Batch: 27046, Loss: 0.0098: 100%"
      }
     },
     "2a95deffcfb04e5f8804ad893d1aa1bb": {
      "model_module": "@jupyter-widgets/controls",
      "model_module_version": "1.5.0",
      "model_name": "HTMLModel",
      "state": {
       "layout": "IPY_MODEL_84848b9c9a82436b93e3c8ac1ea018fa",
       "style": "IPY_MODEL_5ecc83d0e29d4e0da35159f86ddf1173",
       "value": " 27046/27046 [04:55&lt;00:00, 94.50it/s]"
      }
     },
     "2a97e3b149444777af544c150ed4ebdd": {
      "model_module": "@jupyter-widgets/controls",
      "model_module_version": "1.5.0",
      "model_name": "DescriptionStyleModel",
      "state": {
       "description_width": ""
      }
     },
     "2b32b0a13b4445b589e3473a14b6c436": {
      "model_module": "@jupyter-widgets/base",
      "model_module_version": "1.2.0",
      "model_name": "LayoutModel",
      "state": {}
     },
     "2bad4f6153984bd6bddf2b559bc4cc42": {
      "model_module": "@jupyter-widgets/controls",
      "model_module_version": "1.5.0",
      "model_name": "DescriptionStyleModel",
      "state": {
       "description_width": ""
      }
     },
     "2c011ee89450450caefd927fc74fe6e1": {
      "model_module": "@jupyter-widgets/controls",
      "model_module_version": "1.5.0",
      "model_name": "HTMLModel",
      "state": {
       "layout": "IPY_MODEL_76ac657c634847639408b68ba95d56be",
       "style": "IPY_MODEL_e63076786fe64fb28a17a1213e117c23",
       "value": "Batch: 6762, Loss: 0.1053: 100%"
      }
     },
     "2c8dca05ac91410c893e31c8da911891": {
      "model_module": "@jupyter-widgets/controls",
      "model_module_version": "1.5.0",
      "model_name": "ProgressStyleModel",
      "state": {
       "description_width": ""
      }
     },
     "2eb0fa01a81a4934a91131f2fbe7a570": {
      "model_module": "@jupyter-widgets/controls",
      "model_module_version": "1.5.0",
      "model_name": "HBoxModel",
      "state": {
       "children": [
        "IPY_MODEL_417a4aa76b6143fd94fb5633ad082366",
        "IPY_MODEL_6030474aca734470a0c02a584e926c08",
        "IPY_MODEL_e6c518bcaa784e369514b024d278aeda"
       ],
       "layout": "IPY_MODEL_82e6c28e4bed4b95911cacccac60bf93"
      }
     },
     "2f454bc7a5244fc8a36e1acb60860de9": {
      "model_module": "@jupyter-widgets/base",
      "model_module_version": "1.2.0",
      "model_name": "LayoutModel",
      "state": {}
     },
     "2f630b00c4344a66adfdb0c5fa51b6c9": {
      "model_module": "@jupyter-widgets/controls",
      "model_module_version": "1.5.0",
      "model_name": "HBoxModel",
      "state": {
       "children": [
        "IPY_MODEL_078e11dfb827494bae706ae893e7a0bb",
        "IPY_MODEL_b1a3521741a34c3fa7812a3dc648efb5",
        "IPY_MODEL_e3c48d90d95147afb5f1595c3145272e"
       ],
       "layout": "IPY_MODEL_749507d39f174709a47e25146d992211"
      }
     },
     "2fd191d66ad44f38811ba3252d536969": {
      "model_module": "@jupyter-widgets/base",
      "model_module_version": "1.2.0",
      "model_name": "LayoutModel",
      "state": {}
     },
     "307fe287352744f7a7a0b605bfb9d5ce": {
      "model_module": "@jupyter-widgets/controls",
      "model_module_version": "1.5.0",
      "model_name": "DescriptionStyleModel",
      "state": {
       "description_width": ""
      }
     },
     "3114585b261943058fb465b9c92d0f10": {
      "model_module": "@jupyter-widgets/controls",
      "model_module_version": "1.5.0",
      "model_name": "DescriptionStyleModel",
      "state": {
       "description_width": ""
      }
     },
     "320c1fb8b79f4e4eb406887841b09684": {
      "model_module": "@jupyter-widgets/base",
      "model_module_version": "1.2.0",
      "model_name": "LayoutModel",
      "state": {}
     },
     "337d3ab25c6a40298066b8ae1c2d6d4b": {
      "model_module": "@jupyter-widgets/controls",
      "model_module_version": "1.5.0",
      "model_name": "HBoxModel",
      "state": {
       "children": [
        "IPY_MODEL_8e9f8292e06d42de8ade2756ca9815a1",
        "IPY_MODEL_35bc6a302a9c484890debd06ce385721",
        "IPY_MODEL_5f9510df5bbb4fa6be3ac17ec4481bf8"
       ],
       "layout": "IPY_MODEL_8e33f41bb58f4e6c80057cacd0da14f8"
      }
     },
     "3388f2fd9fe9436f9836738db8afdf05": {
      "model_module": "@jupyter-widgets/base",
      "model_module_version": "1.2.0",
      "model_name": "LayoutModel",
      "state": {}
     },
     "33f6ad3b34b045328cb40c58080e2174": {
      "model_module": "@jupyter-widgets/base",
      "model_module_version": "1.2.0",
      "model_name": "LayoutModel",
      "state": {}
     },
     "340f809b429d492d98f052740dad7b36": {
      "model_module": "@jupyter-widgets/controls",
      "model_module_version": "1.5.0",
      "model_name": "HBoxModel",
      "state": {
       "children": [
        "IPY_MODEL_ae4ddbffcfa1439cbf0528e013750bfb",
        "IPY_MODEL_20ea7606b6394a0f8ffef60aaae65a6f",
        "IPY_MODEL_78c07290c5af42178b62604b82c0a607"
       ],
       "layout": "IPY_MODEL_75dfc61c76474fdbbb23ca6312fc2a1e"
      }
     },
     "35bc6a302a9c484890debd06ce385721": {
      "model_module": "@jupyter-widgets/controls",
      "model_module_version": "1.5.0",
      "model_name": "FloatProgressModel",
      "state": {
       "bar_style": "success",
       "layout": "IPY_MODEL_af14a9ef4a314c70919a25eb65cd2bd4",
       "max": 27046,
       "style": "IPY_MODEL_f82ddbec56454692b7bf5af71fcf005b",
       "value": 27046
      }
     },
     "363088281d454b54a196060a4c364945": {
      "model_module": "@jupyter-widgets/base",
      "model_module_version": "1.2.0",
      "model_name": "LayoutModel",
      "state": {}
     },
     "3785db742bdd432a9528e4bbc997cc4b": {
      "model_module": "@jupyter-widgets/controls",
      "model_module_version": "1.5.0",
      "model_name": "HBoxModel",
      "state": {
       "children": [
        "IPY_MODEL_483eefe52dda439293f248df1dc8ed17",
        "IPY_MODEL_a8e063ae35274c70bc0cc1d17772ae53",
        "IPY_MODEL_104e6645cca542e0bbb2410af3203f80"
       ],
       "layout": "IPY_MODEL_808e9f2c21814f66bc202e2333b0c989"
      }
     },
     "37d84c44cd024bc59fedb1d9679ee074": {
      "model_module": "@jupyter-widgets/controls",
      "model_module_version": "1.5.0",
      "model_name": "HTMLModel",
      "state": {
       "layout": "IPY_MODEL_89cedd9c12154965ae3013b5ce1f9281",
       "style": "IPY_MODEL_8f828a50afa34a1f947e0a644de56ec5",
       "value": "Batch: 6762, Loss: 0.0023: 100%"
      }
     },
     "38c8ca517cc145468c6f67cae06716e1": {
      "model_module": "@jupyter-widgets/controls",
      "model_module_version": "1.5.0",
      "model_name": "FloatProgressModel",
      "state": {
       "bar_style": "success",
       "layout": "IPY_MODEL_a7b0ee18fe96488d8225d5adddce1e64",
       "max": 27046,
       "style": "IPY_MODEL_2c8dca05ac91410c893e31c8da911891",
       "value": 27046
      }
     },
     "39413b5b7be1420fb47005d6ceee28d7": {
      "model_module": "@jupyter-widgets/controls",
      "model_module_version": "1.5.0",
      "model_name": "ProgressStyleModel",
      "state": {
       "description_width": ""
      }
     },
     "39825c60a6124b7cbbf7a938c3b945da": {
      "model_module": "@jupyter-widgets/base",
      "model_module_version": "1.2.0",
      "model_name": "LayoutModel",
      "state": {}
     },
     "39b703e40f48496ca3440db15a88e713": {
      "model_module": "@jupyter-widgets/base",
      "model_module_version": "1.2.0",
      "model_name": "LayoutModel",
      "state": {}
     },
     "3a984630d12949cbaef954dd5a2a93b7": {
      "model_module": "@jupyter-widgets/base",
      "model_module_version": "1.2.0",
      "model_name": "LayoutModel",
      "state": {}
     },
     "3b4f1741f3244f4598debd8b34b15acd": {
      "model_module": "@jupyter-widgets/controls",
      "model_module_version": "1.5.0",
      "model_name": "DescriptionStyleModel",
      "state": {
       "description_width": ""
      }
     },
     "3d2cff0a72844cdfa834eab605c6ec7b": {
      "model_module": "@jupyter-widgets/controls",
      "model_module_version": "1.5.0",
      "model_name": "HTMLModel",
      "state": {
       "layout": "IPY_MODEL_47f9c9f3e9d94dcebff4d46c892215d4",
       "style": "IPY_MODEL_76383df4613043f4ab613ef6feae3a7d",
       "value": " 6762/6762 [00:32&lt;00:00, 211.39it/s]"
      }
     },
     "3d6f1e136b8642e5a2d6bb1e1e0fa67a": {
      "model_module": "@jupyter-widgets/base",
      "model_module_version": "1.2.0",
      "model_name": "LayoutModel",
      "state": {}
     },
     "3de68769691b4bb8b4232e81f6b6debe": {
      "model_module": "@jupyter-widgets/base",
      "model_module_version": "1.2.0",
      "model_name": "LayoutModel",
      "state": {}
     },
     "3e0149d428d3458a8d617af021d202b0": {
      "model_module": "@jupyter-widgets/base",
      "model_module_version": "1.2.0",
      "model_name": "LayoutModel",
      "state": {}
     },
     "3f7e74120dd74d44bf14fd05ae459abc": {
      "model_module": "@jupyter-widgets/controls",
      "model_module_version": "1.5.0",
      "model_name": "HTMLModel",
      "state": {
       "layout": "IPY_MODEL_d26f14d7ec8049ec9070790f8b6a319b",
       "style": "IPY_MODEL_307fe287352744f7a7a0b605bfb9d5ce",
       "value": " 6762/6762 [00:35&lt;00:00, 168.90it/s]"
      }
     },
     "416143dc026d491b95533555215bfe4c": {
      "model_module": "@jupyter-widgets/controls",
      "model_module_version": "1.5.0",
      "model_name": "HTMLModel",
      "state": {
       "layout": "IPY_MODEL_065f7e7947a5499bad27317774e9aff1",
       "style": "IPY_MODEL_47d679c99c86499a9fa1f26b172c3124",
       "value": "Epoch 7, Batch: 27046, Loss: 0.0029: 100%"
      }
     },
     "417a4aa76b6143fd94fb5633ad082366": {
      "model_module": "@jupyter-widgets/controls",
      "model_module_version": "1.5.0",
      "model_name": "HTMLModel",
      "state": {
       "layout": "IPY_MODEL_14eebb73d72f45db961fd2dd572fd694",
       "style": "IPY_MODEL_3114585b261943058fb465b9c92d0f10",
       "value": "Batch: 6762, Loss: 0.0078: 100%"
      }
     },
     "41ff4b7d2e714d5fb2a9179ded4c6e04": {
      "model_module": "@jupyter-widgets/controls",
      "model_module_version": "1.5.0",
      "model_name": "HBoxModel",
      "state": {
       "children": [
        "IPY_MODEL_29a50da159c6459b87deb797c12efcb7",
        "IPY_MODEL_b0f195fc24a94c559967f378ba186de8",
        "IPY_MODEL_a13e7a3943ec44879faecd537f85a579"
       ],
       "layout": "IPY_MODEL_6bdd914b57ce4030b063c7d7ddd36f51"
      }
     },
     "428a00cfda104c52b9b1479c44ce918b": {
      "model_module": "@jupyter-widgets/controls",
      "model_module_version": "1.5.0",
      "model_name": "DescriptionStyleModel",
      "state": {
       "description_width": ""
      }
     },
     "43b6f34ea688406ea24d65e741cc3656": {
      "model_module": "@jupyter-widgets/controls",
      "model_module_version": "1.5.0",
      "model_name": "HBoxModel",
      "state": {
       "children": [
        "IPY_MODEL_8d026a46d59e498291559b50928692c3",
        "IPY_MODEL_a0ddb8d0cc704cc0a0a2ff8dd88e30e5",
        "IPY_MODEL_830ad700153145388d372e5accf6af57"
       ],
       "layout": "IPY_MODEL_d8fcc48c8f484fe6ba6339849ef36c0a"
      }
     },
     "43c6a6484a774620a2a409c37b9ac999": {
      "model_module": "@jupyter-widgets/controls",
      "model_module_version": "1.5.0",
      "model_name": "FloatProgressModel",
      "state": {
       "bar_style": "success",
       "layout": "IPY_MODEL_c9b6b69771a94a418529aa5049ee9a09",
       "max": 5614,
       "style": "IPY_MODEL_1610c5d7a18b4c36b3525b57ea65d47e",
       "value": 5614
      }
     },
     "447aeacde6334e6e98d0efedb22cb5da": {
      "model_module": "@jupyter-widgets/controls",
      "model_module_version": "1.5.0",
      "model_name": "FloatProgressModel",
      "state": {
       "bar_style": "success",
       "layout": "IPY_MODEL_c971d62cdc4641d394d3f081145a3209",
       "max": 27046,
       "style": "IPY_MODEL_984197ad9f29485fbb157c328089bafa",
       "value": 27046
      }
     },
     "45505f452e1f40c3ac01ace2939f47b3": {
      "model_module": "@jupyter-widgets/controls",
      "model_module_version": "1.5.0",
      "model_name": "ProgressStyleModel",
      "state": {
       "description_width": ""
      }
     },
     "45725ae95bf54556b531b53db2830380": {
      "model_module": "@jupyter-widgets/base",
      "model_module_version": "1.2.0",
      "model_name": "LayoutModel",
      "state": {}
     },
     "45a05a18d58b47c88c1f4b679f01b38a": {
      "model_module": "@jupyter-widgets/controls",
      "model_module_version": "1.5.0",
      "model_name": "HTMLModel",
      "state": {
       "layout": "IPY_MODEL_39825c60a6124b7cbbf7a938c3b945da",
       "style": "IPY_MODEL_9e6c167384904949a4456f7415970a5b",
       "value": "Batch: 6762, Loss: 0.0076: 100%"
      }
     },
     "474f8c3d5ea64d96a101814dce6b4f83": {
      "model_module": "@jupyter-widgets/base",
      "model_module_version": "1.2.0",
      "model_name": "LayoutModel",
      "state": {}
     },
     "47d679c99c86499a9fa1f26b172c3124": {
      "model_module": "@jupyter-widgets/controls",
      "model_module_version": "1.5.0",
      "model_name": "DescriptionStyleModel",
      "state": {
       "description_width": ""
      }
     },
     "47f9c9f3e9d94dcebff4d46c892215d4": {
      "model_module": "@jupyter-widgets/base",
      "model_module_version": "1.2.0",
      "model_name": "LayoutModel",
      "state": {}
     },
     "482fbda80d954a81b9aa2216a71207a9": {
      "model_module": "@jupyter-widgets/base",
      "model_module_version": "1.2.0",
      "model_name": "LayoutModel",
      "state": {}
     },
     "483eefe52dda439293f248df1dc8ed17": {
      "model_module": "@jupyter-widgets/controls",
      "model_module_version": "1.5.0",
      "model_name": "HTMLModel",
      "state": {
       "layout": "IPY_MODEL_80eebbefd6cd43cc8f94131e95e20414",
       "style": "IPY_MODEL_73e5081c637f4200a3d6b7fe851c553b",
       "value": "Epoch 5, Batch: 27046, Loss: 0.0013: 100%"
      }
     },
     "4a04052c52324bc69cdf1e2bb33c3c8e": {
      "model_module": "@jupyter-widgets/controls",
      "model_module_version": "1.5.0",
      "model_name": "ProgressStyleModel",
      "state": {
       "description_width": ""
      }
     },
     "4b41ab96861d48c38dfd06dbaa0b9e3e": {
      "model_module": "@jupyter-widgets/base",
      "model_module_version": "1.2.0",
      "model_name": "LayoutModel",
      "state": {}
     },
     "4dc2087ac0cc41eba5a85162d3dc1f9a": {
      "model_module": "@jupyter-widgets/base",
      "model_module_version": "1.2.0",
      "model_name": "LayoutModel",
      "state": {}
     },
     "50eb62eea48141989bfe9b2a877d10f3": {
      "model_module": "@jupyter-widgets/base",
      "model_module_version": "1.2.0",
      "model_name": "LayoutModel",
      "state": {}
     },
     "521941209d534c69aec31e335d8ec91d": {
      "model_module": "@jupyter-widgets/controls",
      "model_module_version": "1.5.0",
      "model_name": "DescriptionStyleModel",
      "state": {
       "description_width": ""
      }
     },
     "5233e086b02044d9b365c5b7f79306e2": {
      "model_module": "@jupyter-widgets/base",
      "model_module_version": "1.2.0",
      "model_name": "LayoutModel",
      "state": {}
     },
     "5332eaa411ff4ee58fe44c61f61ca91f": {
      "model_module": "@jupyter-widgets/controls",
      "model_module_version": "1.5.0",
      "model_name": "ProgressStyleModel",
      "state": {
       "description_width": ""
      }
     },
     "53de5dc36ea04259a9ab79409800db7e": {
      "model_module": "@jupyter-widgets/controls",
      "model_module_version": "1.5.0",
      "model_name": "HTMLModel",
      "state": {
       "layout": "IPY_MODEL_80543be2d27f41b19d8719590e0b6cb7",
       "style": "IPY_MODEL_71d556763fb042538fd127d7347937b5",
       "value": "Batch: 5614, Loss: 0.0131: 100%"
      }
     },
     "541513733380444e98b07eff6d360bbc": {
      "model_module": "@jupyter-widgets/controls",
      "model_module_version": "1.5.0",
      "model_name": "HTMLModel",
      "state": {
       "layout": "IPY_MODEL_0e5658ea381343749f2c438dd1db6907",
       "style": "IPY_MODEL_0f284a3c249c4f1d933343aa96b9d6fb",
       "value": " 6762/6762 [00:34&lt;00:00, 189.76it/s]"
      }
     },
     "546caccf3fb440a7a642ed280b8c3d44": {
      "model_module": "@jupyter-widgets/controls",
      "model_module_version": "1.5.0",
      "model_name": "HBoxModel",
      "state": {
       "children": [
        "IPY_MODEL_8c6cc26bfba343818b1be24341b43af7",
        "IPY_MODEL_562dc0a4a6d744e6abbb3fed0d35c047",
        "IPY_MODEL_7c6833030479476296c8b54e3bb41297"
       ],
       "layout": "IPY_MODEL_e1989cfb624c438e869a3e5e64efdb10"
      }
     },
     "54cfe7d58e5b4ab2bd441456e1b9cd04": {
      "model_module": "@jupyter-widgets/controls",
      "model_module_version": "1.5.0",
      "model_name": "DescriptionStyleModel",
      "state": {
       "description_width": ""
      }
     },
     "5533ad2cfbc84e8ab2981491250edb05": {
      "model_module": "@jupyter-widgets/base",
      "model_module_version": "1.2.0",
      "model_name": "LayoutModel",
      "state": {}
     },
     "562dc0a4a6d744e6abbb3fed0d35c047": {
      "model_module": "@jupyter-widgets/controls",
      "model_module_version": "1.5.0",
      "model_name": "FloatProgressModel",
      "state": {
       "bar_style": "success",
       "layout": "IPY_MODEL_b5d05619488048e693cfefd8844e4c92",
       "max": 27046,
       "style": "IPY_MODEL_5b3fa898943547e79ef46dc5a4242af4",
       "value": 27046
      }
     },
     "56efaf25b8ce420e98e813c0fae8e270": {
      "model_module": "@jupyter-widgets/controls",
      "model_module_version": "1.5.0",
      "model_name": "DescriptionStyleModel",
      "state": {
       "description_width": ""
      }
     },
     "58afda872d194cb9a46550b93b0bd2c0": {
      "model_module": "@jupyter-widgets/controls",
      "model_module_version": "1.5.0",
      "model_name": "ProgressStyleModel",
      "state": {
       "description_width": ""
      }
     },
     "5a398b852a8d4cc3934a7e7014e6bae3": {
      "model_module": "@jupyter-widgets/controls",
      "model_module_version": "1.5.0",
      "model_name": "DescriptionStyleModel",
      "state": {
       "description_width": ""
      }
     },
     "5b3fa898943547e79ef46dc5a4242af4": {
      "model_module": "@jupyter-widgets/controls",
      "model_module_version": "1.5.0",
      "model_name": "ProgressStyleModel",
      "state": {
       "description_width": ""
      }
     },
     "5c5a5de5e67941cf84e4e8865962be32": {
      "model_module": "@jupyter-widgets/base",
      "model_module_version": "1.2.0",
      "model_name": "LayoutModel",
      "state": {}
     },
     "5c61b2ef7ccb4a8ba69ce11d0fcdb9d2": {
      "model_module": "@jupyter-widgets/controls",
      "model_module_version": "1.5.0",
      "model_name": "HTMLModel",
      "state": {
       "layout": "IPY_MODEL_5c5a5de5e67941cf84e4e8865962be32",
       "style": "IPY_MODEL_03635efec3e241dc93c1ce21954bafd0",
       "value": "Epoch 4, Batch: 27046, Loss: 0.0000: 100%"
      }
     },
     "5d7dead7d9124ba7adb511b88e714cd6": {
      "model_module": "@jupyter-widgets/controls",
      "model_module_version": "1.5.0",
      "model_name": "ProgressStyleModel",
      "state": {
       "description_width": ""
      }
     },
     "5da6050770294dec8a1a24b14028143b": {
      "model_module": "@jupyter-widgets/controls",
      "model_module_version": "1.5.0",
      "model_name": "HTMLModel",
      "state": {
       "layout": "IPY_MODEL_5233e086b02044d9b365c5b7f79306e2",
       "style": "IPY_MODEL_9e441ffaae7b4e29a68ff28308a5f377",
       "value": "Batch: 6762, Loss: 0.0000: 100%"
      }
     },
     "5eaf0bcc57824df9a01fc348b1aefbad": {
      "model_module": "@jupyter-widgets/controls",
      "model_module_version": "1.5.0",
      "model_name": "HTMLModel",
      "state": {
       "layout": "IPY_MODEL_918fb062d54e414c8aa82c4dbf384538",
       "style": "IPY_MODEL_56efaf25b8ce420e98e813c0fae8e270",
       "value": " 6762/6762 [00:33&lt;00:00, 210.03it/s]"
      }
     },
     "5ecc83d0e29d4e0da35159f86ddf1173": {
      "model_module": "@jupyter-widgets/controls",
      "model_module_version": "1.5.0",
      "model_name": "DescriptionStyleModel",
      "state": {
       "description_width": ""
      }
     },
     "5f26d1fde80942d788e2b72c9b6bbe00": {
      "model_module": "@jupyter-widgets/controls",
      "model_module_version": "1.5.0",
      "model_name": "DescriptionStyleModel",
      "state": {
       "description_width": ""
      }
     },
     "5f9510df5bbb4fa6be3ac17ec4481bf8": {
      "model_module": "@jupyter-widgets/controls",
      "model_module_version": "1.5.0",
      "model_name": "HTMLModel",
      "state": {
       "layout": "IPY_MODEL_320c1fb8b79f4e4eb406887841b09684",
       "style": "IPY_MODEL_fb13c336999c408188db5db2ee7339b4",
       "value": " 27046/27046 [04:57&lt;00:00, 83.09it/s]"
      }
     },
     "6030474aca734470a0c02a584e926c08": {
      "model_module": "@jupyter-widgets/controls",
      "model_module_version": "1.5.0",
      "model_name": "FloatProgressModel",
      "state": {
       "bar_style": "success",
       "layout": "IPY_MODEL_69a2c854f4684efa93b6bb3718c0aed4",
       "max": 6762,
       "style": "IPY_MODEL_81a77b6e0acd42339bdcf3bf0887024a",
       "value": 6762
      }
     },
     "6138a3909ba741d4bb0ee6bd6d12530c": {
      "model_module": "@jupyter-widgets/base",
      "model_module_version": "1.2.0",
      "model_name": "LayoutModel",
      "state": {}
     },
     "61ddf0591bbd44c9be32e7fdef7c7605": {
      "model_module": "@jupyter-widgets/base",
      "model_module_version": "1.2.0",
      "model_name": "LayoutModel",
      "state": {}
     },
     "61edc39f1d214cd6a0d0407dc5c10163": {
      "model_module": "@jupyter-widgets/controls",
      "model_module_version": "1.5.0",
      "model_name": "DescriptionStyleModel",
      "state": {
       "description_width": ""
      }
     },
     "623720b4cb904defb10d4a39124bc95c": {
      "model_module": "@jupyter-widgets/controls",
      "model_module_version": "1.5.0",
      "model_name": "FloatProgressModel",
      "state": {
       "bar_style": "success",
       "layout": "IPY_MODEL_6d257f2f6ac44331b3329e5f8a37fa52",
       "max": 27046,
       "style": "IPY_MODEL_f54dc236f36a4f36bd1f5b1ef4ded0f3",
       "value": 27046
      }
     },
     "62a6c9d44743423992265f4056b03ec3": {
      "model_module": "@jupyter-widgets/base",
      "model_module_version": "1.2.0",
      "model_name": "LayoutModel",
      "state": {}
     },
     "648acc25950a4535bef2a1125f2d32d5": {
      "model_module": "@jupyter-widgets/controls",
      "model_module_version": "1.5.0",
      "model_name": "ProgressStyleModel",
      "state": {
       "description_width": ""
      }
     },
     "6656dfe9b00346dca06eb79643769995": {
      "model_module": "@jupyter-widgets/base",
      "model_module_version": "1.2.0",
      "model_name": "LayoutModel",
      "state": {}
     },
     "667b723b566d47babe1213e182d69d4f": {
      "model_module": "@jupyter-widgets/base",
      "model_module_version": "1.2.0",
      "model_name": "LayoutModel",
      "state": {}
     },
     "670d45e7865142caac04da145d490fd8": {
      "model_module": "@jupyter-widgets/base",
      "model_module_version": "1.2.0",
      "model_name": "LayoutModel",
      "state": {}
     },
     "6800bb9ce9a744aba9d159ec355dec32": {
      "model_module": "@jupyter-widgets/controls",
      "model_module_version": "1.5.0",
      "model_name": "FloatProgressModel",
      "state": {
       "bar_style": "success",
       "layout": "IPY_MODEL_0c22c4d76b8b47479dacc0d37f5b84dd",
       "max": 5614,
       "style": "IPY_MODEL_d0ab6956b106453094f403037920c404",
       "value": 5614
      }
     },
     "68169a2413d4448b8c23b9cccea9dd57": {
      "model_module": "@jupyter-widgets/base",
      "model_module_version": "1.2.0",
      "model_name": "LayoutModel",
      "state": {}
     },
     "69a2c854f4684efa93b6bb3718c0aed4": {
      "model_module": "@jupyter-widgets/base",
      "model_module_version": "1.2.0",
      "model_name": "LayoutModel",
      "state": {}
     },
     "69cadbecf02a48bba657f9d23aa29f11": {
      "model_module": "@jupyter-widgets/controls",
      "model_module_version": "1.5.0",
      "model_name": "DescriptionStyleModel",
      "state": {
       "description_width": ""
      }
     },
     "6bdd914b57ce4030b063c7d7ddd36f51": {
      "model_module": "@jupyter-widgets/base",
      "model_module_version": "1.2.0",
      "model_name": "LayoutModel",
      "state": {}
     },
     "6cc58d859439452ebbb0623ef821bd58": {
      "model_module": "@jupyter-widgets/controls",
      "model_module_version": "1.5.0",
      "model_name": "HBoxModel",
      "state": {
       "children": [
        "IPY_MODEL_120bbf37aa7f443f8a76bee7da363ae2",
        "IPY_MODEL_6800bb9ce9a744aba9d159ec355dec32",
        "IPY_MODEL_aa7db7d2275f4c9c98126c142e1a2db8"
       ],
       "layout": "IPY_MODEL_9d1de8815cd84d55a21326050a05845b"
      }
     },
     "6d1e74aeed7142618bb074dc4b25d1d2": {
      "model_module": "@jupyter-widgets/controls",
      "model_module_version": "1.5.0",
      "model_name": "DescriptionStyleModel",
      "state": {
       "description_width": ""
      }
     },
     "6d257f2f6ac44331b3329e5f8a37fa52": {
      "model_module": "@jupyter-widgets/base",
      "model_module_version": "1.2.0",
      "model_name": "LayoutModel",
      "state": {}
     },
     "6d4f7fecc6b14dcd8d2c059d26f1a09b": {
      "model_module": "@jupyter-widgets/base",
      "model_module_version": "1.2.0",
      "model_name": "LayoutModel",
      "state": {}
     },
     "700bab9eaa8a4b47b1992e103d8c08d8": {
      "model_module": "@jupyter-widgets/controls",
      "model_module_version": "1.5.0",
      "model_name": "ProgressStyleModel",
      "state": {
       "description_width": ""
      }
     },
     "70908e873a4d474e8f1e4583617350e1": {
      "model_module": "@jupyter-widgets/controls",
      "model_module_version": "1.5.0",
      "model_name": "DescriptionStyleModel",
      "state": {
       "description_width": ""
      }
     },
     "70cd6156d94541a8b9cb552b4388046a": {
      "model_module": "@jupyter-widgets/controls",
      "model_module_version": "1.5.0",
      "model_name": "ProgressStyleModel",
      "state": {
       "description_width": ""
      }
     },
     "71d556763fb042538fd127d7347937b5": {
      "model_module": "@jupyter-widgets/controls",
      "model_module_version": "1.5.0",
      "model_name": "DescriptionStyleModel",
      "state": {
       "description_width": ""
      }
     },
     "72831f6c01c041daa2d3fce11778e761": {
      "model_module": "@jupyter-widgets/base",
      "model_module_version": "1.2.0",
      "model_name": "LayoutModel",
      "state": {}
     },
     "73e5081c637f4200a3d6b7fe851c553b": {
      "model_module": "@jupyter-widgets/controls",
      "model_module_version": "1.5.0",
      "model_name": "DescriptionStyleModel",
      "state": {
       "description_width": ""
      }
     },
     "7426caa05a8349da9c87e81ce9ae4e3c": {
      "model_module": "@jupyter-widgets/controls",
      "model_module_version": "1.5.0",
      "model_name": "HBoxModel",
      "state": {
       "children": [
        "IPY_MODEL_5c61b2ef7ccb4a8ba69ce11d0fcdb9d2",
        "IPY_MODEL_447aeacde6334e6e98d0efedb22cb5da",
        "IPY_MODEL_b0fc9d4a4b62484aaadedc8398db6e48"
       ],
       "layout": "IPY_MODEL_15d359062ade4ed98e3a2c4a29bb5695"
      }
     },
     "749507d39f174709a47e25146d992211": {
      "model_module": "@jupyter-widgets/base",
      "model_module_version": "1.2.0",
      "model_name": "LayoutModel",
      "state": {}
     },
     "749b21b437c1463584f76a691d01d133": {
      "model_module": "@jupyter-widgets/controls",
      "model_module_version": "1.5.0",
      "model_name": "FloatProgressModel",
      "state": {
       "bar_style": "success",
       "layout": "IPY_MODEL_ebdb7661c6c74726bbfb53d61c0801ea",
       "max": 27046,
       "style": "IPY_MODEL_58afda872d194cb9a46550b93b0bd2c0",
       "value": 27046
      }
     },
     "755f39f69e164124ae7852cc1501db0f": {
      "model_module": "@jupyter-widgets/base",
      "model_module_version": "1.2.0",
      "model_name": "LayoutModel",
      "state": {}
     },
     "756aad002470457bac135119afe5599d": {
      "model_module": "@jupyter-widgets/controls",
      "model_module_version": "1.5.0",
      "model_name": "HTMLModel",
      "state": {
       "layout": "IPY_MODEL_6138a3909ba741d4bb0ee6bd6d12530c",
       "style": "IPY_MODEL_e577744ce0ca436abc7b21dcdc496688",
       "value": " 6762/6762 [00:34&lt;00:00, 201.93it/s]"
      }
     },
     "75d28d30a8ef4b4c8fe01ebd81169349": {
      "model_module": "@jupyter-widgets/base",
      "model_module_version": "1.2.0",
      "model_name": "LayoutModel",
      "state": {}
     },
     "75dfc61c76474fdbbb23ca6312fc2a1e": {
      "model_module": "@jupyter-widgets/base",
      "model_module_version": "1.2.0",
      "model_name": "LayoutModel",
      "state": {}
     },
     "76383df4613043f4ab613ef6feae3a7d": {
      "model_module": "@jupyter-widgets/controls",
      "model_module_version": "1.5.0",
      "model_name": "DescriptionStyleModel",
      "state": {
       "description_width": ""
      }
     },
     "76ac657c634847639408b68ba95d56be": {
      "model_module": "@jupyter-widgets/base",
      "model_module_version": "1.2.0",
      "model_name": "LayoutModel",
      "state": {}
     },
     "7838b2f854a148c1b3e355d0aad5e834": {
      "model_module": "@jupyter-widgets/controls",
      "model_module_version": "1.5.0",
      "model_name": "HBoxModel",
      "state": {
       "children": [
        "IPY_MODEL_5da6050770294dec8a1a24b14028143b",
        "IPY_MODEL_9aca1664c6904e5b9d28c9f768c415a4",
        "IPY_MODEL_a18f2afa34214e698f43507dd71d97cc"
       ],
       "layout": "IPY_MODEL_72831f6c01c041daa2d3fce11778e761"
      }
     },
     "78c07290c5af42178b62604b82c0a607": {
      "model_module": "@jupyter-widgets/controls",
      "model_module_version": "1.5.0",
      "model_name": "HTMLModel",
      "state": {
       "layout": "IPY_MODEL_670d45e7865142caac04da145d490fd8",
       "style": "IPY_MODEL_1af791ce19e4421595bc91a81cae0b6c",
       "value": " 27046/27046 [05:01&lt;00:00, 91.15it/s]"
      }
     },
     "78d408d2c1374f618532a3a3f074e12e": {
      "model_module": "@jupyter-widgets/controls",
      "model_module_version": "1.5.0",
      "model_name": "ProgressStyleModel",
      "state": {
       "description_width": ""
      }
     },
     "79cd749e8d774c4ab8aa440cffd5ffea": {
      "model_module": "@jupyter-widgets/controls",
      "model_module_version": "1.5.0",
      "model_name": "DescriptionStyleModel",
      "state": {
       "description_width": ""
      }
     },
     "7a0c03f6ff3f41ae9ebd49bebbbab782": {
      "model_module": "@jupyter-widgets/controls",
      "model_module_version": "1.5.0",
      "model_name": "HTMLModel",
      "state": {
       "layout": "IPY_MODEL_a63686c9b2094cd8952b1ca04296f02e",
       "style": "IPY_MODEL_d84c69551a344104a9c0c1c7a9461ecc",
       "value": " 6762/6762 [00:33&lt;00:00, 212.22it/s]"
      }
     },
     "7bdfc666479d4fabab72dce4dc127fae": {
      "model_module": "@jupyter-widgets/controls",
      "model_module_version": "1.5.0",
      "model_name": "DescriptionStyleModel",
      "state": {
       "description_width": ""
      }
     },
     "7c6833030479476296c8b54e3bb41297": {
      "model_module": "@jupyter-widgets/controls",
      "model_module_version": "1.5.0",
      "model_name": "HTMLModel",
      "state": {
       "layout": "IPY_MODEL_252d9831c69e4a238d9511f08f8dd75c",
       "style": "IPY_MODEL_8ac02e51b7a748ed915720817b1b0463",
       "value": " 27046/27046 [05:03&lt;00:00, 90.25it/s]"
      }
     },
     "7d72942ca934474fbf14a3a9f51c1018": {
      "model_module": "@jupyter-widgets/controls",
      "model_module_version": "1.5.0",
      "model_name": "HBoxModel",
      "state": {
       "children": [
        "IPY_MODEL_e39c0aa0268d40fbb1fb5494ca0a2e21",
        "IPY_MODEL_ebe5ac2c44254e54b770419536930e5a",
        "IPY_MODEL_5eaf0bcc57824df9a01fc348b1aefbad"
       ],
       "layout": "IPY_MODEL_1678f10919d64dec84ee1b508044646c"
      }
     },
     "7def860847a84f9b905353834ad7162e": {
      "model_module": "@jupyter-widgets/controls",
      "model_module_version": "1.5.0",
      "model_name": "HTMLModel",
      "state": {
       "layout": "IPY_MODEL_b836e45baf6c4d80886b7fd833165890",
       "style": "IPY_MODEL_a00001a8b4a5477e94e7022637d4c7aa",
       "value": "Epoch 6, Batch: 27046, Loss: 0.0059: 100%"
      }
     },
     "7ee675914028428e81896cc6376f6301": {
      "model_module": "@jupyter-widgets/controls",
      "model_module_version": "1.5.0",
      "model_name": "HBoxModel",
      "state": {
       "children": [
        "IPY_MODEL_8afb7b9460ef4ad6ba4fdb6345be8407",
        "IPY_MODEL_bab202785d2c460cba58253c2684dee4",
        "IPY_MODEL_2a95deffcfb04e5f8804ad893d1aa1bb"
       ],
       "layout": "IPY_MODEL_b3dabb38cd6e49a6b9e64ea80e3f7843"
      }
     },
     "80543be2d27f41b19d8719590e0b6cb7": {
      "model_module": "@jupyter-widgets/base",
      "model_module_version": "1.2.0",
      "model_name": "LayoutModel",
      "state": {}
     },
     "808e9f2c21814f66bc202e2333b0c989": {
      "model_module": "@jupyter-widgets/base",
      "model_module_version": "1.2.0",
      "model_name": "LayoutModel",
      "state": {}
     },
     "80eebbefd6cd43cc8f94131e95e20414": {
      "model_module": "@jupyter-widgets/base",
      "model_module_version": "1.2.0",
      "model_name": "LayoutModel",
      "state": {}
     },
     "81a77b6e0acd42339bdcf3bf0887024a": {
      "model_module": "@jupyter-widgets/controls",
      "model_module_version": "1.5.0",
      "model_name": "ProgressStyleModel",
      "state": {
       "description_width": ""
      }
     },
     "8237633c438144bf8b0323111e7f0e2a": {
      "model_module": "@jupyter-widgets/controls",
      "model_module_version": "1.5.0",
      "model_name": "HTMLModel",
      "state": {
       "layout": "IPY_MODEL_99dba61448de4d08af15b1edeeec7b54",
       "style": "IPY_MODEL_a09ea952cb054703baa10f828caf62a2",
       "value": "Batch: 6762, Loss: 0.0012: 100%"
      }
     },
     "82e6c28e4bed4b95911cacccac60bf93": {
      "model_module": "@jupyter-widgets/base",
      "model_module_version": "1.2.0",
      "model_name": "LayoutModel",
      "state": {}
     },
     "830ad700153145388d372e5accf6af57": {
      "model_module": "@jupyter-widgets/controls",
      "model_module_version": "1.5.0",
      "model_name": "HTMLModel",
      "state": {
       "layout": "IPY_MODEL_fccc011432e1470f8038b76994237130",
       "style": "IPY_MODEL_1fa45a8772b5413ba85447bebe6436b0",
       "value": " 6762/6762 [00:36&lt;00:00, 194.90it/s]"
      }
     },
     "83f0e1877fe0427cad8fdf4f40a926f6": {
      "model_module": "@jupyter-widgets/controls",
      "model_module_version": "1.5.0",
      "model_name": "DescriptionStyleModel",
      "state": {
       "description_width": ""
      }
     },
     "84848b9c9a82436b93e3c8ac1ea018fa": {
      "model_module": "@jupyter-widgets/base",
      "model_module_version": "1.2.0",
      "model_name": "LayoutModel",
      "state": {}
     },
     "84ae183be7f04174adcc7ae269567462": {
      "model_module": "@jupyter-widgets/controls",
      "model_module_version": "1.5.0",
      "model_name": "HBoxModel",
      "state": {
       "children": [
        "IPY_MODEL_b0c47e22bf0e47bd84cc35e9c6ea3d06",
        "IPY_MODEL_eb922296b9b2436a9d8481ae0eaf32bb",
        "IPY_MODEL_7a0c03f6ff3f41ae9ebd49bebbbab782"
       ],
       "layout": "IPY_MODEL_bf2f77db89f34303b5dec50eafb72513"
      }
     },
     "8527b728769b41eba74fc252c4ad9962": {
      "model_module": "@jupyter-widgets/base",
      "model_module_version": "1.2.0",
      "model_name": "LayoutModel",
      "state": {}
     },
     "855f9140bfc94294a6b6e49d7e99e1e5": {
      "model_module": "@jupyter-widgets/controls",
      "model_module_version": "1.5.0",
      "model_name": "FloatProgressModel",
      "state": {
       "bar_style": "success",
       "layout": "IPY_MODEL_247797b48311466faaa6365160fb3488",
       "max": 6762,
       "style": "IPY_MODEL_89866597a24546ddb961e4f19aa29fcb",
       "value": 6762
      }
     },
     "85d42e802f9040d49488f8498d7119a5": {
      "model_module": "@jupyter-widgets/base",
      "model_module_version": "1.2.0",
      "model_name": "LayoutModel",
      "state": {}
     },
     "86311a41b1bc4547bc59da17e2d19a2e": {
      "model_module": "@jupyter-widgets/base",
      "model_module_version": "1.2.0",
      "model_name": "LayoutModel",
      "state": {}
     },
     "87798adaee264b51babe0be8e42c244b": {
      "model_module": "@jupyter-widgets/controls",
      "model_module_version": "1.5.0",
      "model_name": "HTMLModel",
      "state": {
       "layout": "IPY_MODEL_4dc2087ac0cc41eba5a85162d3dc1f9a",
       "style": "IPY_MODEL_f55be53952864971a67492570a06dd8f",
       "value": "Epoch 1, Batch: 27046, Loss: 0.0001: 100%"
      }
     },
     "893dffb682844000972d166675e69060": {
      "model_module": "@jupyter-widgets/base",
      "model_module_version": "1.2.0",
      "model_name": "LayoutModel",
      "state": {}
     },
     "89866597a24546ddb961e4f19aa29fcb": {
      "model_module": "@jupyter-widgets/controls",
      "model_module_version": "1.5.0",
      "model_name": "ProgressStyleModel",
      "state": {
       "description_width": ""
      }
     },
     "89cedd9c12154965ae3013b5ce1f9281": {
      "model_module": "@jupyter-widgets/base",
      "model_module_version": "1.2.0",
      "model_name": "LayoutModel",
      "state": {}
     },
     "8a23c3976e4445deb805ca8f649f98ed": {
      "model_module": "@jupyter-widgets/controls",
      "model_module_version": "1.5.0",
      "model_name": "FloatProgressModel",
      "state": {
       "bar_style": "success",
       "layout": "IPY_MODEL_33f6ad3b34b045328cb40c58080e2174",
       "max": 6762,
       "style": "IPY_MODEL_9e75313bc4c64befbe11c06926d3caf1",
       "value": 6762
      }
     },
     "8a4e68076ba5467e91ebc9a7aeecc3a3": {
      "model_module": "@jupyter-widgets/base",
      "model_module_version": "1.2.0",
      "model_name": "LayoutModel",
      "state": {}
     },
     "8ac02e51b7a748ed915720817b1b0463": {
      "model_module": "@jupyter-widgets/controls",
      "model_module_version": "1.5.0",
      "model_name": "DescriptionStyleModel",
      "state": {
       "description_width": ""
      }
     },
     "8ac64cdc7f46433c9d362686c29af935": {
      "model_module": "@jupyter-widgets/controls",
      "model_module_version": "1.5.0",
      "model_name": "DescriptionStyleModel",
      "state": {
       "description_width": ""
      }
     },
     "8afb7b9460ef4ad6ba4fdb6345be8407": {
      "model_module": "@jupyter-widgets/controls",
      "model_module_version": "1.5.0",
      "model_name": "HTMLModel",
      "state": {
       "layout": "IPY_MODEL_c6c3e6beaa0049588c25bd65c76043fe",
       "style": "IPY_MODEL_e058be63bc8649bfa5e2570356a2083f",
       "value": "Epoch 10, Batch: 27046, Loss: 0.0024: 100%"
      }
     },
     "8c6cc26bfba343818b1be24341b43af7": {
      "model_module": "@jupyter-widgets/controls",
      "model_module_version": "1.5.0",
      "model_name": "HTMLModel",
      "state": {
       "layout": "IPY_MODEL_3388f2fd9fe9436f9836738db8afdf05",
       "style": "IPY_MODEL_1b490b3d0c8741e7b0d2e4b8e5eddae8",
       "value": "Epoch 9, Batch: 27046, Loss: 0.0002: 100%"
      }
     },
     "8c90d2b2b19341619a48b763b5284d2e": {
      "model_module": "@jupyter-widgets/controls",
      "model_module_version": "1.5.0",
      "model_name": "HTMLModel",
      "state": {
       "layout": "IPY_MODEL_a3a35896142a44e0b5a27dacee0c61cd",
       "style": "IPY_MODEL_97303b5b999e4df498c48dbd78cbf400",
       "value": " 27046/27046 [04:56&lt;00:00, 93.33it/s]"
      }
     },
     "8cea37d3355b45b2a1e6fe9ad0fecb41": {
      "model_module": "@jupyter-widgets/controls",
      "model_module_version": "1.5.0",
      "model_name": "HBoxModel",
      "state": {
       "children": [
        "IPY_MODEL_87798adaee264b51babe0be8e42c244b",
        "IPY_MODEL_1093e3782cc5451d8fb4fb8004bca140",
        "IPY_MODEL_8c90d2b2b19341619a48b763b5284d2e"
       ],
       "layout": "IPY_MODEL_fc6d1b3f4a184a818c906b370789cf76"
      }
     },
     "8d026a46d59e498291559b50928692c3": {
      "model_module": "@jupyter-widgets/controls",
      "model_module_version": "1.5.0",
      "model_name": "HTMLModel",
      "state": {
       "layout": "IPY_MODEL_c714b398d9b2487986e2d63d8cbc2447",
       "style": "IPY_MODEL_428a00cfda104c52b9b1479c44ce918b",
       "value": "Batch: 6762, Loss: 0.0002: 100%"
      }
     },
     "8d5cb8735e1e4584bcebaa12da4498fd": {
      "model_module": "@jupyter-widgets/base",
      "model_module_version": "1.2.0",
      "model_name": "LayoutModel",
      "state": {}
     },
     "8e33f41bb58f4e6c80057cacd0da14f8": {
      "model_module": "@jupyter-widgets/base",
      "model_module_version": "1.2.0",
      "model_name": "LayoutModel",
      "state": {}
     },
     "8e9f8292e06d42de8ade2756ca9815a1": {
      "model_module": "@jupyter-widgets/controls",
      "model_module_version": "1.5.0",
      "model_name": "HTMLModel",
      "state": {
       "layout": "IPY_MODEL_3de68769691b4bb8b4232e81f6b6debe",
       "style": "IPY_MODEL_caa67bec78bf4954b797e83cb01507fa",
       "value": "Epoch 0, Batch: 27046, Loss: 0.0039: 100%"
      }
     },
     "8f23bb7d2b0549a186a4dfa6b25f34f2": {
      "model_module": "@jupyter-widgets/base",
      "model_module_version": "1.2.0",
      "model_name": "LayoutModel",
      "state": {}
     },
     "8f828a50afa34a1f947e0a644de56ec5": {
      "model_module": "@jupyter-widgets/controls",
      "model_module_version": "1.5.0",
      "model_name": "DescriptionStyleModel",
      "state": {
       "description_width": ""
      }
     },
     "900a1f77fefc4a149e2fb2d5f41c9078": {
      "model_module": "@jupyter-widgets/controls",
      "model_module_version": "1.5.0",
      "model_name": "HBoxModel",
      "state": {
       "children": [
        "IPY_MODEL_37d84c44cd024bc59fedb1d9679ee074",
        "IPY_MODEL_930b5e39afa24e62a99f78ca1fe4fda3",
        "IPY_MODEL_bdf09c7fe0e247ae8739800fbd853142"
       ],
       "layout": "IPY_MODEL_19f117cd6b0b40288d07590cb921a119"
      }
     },
     "909f3110719947fd9aedd4142b4b8fc8": {
      "model_module": "@jupyter-widgets/controls",
      "model_module_version": "1.5.0",
      "model_name": "FloatProgressModel",
      "state": {
       "bar_style": "success",
       "layout": "IPY_MODEL_d772a165069e40e398b25c2c35868cc9",
       "max": 27046,
       "style": "IPY_MODEL_f397473a113149088454a97708f096be",
       "value": 27046
      }
     },
     "90c7d598b1b44c5091a3879355439e70": {
      "model_module": "@jupyter-widgets/controls",
      "model_module_version": "1.5.0",
      "model_name": "DescriptionStyleModel",
      "state": {
       "description_width": ""
      }
     },
     "918fb062d54e414c8aa82c4dbf384538": {
      "model_module": "@jupyter-widgets/base",
      "model_module_version": "1.2.0",
      "model_name": "LayoutModel",
      "state": {}
     },
     "9230aeae8c7b4cfaa50ad8eaddb48fda": {
      "model_module": "@jupyter-widgets/controls",
      "model_module_version": "1.5.0",
      "model_name": "HBoxModel",
      "state": {
       "children": [
        "IPY_MODEL_53de5dc36ea04259a9ab79409800db7e",
        "IPY_MODEL_43c6a6484a774620a2a409c37b9ac999",
        "IPY_MODEL_ec200c12b6e3406499ee0df46781315e"
       ],
       "layout": "IPY_MODEL_62a6c9d44743423992265f4056b03ec3"
      }
     },
     "93094452065043bc86d3585fd96de12d": {
      "model_module": "@jupyter-widgets/base",
      "model_module_version": "1.2.0",
      "model_name": "LayoutModel",
      "state": {}
     },
     "930b5e39afa24e62a99f78ca1fe4fda3": {
      "model_module": "@jupyter-widgets/controls",
      "model_module_version": "1.5.0",
      "model_name": "FloatProgressModel",
      "state": {
       "bar_style": "success",
       "layout": "IPY_MODEL_be6642dba6a04915ac73c178f603335e",
       "max": 6762,
       "style": "IPY_MODEL_700bab9eaa8a4b47b1992e103d8c08d8",
       "value": 6762
      }
     },
     "934387f1efa242dc8043f8e953a7bda9": {
      "model_module": "@jupyter-widgets/base",
      "model_module_version": "1.2.0",
      "model_name": "LayoutModel",
      "state": {}
     },
     "93e9f85247764ebcaee22dc36b441e76": {
      "model_module": "@jupyter-widgets/controls",
      "model_module_version": "1.5.0",
      "model_name": "ProgressStyleModel",
      "state": {
       "description_width": ""
      }
     },
     "93ee188c57d44b0585d910a5122b795d": {
      "model_module": "@jupyter-widgets/controls",
      "model_module_version": "1.5.0",
      "model_name": "HTMLModel",
      "state": {
       "layout": "IPY_MODEL_474f8c3d5ea64d96a101814dce6b4f83",
       "style": "IPY_MODEL_8ac64cdc7f46433c9d362686c29af935",
       "value": " 6762/6762 [00:34&lt;00:00, 205.75it/s]"
      }
     },
     "9661a30c477c4f7db5d45e3a1a333334": {
      "model_module": "@jupyter-widgets/controls",
      "model_module_version": "1.5.0",
      "model_name": "HBoxModel",
      "state": {
       "children": [
        "IPY_MODEL_e203122cd6de459b9a26559593e88e0b",
        "IPY_MODEL_855f9140bfc94294a6b6e49d7e99e1e5",
        "IPY_MODEL_541513733380444e98b07eff6d360bbc"
       ],
       "layout": "IPY_MODEL_d602bfb9ed00419388875811b7909c1b"
      }
     },
     "966d94ce4c974efeb3b28b7f9d744b2e": {
      "model_module": "@jupyter-widgets/base",
      "model_module_version": "1.2.0",
      "model_name": "LayoutModel",
      "state": {}
     },
     "96b8d9f4001243c59ad39973ecbeb552": {
      "model_module": "@jupyter-widgets/controls",
      "model_module_version": "1.5.0",
      "model_name": "HBoxModel",
      "state": {
       "children": [
        "IPY_MODEL_e00a47cd1b2f4c499afa233c00b60da2",
        "IPY_MODEL_ef7f1827d1434977a0bf01c19919fb5e",
        "IPY_MODEL_ec026b74bf9b4dabb3d8acdf3b91c48c"
       ],
       "layout": "IPY_MODEL_a39d3d13a29d4580856ab3cd1a02d040"
      }
     },
     "97303b5b999e4df498c48dbd78cbf400": {
      "model_module": "@jupyter-widgets/controls",
      "model_module_version": "1.5.0",
      "model_name": "DescriptionStyleModel",
      "state": {
       "description_width": ""
      }
     },
     "984197ad9f29485fbb157c328089bafa": {
      "model_module": "@jupyter-widgets/controls",
      "model_module_version": "1.5.0",
      "model_name": "ProgressStyleModel",
      "state": {
       "description_width": ""
      }
     },
     "99b66e5b545d4ea3addeb37c25d6760b": {
      "model_module": "@jupyter-widgets/controls",
      "model_module_version": "1.5.0",
      "model_name": "DescriptionStyleModel",
      "state": {
       "description_width": ""
      }
     },
     "99dba61448de4d08af15b1edeeec7b54": {
      "model_module": "@jupyter-widgets/base",
      "model_module_version": "1.2.0",
      "model_name": "LayoutModel",
      "state": {}
     },
     "9a1137837d01486cb069992b7ab33608": {
      "model_module": "@jupyter-widgets/base",
      "model_module_version": "1.2.0",
      "model_name": "LayoutModel",
      "state": {}
     },
     "9a3a23a105514363b9199b0debe7b6ff": {
      "model_module": "@jupyter-widgets/base",
      "model_module_version": "1.2.0",
      "model_name": "LayoutModel",
      "state": {}
     },
     "9aca1664c6904e5b9d28c9f768c415a4": {
      "model_module": "@jupyter-widgets/controls",
      "model_module_version": "1.5.0",
      "model_name": "FloatProgressModel",
      "state": {
       "bar_style": "success",
       "layout": "IPY_MODEL_363088281d454b54a196060a4c364945",
       "max": 6762,
       "style": "IPY_MODEL_0e12aeb1fc894744924de315b859d1ef",
       "value": 6762
      }
     },
     "9c877cb26efb408d954ebc26b4fb6bbb": {
      "model_module": "@jupyter-widgets/controls",
      "model_module_version": "1.5.0",
      "model_name": "HTMLModel",
      "state": {
       "layout": "IPY_MODEL_a4f241e53b5844a3a5140e8599730195",
       "style": "IPY_MODEL_70908e873a4d474e8f1e4583617350e1",
       "value": " 6762/6762 [00:33&lt;00:00, 208.69it/s]"
      }
     },
     "9d1de8815cd84d55a21326050a05845b": {
      "model_module": "@jupyter-widgets/base",
      "model_module_version": "1.2.0",
      "model_name": "LayoutModel",
      "state": {}
     },
     "9e441ffaae7b4e29a68ff28308a5f377": {
      "model_module": "@jupyter-widgets/controls",
      "model_module_version": "1.5.0",
      "model_name": "DescriptionStyleModel",
      "state": {
       "description_width": ""
      }
     },
     "9e6558f6de5946dca90719e18fb38b62": {
      "model_module": "@jupyter-widgets/base",
      "model_module_version": "1.2.0",
      "model_name": "LayoutModel",
      "state": {}
     },
     "9e6c167384904949a4456f7415970a5b": {
      "model_module": "@jupyter-widgets/controls",
      "model_module_version": "1.5.0",
      "model_name": "DescriptionStyleModel",
      "state": {
       "description_width": ""
      }
     },
     "9e75313bc4c64befbe11c06926d3caf1": {
      "model_module": "@jupyter-widgets/controls",
      "model_module_version": "1.5.0",
      "model_name": "ProgressStyleModel",
      "state": {
       "description_width": ""
      }
     },
     "9e922377f47b427ca877b748cf88c5d3": {
      "model_module": "@jupyter-widgets/base",
      "model_module_version": "1.2.0",
      "model_name": "LayoutModel",
      "state": {}
     },
     "9f76ebc0f0a440c185a46549703c6917": {
      "model_module": "@jupyter-widgets/controls",
      "model_module_version": "1.5.0",
      "model_name": "HTMLModel",
      "state": {
       "layout": "IPY_MODEL_6656dfe9b00346dca06eb79643769995",
       "style": "IPY_MODEL_d3f4ffafc47f43518df4afb576e084d3",
       "value": "Epoch 11, Batch: 27046, Loss: 0.0035: 100%"
      }
     },
     "a00001a8b4a5477e94e7022637d4c7aa": {
      "model_module": "@jupyter-widgets/controls",
      "model_module_version": "1.5.0",
      "model_name": "DescriptionStyleModel",
      "state": {
       "description_width": ""
      }
     },
     "a09ea952cb054703baa10f828caf62a2": {
      "model_module": "@jupyter-widgets/controls",
      "model_module_version": "1.5.0",
      "model_name": "DescriptionStyleModel",
      "state": {
       "description_width": ""
      }
     },
     "a0bf8b56e98b429a8bf55c73ba54b23d": {
      "model_module": "@jupyter-widgets/base",
      "model_module_version": "1.2.0",
      "model_name": "LayoutModel",
      "state": {}
     },
     "a0ddb8d0cc704cc0a0a2ff8dd88e30e5": {
      "model_module": "@jupyter-widgets/controls",
      "model_module_version": "1.5.0",
      "model_name": "FloatProgressModel",
      "state": {
       "bar_style": "success",
       "layout": "IPY_MODEL_966d94ce4c974efeb3b28b7f9d744b2e",
       "max": 6762,
       "style": "IPY_MODEL_4a04052c52324bc69cdf1e2bb33c3c8e",
       "value": 6762
      }
     },
     "a0e0e886869a454dad2ea7d5887659c2": {
      "model_module": "@jupyter-widgets/controls",
      "model_module_version": "1.5.0",
      "model_name": "DescriptionStyleModel",
      "state": {
       "description_width": ""
      }
     },
     "a13e7a3943ec44879faecd537f85a579": {
      "model_module": "@jupyter-widgets/controls",
      "model_module_version": "1.5.0",
      "model_name": "HTMLModel",
      "state": {
       "layout": "IPY_MODEL_6d4f7fecc6b14dcd8d2c059d26f1a09b",
       "style": "IPY_MODEL_83f0e1877fe0427cad8fdf4f40a926f6",
       "value": " 27046/27046 [04:53&lt;00:00, 89.29it/s]"
      }
     },
     "a148af03ce7a4ec9a7e1ab427f724eb0": {
      "model_module": "@jupyter-widgets/controls",
      "model_module_version": "1.5.0",
      "model_name": "FloatProgressModel",
      "state": {
       "bar_style": "success",
       "layout": "IPY_MODEL_a475b0c8bcb5492697d1a3fda1fa0d6a",
       "max": 6762,
       "style": "IPY_MODEL_78d408d2c1374f618532a3a3f074e12e",
       "value": 6762
      }
     },
     "a18f2afa34214e698f43507dd71d97cc": {
      "model_module": "@jupyter-widgets/controls",
      "model_module_version": "1.5.0",
      "model_name": "HTMLModel",
      "state": {
       "layout": "IPY_MODEL_482fbda80d954a81b9aa2216a71207a9",
       "style": "IPY_MODEL_af103ac194df419fa7f0b7be5ca9d7cb",
       "value": " 6762/6762 [00:35&lt;00:00, 203.79it/s]"
      }
     },
     "a39d3d13a29d4580856ab3cd1a02d040": {
      "model_module": "@jupyter-widgets/base",
      "model_module_version": "1.2.0",
      "model_name": "LayoutModel",
      "state": {}
     },
     "a3a35896142a44e0b5a27dacee0c61cd": {
      "model_module": "@jupyter-widgets/base",
      "model_module_version": "1.2.0",
      "model_name": "LayoutModel",
      "state": {}
     },
     "a475b0c8bcb5492697d1a3fda1fa0d6a": {
      "model_module": "@jupyter-widgets/base",
      "model_module_version": "1.2.0",
      "model_name": "LayoutModel",
      "state": {}
     },
     "a4f241e53b5844a3a5140e8599730195": {
      "model_module": "@jupyter-widgets/base",
      "model_module_version": "1.2.0",
      "model_name": "LayoutModel",
      "state": {}
     },
     "a63686c9b2094cd8952b1ca04296f02e": {
      "model_module": "@jupyter-widgets/base",
      "model_module_version": "1.2.0",
      "model_name": "LayoutModel",
      "state": {}
     },
     "a6f15afbd1c74a1095d95fb70c7afb64": {
      "model_module": "@jupyter-widgets/controls",
      "model_module_version": "1.5.0",
      "model_name": "HTMLModel",
      "state": {
       "layout": "IPY_MODEL_193fc7e3934f462d82a5c26683b667e9",
       "style": "IPY_MODEL_54cfe7d58e5b4ab2bd441456e1b9cd04",
       "value": " 27046/27046 [04:54&lt;00:00, 95.64it/s]"
      }
     },
     "a7b0ee18fe96488d8225d5adddce1e64": {
      "model_module": "@jupyter-widgets/base",
      "model_module_version": "1.2.0",
      "model_name": "LayoutModel",
      "state": {}
     },
     "a8e063ae35274c70bc0cc1d17772ae53": {
      "model_module": "@jupyter-widgets/controls",
      "model_module_version": "1.5.0",
      "model_name": "FloatProgressModel",
      "state": {
       "bar_style": "success",
       "layout": "IPY_MODEL_3a984630d12949cbaef954dd5a2a93b7",
       "max": 27046,
       "style": "IPY_MODEL_c91e4d64fbb34306b236e21bcb21ca8a",
       "value": 27046
      }
     },
     "a9ded25a7c77463c9745f955a57a54fc": {
      "model_module": "@jupyter-widgets/controls",
      "model_module_version": "1.5.0",
      "model_name": "ProgressStyleModel",
      "state": {
       "description_width": ""
      }
     },
     "aa550bd074714ed2905b8770b882677f": {
      "model_module": "@jupyter-widgets/controls",
      "model_module_version": "1.5.0",
      "model_name": "DescriptionStyleModel",
      "state": {
       "description_width": ""
      }
     },
     "aa7db7d2275f4c9c98126c142e1a2db8": {
      "model_module": "@jupyter-widgets/controls",
      "model_module_version": "1.5.0",
      "model_name": "HTMLModel",
      "state": {
       "layout": "IPY_MODEL_9e922377f47b427ca877b748cf88c5d3",
       "style": "IPY_MODEL_90c7d598b1b44c5091a3879355439e70",
       "value": " 5614/5614 [00:35&lt;00:00, 159.99it/s]"
      }
     },
     "aa9227dcc794467aafa79e71f27ee746": {
      "model_module": "@jupyter-widgets/controls",
      "model_module_version": "1.5.0",
      "model_name": "HTMLModel",
      "state": {
       "layout": "IPY_MODEL_f01e3a1c985048e49da4524a7883c317",
       "style": "IPY_MODEL_99b66e5b545d4ea3addeb37c25d6760b",
       "value": " 27046/27046 [04:55&lt;00:00, 93.12it/s]"
      }
     },
     "ab309bdf76aa419784f316810c614810": {
      "model_module": "@jupyter-widgets/controls",
      "model_module_version": "1.5.0",
      "model_name": "DescriptionStyleModel",
      "state": {
       "description_width": ""
      }
     },
     "ac7b53d65c77466f8ed480f944399d2b": {
      "model_module": "@jupyter-widgets/controls",
      "model_module_version": "1.5.0",
      "model_name": "HTMLModel",
      "state": {
       "layout": "IPY_MODEL_f4d0afa268a34d31a11748e21af5ba25",
       "style": "IPY_MODEL_a0e0e886869a454dad2ea7d5887659c2",
       "value": "Batch: 6762, Loss: 0.0015: 100%"
      }
     },
     "ae21b19a163249fcb1c50257920cb4b4": {
      "model_module": "@jupyter-widgets/base",
      "model_module_version": "1.2.0",
      "model_name": "LayoutModel",
      "state": {}
     },
     "ae4ddbffcfa1439cbf0528e013750bfb": {
      "model_module": "@jupyter-widgets/controls",
      "model_module_version": "1.5.0",
      "model_name": "HTMLModel",
      "state": {
       "layout": "IPY_MODEL_2f454bc7a5244fc8a36e1acb60860de9",
       "style": "IPY_MODEL_25c96223644a4fde947ce81979dce3ad",
       "value": "Epoch 8, Batch: 27046, Loss: 0.0000: 100%"
      }
     },
     "af103ac194df419fa7f0b7be5ca9d7cb": {
      "model_module": "@jupyter-widgets/controls",
      "model_module_version": "1.5.0",
      "model_name": "DescriptionStyleModel",
      "state": {
       "description_width": ""
      }
     },
     "af14a9ef4a314c70919a25eb65cd2bd4": {
      "model_module": "@jupyter-widgets/base",
      "model_module_version": "1.2.0",
      "model_name": "LayoutModel",
      "state": {}
     },
     "afcdf335cffe414ab9f07803752e0555": {
      "model_module": "@jupyter-widgets/controls",
      "model_module_version": "1.5.0",
      "model_name": "DescriptionStyleModel",
      "state": {
       "description_width": ""
      }
     },
     "aff0d1edb1c44f2bbd67c8e30a6d4da4": {
      "model_module": "@jupyter-widgets/controls",
      "model_module_version": "1.5.0",
      "model_name": "HBoxModel",
      "state": {
       "children": [
        "IPY_MODEL_8237633c438144bf8b0323111e7f0e2a",
        "IPY_MODEL_d0081cb9789944c2b8be4af67b638302",
        "IPY_MODEL_0c76ed93f327405f91ef481ef78270ec"
       ],
       "layout": "IPY_MODEL_9a3a23a105514363b9199b0debe7b6ff"
      }
     },
     "b0c47e22bf0e47bd84cc35e9c6ea3d06": {
      "model_module": "@jupyter-widgets/controls",
      "model_module_version": "1.5.0",
      "model_name": "HTMLModel",
      "state": {
       "layout": "IPY_MODEL_05e067499d11459b98a04eb7359170f8",
       "style": "IPY_MODEL_ed576228451845fa9546d79bbc65dc3a",
       "value": "Batch: 6762, Loss: 0.0000: 100%"
      }
     },
     "b0f195fc24a94c559967f378ba186de8": {
      "model_module": "@jupyter-widgets/controls",
      "model_module_version": "1.5.0",
      "model_name": "FloatProgressModel",
      "state": {
       "bar_style": "success",
       "layout": "IPY_MODEL_fff2d19d69fb41a0a612b61cb8c78527",
       "max": 27046,
       "style": "IPY_MODEL_39413b5b7be1420fb47005d6ceee28d7",
       "value": 27046
      }
     },
     "b0fc9d4a4b62484aaadedc8398db6e48": {
      "model_module": "@jupyter-widgets/controls",
      "model_module_version": "1.5.0",
      "model_name": "HTMLModel",
      "state": {
       "layout": "IPY_MODEL_c48d4f2887e743389e28c7722d6903d1",
       "style": "IPY_MODEL_dc787859f4114b58b9316f3640805842",
       "value": " 27046/27046 [04:53&lt;00:00, 91.48it/s]"
      }
     },
     "b1a3521741a34c3fa7812a3dc648efb5": {
      "model_module": "@jupyter-widgets/controls",
      "model_module_version": "1.5.0",
      "model_name": "FloatProgressModel",
      "state": {
       "bar_style": "success",
       "layout": "IPY_MODEL_d63e0c8a3845485ba2ea1ea4c76bb3a5",
       "max": 6762,
       "style": "IPY_MODEL_cf688ac9def341baa6ad9646a80fc438",
       "value": 6762
      }
     },
     "b1a9768cda464981a7bfd9a076a12023": {
      "model_module": "@jupyter-widgets/controls",
      "model_module_version": "1.5.0",
      "model_name": "HBoxModel",
      "state": {
       "children": [
        "IPY_MODEL_0824b0ff3aa24f02ac81b48e60c7ebbc",
        "IPY_MODEL_a148af03ce7a4ec9a7e1ab427f724eb0",
        "IPY_MODEL_3d2cff0a72844cdfa834eab605c6ec7b"
       ],
       "layout": "IPY_MODEL_755f39f69e164124ae7852cc1501db0f"
      }
     },
     "b3dabb38cd6e49a6b9e64ea80e3f7843": {
      "model_module": "@jupyter-widgets/base",
      "model_module_version": "1.2.0",
      "model_name": "LayoutModel",
      "state": {}
     },
     "b5d05619488048e693cfefd8844e4c92": {
      "model_module": "@jupyter-widgets/base",
      "model_module_version": "1.2.0",
      "model_name": "LayoutModel",
      "state": {}
     },
     "b7fa1cba68a94845bf7860cbfe281d87": {
      "model_module": "@jupyter-widgets/controls",
      "model_module_version": "1.5.0",
      "model_name": "HBoxModel",
      "state": {
       "children": [
        "IPY_MODEL_259050717e144e08a8663cfc7839abd4",
        "IPY_MODEL_c50bdb76439244e79955adc991fbecf3",
        "IPY_MODEL_1224caefaae649c5995464da20745618"
       ],
       "layout": "IPY_MODEL_934387f1efa242dc8043f8e953a7bda9"
      }
     },
     "b836e45baf6c4d80886b7fd833165890": {
      "model_module": "@jupyter-widgets/base",
      "model_module_version": "1.2.0",
      "model_name": "LayoutModel",
      "state": {}
     },
     "b9dfcfd42647483082c9357fa23de118": {
      "model_module": "@jupyter-widgets/base",
      "model_module_version": "1.2.0",
      "model_name": "LayoutModel",
      "state": {}
     },
     "bab202785d2c460cba58253c2684dee4": {
      "model_module": "@jupyter-widgets/controls",
      "model_module_version": "1.5.0",
      "model_name": "FloatProgressModel",
      "state": {
       "bar_style": "success",
       "layout": "IPY_MODEL_dc2e0973acbf4cb883d4e061cf6f8c19",
       "max": 27046,
       "style": "IPY_MODEL_648acc25950a4535bef2a1125f2d32d5",
       "value": 27046
      }
     },
     "bb340fce238d48cda4890d5b839788f1": {
      "model_module": "@jupyter-widgets/base",
      "model_module_version": "1.2.0",
      "model_name": "LayoutModel",
      "state": {}
     },
     "bd8abb837ac249689da382182aa5f535": {
      "model_module": "@jupyter-widgets/base",
      "model_module_version": "1.2.0",
      "model_name": "LayoutModel",
      "state": {}
     },
     "bdcad6e1318a4fe88b6f1d2967ebb417": {
      "model_module": "@jupyter-widgets/base",
      "model_module_version": "1.2.0",
      "model_name": "LayoutModel",
      "state": {}
     },
     "bdf09c7fe0e247ae8739800fbd853142": {
      "model_module": "@jupyter-widgets/controls",
      "model_module_version": "1.5.0",
      "model_name": "HTMLModel",
      "state": {
       "layout": "IPY_MODEL_d0480d7b226c424f91c7e8454df66377",
       "style": "IPY_MODEL_aa550bd074714ed2905b8770b882677f",
       "value": " 6762/6762 [00:34&lt;00:00, 205.60it/s]"
      }
     },
     "be6642dba6a04915ac73c178f603335e": {
      "model_module": "@jupyter-widgets/base",
      "model_module_version": "1.2.0",
      "model_name": "LayoutModel",
      "state": {}
     },
     "be8291a016ba452e91d4dabda357ed6d": {
      "model_module": "@jupyter-widgets/controls",
      "model_module_version": "1.5.0",
      "model_name": "ProgressStyleModel",
      "state": {
       "description_width": ""
      }
     },
     "bf1d520194a14bb682102802a06aeb99": {
      "model_module": "@jupyter-widgets/base",
      "model_module_version": "1.2.0",
      "model_name": "LayoutModel",
      "state": {}
     },
     "bf2f77db89f34303b5dec50eafb72513": {
      "model_module": "@jupyter-widgets/base",
      "model_module_version": "1.2.0",
      "model_name": "LayoutModel",
      "state": {}
     },
     "bfa446035485437bbe4ae852abc67a78": {
      "model_module": "@jupyter-widgets/controls",
      "model_module_version": "1.5.0",
      "model_name": "DescriptionStyleModel",
      "state": {
       "description_width": ""
      }
     },
     "c48d4f2887e743389e28c7722d6903d1": {
      "model_module": "@jupyter-widgets/base",
      "model_module_version": "1.2.0",
      "model_name": "LayoutModel",
      "state": {}
     },
     "c50bdb76439244e79955adc991fbecf3": {
      "model_module": "@jupyter-widgets/controls",
      "model_module_version": "1.5.0",
      "model_name": "FloatProgressModel",
      "state": {
       "bar_style": "success",
       "layout": "IPY_MODEL_4b41ab96861d48c38dfd06dbaa0b9e3e",
       "max": 27046,
       "style": "IPY_MODEL_e1fd2399d6e949bbbd177e8bf66744b9",
       "value": 27046
      }
     },
     "c6c3e6beaa0049588c25bd65c76043fe": {
      "model_module": "@jupyter-widgets/base",
      "model_module_version": "1.2.0",
      "model_name": "LayoutModel",
      "state": {}
     },
     "c714b398d9b2487986e2d63d8cbc2447": {
      "model_module": "@jupyter-widgets/base",
      "model_module_version": "1.2.0",
      "model_name": "LayoutModel",
      "state": {}
     },
     "c91e4d64fbb34306b236e21bcb21ca8a": {
      "model_module": "@jupyter-widgets/controls",
      "model_module_version": "1.5.0",
      "model_name": "ProgressStyleModel",
      "state": {
       "description_width": ""
      }
     },
     "c94854316f4d4114b1260078015fbe91": {
      "model_module": "@jupyter-widgets/controls",
      "model_module_version": "1.5.0",
      "model_name": "ProgressStyleModel",
      "state": {
       "description_width": ""
      }
     },
     "c971d62cdc4641d394d3f081145a3209": {
      "model_module": "@jupyter-widgets/base",
      "model_module_version": "1.2.0",
      "model_name": "LayoutModel",
      "state": {}
     },
     "c9b6b69771a94a418529aa5049ee9a09": {
      "model_module": "@jupyter-widgets/base",
      "model_module_version": "1.2.0",
      "model_name": "LayoutModel",
      "state": {}
     },
     "caa67bec78bf4954b797e83cb01507fa": {
      "model_module": "@jupyter-widgets/controls",
      "model_module_version": "1.5.0",
      "model_name": "DescriptionStyleModel",
      "state": {
       "description_width": ""
      }
     },
     "cb4a5d1f05764eef91b5de5a92579405": {
      "model_module": "@jupyter-widgets/controls",
      "model_module_version": "1.5.0",
      "model_name": "DescriptionStyleModel",
      "state": {
       "description_width": ""
      }
     },
     "cd84fc2b633549c0ac7404b292ec5864": {
      "model_module": "@jupyter-widgets/controls",
      "model_module_version": "1.5.0",
      "model_name": "HTMLModel",
      "state": {
       "layout": "IPY_MODEL_3e0149d428d3458a8d617af021d202b0",
       "style": "IPY_MODEL_2bad4f6153984bd6bddf2b559bc4cc42",
       "value": " 27046/27046 [04:53&lt;00:00, 91.73it/s]"
      }
     },
     "cded59ce526046a1a308f6c44122fae3": {
      "model_module": "@jupyter-widgets/base",
      "model_module_version": "1.2.0",
      "model_name": "LayoutModel",
      "state": {}
     },
     "cf688ac9def341baa6ad9646a80fc438": {
      "model_module": "@jupyter-widgets/controls",
      "model_module_version": "1.5.0",
      "model_name": "ProgressStyleModel",
      "state": {
       "description_width": ""
      }
     },
     "d0081cb9789944c2b8be4af67b638302": {
      "model_module": "@jupyter-widgets/controls",
      "model_module_version": "1.5.0",
      "model_name": "FloatProgressModel",
      "state": {
       "bar_style": "success",
       "layout": "IPY_MODEL_45725ae95bf54556b531b53db2830380",
       "max": 6762,
       "style": "IPY_MODEL_45505f452e1f40c3ac01ace2939f47b3",
       "value": 6762
      }
     },
     "d0480d7b226c424f91c7e8454df66377": {
      "model_module": "@jupyter-widgets/base",
      "model_module_version": "1.2.0",
      "model_name": "LayoutModel",
      "state": {}
     },
     "d0ab6956b106453094f403037920c404": {
      "model_module": "@jupyter-widgets/controls",
      "model_module_version": "1.5.0",
      "model_name": "ProgressStyleModel",
      "state": {
       "description_width": ""
      }
     },
     "d16e75867abe47ecae6b42653ebb4fe6": {
      "model_module": "@jupyter-widgets/base",
      "model_module_version": "1.2.0",
      "model_name": "LayoutModel",
      "state": {}
     },
     "d1eae618e870496e8e3ca3b988b805db": {
      "model_module": "@jupyter-widgets/controls",
      "model_module_version": "1.5.0",
      "model_name": "HTMLModel",
      "state": {
       "layout": "IPY_MODEL_d16e75867abe47ecae6b42653ebb4fe6",
       "style": "IPY_MODEL_bfa446035485437bbe4ae852abc67a78",
       "value": " 27046/27046 [05:21&lt;00:00, 86.06it/s]"
      }
     },
     "d26f14d7ec8049ec9070790f8b6a319b": {
      "model_module": "@jupyter-widgets/base",
      "model_module_version": "1.2.0",
      "model_name": "LayoutModel",
      "state": {}
     },
     "d30b1698a822450e9614d2164c500736": {
      "model_module": "@jupyter-widgets/base",
      "model_module_version": "1.2.0",
      "model_name": "LayoutModel",
      "state": {}
     },
     "d3f4ffafc47f43518df4afb576e084d3": {
      "model_module": "@jupyter-widgets/controls",
      "model_module_version": "1.5.0",
      "model_name": "DescriptionStyleModel",
      "state": {
       "description_width": ""
      }
     },
     "d52744f9be034bcc9be53ecfc3c9971b": {
      "model_module": "@jupyter-widgets/base",
      "model_module_version": "1.2.0",
      "model_name": "LayoutModel",
      "state": {}
     },
     "d602bfb9ed00419388875811b7909c1b": {
      "model_module": "@jupyter-widgets/base",
      "model_module_version": "1.2.0",
      "model_name": "LayoutModel",
      "state": {}
     },
     "d63e0c8a3845485ba2ea1ea4c76bb3a5": {
      "model_module": "@jupyter-widgets/base",
      "model_module_version": "1.2.0",
      "model_name": "LayoutModel",
      "state": {}
     },
     "d6f58f1e9bce4eacb1df4e80f7fff223": {
      "model_module": "@jupyter-widgets/base",
      "model_module_version": "1.2.0",
      "model_name": "LayoutModel",
      "state": {}
     },
     "d74b8368e9df44029113673e6f07a205": {
      "model_module": "@jupyter-widgets/controls",
      "model_module_version": "1.5.0",
      "model_name": "HBoxModel",
      "state": {
       "children": [
        "IPY_MODEL_7def860847a84f9b905353834ad7162e",
        "IPY_MODEL_749b21b437c1463584f76a691d01d133",
        "IPY_MODEL_d76151e6bcaf443b8a58fbc844c87d49"
       ],
       "layout": "IPY_MODEL_cded59ce526046a1a308f6c44122fae3"
      }
     },
     "d76151e6bcaf443b8a58fbc844c87d49": {
      "model_module": "@jupyter-widgets/controls",
      "model_module_version": "1.5.0",
      "model_name": "HTMLModel",
      "state": {
       "layout": "IPY_MODEL_d6f58f1e9bce4eacb1df4e80f7fff223",
       "style": "IPY_MODEL_6d1e74aeed7142618bb074dc4b25d1d2",
       "value": " 27046/27046 [04:53&lt;00:00, 89.06it/s]"
      }
     },
     "d772a165069e40e398b25c2c35868cc9": {
      "model_module": "@jupyter-widgets/base",
      "model_module_version": "1.2.0",
      "model_name": "LayoutModel",
      "state": {}
     },
     "d839b42f19af41b88d933bd2b61c711e": {
      "model_module": "@jupyter-widgets/controls",
      "model_module_version": "1.5.0",
      "model_name": "FloatProgressModel",
      "state": {
       "bar_style": "success",
       "layout": "IPY_MODEL_f3d5064db44944d682f1961cc6caa12d",
       "max": 6762,
       "style": "IPY_MODEL_5332eaa411ff4ee58fe44c61f61ca91f",
       "value": 6762
      }
     },
     "d84c69551a344104a9c0c1c7a9461ecc": {
      "model_module": "@jupyter-widgets/controls",
      "model_module_version": "1.5.0",
      "model_name": "DescriptionStyleModel",
      "state": {
       "description_width": ""
      }
     },
     "d8fcc48c8f484fe6ba6339849ef36c0a": {
      "model_module": "@jupyter-widgets/base",
      "model_module_version": "1.2.0",
      "model_name": "LayoutModel",
      "state": {}
     },
     "dc2e0973acbf4cb883d4e061cf6f8c19": {
      "model_module": "@jupyter-widgets/base",
      "model_module_version": "1.2.0",
      "model_name": "LayoutModel",
      "state": {}
     },
     "dc787859f4114b58b9316f3640805842": {
      "model_module": "@jupyter-widgets/controls",
      "model_module_version": "1.5.0",
      "model_name": "DescriptionStyleModel",
      "state": {
       "description_width": ""
      }
     },
     "df4db854156e460ebdd903f4ac42a294": {
      "model_module": "@jupyter-widgets/controls",
      "model_module_version": "1.5.0",
      "model_name": "DescriptionStyleModel",
      "state": {
       "description_width": ""
      }
     },
     "e00a47cd1b2f4c499afa233c00b60da2": {
      "model_module": "@jupyter-widgets/controls",
      "model_module_version": "1.5.0",
      "model_name": "HTMLModel",
      "state": {
       "layout": "IPY_MODEL_2fd191d66ad44f38811ba3252d536969",
       "style": "IPY_MODEL_01fadf0d8be84bffa7ca85e3276ae883",
       "value": "Epoch 12, Batch: 27046, Loss: 0.0000: 100%"
      }
     },
     "e058be63bc8649bfa5e2570356a2083f": {
      "model_module": "@jupyter-widgets/controls",
      "model_module_version": "1.5.0",
      "model_name": "DescriptionStyleModel",
      "state": {
       "description_width": ""
      }
     },
     "e1989cfb624c438e869a3e5e64efdb10": {
      "model_module": "@jupyter-widgets/base",
      "model_module_version": "1.2.0",
      "model_name": "LayoutModel",
      "state": {}
     },
     "e1da3f7d3e2643688a00d287a442e956": {
      "model_module": "@jupyter-widgets/controls",
      "model_module_version": "1.5.0",
      "model_name": "DescriptionStyleModel",
      "state": {
       "description_width": ""
      }
     },
     "e1fd2399d6e949bbbd177e8bf66744b9": {
      "model_module": "@jupyter-widgets/controls",
      "model_module_version": "1.5.0",
      "model_name": "ProgressStyleModel",
      "state": {
       "description_width": ""
      }
     },
     "e203122cd6de459b9a26559593e88e0b": {
      "model_module": "@jupyter-widgets/controls",
      "model_module_version": "1.5.0",
      "model_name": "HTMLModel",
      "state": {
       "layout": "IPY_MODEL_bdcad6e1318a4fe88b6f1d2967ebb417",
       "style": "IPY_MODEL_afcdf335cffe414ab9f07803752e0555",
       "value": "Batch: 6762, Loss: 0.0014: 100%"
      }
     },
     "e39c0aa0268d40fbb1fb5494ca0a2e21": {
      "model_module": "@jupyter-widgets/controls",
      "model_module_version": "1.5.0",
      "model_name": "HTMLModel",
      "state": {
       "layout": "IPY_MODEL_61ddf0591bbd44c9be32e7fdef7c7605",
       "style": "IPY_MODEL_1eb2b28a20a14850869ceb34af120b3d",
       "value": "Batch: 6762, Loss: 0.0069: 100%"
      }
     },
     "e3c48d90d95147afb5f1595c3145272e": {
      "model_module": "@jupyter-widgets/controls",
      "model_module_version": "1.5.0",
      "model_name": "HTMLModel",
      "state": {
       "layout": "IPY_MODEL_50eb62eea48141989bfe9b2a877d10f3",
       "style": "IPY_MODEL_5f26d1fde80942d788e2b72c9b6bbe00",
       "value": " 6762/6762 [00:34&lt;00:00, 211.72it/s]"
      }
     },
     "e4fb174d470b427db855809a80cdad49": {
      "model_module": "@jupyter-widgets/base",
      "model_module_version": "1.2.0",
      "model_name": "LayoutModel",
      "state": {}
     },
     "e577744ce0ca436abc7b21dcdc496688": {
      "model_module": "@jupyter-widgets/controls",
      "model_module_version": "1.5.0",
      "model_name": "DescriptionStyleModel",
      "state": {
       "description_width": ""
      }
     },
     "e63076786fe64fb28a17a1213e117c23": {
      "model_module": "@jupyter-widgets/controls",
      "model_module_version": "1.5.0",
      "model_name": "DescriptionStyleModel",
      "state": {
       "description_width": ""
      }
     },
     "e6c518bcaa784e369514b024d278aeda": {
      "model_module": "@jupyter-widgets/controls",
      "model_module_version": "1.5.0",
      "model_name": "HTMLModel",
      "state": {
       "layout": "IPY_MODEL_ae21b19a163249fcb1c50257920cb4b4",
       "style": "IPY_MODEL_69cadbecf02a48bba657f9d23aa29f11",
       "value": " 6762/6762 [00:33&lt;00:00, 213.68it/s]"
      }
     },
     "e7253666e4644261b0c33bd473ee0646": {
      "model_module": "@jupyter-widgets/base",
      "model_module_version": "1.2.0",
      "model_name": "LayoutModel",
      "state": {}
     },
     "e889c9b6128541e39f37347a4aef91bd": {
      "model_module": "@jupyter-widgets/controls",
      "model_module_version": "1.5.0",
      "model_name": "HBoxModel",
      "state": {
       "children": [
        "IPY_MODEL_fb9e0e361f084c5aada89d12782c5e7f",
        "IPY_MODEL_ed6acbb4702d43aabcd7daf5121ad1a9",
        "IPY_MODEL_aa9227dcc794467aafa79e71f27ee746"
       ],
       "layout": "IPY_MODEL_39b703e40f48496ca3440db15a88e713"
      }
     },
     "e8b6dc6a998d471cba0ecbd0c09228dc": {
      "model_module": "@jupyter-widgets/controls",
      "model_module_version": "1.5.0",
      "model_name": "HTMLModel",
      "state": {
       "layout": "IPY_MODEL_e926b8d17042420eb90a8cb9b24bdfd4",
       "style": "IPY_MODEL_521941209d534c69aec31e335d8ec91d",
       "value": " 6762/6762 [00:32&lt;00:00, 202.12it/s]"
      }
     },
     "e926b8d17042420eb90a8cb9b24bdfd4": {
      "model_module": "@jupyter-widgets/base",
      "model_module_version": "1.2.0",
      "model_name": "LayoutModel",
      "state": {}
     },
     "e9e41cfc1a1a43159ef2d9ffdf4e35f0": {
      "model_module": "@jupyter-widgets/controls",
      "model_module_version": "1.5.0",
      "model_name": "FloatProgressModel",
      "state": {
       "bar_style": "success",
       "layout": "IPY_MODEL_75d28d30a8ef4b4c8fe01ebd81169349",
       "max": 6762,
       "style": "IPY_MODEL_be8291a016ba452e91d4dabda357ed6d",
       "value": 6762
      }
     },
     "ea1e33503b0b4259b0d96f386fd173fb": {
      "model_module": "@jupyter-widgets/controls",
      "model_module_version": "1.5.0",
      "model_name": "FloatProgressModel",
      "state": {
       "bar_style": "success",
       "layout": "IPY_MODEL_e4fb174d470b427db855809a80cdad49",
       "max": 6762,
       "style": "IPY_MODEL_ed4d33e5bc3b4026b4ef5a98503d514b",
       "value": 6762
      }
     },
     "ea201af10fa344b38b029a45b6d46ecb": {
      "model_module": "@jupyter-widgets/controls",
      "model_module_version": "1.5.0",
      "model_name": "HBoxModel",
      "state": {
       "children": [
        "IPY_MODEL_2c011ee89450450caefd927fc74fe6e1",
        "IPY_MODEL_8a23c3976e4445deb805ca8f649f98ed",
        "IPY_MODEL_e8b6dc6a998d471cba0ecbd0c09228dc"
       ],
       "layout": "IPY_MODEL_8527b728769b41eba74fc252c4ad9962"
      }
     },
     "eaa59c9894f44fee976b7747996cd027": {
      "model_module": "@jupyter-widgets/controls",
      "model_module_version": "1.5.0",
      "model_name": "HBoxModel",
      "state": {
       "children": [
        "IPY_MODEL_f5202fa459df4570b0de11e3e1d3e9ec",
        "IPY_MODEL_38c8ca517cc145468c6f67cae06716e1",
        "IPY_MODEL_d1eae618e870496e8e3ca3b988b805db"
       ],
       "layout": "IPY_MODEL_127eb2021d2a4387b65e589ef271f668"
      }
     },
     "eb922296b9b2436a9d8481ae0eaf32bb": {
      "model_module": "@jupyter-widgets/controls",
      "model_module_version": "1.5.0",
      "model_name": "FloatProgressModel",
      "state": {
       "bar_style": "success",
       "layout": "IPY_MODEL_bb340fce238d48cda4890d5b839788f1",
       "max": 6762,
       "style": "IPY_MODEL_5d7dead7d9124ba7adb511b88e714cd6",
       "value": 6762
      }
     },
     "ebdb7661c6c74726bbfb53d61c0801ea": {
      "model_module": "@jupyter-widgets/base",
      "model_module_version": "1.2.0",
      "model_name": "LayoutModel",
      "state": {}
     },
     "ebe5ac2c44254e54b770419536930e5a": {
      "model_module": "@jupyter-widgets/controls",
      "model_module_version": "1.5.0",
      "model_name": "FloatProgressModel",
      "state": {
       "bar_style": "success",
       "layout": "IPY_MODEL_893dffb682844000972d166675e69060",
       "max": 6762,
       "style": "IPY_MODEL_93e9f85247764ebcaee22dc36b441e76",
       "value": 6762
      }
     },
     "ec026b74bf9b4dabb3d8acdf3b91c48c": {
      "model_module": "@jupyter-widgets/controls",
      "model_module_version": "1.5.0",
      "model_name": "HTMLModel",
      "state": {
       "layout": "IPY_MODEL_5533ad2cfbc84e8ab2981491250edb05",
       "style": "IPY_MODEL_f6a4c589b3fd48d390b79675c9e3e451",
       "value": " 27046/27046 [04:53&lt;00:00, 95.56it/s]"
      }
     },
     "ec200c12b6e3406499ee0df46781315e": {
      "model_module": "@jupyter-widgets/controls",
      "model_module_version": "1.5.0",
      "model_name": "HTMLModel",
      "state": {
       "layout": "IPY_MODEL_85d42e802f9040d49488f8498d7119a5",
       "style": "IPY_MODEL_df4db854156e460ebdd903f4ac42a294",
       "value": " 5614/5614 [00:35&lt;00:00, 169.44it/s]"
      }
     },
     "ed4d33e5bc3b4026b4ef5a98503d514b": {
      "model_module": "@jupyter-widgets/controls",
      "model_module_version": "1.5.0",
      "model_name": "ProgressStyleModel",
      "state": {
       "description_width": ""
      }
     },
     "ed576228451845fa9546d79bbc65dc3a": {
      "model_module": "@jupyter-widgets/controls",
      "model_module_version": "1.5.0",
      "model_name": "DescriptionStyleModel",
      "state": {
       "description_width": ""
      }
     },
     "ed6acbb4702d43aabcd7daf5121ad1a9": {
      "model_module": "@jupyter-widgets/controls",
      "model_module_version": "1.5.0",
      "model_name": "FloatProgressModel",
      "state": {
       "bar_style": "success",
       "layout": "IPY_MODEL_f85444692dea42458fa602d214fd93d2",
       "max": 27046,
       "style": "IPY_MODEL_1b9a4ac4753c4af4a01b8ae35e8b5540",
       "value": 27046
      }
     },
     "ef7f1827d1434977a0bf01c19919fb5e": {
      "model_module": "@jupyter-widgets/controls",
      "model_module_version": "1.5.0",
      "model_name": "FloatProgressModel",
      "state": {
       "bar_style": "success",
       "layout": "IPY_MODEL_a0bf8b56e98b429a8bf55c73ba54b23d",
       "max": 27046,
       "style": "IPY_MODEL_c94854316f4d4114b1260078015fbe91",
       "value": 27046
      }
     },
     "f01e3a1c985048e49da4524a7883c317": {
      "model_module": "@jupyter-widgets/base",
      "model_module_version": "1.2.0",
      "model_name": "LayoutModel",
      "state": {}
     },
     "f222c8a1d5de4cd8b2cfdf315352e541": {
      "model_module": "@jupyter-widgets/base",
      "model_module_version": "1.2.0",
      "model_name": "LayoutModel",
      "state": {}
     },
     "f2996910aa734a668a3dd432cd56d499": {
      "model_module": "@jupyter-widgets/controls",
      "model_module_version": "1.5.0",
      "model_name": "HBoxModel",
      "state": {
       "children": [
        "IPY_MODEL_ac7b53d65c77466f8ed480f944399d2b",
        "IPY_MODEL_0bc74811512d4fb3ac07524e6b36c2d3",
        "IPY_MODEL_93ee188c57d44b0585d910a5122b795d"
       ],
       "layout": "IPY_MODEL_9a1137837d01486cb069992b7ab33608"
      }
     },
     "f397473a113149088454a97708f096be": {
      "model_module": "@jupyter-widgets/controls",
      "model_module_version": "1.5.0",
      "model_name": "ProgressStyleModel",
      "state": {
       "description_width": ""
      }
     },
     "f3d5064db44944d682f1961cc6caa12d": {
      "model_module": "@jupyter-widgets/base",
      "model_module_version": "1.2.0",
      "model_name": "LayoutModel",
      "state": {}
     },
     "f4d0afa268a34d31a11748e21af5ba25": {
      "model_module": "@jupyter-widgets/base",
      "model_module_version": "1.2.0",
      "model_name": "LayoutModel",
      "state": {}
     },
     "f5202fa459df4570b0de11e3e1d3e9ec": {
      "model_module": "@jupyter-widgets/controls",
      "model_module_version": "1.5.0",
      "model_name": "HTMLModel",
      "state": {
       "layout": "IPY_MODEL_e7253666e4644261b0c33bd473ee0646",
       "style": "IPY_MODEL_5a398b852a8d4cc3934a7e7014e6bae3",
       "value": "Epoch 14, Batch: 27046, Loss: 0.0002: 100%"
      }
     },
     "f54dc236f36a4f36bd1f5b1ef4ded0f3": {
      "model_module": "@jupyter-widgets/controls",
      "model_module_version": "1.5.0",
      "model_name": "ProgressStyleModel",
      "state": {
       "description_width": ""
      }
     },
     "f55be53952864971a67492570a06dd8f": {
      "model_module": "@jupyter-widgets/controls",
      "model_module_version": "1.5.0",
      "model_name": "DescriptionStyleModel",
      "state": {
       "description_width": ""
      }
     },
     "f63eeb8d017a40ceb379f6b0dc115c94": {
      "model_module": "@jupyter-widgets/controls",
      "model_module_version": "1.5.0",
      "model_name": "HBoxModel",
      "state": {
       "children": [
        "IPY_MODEL_45a05a18d58b47c88c1f4b679f01b38a",
        "IPY_MODEL_d839b42f19af41b88d933bd2b61c711e",
        "IPY_MODEL_3f7e74120dd74d44bf14fd05ae459abc"
       ],
       "layout": "IPY_MODEL_93094452065043bc86d3585fd96de12d"
      }
     },
     "f6a4c589b3fd48d390b79675c9e3e451": {
      "model_module": "@jupyter-widgets/controls",
      "model_module_version": "1.5.0",
      "model_name": "DescriptionStyleModel",
      "state": {
       "description_width": ""
      }
     },
     "f82ddbec56454692b7bf5af71fcf005b": {
      "model_module": "@jupyter-widgets/controls",
      "model_module_version": "1.5.0",
      "model_name": "ProgressStyleModel",
      "state": {
       "description_width": ""
      }
     },
     "f85444692dea42458fa602d214fd93d2": {
      "model_module": "@jupyter-widgets/base",
      "model_module_version": "1.2.0",
      "model_name": "LayoutModel",
      "state": {}
     },
     "f8ff0f2ae0214e178fb13345ef290703": {
      "model_module": "@jupyter-widgets/base",
      "model_module_version": "1.2.0",
      "model_name": "LayoutModel",
      "state": {}
     },
     "fb13c336999c408188db5db2ee7339b4": {
      "model_module": "@jupyter-widgets/controls",
      "model_module_version": "1.5.0",
      "model_name": "DescriptionStyleModel",
      "state": {
       "description_width": ""
      }
     },
     "fb9e0e361f084c5aada89d12782c5e7f": {
      "model_module": "@jupyter-widgets/controls",
      "model_module_version": "1.5.0",
      "model_name": "HTMLModel",
      "state": {
       "layout": "IPY_MODEL_b9dfcfd42647483082c9357fa23de118",
       "style": "IPY_MODEL_79cd749e8d774c4ab8aa440cffd5ffea",
       "value": "Epoch 2, Batch: 27046, Loss: 0.0012: 100%"
      }
     },
     "fc6d1b3f4a184a818c906b370789cf76": {
      "model_module": "@jupyter-widgets/base",
      "model_module_version": "1.2.0",
      "model_name": "LayoutModel",
      "state": {}
     },
     "fccc011432e1470f8038b76994237130": {
      "model_module": "@jupyter-widgets/base",
      "model_module_version": "1.2.0",
      "model_name": "LayoutModel",
      "state": {}
     },
     "fff2d19d69fb41a0a612b61cb8c78527": {
      "model_module": "@jupyter-widgets/base",
      "model_module_version": "1.2.0",
      "model_name": "LayoutModel",
      "state": {}
     }
    },
    "version_major": 2,
    "version_minor": 0
   }
  }
 },
 "nbformat": 4,
 "nbformat_minor": 4
}
