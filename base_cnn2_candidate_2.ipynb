{
 "cells": [
  {
   "cell_type": "markdown",
   "metadata": {
    "id": "0JVff8Viqq-H"
   },
   "source": [
    "# Base CNN model from NVIDIA paper\n"
   ]
  },
  {
   "cell_type": "code",
   "execution_count": 1,
   "metadata": {
    "id": "qeXi0CRoXleM"
   },
   "outputs": [],
   "source": [
    "import copy\n",
    "import time\n",
    "import matplotlib.pyplot as plt\n",
    "\n",
    "import torch\n",
    "import torch.nn as nn\n",
    "import torch.optim\n",
    "import torchvision.transforms as transforms\n",
    "from torchsummary import summary\n",
    "\n",
    "from utils import dataset\n",
    "from models import nvidia_2\n",
    "\n",
    "# Tqdm progress bar\n",
    "from tqdm import tqdm_notebook, tqdm\n",
    "import sigopt\n",
    "\n",
    "LEARNING_RATE = 0.0002 # 0.00002  #0.000001  # 0.000007  # 0.0000007 for batchsize=1\n",
    "# MOMENTUM = 0.4  # maybe decrease this below 0.5\n",
    "WEIGHT_DECAY_REGULARIZATION_TERM = 0.003 # 0.001 \n",
    "BATCH_SIZE = 1\n",
    "NUM_EPOCHS = 15\n",
    "\n",
    "\n",
    "# Citation:\n",
    "# - AverageMeter taken verbatim from the Assignment 2 training code.\n",
    "# - Remainder of code in this file based on Assignment 2 training code.\n",
    "def seed_everything(seed: int):\n",
    "    import random, os\n",
    "    import numpy as np\n",
    "    import torch\n",
    "    \n",
    "    random.seed(seed)\n",
    "    os.environ['PYTHONHASHSEED'] = str(seed)\n",
    "    np.random.seed(seed)\n",
    "    torch.manual_seed(seed)\n",
    "    torch.cuda.manual_seed(seed)\n",
    "    torch.backends.cudnn.deterministic = True\n",
    "    torch.backends.cudnn.benchmark = True\n",
    "    \n",
    "seed_everything(42)\n",
    "\n",
    "class AverageMeter(object):\n",
    "    \"\"\"Computes and stores the average and current value\"\"\"\n",
    "\n",
    "    def __init__(self):\n",
    "        self.reset()\n",
    "\n",
    "    def reset(self):\n",
    "        self.val = 0\n",
    "        self.avg = 0\n",
    "        self.sum = 0\n",
    "        self.count = 0\n",
    "\n",
    "    def update(self, val, n=1):\n",
    "        self.val = val\n",
    "        self.sum += val * n\n",
    "        self.count += n\n",
    "        self.avg = self.sum / self.count\n",
    "\n",
    "def train(epoch, data_loader, model, optimizer, criterion, scaler=None):\n",
    "    iter_time = AverageMeter()\n",
    "    losses = AverageMeter()\n",
    "    \n",
    "\n",
    "    # Get the progress bar for later modification\n",
    "    progress_bar = tqdm_notebook(data_loader, ascii=True)\n",
    "\n",
    "    for idx, (data, target) in enumerate(progress_bar):\n",
    "        start = time.time()\n",
    "\n",
    "        if torch.cuda.is_available():\n",
    "            data = data.cuda()\n",
    "            target = target.cuda()\n",
    "\n",
    "        # Forward pass and computation of loss.\n",
    "        with torch.autocast(\"cuda\"): #Automatic Mixed precision\n",
    "            out = model(data).reshape(target.shape)\n",
    "            # MSE loss\n",
    "            loss = criterion(out, target)\n",
    "\n",
    "        \n",
    "        # Backwards pass to determine gradients and update model parameters.\n",
    "        # optimizer.zero_grad()\n",
    "        # loss.backward()\n",
    "        # optimizer.step()\n",
    "\n",
    "        for param in model.parameters():\n",
    "            param.grad = None\n",
    "        scaler.scale(loss).backward()\n",
    "        scaler.step(optimizer)\n",
    "\n",
    "        scaler.update()\n",
    "        losses.update(loss, out.shape[0])\n",
    "\n",
    "        iter_time.update(time.time() - start)\n",
    "        # if idx % 5 == 0:\n",
    "        #     print(('Epoch: [{0}][{1}/{2}]\\t'\n",
    "        #            'Time {iter_time.val:.3f} ({iter_time.avg:.3f})\\t'\n",
    "        #            'Loss {loss.val:.4f} ({loss.avg:.4f})\\t'\n",
    "        #           .format(epoch, idx, len(data_loader), iter_time=iter_time, loss=losses)))\n",
    "\n",
    "        progress_bar.set_description_str(f\"Epoch {epoch}, Batch: {idx+1}, Loss: {loss.item():.4f}\")\n",
    "            # \"Batch: %d, Loss: %.4f\" % ((idx + 1), loss.item()))\n",
    "        \n",
    "    return losses.avg\n",
    "\n",
    "def validate(epoch, validation_loader, model, criterion):\n",
    "    iter_time = AverageMeter()\n",
    "    losses = AverageMeter()\n",
    "\n",
    "    # Get the progress bar for later modification\n",
    "    progress_bar = tqdm_notebook(validation_loader, ascii=True)\n",
    "\n",
    "    for idx, (data, target) in enumerate(progress_bar):\n",
    "        start = time.time()\n",
    "\n",
    "        if torch.cuda.is_available():\n",
    "            data = data.cuda()\n",
    "            target = target.cuda()\n",
    "\n",
    "        out = None\n",
    "        loss = None\n",
    "\n",
    "        with torch.no_grad():\n",
    "            out = model(data)\n",
    "            # MSE loss\n",
    "            loss = criterion(out, target)\n",
    "\n",
    "        # loss.squeeze()\n",
    "        losses.update(loss, out.shape[0])\n",
    "\n",
    "        iter_time.update(time.time() - start)\n",
    "\n",
    "#         if idx % 10 == 0:\n",
    "#             print(('Epoch: [{0}][{1}/{2}]\\t'\n",
    "#                    'Time {iter_time.val:.3f} ({iter_time.avg:.3f})\\t')\n",
    "#                   .format(epoch, idx, len(validation_loader), iter_time=iter_time, loss=losses))\n",
    "\n",
    "        progress_bar.set_description_str(f\"Batch: {idx+1}, Loss: {loss.item():.4f}\")\n",
    "           \n",
    "        \n",
    "        # progress_bar.set_description_str(\n",
    "        #     \"Batch: %d, Loss: %.4f\" % ((idx + 1), loss.item()))\n",
    "\n",
    "    print(\"* Average Loss @1: {loss.avg:.4f}\".format(loss=losses))\n",
    "    return losses.avg\n",
    "\n",
    "def test(testing_loader, model, criterion):\n",
    "    iter_time = AverageMeter()\n",
    "    losses = AverageMeter()\n",
    "\n",
    "    # Get the progress bar for later modification\n",
    "    progress_bar = tqdm_notebook(testing_loader, ascii=True)\n",
    "\n",
    "    for idx, (data, target) in enumerate(progress_bar):\n",
    "        start = time.time()\n",
    "\n",
    "        if torch.cuda.is_available():\n",
    "            data = data.cuda()\n",
    "            target = target.cuda()\n",
    "\n",
    "        out = None\n",
    "        loss = None\n",
    "\n",
    "        with torch.inference_mode():   #no_grad():\n",
    "            out = model(data)\n",
    "            # MSE loss\n",
    "            loss = criterion(out, target)\n",
    "\n",
    "        losses.update(loss, out.shape[0])\n",
    "\n",
    "        iter_time.update(time.time() - start)\n",
    "\n",
    "        progress_bar.set_description_str(f\"Batch: {idx+1}, Loss: {loss.item():.4f}\")\n",
    "\n",
    "    print(\"* Average Loss MSE @1: {loss.avg:.4f}\".format(loss=losses))\n",
    "    return torch.sqrt(losses.avg)\n",
    "\n",
    "\n",
    "# RSME Loss function. eps prevents [nan] in the backward pass\n",
    "def RSMELoss(yhat, y, eps=1e-6):\n",
    "    return torch.sqrt(torch.mean((yhat-y)**2) + eps)\n",
    "\n",
    "def plots(losses, lr=LEARNING_RATE, reg=WEIGHT_DECAY_REGULARIZATION_TERM, batch=BATCH_SIZE): #, momentum=MOMENTUM):\n",
    "    fig1, ax1 = plt.subplots(figsize=(8, 10))\n",
    "    ax1.plot(losses[0], label='Training Losses')\n",
    "    ax1.plot(losses[1], label='Validation Losses')\n",
    "    ax1.set_xlabel('Epochs')\n",
    "    ax1.set_ylabel('MSE Loss')\n",
    "    ax1.set_title(f'CNN Loss Curve w/Adam; LR={lr}; Reg={reg}; Batch={batch}')\n",
    "    ax1.legend(loc=\"best\")\n",
    "    plt.grid()\n",
    "    plt.savefig('CNN_2_Adam.png')\n",
    "    plt.show()\n",
    "\n"
   ]
  },
  {
   "cell_type": "code",
   "execution_count": 2,
   "metadata": {
    "colab": {
     "base_uri": "https://8080-2e46ab78-c9c2-48d3-bdaf-4bac61d839fb.cs-us-west1-wolo.cloudshell.dev/",
     "height": 499,
     "referenced_widgets": [
      "07702d46ef4f4adbb6c49636db4a20b8",
      "58bc3d954d4b4c0da4d5fc0a38b2f796",
      "16ffac94f38b4f7c962c882c01ba2419",
      "9cf8a9eed4d14e01aa4c275aa84b3344",
      "982edd4d3e5143d585358e1a4052a2fe",
      "b7a58eef48524b0c8a66e53fb7a14083",
      "dbfab81740ee484b95af7851f79c4440",
      "d7f3eed35e324d489ba1adae8b5489a3",
      "bb2d238560dc4490a7275b1b77d5e8a8",
      "1694cb1688e04ff98b97745bd89e9eca",
      "aafa9c5f04b84ffa8cb7b946f085c306"
     ]
    },
    "executionInfo": {
     "elapsed": 648202,
     "status": "error",
     "timestamp": 1658206427736,
     "user": {
      "displayName": "Meena Chockalingam",
      "userId": "09228565184695634950"
     },
     "user_tz": 300
    },
    "id": "iVdav7RtkH-B",
    "outputId": "73cf0f2d-035f-4ea7-9c31-a523c0397b9d",
    "scrolled": true,
    "tags": []
   },
   "outputs": [
    {
     "name": "stderr",
     "output_type": "stream",
     "text": [
      "/opt/conda/lib/python3.7/site-packages/torch/nn/modules/lazy.py:178: UserWarning: Lazy modules are a new feature under heavy development so changes to the API or functionality can happen at any moment.\n",
      "  warnings.warn('Lazy modules are a new feature under heavy development '\n",
      "/opt/conda/lib/python3.7/site-packages/ipykernel_launcher.py:66: TqdmDeprecationWarning: This function will be removed in tqdm==5.0.0\n",
      "Please use `tqdm.notebook.tqdm` instead of `tqdm.tqdm_notebook`\n"
     ]
    },
    {
     "data": {
      "application/vnd.jupyter.widget-view+json": {
       "model_id": "b3b4ffcc80064bfe881c85edb8b6ac62",
       "version_major": 2,
       "version_minor": 0
      },
      "text/plain": [
       "  0%|          | 0/27046 [00:00<?, ?it/s]"
      ]
     },
     "metadata": {},
     "output_type": "display_data"
    },
    {
     "name": "stdout",
     "output_type": "stream",
     "text": [
      "Average training loss this epoch: 0.0558\n"
     ]
    },
    {
     "name": "stderr",
     "output_type": "stream",
     "text": [
      "/opt/conda/lib/python3.7/site-packages/ipykernel_launcher.py:112: TqdmDeprecationWarning: This function will be removed in tqdm==5.0.0\n",
      "Please use `tqdm.notebook.tqdm` instead of `tqdm.tqdm_notebook`\n"
     ]
    },
    {
     "data": {
      "application/vnd.jupyter.widget-view+json": {
       "model_id": "ba85cd65f7994b7d8b0f96b428146f1c",
       "version_major": 2,
       "version_minor": 0
      },
      "text/plain": [
       "  0%|          | 0/6762 [00:00<?, ?it/s]"
      ]
     },
     "metadata": {},
     "output_type": "display_data"
    },
    {
     "name": "stderr",
     "output_type": "stream",
     "text": [
      "/opt/conda/lib/python3.7/site-packages/torch/nn/modules/loss.py:529: UserWarning: Using a target size (torch.Size([1])) that is different to the input size (torch.Size([1, 1])). This will likely lead to incorrect results due to broadcasting. Please ensure they have the same size.\n",
      "  return F.mse_loss(input, target, reduction=self.reduction)\n"
     ]
    },
    {
     "name": "stdout",
     "output_type": "stream",
     "text": [
      "* Average Loss @1: 0.0469\n",
      "Best performing model so far average validation loss: 0.0469 on epoch 0\n",
      "\n"
     ]
    },
    {
     "data": {
      "application/vnd.jupyter.widget-view+json": {
       "model_id": "81d856ca03ed4131bc4d73fbb1ff1dfc",
       "version_major": 2,
       "version_minor": 0
      },
      "text/plain": [
       "  0%|          | 0/27046 [00:00<?, ?it/s]"
      ]
     },
     "metadata": {},
     "output_type": "display_data"
    },
    {
     "name": "stdout",
     "output_type": "stream",
     "text": [
      "Average training loss this epoch: 0.0423\n"
     ]
    },
    {
     "data": {
      "application/vnd.jupyter.widget-view+json": {
       "model_id": "e3428420e520449493eef483395461d5",
       "version_major": 2,
       "version_minor": 0
      },
      "text/plain": [
       "  0%|          | 0/6762 [00:00<?, ?it/s]"
      ]
     },
     "metadata": {},
     "output_type": "display_data"
    },
    {
     "name": "stdout",
     "output_type": "stream",
     "text": [
      "* Average Loss @1: 0.0381\n",
      "Best performing model so far average validation loss: 0.0381 on epoch 1\n",
      "\n"
     ]
    },
    {
     "data": {
      "application/vnd.jupyter.widget-view+json": {
       "model_id": "05ef7244048749a1aad0277c33a0f07d",
       "version_major": 2,
       "version_minor": 0
      },
      "text/plain": [
       "  0%|          | 0/27046 [00:00<?, ?it/s]"
      ]
     },
     "metadata": {},
     "output_type": "display_data"
    },
    {
     "name": "stdout",
     "output_type": "stream",
     "text": [
      "Average training loss this epoch: 0.0376\n"
     ]
    },
    {
     "data": {
      "application/vnd.jupyter.widget-view+json": {
       "model_id": "92c19f1985d242ba80f12077453c1563",
       "version_major": 2,
       "version_minor": 0
      },
      "text/plain": [
       "  0%|          | 0/6762 [00:00<?, ?it/s]"
      ]
     },
     "metadata": {},
     "output_type": "display_data"
    },
    {
     "name": "stdout",
     "output_type": "stream",
     "text": [
      "* Average Loss @1: 0.0336\n",
      "Best performing model so far average validation loss: 0.0336 on epoch 2\n",
      "\n"
     ]
    },
    {
     "data": {
      "application/vnd.jupyter.widget-view+json": {
       "model_id": "f1200a1d86bc4a1c908ed9e0c190ad90",
       "version_major": 2,
       "version_minor": 0
      },
      "text/plain": [
       "  0%|          | 0/27046 [00:00<?, ?it/s]"
      ]
     },
     "metadata": {},
     "output_type": "display_data"
    },
    {
     "name": "stdout",
     "output_type": "stream",
     "text": [
      "Average training loss this epoch: 0.0357\n"
     ]
    },
    {
     "data": {
      "application/vnd.jupyter.widget-view+json": {
       "model_id": "898de9f12af040e89940a9fd1f7bb74d",
       "version_major": 2,
       "version_minor": 0
      },
      "text/plain": [
       "  0%|          | 0/6762 [00:00<?, ?it/s]"
      ]
     },
     "metadata": {},
     "output_type": "display_data"
    },
    {
     "name": "stdout",
     "output_type": "stream",
     "text": [
      "* Average Loss @1: 0.0394\n",
      "Epoch 00004: reducing learning rate of group 0 to 2.0000e-05.\n",
      "Best performing model so far average validation loss: 0.0336 on epoch 2\n",
      "\n",
      "\n",
      "Crossover condition met\n",
      "\n"
     ]
    },
    {
     "data": {
      "application/vnd.jupyter.widget-view+json": {
       "model_id": "161ec7a9ec5d461aa618ad5a50af62c7",
       "version_major": 2,
       "version_minor": 0
      },
      "text/plain": [
       "  0%|          | 0/27046 [00:00<?, ?it/s]"
      ]
     },
     "metadata": {},
     "output_type": "display_data"
    },
    {
     "name": "stdout",
     "output_type": "stream",
     "text": [
      "Average training loss this epoch: 0.0271\n"
     ]
    },
    {
     "data": {
      "application/vnd.jupyter.widget-view+json": {
       "model_id": "c650ec751751459b8e3c51dc1641783e",
       "version_major": 2,
       "version_minor": 0
      },
      "text/plain": [
       "  0%|          | 0/6762 [00:00<?, ?it/s]"
      ]
     },
     "metadata": {},
     "output_type": "display_data"
    },
    {
     "name": "stdout",
     "output_type": "stream",
     "text": [
      "* Average Loss @1: 0.0237\n",
      "Best performing model so far average validation loss: 0.0237 on epoch 4\n",
      "\n"
     ]
    },
    {
     "data": {
      "application/vnd.jupyter.widget-view+json": {
       "model_id": "628f9b82ab524570aabc56f9f504936e",
       "version_major": 2,
       "version_minor": 0
      },
      "text/plain": [
       "  0%|          | 0/27046 [00:00<?, ?it/s]"
      ]
     },
     "metadata": {},
     "output_type": "display_data"
    },
    {
     "name": "stdout",
     "output_type": "stream",
     "text": [
      "Average training loss this epoch: 0.0215\n"
     ]
    },
    {
     "data": {
      "application/vnd.jupyter.widget-view+json": {
       "model_id": "a123a6dacdc04643b1e92409a9ad65b3",
       "version_major": 2,
       "version_minor": 0
      },
      "text/plain": [
       "  0%|          | 0/6762 [00:00<?, ?it/s]"
      ]
     },
     "metadata": {},
     "output_type": "display_data"
    },
    {
     "name": "stdout",
     "output_type": "stream",
     "text": [
      "* Average Loss @1: 0.0200\n",
      "Best performing model so far average validation loss: 0.0200 on epoch 5\n",
      "\n"
     ]
    },
    {
     "data": {
      "application/vnd.jupyter.widget-view+json": {
       "model_id": "7c62d10da9d448869d410cb624608f6e",
       "version_major": 2,
       "version_minor": 0
      },
      "text/plain": [
       "  0%|          | 0/27046 [00:00<?, ?it/s]"
      ]
     },
     "metadata": {},
     "output_type": "display_data"
    },
    {
     "name": "stdout",
     "output_type": "stream",
     "text": [
      "Average training loss this epoch: 0.0187\n"
     ]
    },
    {
     "data": {
      "application/vnd.jupyter.widget-view+json": {
       "model_id": "d3470a9e4d114720baa7194fc00b4b20",
       "version_major": 2,
       "version_minor": 0
      },
      "text/plain": [
       "  0%|          | 0/6762 [00:00<?, ?it/s]"
      ]
     },
     "metadata": {},
     "output_type": "display_data"
    },
    {
     "name": "stdout",
     "output_type": "stream",
     "text": [
      "* Average Loss @1: 0.0179\n",
      "Best performing model so far average validation loss: 0.0179 on epoch 6\n",
      "\n"
     ]
    },
    {
     "data": {
      "application/vnd.jupyter.widget-view+json": {
       "model_id": "a6f7cddde3204c29b6edaf73cc8757ea",
       "version_major": 2,
       "version_minor": 0
      },
      "text/plain": [
       "  0%|          | 0/27046 [00:00<?, ?it/s]"
      ]
     },
     "metadata": {},
     "output_type": "display_data"
    },
    {
     "name": "stdout",
     "output_type": "stream",
     "text": [
      "Average training loss this epoch: 0.0158\n"
     ]
    },
    {
     "data": {
      "application/vnd.jupyter.widget-view+json": {
       "model_id": "c86460ddcd1349fb9afab073d8bf01db",
       "version_major": 2,
       "version_minor": 0
      },
      "text/plain": [
       "  0%|          | 0/6762 [00:00<?, ?it/s]"
      ]
     },
     "metadata": {},
     "output_type": "display_data"
    },
    {
     "name": "stdout",
     "output_type": "stream",
     "text": [
      "* Average Loss @1: 0.0158\n",
      "Best performing model so far average validation loss: 0.0158 on epoch 7\n",
      "\n"
     ]
    },
    {
     "data": {
      "application/vnd.jupyter.widget-view+json": {
       "model_id": "be883daabb274acf9ffc0355477b9458",
       "version_major": 2,
       "version_minor": 0
      },
      "text/plain": [
       "  0%|          | 0/27046 [00:00<?, ?it/s]"
      ]
     },
     "metadata": {},
     "output_type": "display_data"
    },
    {
     "name": "stdout",
     "output_type": "stream",
     "text": [
      "Average training loss this epoch: 0.0137\n"
     ]
    },
    {
     "data": {
      "application/vnd.jupyter.widget-view+json": {
       "model_id": "9b8594038f6a463aacb14f533d296f34",
       "version_major": 2,
       "version_minor": 0
      },
      "text/plain": [
       "  0%|          | 0/6762 [00:00<?, ?it/s]"
      ]
     },
     "metadata": {},
     "output_type": "display_data"
    },
    {
     "name": "stdout",
     "output_type": "stream",
     "text": [
      "* Average Loss @1: 0.0138\n",
      "Best performing model so far average validation loss: 0.0138 on epoch 8\n",
      "\n"
     ]
    },
    {
     "data": {
      "application/vnd.jupyter.widget-view+json": {
       "model_id": "b5aa1a4dc3084b8181f15909ec431468",
       "version_major": 2,
       "version_minor": 0
      },
      "text/plain": [
       "  0%|          | 0/27046 [00:00<?, ?it/s]"
      ]
     },
     "metadata": {},
     "output_type": "display_data"
    },
    {
     "name": "stdout",
     "output_type": "stream",
     "text": [
      "Average training loss this epoch: 0.0119\n"
     ]
    },
    {
     "data": {
      "application/vnd.jupyter.widget-view+json": {
       "model_id": "fe18ad8d87c04866bb5ef7dd51497028",
       "version_major": 2,
       "version_minor": 0
      },
      "text/plain": [
       "  0%|          | 0/6762 [00:00<?, ?it/s]"
      ]
     },
     "metadata": {},
     "output_type": "display_data"
    },
    {
     "name": "stdout",
     "output_type": "stream",
     "text": [
      "* Average Loss @1: 0.0121\n",
      "Best performing model so far average validation loss: 0.0121 on epoch 9\n",
      "\n"
     ]
    },
    {
     "data": {
      "application/vnd.jupyter.widget-view+json": {
       "model_id": "6e9b720f24694c6f9154ef30996a2932",
       "version_major": 2,
       "version_minor": 0
      },
      "text/plain": [
       "  0%|          | 0/27046 [00:00<?, ?it/s]"
      ]
     },
     "metadata": {},
     "output_type": "display_data"
    },
    {
     "name": "stdout",
     "output_type": "stream",
     "text": [
      "Average training loss this epoch: 0.0103\n"
     ]
    },
    {
     "data": {
      "application/vnd.jupyter.widget-view+json": {
       "model_id": "d6f135b2e7f144a1b1d756a8d235e66c",
       "version_major": 2,
       "version_minor": 0
      },
      "text/plain": [
       "  0%|          | 0/6762 [00:00<?, ?it/s]"
      ]
     },
     "metadata": {},
     "output_type": "display_data"
    },
    {
     "name": "stdout",
     "output_type": "stream",
     "text": [
      "* Average Loss @1: 0.0105\n",
      "Best performing model so far average validation loss: 0.0105 on epoch 10\n",
      "\n"
     ]
    },
    {
     "data": {
      "application/vnd.jupyter.widget-view+json": {
       "model_id": "12f11f37d5a84d408f1ad3de38ea7856",
       "version_major": 2,
       "version_minor": 0
      },
      "text/plain": [
       "  0%|          | 0/27046 [00:00<?, ?it/s]"
      ]
     },
     "metadata": {},
     "output_type": "display_data"
    },
    {
     "name": "stdout",
     "output_type": "stream",
     "text": [
      "Average training loss this epoch: 0.0089\n"
     ]
    },
    {
     "data": {
      "application/vnd.jupyter.widget-view+json": {
       "model_id": "bfdcbdb2294a4d9bbeb876d047a2e77a",
       "version_major": 2,
       "version_minor": 0
      },
      "text/plain": [
       "  0%|          | 0/6762 [00:00<?, ?it/s]"
      ]
     },
     "metadata": {},
     "output_type": "display_data"
    },
    {
     "name": "stdout",
     "output_type": "stream",
     "text": [
      "* Average Loss @1: 0.0097\n",
      "Best performing model so far average validation loss: 0.0097 on epoch 11\n",
      "\n"
     ]
    },
    {
     "data": {
      "application/vnd.jupyter.widget-view+json": {
       "model_id": "7e0f5103f5954d5da9fb2c2e779bebb8",
       "version_major": 2,
       "version_minor": 0
      },
      "text/plain": [
       "  0%|          | 0/27046 [00:00<?, ?it/s]"
      ]
     },
     "metadata": {},
     "output_type": "display_data"
    },
    {
     "name": "stdout",
     "output_type": "stream",
     "text": [
      "Average training loss this epoch: 0.0076\n"
     ]
    },
    {
     "data": {
      "application/vnd.jupyter.widget-view+json": {
       "model_id": "13a7ba8467d44802bd672ca15a3f66db",
       "version_major": 2,
       "version_minor": 0
      },
      "text/plain": [
       "  0%|          | 0/6762 [00:00<?, ?it/s]"
      ]
     },
     "metadata": {},
     "output_type": "display_data"
    },
    {
     "name": "stdout",
     "output_type": "stream",
     "text": [
      "* Average Loss @1: 0.0082\n",
      "Best performing model so far average validation loss: 0.0082 on epoch 12\n",
      "\n"
     ]
    },
    {
     "data": {
      "application/vnd.jupyter.widget-view+json": {
       "model_id": "e83e5e3b4017410abc9841d60c6e9042",
       "version_major": 2,
       "version_minor": 0
      },
      "text/plain": [
       "  0%|          | 0/27046 [00:00<?, ?it/s]"
      ]
     },
     "metadata": {},
     "output_type": "display_data"
    },
    {
     "name": "stdout",
     "output_type": "stream",
     "text": [
      "Average training loss this epoch: 0.0070\n"
     ]
    },
    {
     "data": {
      "application/vnd.jupyter.widget-view+json": {
       "model_id": "5739adad62524e6c878f9b0225eb685b",
       "version_major": 2,
       "version_minor": 0
      },
      "text/plain": [
       "  0%|          | 0/6762 [00:00<?, ?it/s]"
      ]
     },
     "metadata": {},
     "output_type": "display_data"
    },
    {
     "name": "stdout",
     "output_type": "stream",
     "text": [
      "* Average Loss @1: 0.0079\n",
      "Best performing model so far average validation loss: 0.0079 on epoch 13\n",
      "\n"
     ]
    },
    {
     "data": {
      "application/vnd.jupyter.widget-view+json": {
       "model_id": "2972333e02904a308cfdea45104c2bcb",
       "version_major": 2,
       "version_minor": 0
      },
      "text/plain": [
       "  0%|          | 0/27046 [00:00<?, ?it/s]"
      ]
     },
     "metadata": {},
     "output_type": "display_data"
    },
    {
     "name": "stdout",
     "output_type": "stream",
     "text": [
      "Average training loss this epoch: 0.0062\n"
     ]
    },
    {
     "data": {
      "application/vnd.jupyter.widget-view+json": {
       "model_id": "5854fafd41e146e49430ed868ae813c9",
       "version_major": 2,
       "version_minor": 0
      },
      "text/plain": [
       "  0%|          | 0/6762 [00:00<?, ?it/s]"
      ]
     },
     "metadata": {},
     "output_type": "display_data"
    },
    {
     "name": "stdout",
     "output_type": "stream",
     "text": [
      "* Average Loss @1: 0.0068\n",
      "Best performing model so far average validation loss: 0.0068 on epoch 14\n",
      "\n",
      "Best Training Loss @1: 0.0068\n",
      "\n",
      "Best Model:\n"
     ]
    },
    {
     "name": "stderr",
     "output_type": "stream",
     "text": [
      "/opt/conda/lib/python3.7/site-packages/ipykernel_launcher.py:153: TqdmDeprecationWarning: This function will be removed in tqdm==5.0.0\n",
      "Please use `tqdm.notebook.tqdm` instead of `tqdm.tqdm_notebook`\n"
     ]
    },
    {
     "data": {
      "application/vnd.jupyter.widget-view+json": {
       "model_id": "a352fa1c10bf475aa88383faed8280b5",
       "version_major": 2,
       "version_minor": 0
      },
      "text/plain": [
       "  0%|          | 0/5614 [00:00<?, ?it/s]"
      ]
     },
     "metadata": {},
     "output_type": "display_data"
    },
    {
     "name": "stdout",
     "output_type": "stream",
     "text": [
      "* Average Loss MSE @1: 0.0170\n",
      "Test Loss RMSE @1: 0.13033011667002056\n",
      "\n",
      "Crossover Model:\n"
     ]
    },
    {
     "data": {
      "application/vnd.jupyter.widget-view+json": {
       "model_id": "8b3930fdaba440c6999b12a49a1de1fe",
       "version_major": 2,
       "version_minor": 0
      },
      "text/plain": [
       "  0%|          | 0/5614 [00:00<?, ?it/s]"
      ]
     },
     "metadata": {},
     "output_type": "display_data"
    },
    {
     "name": "stdout",
     "output_type": "stream",
     "text": [
      "* Average Loss MSE @1: 0.0184\n",
      "Test Loss RMSE @1: 0.13558590410447005\n"
     ]
    },
    {
     "data": {
      "image/png": "[encoded data removed]",
      "text/plain": [
       "<Figure size 576x720 with 1 Axes>"
      ]
     },
     "metadata": {
      "needs_background": "light"
     },
     "output_type": "display_data"
    }
   ],
   "source": [
    "# !! Skip this cell for sigopt experimentation !!\n",
    "def main():\n",
    "    # Normalizing images per the paper and resizing each image to 66 x 200.\n",
    "    transform = transforms.Compose([\n",
    "        # Citation:\n",
    "        # https://pytorch.org/vision/stable/transforms.html#scriptable-transforms\n",
    "        transforms.Resize((128, 128)),\n",
    "        transforms.Normalize((0.485, 0.456, 0.406), (0.229, 0.224, 0.225))  \n",
    "    ])\n",
    "\n",
    "    # Loading in images with normalization and resizing applied.\n",
    "    training_set, validation_set, testing_set = dataset.load_nvidia_dataset(transform=transform, batch_size=BATCH_SIZE)\n",
    "    torch.cuda.empty_cache()\n",
    "\n",
    "    # Loading in the NVIDIA DAVE-2 model.\n",
    "    model = nvidia_2.NvidiaDaveCNN_2()\n",
    "\n",
    "    if torch.cuda.is_available():\n",
    "        model = model.to(torch.device(\"cuda\"))\n",
    "\n",
    "    print(summary(model, (3, 128, 128)))\n",
    "\n",
    "    # Specify Mean Squared Error (MSE) or RSME as the criterion since this is a regression task.\n",
    "    criterion = nn.MSELoss()\n",
    "    # criterion = RMSELoss\n",
    "\n",
    "    # Using Stochastic Gradient Descent (SGD) as the optimizer.\n",
    "    optimizer = torch.optim.Adam(model.parameters(), \n",
    "                                LEARNING_RATE,\n",
    "                                # MOMENTUM,\n",
    "                                weight_decay=WEIGHT_DECAY_REGULARIZATION_TERM)\n",
    "    \n",
    "    scheduler = torch.optim.lr_scheduler.ReduceLROnPlateau(optimizer, patience=0, verbose=True) \n",
    "    # torch.backends.cudnn.benchmark = True\n",
    "\n",
    "    best = float('inf')\n",
    "    best_model = None\n",
    "    best_epoch = None\n",
    "    train_losses = []\n",
    "    valid_losses = []\n",
    "    scaler = torch.cuda.amp.GradScaler()\n",
    "    crossover_flag = False\n",
    "    crossover_model = None\n",
    "    for epoch in range(NUM_EPOCHS):\n",
    "\n",
    "        # Training.\n",
    "        train_loss = train(epoch, training_set, model, optimizer, criterion, scaler=scaler)\n",
    "        temp = train_loss\n",
    "        temp.cpu()\n",
    "        temp = float(temp)\n",
    "        train_losses.append(temp)  # average losses\n",
    "        print(f\"Average training loss this epoch: {temp:.4f}\")\n",
    "\n",
    "        # Validation.\n",
    "        valid_loss = validate(epoch, validation_set, model, criterion)\n",
    "        temp = valid_loss\n",
    "        temp.cpu()\n",
    "        temp = float(temp)\n",
    "        valid_losses.append(temp)\n",
    "\n",
    "        scheduler.step(valid_loss)\n",
    "\n",
    "        if valid_loss < best:\n",
    "            best = valid_loss\n",
    "            best_model = copy.deepcopy(model)\n",
    "            best_epoch = epoch\n",
    "        print(f\"Best performing model so far average validation loss: {best:.4f} on epoch {best_epoch}\\n\")\n",
    "        \n",
    "        if not crossover_flag and valid_losses[-1] > train_losses[-1]:\n",
    "            crossover_flag = True\n",
    "            crossover_model = copy.deepcopy(best_model)\n",
    "            print('\\nCrossover condition met\\n')\n",
    "            torch.save(crossover_model.state_dict(), './checkpoints/jts_nvidia_dave2_crossover.pth')\n",
    "\n",
    "    print('Best Training Loss @1: {:.4f}'.format(best))\n",
    "\n",
    "    torch.save(best_model.state_dict(), './checkpoints/jts_nvidia_dave2.pth')\n",
    "\n",
    "    # Testing the best models.\n",
    "    print('\\nBest Model:')\n",
    "    test_loss = test(testing_set, best_model, criterion)\n",
    "    print(f'Test Loss RMSE @1: {test_loss}')\n",
    "    \n",
    "    if crossover_model is not None:\n",
    "        print('\\nCrossover Model:')\n",
    "        test_loss = test(testing_set, crossover_model, criterion)\n",
    "        print(f'Test Loss RMSE @1: {test_loss}')\n",
    "    \n",
    "    losses_to_plot = train_losses, valid_losses\n",
    "    plots(losses_to_plot, \n",
    "          lr=LEARNING_RATE, \n",
    "          reg=WEIGHT_DECAY_REGULARIZATION_TERM,\n",
    "          batch=BATCH_SIZE, \n",
    "          # momentum=MOMENTUM  # not necessary for ADAM\n",
    "         )\n",
    "\n",
    "    \n",
    "\n",
    "if __name__ == '__main__':\n",
    "    main()"
   ]
  },
  {
   "cell_type": "code",
   "execution_count": null,
   "metadata": {},
   "outputs": [],
   "source": [
    "def evaluate(args):       \n",
    "        \n",
    "    # log source of hyperparameter suggestion\n",
    "    sigopt.log_metadata('optimizer', \"Adam\")\n",
    "    sigopt.log_model(\"CNN - NVIDIA inspired\")\n",
    "    sigopt.log_dataset(\"Udacity self-driving dataset \")\n",
    "    \n",
    "    sigopt.params.setdefault(\"learning_rate\", args['learning_rate'])\n",
    "    sigopt.params.setdefault(\"reg\", args['reg'])\n",
    "    sigopt.params.setdefault(\"batch_size\", int(args['batch_size']))\n",
    "    \n",
    "    # Normalizing images per the paper and resizing each image to 66 x 200.\n",
    "    transform = transforms.Compose([\n",
    "        # Citation:\n",
    "        # https://pytorch.org/vision/stable/transforms.html#scriptable-transforms\n",
    "        transforms.Resize((224, 224)),\n",
    "        # transforms.Normalize((0.485, 0.456, 0.406), (0.229, 0.224, 0.225)),\n",
    "        # transforms.RandomRotation(degrees=2)\n",
    "    ])\n",
    "\n",
    "    print(\"Params : \", sigopt.params)\n",
    "    # Loading in images with normalization and resizing applied.\n",
    "    training_set, validation_set = dataset.load_nvidia_dataset(transform=transform, batch_size=int(sigopt.params.batch_size))\n",
    "    torch.cuda.empty_cache()\n",
    "\n",
    "    # Loading in the NVIDIA DAVE-2 model.\n",
    "    model = nvidia_2.NvidiaDaveCNN_2()\n",
    "\n",
    "    if torch.cuda.is_available():\n",
    "        model = model.to(torch.device(\"cuda\"))\n",
    "\n",
    "\n",
    "    # Specify Mean Squared Error (MSE) as criterion since this is a regression task. (We ultimately take sqrt and convert it to RMSE)\n",
    "    criterion = nn.MSELoss()\n",
    "\n",
    "    # Using Stochastic Gradient Descent (SGD) as the optimizer.\n",
    "    optimizer = torch.optim.Adam(model.parameters(), sigopt.params.learning_rate,\n",
    "                                weight_decay=sigopt.params.reg)\n",
    "    \n",
    "    scheduler = torch.optim.lr_scheduler.ReduceLROnPlateau(optimizer, patience=1, verbose=True) \n",
    "    # torch.backends.cudnn.benchmark = True\n",
    "\n",
    "    best = float('inf')\n",
    "    best_model = None\n",
    "    best_epoch = None\n",
    "    train_losses = []\n",
    "    valid_losses = []\n",
    "    scaler = torch.cuda.amp.GradScaler()\n",
    "    for epoch in range(NUM_EPOCHS):\n",
    "\n",
    "        # Training.\n",
    "        train_loss = train(epoch, training_set, model, optimizer, criterion, scaler=scaler)\n",
    "        temp = train_loss\n",
    "        temp.cpu()\n",
    "        temp = float(temp)\n",
    "        train_losses.append(temp)  # average losses\n",
    "        print(f\"Average training loss this epoch: {temp:.4f}\")\n",
    "\n",
    "        # Validation.\n",
    "        valid_loss = validate(epoch, validation_set, model, criterion)  # JTS - changed from test to validation\n",
    "        temp = valid_loss\n",
    "        temp.cpu()\n",
    "        temp = float(temp)\n",
    "        valid_losses.append(temp)\n",
    "\n",
    "        # scheduler.step(train_loss)  # JTS - this may or may not interfere with sigopt\n",
    "\n",
    "        if valid_loss < best:\n",
    "            best = valid_loss\n",
    "            best_model = copy.deepcopy(model)\n",
    "            best_epoch = epoch\n",
    "        print(f\"Best performing model so far average validation loss: {best:.4f} on epoch {best_epoch}\\n\")\n",
    "\n",
    "    print('Best Validation Loss @1: {:.4f}'.format(best))\n",
    "\n",
    "    torch.save(best_model.state_dict(), './checkpoints/nvidia_dave2.pth')\n",
    "    sigopt.log_metric(name='MSE', value=best)\n",
    "    return best.cpu().numpy()"
   ]
  },
  {
   "cell_type": "code",
   "execution_count": 12,
   "metadata": {},
   "outputs": [],
   "source": [
    "import os\n",
    "os.environ[\"SIGOPT_API_TOKEN\"] = \"XWBIVDWCVQXALUZQFDHNGOELLLKDJBMOJALEPCNQXQGBNIGC\"\n",
    "os.environ['SIGOPT_PROJECT'] = 'nvidia_cnn'\n",
    "%reload_ext sigopt\n",
    "args = {\n",
    "    'batch_size': 32,\n",
    "    'learning_rate': 0.005,\n",
    "    # 'momentum': 0.9,  # not necessary for ADAM\n",
    "    'reg': 0.0005\n",
    "}"
   ]
  },
  {
   "cell_type": "code",
   "execution_count": 16,
   "metadata": {},
   "outputs": [
    {
     "name": "stdout",
     "output_type": "stream",
     "text": [
      "Experiment created, view it on the SigOpt dashboard at https://app.sigopt.com/experiment/530502\n"
     ]
    }
   ],
   "source": [
    "%%experiment\n",
    "{\n",
    "    'name': 'GCP NVIDIA CNN model Optimization 4',\n",
    "    'metrics': [\n",
    "        {\n",
    "            'name': 'MSE',\n",
    "            'strategy': 'optimize',\n",
    "            'objective': 'minimize',\n",
    "        }\n",
    "    ],\n",
    "    'parameters': [\n",
    "        {\n",
    "            'name': 'reg',\n",
    "            'type': 'double',\n",
    "            'bounds': {'min': 0.0001, 'max': 0.5},\n",
    "            'transformation': 'log'\n",
    "        },\n",
    "        {\n",
    "            'name': 'learning_rate',\n",
    "            'type': 'double',\n",
    "            'bounds': {'min': 0.0001, 'max': 0.9},\n",
    "            'transformation': 'log'\n",
    "        },\n",
    "        {\n",
    "            'name': 'batch_size',\n",
    "            'type': 'categorical',\n",
    "            'categorical_values': ['32', '64']\n",
    "        }\n",
    "    ],\n",
    "    'budget': 50\n",
    "}"
   ]
  },
  {
   "cell_type": "code",
   "execution_count": 17,
   "metadata": {},
   "outputs": [
    {
     "name": "stdout",
     "output_type": "stream",
     "text": [
      "Run started, view it on the SigOpt dashboard at https://app.sigopt.com/run/443907\n",
      "Params :  {'learning_rate': 0.018230363908128745, 'batch_size': '64', 'reg': 0.0008720609512752354}\n"
     ]
    },
    {
     "name": "stderr",
     "output_type": "stream",
     "text": [
      "/opt/conda/lib/python3.7/site-packages/ipykernel_launcher.py:66: TqdmDeprecationWarning: This function will be removed in tqdm==5.0.0\n",
      "Please use `tqdm.notebook.tqdm` instead of `tqdm.tqdm_notebook`\n"
     ]
    },
    {
     "data": {
      "application/vnd.jupyter.widget-view+json": {
       "model_id": "7c84f28b8ffb4d148b692850273a5544",
       "version_major": 2,
       "version_minor": 0
      },
      "text/plain": [
       "  0%|          | 0/423 [00:00<?, ?it/s]"
      ]
     },
     "metadata": {},
     "output_type": "display_data"
    },
    {
     "name": "stdout",
     "output_type": "stream",
     "text": [
      "Average training loss this epoch: nan\n"
     ]
    },
    {
     "name": "stderr",
     "output_type": "stream",
     "text": [
      "/opt/conda/lib/python3.7/site-packages/ipykernel_launcher.py:112: TqdmDeprecationWarning: This function will be removed in tqdm==5.0.0\n",
      "Please use `tqdm.notebook.tqdm` instead of `tqdm.tqdm_notebook`\n"
     ]
    },
    {
     "data": {
      "application/vnd.jupyter.widget-view+json": {
       "model_id": "5436b68321c745c3bb688612a45e3df4",
       "version_major": 2,
       "version_minor": 0
      },
      "text/plain": [
       "  0%|          | 0/106 [00:00<?, ?it/s]"
      ]
     },
     "metadata": {},
     "output_type": "display_data"
    },
    {
     "name": "stderr",
     "output_type": "stream",
     "text": [
      "/opt/conda/lib/python3.7/site-packages/torch/nn/modules/loss.py:529: UserWarning: Using a target size (torch.Size([64])) that is different to the input size (torch.Size([64, 1])). This will likely lead to incorrect results due to broadcasting. Please ensure they have the same size.\n",
      "  return F.mse_loss(input, target, reduction=self.reduction)\n"
     ]
    },
    {
     "name": "stdout",
     "output_type": "stream",
     "text": [
      "* Average Loss @1: 0.0709\n",
      "Best performing model so far average validation loss: 0.0709 on epoch 0\n",
      "\n"
     ]
    },
    {
     "name": "stderr",
     "output_type": "stream",
     "text": [
      "/opt/conda/lib/python3.7/site-packages/torch/nn/modules/loss.py:529: UserWarning: Using a target size (torch.Size([42])) that is different to the input size (torch.Size([42, 1])). This will likely lead to incorrect results due to broadcasting. Please ensure they have the same size.\n",
      "  return F.mse_loss(input, target, reduction=self.reduction)\n"
     ]
    },
    {
     "data": {
      "application/vnd.jupyter.widget-view+json": {
       "model_id": "e4ae152518cb4fe98cf7d4b11643f3e5",
       "version_major": 2,
       "version_minor": 0
      },
      "text/plain": [
       "  0%|          | 0/423 [00:00<?, ?it/s]"
      ]
     },
     "metadata": {},
     "output_type": "display_data"
    },
    {
     "name": "stdout",
     "output_type": "stream",
     "text": [
      "Average training loss this epoch: nan\n"
     ]
    },
    {
     "data": {
      "application/vnd.jupyter.widget-view+json": {
       "model_id": "46c47ebf9f51447ea991a0398a0ddd75",
       "version_major": 2,
       "version_minor": 0
      },
      "text/plain": [
       "  0%|          | 0/106 [00:00<?, ?it/s]"
      ]
     },
     "metadata": {},
     "output_type": "display_data"
    },
    {
     "name": "stdout",
     "output_type": "stream",
     "text": [
      "* Average Loss @1: 0.0709\n",
      "Best performing model so far average validation loss: 0.0709 on epoch 0\n",
      "\n"
     ]
    },
    {
     "data": {
      "application/vnd.jupyter.widget-view+json": {
       "model_id": "29d7dd26bac34f14bfa88fa574262165",
       "version_major": 2,
       "version_minor": 0
      },
      "text/plain": [
       "  0%|          | 0/423 [00:00<?, ?it/s]"
      ]
     },
     "metadata": {},
     "output_type": "display_data"
    },
    {
     "name": "stdout",
     "output_type": "stream",
     "text": [
      "Average training loss this epoch: nan\n"
     ]
    },
    {
     "data": {
      "application/vnd.jupyter.widget-view+json": {
       "model_id": "f2774be128a64ca7bb1698a43fc11eed",
       "version_major": 2,
       "version_minor": 0
      },
      "text/plain": [
       "  0%|          | 0/106 [00:00<?, ?it/s]"
      ]
     },
     "metadata": {},
     "output_type": "display_data"
    },
    {
     "name": "stdout",
     "output_type": "stream",
     "text": [
      "* Average Loss @1: 0.0709\n",
      "Best performing model so far average validation loss: 0.0709 on epoch 2\n",
      "\n"
     ]
    },
    {
     "data": {
      "application/vnd.jupyter.widget-view+json": {
       "model_id": "4a2b9830387e4c599d7c1eda1ec0114a",
       "version_major": 2,
       "version_minor": 0
      },
      "text/plain": [
       "  0%|          | 0/423 [00:00<?, ?it/s]"
      ]
     },
     "metadata": {},
     "output_type": "display_data"
    },
    {
     "name": "stdout",
     "output_type": "stream",
     "text": [
      "Average training loss this epoch: nan\n"
     ]
    },
    {
     "data": {
      "application/vnd.jupyter.widget-view+json": {
       "model_id": "13ac43ba09d6474fbd242bed3623cc71",
       "version_major": 2,
       "version_minor": 0
      },
      "text/plain": [
       "  0%|          | 0/106 [00:00<?, ?it/s]"
      ]
     },
     "metadata": {},
     "output_type": "display_data"
    },
    {
     "name": "stdout",
     "output_type": "stream",
     "text": [
      "* Average Loss @1: 0.0709\n",
      "Best performing model so far average validation loss: 0.0709 on epoch 3\n",
      "\n"
     ]
    },
    {
     "data": {
      "application/vnd.jupyter.widget-view+json": {
       "model_id": "bb3c4cb5c5554a199f033e6dc91a5814",
       "version_major": 2,
       "version_minor": 0
      },
      "text/plain": [
       "  0%|          | 0/423 [00:00<?, ?it/s]"
      ]
     },
     "metadata": {},
     "output_type": "display_data"
    },
    {
     "name": "stdout",
     "output_type": "stream",
     "text": [
      "Average training loss this epoch: nan\n"
     ]
    },
    {
     "data": {
      "application/vnd.jupyter.widget-view+json": {
       "model_id": "32011f47c1404bc9bc2f9d0bfe7d9857",
       "version_major": 2,
       "version_minor": 0
      },
      "text/plain": [
       "  0%|          | 0/106 [00:00<?, ?it/s]"
      ]
     },
     "metadata": {},
     "output_type": "display_data"
    },
    {
     "name": "stdout",
     "output_type": "stream",
     "text": [
      "* Average Loss @1: 0.0709\n",
      "Best performing model so far average validation loss: 0.0709 on epoch 3\n",
      "\n",
      "Best Training Loss @1: 0.0709\n",
      "Run finished, view it on the SigOpt dashboard at https://app.sigopt.com/run/443907\n",
      "Run started, view it on the SigOpt dashboard at https://app.sigopt.com/run/444077\n",
      "Params :  {'batch_size': '32', 'learning_rate': 0.00025388111084780133, 'reg': 0.04765246332354775}\n"
     ]
    },
    {
     "data": {
      "application/vnd.jupyter.widget-view+json": {
       "model_id": "eaadc96fc4e6494c8232b8261be5ab5c",
       "version_major": 2,
       "version_minor": 0
      },
      "text/plain": [
       "  0%|          | 0/846 [00:00<?, ?it/s]"
      ]
     },
     "metadata": {},
     "output_type": "display_data"
    },
    {
     "name": "stdout",
     "output_type": "stream",
     "text": [
      "Average training loss this epoch: 0.0718\n"
     ]
    },
    {
     "data": {
      "application/vnd.jupyter.widget-view+json": {
       "model_id": "1e61f21c9b8f42e983f007cf4e455e84",
       "version_major": 2,
       "version_minor": 0
      },
      "text/plain": [
       "  0%|          | 0/212 [00:00<?, ?it/s]"
      ]
     },
     "metadata": {},
     "output_type": "display_data"
    },
    {
     "name": "stdout",
     "output_type": "stream",
     "text": [
      "* Average Loss @1: 0.0804\n",
      "Best performing model so far average validation loss: 0.0804 on epoch 0\n",
      "\n"
     ]
    },
    {
     "data": {
      "application/vnd.jupyter.widget-view+json": {
       "model_id": "a8200cf78a1449ba86fc33b03a31791f",
       "version_major": 2,
       "version_minor": 0
      },
      "text/plain": [
       "  0%|          | 0/846 [00:00<?, ?it/s]"
      ]
     },
     "metadata": {},
     "output_type": "display_data"
    },
    {
     "name": "stdout",
     "output_type": "stream",
     "text": [
      "Average training loss this epoch: 0.0688\n"
     ]
    },
    {
     "data": {
      "application/vnd.jupyter.widget-view+json": {
       "model_id": "75a0d5416ec54b65ba73eb7a84d3ace5",
       "version_major": 2,
       "version_minor": 0
      },
      "text/plain": [
       "  0%|          | 0/212 [00:00<?, ?it/s]"
      ]
     },
     "metadata": {},
     "output_type": "display_data"
    },
    {
     "name": "stdout",
     "output_type": "stream",
     "text": [
      "* Average Loss @1: 0.0790\n",
      "Best performing model so far average validation loss: 0.0790 on epoch 1\n",
      "\n"
     ]
    },
    {
     "data": {
      "application/vnd.jupyter.widget-view+json": {
       "model_id": "9151a3dd5f0345e5bd36f95cfc6cfaa0",
       "version_major": 2,
       "version_minor": 0
      },
      "text/plain": [
       "  0%|          | 0/846 [00:00<?, ?it/s]"
      ]
     },
     "metadata": {},
     "output_type": "display_data"
    },
    {
     "name": "stdout",
     "output_type": "stream",
     "text": [
      "Average training loss this epoch: 0.0689\n"
     ]
    },
    {
     "data": {
      "application/vnd.jupyter.widget-view+json": {
       "model_id": "57ecb9d3c4bf491b96c132eb93dddd26",
       "version_major": 2,
       "version_minor": 0
      },
      "text/plain": [
       "  0%|          | 0/212 [00:00<?, ?it/s]"
      ]
     },
     "metadata": {},
     "output_type": "display_data"
    },
    {
     "name": "stdout",
     "output_type": "stream",
     "text": [
      "* Average Loss @1: 0.0772\n",
      "Best performing model so far average validation loss: 0.0772 on epoch 2\n",
      "\n"
     ]
    },
    {
     "data": {
      "application/vnd.jupyter.widget-view+json": {
       "model_id": "6f33fa18f72b45c892ef7809b779daf2",
       "version_major": 2,
       "version_minor": 0
      },
      "text/plain": [
       "  0%|          | 0/846 [00:00<?, ?it/s]"
      ]
     },
     "metadata": {},
     "output_type": "display_data"
    },
    {
     "name": "stdout",
     "output_type": "stream",
     "text": [
      "Average training loss this epoch: 0.0731\n"
     ]
    },
    {
     "data": {
      "application/vnd.jupyter.widget-view+json": {
       "model_id": "e95a56543c384a72b73eceb1c6a3320b",
       "version_major": 2,
       "version_minor": 0
      },
      "text/plain": [
       "  0%|          | 0/212 [00:00<?, ?it/s]"
      ]
     },
     "metadata": {},
     "output_type": "display_data"
    },
    {
     "name": "stdout",
     "output_type": "stream",
     "text": [
      "* Average Loss @1: 0.0769\n",
      "Best performing model so far average validation loss: 0.0769 on epoch 3\n",
      "\n"
     ]
    },
    {
     "data": {
      "application/vnd.jupyter.widget-view+json": {
       "model_id": "c62ea4ee61fd449c80ef176520b16fb7",
       "version_major": 2,
       "version_minor": 0
      },
      "text/plain": [
       "  0%|          | 0/846 [00:00<?, ?it/s]"
      ]
     },
     "metadata": {},
     "output_type": "display_data"
    },
    {
     "name": "stdout",
     "output_type": "stream",
     "text": [
      "Average training loss this epoch: 0.0730\n"
     ]
    },
    {
     "data": {
      "application/vnd.jupyter.widget-view+json": {
       "model_id": "2bc97139f89841d28760be312dbbfac6",
       "version_major": 2,
       "version_minor": 0
      },
      "text/plain": [
       "  0%|          | 0/212 [00:00<?, ?it/s]"
      ]
     },
     "metadata": {},
     "output_type": "display_data"
    },
    {
     "name": "stdout",
     "output_type": "stream",
     "text": [
      "* Average Loss @1: 0.0769\n",
      "Best performing model so far average validation loss: 0.0769 on epoch 4\n",
      "\n",
      "Best Training Loss @1: 0.0769\n",
      "Run finished, view it on the SigOpt dashboard at https://app.sigopt.com/run/444077\n",
      "Run started, view it on the SigOpt dashboard at https://app.sigopt.com/run/444264\n",
      "Params :  {'reg': 0.0005272268225859176, 'learning_rate': 0.7134881025056684, 'batch_size': '32'}\n"
     ]
    },
    {
     "data": {
      "application/vnd.jupyter.widget-view+json": {
       "model_id": "afd40ecb8e674d0f93978774c44aa7fe",
       "version_major": 2,
       "version_minor": 0
      },
      "text/plain": [
       "  0%|          | 0/846 [00:00<?, ?it/s]"
      ]
     },
     "metadata": {},
     "output_type": "display_data"
    },
    {
     "name": "stdout",
     "output_type": "stream",
     "text": [
      "Average training loss this epoch: 34202864.5150\n"
     ]
    },
    {
     "data": {
      "application/vnd.jupyter.widget-view+json": {
       "model_id": "c045330eb7d340a19e9cefffd37e3dba",
       "version_major": 2,
       "version_minor": 0
      },
      "text/plain": [
       "  0%|          | 0/212 [00:00<?, ?it/s]"
      ]
     },
     "metadata": {},
     "output_type": "display_data"
    },
    {
     "name": "stdout",
     "output_type": "stream",
     "text": [
      "* Average Loss @1: 11890627092470866903040.0000\n",
      "Best performing model so far average validation loss: 11890627092470866903040.0000 on epoch 0\n",
      "\n"
     ]
    },
    {
     "data": {
      "application/vnd.jupyter.widget-view+json": {
       "model_id": "290971dd5f0f4f5a955cbce34f369c58",
       "version_major": 2,
       "version_minor": 0
      },
      "text/plain": [
       "  0%|          | 0/846 [00:00<?, ?it/s]"
      ]
     },
     "metadata": {},
     "output_type": "display_data"
    },
    {
     "name": "stdout",
     "output_type": "stream",
     "text": [
      "Average training loss this epoch: 34265717.0084\n"
     ]
    },
    {
     "data": {
      "application/vnd.jupyter.widget-view+json": {
       "model_id": "63935ec3c87d4ed29b30fd805f53c462",
       "version_major": 2,
       "version_minor": 0
      },
      "text/plain": [
       "  0%|          | 0/212 [00:00<?, ?it/s]"
      ]
     },
     "metadata": {},
     "output_type": "display_data"
    },
    {
     "name": "stdout",
     "output_type": "stream",
     "text": [
      "* Average Loss @1: 11883849091945601171456.0000\n",
      "Best performing model so far average validation loss: 11883849091945601171456.0000 on epoch 1\n",
      "\n"
     ]
    },
    {
     "data": {
      "application/vnd.jupyter.widget-view+json": {
       "model_id": "21fa768b6f96405f970940441dae7a56",
       "version_major": 2,
       "version_minor": 0
      },
      "text/plain": [
       "  0%|          | 0/846 [00:00<?, ?it/s]"
      ]
     },
     "metadata": {},
     "output_type": "display_data"
    },
    {
     "name": "stdout",
     "output_type": "stream",
     "text": [
      "Average training loss this epoch: 34236751.1348\n"
     ]
    },
    {
     "data": {
      "application/vnd.jupyter.widget-view+json": {
       "model_id": "7658df1face841c5ace0ef1a6802d1ee",
       "version_major": 2,
       "version_minor": 0
      },
      "text/plain": [
       "  0%|          | 0/212 [00:00<?, ?it/s]"
      ]
     },
     "metadata": {},
     "output_type": "display_data"
    },
    {
     "name": "stdout",
     "output_type": "stream",
     "text": [
      "* Average Loss @1: 11855942193712409346048.0000\n",
      "Best performing model so far average validation loss: 11855942193712409346048.0000 on epoch 2\n",
      "\n"
     ]
    },
    {
     "data": {
      "application/vnd.jupyter.widget-view+json": {
       "model_id": "7663c3376e73440590daa3fea9d4c4e3",
       "version_major": 2,
       "version_minor": 0
      },
      "text/plain": [
       "  0%|          | 0/846 [00:00<?, ?it/s]"
      ]
     },
     "metadata": {},
     "output_type": "display_data"
    },
    {
     "name": "stdout",
     "output_type": "stream",
     "text": [
      "Average training loss this epoch: 34255920.8216\n"
     ]
    },
    {
     "data": {
      "application/vnd.jupyter.widget-view+json": {
       "model_id": "e7efe1acc2484031a12673dfd43af47a",
       "version_major": 2,
       "version_minor": 0
      },
      "text/plain": [
       "  0%|          | 0/212 [00:00<?, ?it/s]"
      ]
     },
     "metadata": {},
     "output_type": "display_data"
    },
    {
     "name": "stdout",
     "output_type": "stream",
     "text": [
      "* Average Loss @1: 11910976162671135555584.0000\n",
      "Best performing model so far average validation loss: 11855942193712409346048.0000 on epoch 2\n",
      "\n"
     ]
    },
    {
     "data": {
      "application/vnd.jupyter.widget-view+json": {
       "model_id": "a0961ee5aae84789bc92a34de1932615",
       "version_major": 2,
       "version_minor": 0
      },
      "text/plain": [
       "  0%|          | 0/846 [00:00<?, ?it/s]"
      ]
     },
     "metadata": {},
     "output_type": "display_data"
    },
    {
     "name": "stdout",
     "output_type": "stream",
     "text": [
      "Average training loss this epoch: 34237862.7241\n"
     ]
    },
    {
     "data": {
      "application/vnd.jupyter.widget-view+json": {
       "model_id": "e9fc334ca94b429e9efdb8f0515def32",
       "version_major": 2,
       "version_minor": 0
      },
      "text/plain": [
       "  0%|          | 0/212 [00:00<?, ?it/s]"
      ]
     },
     "metadata": {},
     "output_type": "display_data"
    },
    {
     "name": "stdout",
     "output_type": "stream",
     "text": [
      "* Average Loss @1: 11899939502109726081024.0000\n",
      "Best performing model so far average validation loss: 11855942193712409346048.0000 on epoch 2\n",
      "\n",
      "Best Training Loss @1: 11855942193712409346048.0000\n",
      "Run finished, view it on the SigOpt dashboard at https://app.sigopt.com/run/444264\n",
      "Run started, view it on the SigOpt dashboard at https://app.sigopt.com/run/444451\n",
      "Params :  {'learning_rate': 0.007553313536995135, 'reg': 0.1329966022205953, 'batch_size': '32'}\n"
     ]
    },
    {
     "data": {
      "application/vnd.jupyter.widget-view+json": {
       "model_id": "b1803d6caf814ff4a02d3c4b4c28851e",
       "version_major": 2,
       "version_minor": 0
      },
      "text/plain": [
       "  0%|          | 0/846 [00:00<?, ?it/s]"
      ]
     },
     "metadata": {},
     "output_type": "display_data"
    },
    {
     "name": "stdout",
     "output_type": "stream",
     "text": [
      "Average training loss this epoch: 0.0738\n"
     ]
    },
    {
     "data": {
      "application/vnd.jupyter.widget-view+json": {
       "model_id": "bdfcfb85380e42ca849e308604abadd5",
       "version_major": 2,
       "version_minor": 0
      },
      "text/plain": [
       "  0%|          | 0/212 [00:00<?, ?it/s]"
      ]
     },
     "metadata": {},
     "output_type": "display_data"
    },
    {
     "name": "stdout",
     "output_type": "stream",
     "text": [
      "* Average Loss @1: 0.0744\n",
      "Best performing model so far average validation loss: 0.0744 on epoch 0\n",
      "\n"
     ]
    },
    {
     "data": {
      "application/vnd.jupyter.widget-view+json": {
       "model_id": "5f40b5b531944a7783573ff85566a177",
       "version_major": 2,
       "version_minor": 0
      },
      "text/plain": [
       "  0%|          | 0/846 [00:00<?, ?it/s]"
      ]
     },
     "metadata": {},
     "output_type": "display_data"
    },
    {
     "name": "stdout",
     "output_type": "stream",
     "text": [
      "Average training loss this epoch: 0.0737\n"
     ]
    },
    {
     "data": {
      "application/vnd.jupyter.widget-view+json": {
       "model_id": "bccb2b891aeb41d4a86e3d755c011742",
       "version_major": 2,
       "version_minor": 0
      },
      "text/plain": [
       "  0%|          | 0/212 [00:00<?, ?it/s]"
      ]
     },
     "metadata": {},
     "output_type": "display_data"
    },
    {
     "name": "stdout",
     "output_type": "stream",
     "text": [
      "* Average Loss @1: 0.0744\n",
      "Best performing model so far average validation loss: 0.0744 on epoch 1\n",
      "\n"
     ]
    },
    {
     "data": {
      "application/vnd.jupyter.widget-view+json": {
       "model_id": "8261a47bc0104e61a8051759f50db6fe",
       "version_major": 2,
       "version_minor": 0
      },
      "text/plain": [
       "  0%|          | 0/846 [00:00<?, ?it/s]"
      ]
     },
     "metadata": {},
     "output_type": "display_data"
    },
    {
     "name": "stdout",
     "output_type": "stream",
     "text": [
      "Average training loss this epoch: 0.0737\n"
     ]
    },
    {
     "data": {
      "application/vnd.jupyter.widget-view+json": {
       "model_id": "9c4ece6b0a2b4ff88ae578b24229d643",
       "version_major": 2,
       "version_minor": 0
      },
      "text/plain": [
       "  0%|          | 0/212 [00:00<?, ?it/s]"
      ]
     },
     "metadata": {},
     "output_type": "display_data"
    },
    {
     "name": "stdout",
     "output_type": "stream",
     "text": [
      "* Average Loss @1: 0.0744\n",
      "Best performing model so far average validation loss: 0.0744 on epoch 1\n",
      "\n"
     ]
    },
    {
     "data": {
      "application/vnd.jupyter.widget-view+json": {
       "model_id": "245162081293443f81ff09e21af1af4b",
       "version_major": 2,
       "version_minor": 0
      },
      "text/plain": [
       "  0%|          | 0/846 [00:00<?, ?it/s]"
      ]
     },
     "metadata": {},
     "output_type": "display_data"
    },
    {
     "name": "stdout",
     "output_type": "stream",
     "text": [
      "Average training loss this epoch: 0.0737\n"
     ]
    },
    {
     "data": {
      "application/vnd.jupyter.widget-view+json": {
       "model_id": "96bfaca7373c4f18ab2d4db7e7aee5a2",
       "version_major": 2,
       "version_minor": 0
      },
      "text/plain": [
       "  0%|          | 0/212 [00:00<?, ?it/s]"
      ]
     },
     "metadata": {},
     "output_type": "display_data"
    },
    {
     "name": "stdout",
     "output_type": "stream",
     "text": [
      "* Average Loss @1: 0.0745\n",
      "Best performing model so far average validation loss: 0.0744 on epoch 1\n",
      "\n"
     ]
    },
    {
     "data": {
      "application/vnd.jupyter.widget-view+json": {
       "model_id": "3bc3c0d1a493409aa81b1d6808eb858a",
       "version_major": 2,
       "version_minor": 0
      },
      "text/plain": [
       "  0%|          | 0/846 [00:00<?, ?it/s]"
      ]
     },
     "metadata": {},
     "output_type": "display_data"
    },
    {
     "name": "stdout",
     "output_type": "stream",
     "text": [
      "Average training loss this epoch: 0.0737\n"
     ]
    },
    {
     "data": {
      "application/vnd.jupyter.widget-view+json": {
       "model_id": "48e27a71993340969026b7747994f02a",
       "version_major": 2,
       "version_minor": 0
      },
      "text/plain": [
       "  0%|          | 0/212 [00:00<?, ?it/s]"
      ]
     },
     "metadata": {},
     "output_type": "display_data"
    },
    {
     "name": "stdout",
     "output_type": "stream",
     "text": [
      "* Average Loss @1: 0.0753\n",
      "Best performing model so far average validation loss: 0.0744 on epoch 1\n",
      "\n",
      "Best Training Loss @1: 0.0744\n",
      "Run finished, view it on the SigOpt dashboard at https://app.sigopt.com/run/444451\n",
      "Run started, view it on the SigOpt dashboard at https://app.sigopt.com/run/444629\n",
      "Params :  {'reg': 0.0007035963531847655, 'learning_rate': 0.009593277880234343, 'batch_size': '64'}\n"
     ]
    },
    {
     "data": {
      "application/vnd.jupyter.widget-view+json": {
       "model_id": "db5ff396492841a991df7497b4eb1838",
       "version_major": 2,
       "version_minor": 0
      },
      "text/plain": [
       "  0%|          | 0/423 [00:00<?, ?it/s]"
      ]
     },
     "metadata": {},
     "output_type": "display_data"
    },
    {
     "name": "stdout",
     "output_type": "stream",
     "text": [
      "Average training loss this epoch: nan\n"
     ]
    },
    {
     "data": {
      "application/vnd.jupyter.widget-view+json": {
       "model_id": "16ffd0a4984b44739c6ee2afd5480db7",
       "version_major": 2,
       "version_minor": 0
      },
      "text/plain": [
       "  0%|          | 0/106 [00:00<?, ?it/s]"
      ]
     },
     "metadata": {},
     "output_type": "display_data"
    },
    {
     "name": "stdout",
     "output_type": "stream",
     "text": [
      "* Average Loss @1: 0.5095\n",
      "Best performing model so far average validation loss: 0.5095 on epoch 0\n",
      "\n"
     ]
    },
    {
     "data": {
      "application/vnd.jupyter.widget-view+json": {
       "model_id": "fcad7cc6fd6d45baa06f9e26b49bdc77",
       "version_major": 2,
       "version_minor": 0
      },
      "text/plain": [
       "  0%|          | 0/423 [00:00<?, ?it/s]"
      ]
     },
     "metadata": {},
     "output_type": "display_data"
    },
    {
     "name": "stdout",
     "output_type": "stream",
     "text": [
      "Average training loss this epoch: nan\n"
     ]
    },
    {
     "data": {
      "application/vnd.jupyter.widget-view+json": {
       "model_id": "4b277a6508d74c5fbf6786415007f454",
       "version_major": 2,
       "version_minor": 0
      },
      "text/plain": [
       "  0%|          | 0/106 [00:00<?, ?it/s]"
      ]
     },
     "metadata": {},
     "output_type": "display_data"
    },
    {
     "name": "stdout",
     "output_type": "stream",
     "text": [
      "* Average Loss @1: 0.5095\n",
      "Best performing model so far average validation loss: 0.5095 on epoch 0\n",
      "\n"
     ]
    },
    {
     "data": {
      "application/vnd.jupyter.widget-view+json": {
       "model_id": "232e305ceab74d2ba9905639052d5555",
       "version_major": 2,
       "version_minor": 0
      },
      "text/plain": [
       "  0%|          | 0/423 [00:00<?, ?it/s]"
      ]
     },
     "metadata": {},
     "output_type": "display_data"
    },
    {
     "name": "stdout",
     "output_type": "stream",
     "text": [
      "Average training loss this epoch: nan\n"
     ]
    },
    {
     "data": {
      "application/vnd.jupyter.widget-view+json": {
       "model_id": "9eb46561525045818e93a7206fbd5509",
       "version_major": 2,
       "version_minor": 0
      },
      "text/plain": [
       "  0%|          | 0/106 [00:00<?, ?it/s]"
      ]
     },
     "metadata": {},
     "output_type": "display_data"
    },
    {
     "name": "stdout",
     "output_type": "stream",
     "text": [
      "* Average Loss @1: 0.5095\n",
      "Best performing model so far average validation loss: 0.5095 on epoch 2\n",
      "\n"
     ]
    },
    {
     "data": {
      "application/vnd.jupyter.widget-view+json": {
       "model_id": "e67b52cd9c3147888ab20ed1ade8ec90",
       "version_major": 2,
       "version_minor": 0
      },
      "text/plain": [
       "  0%|          | 0/423 [00:00<?, ?it/s]"
      ]
     },
     "metadata": {},
     "output_type": "display_data"
    },
    {
     "name": "stdout",
     "output_type": "stream",
     "text": [
      "Average training loss this epoch: nan\n"
     ]
    },
    {
     "data": {
      "application/vnd.jupyter.widget-view+json": {
       "model_id": "94be3d939ce84a618989bffa1960753a",
       "version_major": 2,
       "version_minor": 0
      },
      "text/plain": [
       "  0%|          | 0/106 [00:00<?, ?it/s]"
      ]
     },
     "metadata": {},
     "output_type": "display_data"
    },
    {
     "name": "stdout",
     "output_type": "stream",
     "text": [
      "* Average Loss @1: 0.5095\n",
      "Best performing model so far average validation loss: 0.5095 on epoch 2\n",
      "\n"
     ]
    },
    {
     "data": {
      "application/vnd.jupyter.widget-view+json": {
       "model_id": "bf60707afc664862a633e82679c24fdc",
       "version_major": 2,
       "version_minor": 0
      },
      "text/plain": [
       "  0%|          | 0/423 [00:00<?, ?it/s]"
      ]
     },
     "metadata": {},
     "output_type": "display_data"
    },
    {
     "name": "stdout",
     "output_type": "stream",
     "text": [
      "Average training loss this epoch: nan\n"
     ]
    },
    {
     "data": {
      "application/vnd.jupyter.widget-view+json": {
       "model_id": "bbbb5e17e7d049479871bb8cbca2e5c4",
       "version_major": 2,
       "version_minor": 0
      },
      "text/plain": [
       "  0%|          | 0/106 [00:00<?, ?it/s]"
      ]
     },
     "metadata": {},
     "output_type": "display_data"
    },
    {
     "name": "stdout",
     "output_type": "stream",
     "text": [
      "* Average Loss @1: 0.5095\n",
      "Best performing model so far average validation loss: 0.5095 on epoch 4\n",
      "\n",
      "Best Training Loss @1: 0.5095\n",
      "Run finished, view it on the SigOpt dashboard at https://app.sigopt.com/run/444629\n",
      "Run started, view it on the SigOpt dashboard at https://app.sigopt.com/run/444799\n",
      "Params :  {'reg': 0.0004599567574657335, 'batch_size': '64', 'learning_rate': 0.014772097543530914}\n"
     ]
    },
    {
     "data": {
      "application/vnd.jupyter.widget-view+json": {
       "model_id": "d3cf28ec0a6d4c7c92b957bad644a9ff",
       "version_major": 2,
       "version_minor": 0
      },
      "text/plain": [
       "  0%|          | 0/423 [00:00<?, ?it/s]"
      ]
     },
     "metadata": {},
     "output_type": "display_data"
    },
    {
     "name": "stdout",
     "output_type": "stream",
     "text": [
      "Average training loss this epoch: nan\n"
     ]
    },
    {
     "data": {
      "application/vnd.jupyter.widget-view+json": {
       "model_id": "c2e2ec5e1de3485da6aedec3f74ba294",
       "version_major": 2,
       "version_minor": 0
      },
      "text/plain": [
       "  0%|          | 0/106 [00:00<?, ?it/s]"
      ]
     },
     "metadata": {},
     "output_type": "display_data"
    },
    {
     "name": "stdout",
     "output_type": "stream",
     "text": [
      "* Average Loss @1: 1425.1371\n",
      "Best performing model so far average validation loss: 1425.1371 on epoch 0\n",
      "\n"
     ]
    },
    {
     "data": {
      "application/vnd.jupyter.widget-view+json": {
       "model_id": "570be9feb1774c4787ee2c083b1baada",
       "version_major": 2,
       "version_minor": 0
      },
      "text/plain": [
       "  0%|          | 0/423 [00:00<?, ?it/s]"
      ]
     },
     "metadata": {},
     "output_type": "display_data"
    },
    {
     "name": "stdout",
     "output_type": "stream",
     "text": [
      "Average training loss this epoch: nan\n"
     ]
    },
    {
     "data": {
      "application/vnd.jupyter.widget-view+json": {
       "model_id": "682e9225bd3641f1884ac7fd8227f5ae",
       "version_major": 2,
       "version_minor": 0
      },
      "text/plain": [
       "  0%|          | 0/106 [00:00<?, ?it/s]"
      ]
     },
     "metadata": {},
     "output_type": "display_data"
    },
    {
     "name": "stdout",
     "output_type": "stream",
     "text": [
      "* Average Loss @1: 1430.4717\n",
      "Best performing model so far average validation loss: 1425.1371 on epoch 0\n",
      "\n"
     ]
    },
    {
     "data": {
      "application/vnd.jupyter.widget-view+json": {
       "model_id": "ec369b09e9064129aa8aba0501100dbb",
       "version_major": 2,
       "version_minor": 0
      },
      "text/plain": [
       "  0%|          | 0/423 [00:00<?, ?it/s]"
      ]
     },
     "metadata": {},
     "output_type": "display_data"
    },
    {
     "name": "stdout",
     "output_type": "stream",
     "text": [
      "Average training loss this epoch: nan\n"
     ]
    },
    {
     "data": {
      "application/vnd.jupyter.widget-view+json": {
       "model_id": "bc5de63389e5449da2ffaba2e499e963",
       "version_major": 2,
       "version_minor": 0
      },
      "text/plain": [
       "  0%|          | 0/106 [00:00<?, ?it/s]"
      ]
     },
     "metadata": {},
     "output_type": "display_data"
    },
    {
     "name": "stdout",
     "output_type": "stream",
     "text": [
      "* Average Loss @1: 1424.6259\n",
      "Best performing model so far average validation loss: 1424.6259 on epoch 2\n",
      "\n"
     ]
    },
    {
     "data": {
      "application/vnd.jupyter.widget-view+json": {
       "model_id": "3fb72fc254984bd1a42d61af0aa0feae",
       "version_major": 2,
       "version_minor": 0
      },
      "text/plain": [
       "  0%|          | 0/423 [00:00<?, ?it/s]"
      ]
     },
     "metadata": {},
     "output_type": "display_data"
    },
    {
     "name": "stdout",
     "output_type": "stream",
     "text": [
      "Average training loss this epoch: nan\n"
     ]
    },
    {
     "data": {
      "application/vnd.jupyter.widget-view+json": {
       "model_id": "2736496e0f6948748f6241c630da222c",
       "version_major": 2,
       "version_minor": 0
      },
      "text/plain": [
       "  0%|          | 0/106 [00:00<?, ?it/s]"
      ]
     },
     "metadata": {},
     "output_type": "display_data"
    },
    {
     "name": "stdout",
     "output_type": "stream",
     "text": [
      "* Average Loss @1: 1431.0008\n",
      "Best performing model so far average validation loss: 1424.6259 on epoch 2\n",
      "\n"
     ]
    },
    {
     "data": {
      "application/vnd.jupyter.widget-view+json": {
       "model_id": "821f7b285dd847898dddfe488580500f",
       "version_major": 2,
       "version_minor": 0
      },
      "text/plain": [
       "  0%|          | 0/423 [00:00<?, ?it/s]"
      ]
     },
     "metadata": {},
     "output_type": "display_data"
    },
    {
     "name": "stdout",
     "output_type": "stream",
     "text": [
      "Average training loss this epoch: nan\n"
     ]
    },
    {
     "data": {
      "application/vnd.jupyter.widget-view+json": {
       "model_id": "45b64beee87f4cbfbe5bd9bb12779fe4",
       "version_major": 2,
       "version_minor": 0
      },
      "text/plain": [
       "  0%|          | 0/106 [00:00<?, ?it/s]"
      ]
     },
     "metadata": {},
     "output_type": "display_data"
    },
    {
     "name": "stdout",
     "output_type": "stream",
     "text": [
      "* Average Loss @1: 1420.9196\n",
      "Best performing model so far average validation loss: 1420.9196 on epoch 4\n",
      "\n",
      "Best Training Loss @1: 1420.9196\n",
      "Run finished, view it on the SigOpt dashboard at https://app.sigopt.com/run/444799\n",
      "Run started, view it on the SigOpt dashboard at https://app.sigopt.com/run/444976\n",
      "Params :  {'learning_rate': 0.009065370749114841, 'reg': 0.0011099402464313823, 'batch_size': '32'}\n"
     ]
    },
    {
     "data": {
      "application/vnd.jupyter.widget-view+json": {
       "model_id": "2fcc347011784a73a706d0df0417516e",
       "version_major": 2,
       "version_minor": 0
      },
      "text/plain": [
       "  0%|          | 0/846 [00:00<?, ?it/s]"
      ]
     },
     "metadata": {},
     "output_type": "display_data"
    },
    {
     "name": "stdout",
     "output_type": "stream",
     "text": [
      "Average training loss this epoch: nan\n"
     ]
    },
    {
     "data": {
      "application/vnd.jupyter.widget-view+json": {
       "model_id": "cedceba2505d487f8eae256100027a9d",
       "version_major": 2,
       "version_minor": 0
      },
      "text/plain": [
       "  0%|          | 0/212 [00:00<?, ?it/s]"
      ]
     },
     "metadata": {},
     "output_type": "display_data"
    },
    {
     "name": "stdout",
     "output_type": "stream",
     "text": [
      "* Average Loss @1: 0.7618\n",
      "Best performing model so far average validation loss: 0.7618 on epoch 0\n",
      "\n"
     ]
    },
    {
     "data": {
      "application/vnd.jupyter.widget-view+json": {
       "model_id": "f7ffc3c12df24e5286f7b565279e84ea",
       "version_major": 2,
       "version_minor": 0
      },
      "text/plain": [
       "  0%|          | 0/846 [00:00<?, ?it/s]"
      ]
     },
     "metadata": {},
     "output_type": "display_data"
    },
    {
     "name": "stdout",
     "output_type": "stream",
     "text": [
      "Average training loss this epoch: nan\n"
     ]
    },
    {
     "data": {
      "application/vnd.jupyter.widget-view+json": {
       "model_id": "809db58dca1e4b29b541ebee8ec88de5",
       "version_major": 2,
       "version_minor": 0
      },
      "text/plain": [
       "  0%|          | 0/212 [00:00<?, ?it/s]"
      ]
     },
     "metadata": {},
     "output_type": "display_data"
    },
    {
     "name": "stdout",
     "output_type": "stream",
     "text": [
      "* Average Loss @1: 0.7618\n",
      "Best performing model so far average validation loss: 0.7618 on epoch 0\n",
      "\n"
     ]
    },
    {
     "data": {
      "application/vnd.jupyter.widget-view+json": {
       "model_id": "7dbc22171db74b1b95407594b30f7530",
       "version_major": 2,
       "version_minor": 0
      },
      "text/plain": [
       "  0%|          | 0/846 [00:00<?, ?it/s]"
      ]
     },
     "metadata": {},
     "output_type": "display_data"
    },
    {
     "name": "stdout",
     "output_type": "stream",
     "text": [
      "Average training loss this epoch: nan\n"
     ]
    },
    {
     "data": {
      "application/vnd.jupyter.widget-view+json": {
       "model_id": "bfc1bebb82094c8eaa99563d5ea6594d",
       "version_major": 2,
       "version_minor": 0
      },
      "text/plain": [
       "  0%|          | 0/212 [00:00<?, ?it/s]"
      ]
     },
     "metadata": {},
     "output_type": "display_data"
    },
    {
     "name": "stdout",
     "output_type": "stream",
     "text": [
      "* Average Loss @1: 0.7618\n",
      "Best performing model so far average validation loss: 0.7618 on epoch 0\n",
      "\n"
     ]
    },
    {
     "data": {
      "application/vnd.jupyter.widget-view+json": {
       "model_id": "25d27e8adaae404c9fe7079af4687c0a",
       "version_major": 2,
       "version_minor": 0
      },
      "text/plain": [
       "  0%|          | 0/846 [00:00<?, ?it/s]"
      ]
     },
     "metadata": {},
     "output_type": "display_data"
    },
    {
     "name": "stdout",
     "output_type": "stream",
     "text": [
      "Average training loss this epoch: nan\n"
     ]
    },
    {
     "data": {
      "application/vnd.jupyter.widget-view+json": {
       "model_id": "c92558bfc3f54373923e768dadf2371d",
       "version_major": 2,
       "version_minor": 0
      },
      "text/plain": [
       "  0%|          | 0/212 [00:00<?, ?it/s]"
      ]
     },
     "metadata": {},
     "output_type": "display_data"
    },
    {
     "name": "stdout",
     "output_type": "stream",
     "text": [
      "* Average Loss @1: 0.7618\n",
      "Best performing model so far average validation loss: 0.7618 on epoch 0\n",
      "\n"
     ]
    },
    {
     "data": {
      "application/vnd.jupyter.widget-view+json": {
       "model_id": "46f76142802447f593fadebb65d0d924",
       "version_major": 2,
       "version_minor": 0
      },
      "text/plain": [
       "  0%|          | 0/846 [00:00<?, ?it/s]"
      ]
     },
     "metadata": {},
     "output_type": "display_data"
    },
    {
     "name": "stdout",
     "output_type": "stream",
     "text": [
      "Average training loss this epoch: nan\n"
     ]
    },
    {
     "data": {
      "application/vnd.jupyter.widget-view+json": {
       "model_id": "b29fe7d1f1484536b16d3381456f3be4",
       "version_major": 2,
       "version_minor": 0
      },
      "text/plain": [
       "  0%|          | 0/212 [00:00<?, ?it/s]"
      ]
     },
     "metadata": {},
     "output_type": "display_data"
    },
    {
     "name": "stdout",
     "output_type": "stream",
     "text": [
      "* Average Loss @1: 0.7618\n",
      "Best performing model so far average validation loss: 0.7618 on epoch 0\n",
      "\n",
      "Best Training Loss @1: 0.7618\n",
      "Run finished, view it on the SigOpt dashboard at https://app.sigopt.com/run/444976\n",
      "Run started, view it on the SigOpt dashboard at https://app.sigopt.com/run/445150\n",
      "Params :  {'reg': 0.0005929757866880466, 'learning_rate': 0.029201383841976538, 'batch_size': '32'}\n"
     ]
    },
    {
     "data": {
      "application/vnd.jupyter.widget-view+json": {
       "model_id": "386671a873df43e0871b822a94ebfff2",
       "version_major": 2,
       "version_minor": 0
      },
      "text/plain": [
       "  0%|          | 0/846 [00:00<?, ?it/s]"
      ]
     },
     "metadata": {},
     "output_type": "display_data"
    },
    {
     "name": "stdout",
     "output_type": "stream",
     "text": [
      "Average training loss this epoch: nan\n"
     ]
    },
    {
     "data": {
      "application/vnd.jupyter.widget-view+json": {
       "model_id": "ca958c6b4b984eaeb2c5e6891312b20d",
       "version_major": 2,
       "version_minor": 0
      },
      "text/plain": [
       "  0%|          | 0/212 [00:00<?, ?it/s]"
      ]
     },
     "metadata": {},
     "output_type": "display_data"
    },
    {
     "name": "stdout",
     "output_type": "stream",
     "text": [
      "* Average Loss @1: 38042506.9348\n",
      "Best performing model so far average validation loss: 38042506.9348 on epoch 0\n",
      "\n"
     ]
    },
    {
     "data": {
      "application/vnd.jupyter.widget-view+json": {
       "model_id": "ab66139c141f4228b5ec190b1fb002c3",
       "version_major": 2,
       "version_minor": 0
      },
      "text/plain": [
       "  0%|          | 0/846 [00:00<?, ?it/s]"
      ]
     },
     "metadata": {},
     "output_type": "display_data"
    },
    {
     "name": "stdout",
     "output_type": "stream",
     "text": [
      "Average training loss this epoch: nan\n"
     ]
    },
    {
     "data": {
      "application/vnd.jupyter.widget-view+json": {
       "model_id": "ca520a02e422461aab391b10513e2b76",
       "version_major": 2,
       "version_minor": 0
      },
      "text/plain": [
       "  0%|          | 0/212 [00:00<?, ?it/s]"
      ]
     },
     "metadata": {},
     "output_type": "display_data"
    },
    {
     "name": "stdout",
     "output_type": "stream",
     "text": [
      "* Average Loss @1: 38053252.8533\n",
      "Best performing model so far average validation loss: 38042506.9348 on epoch 0\n",
      "\n"
     ]
    },
    {
     "data": {
      "application/vnd.jupyter.widget-view+json": {
       "model_id": "15ec5deaff15458fa248e16379a55f83",
       "version_major": 2,
       "version_minor": 0
      },
      "text/plain": [
       "  0%|          | 0/846 [00:00<?, ?it/s]"
      ]
     },
     "metadata": {},
     "output_type": "display_data"
    },
    {
     "name": "stdout",
     "output_type": "stream",
     "text": [
      "Average training loss this epoch: nan\n"
     ]
    },
    {
     "data": {
      "application/vnd.jupyter.widget-view+json": {
       "model_id": "fb105ff95909499a803a63ab8c72df9d",
       "version_major": 2,
       "version_minor": 0
      },
      "text/plain": [
       "  0%|          | 0/212 [00:00<?, ?it/s]"
      ]
     },
     "metadata": {},
     "output_type": "display_data"
    },
    {
     "name": "stdout",
     "output_type": "stream",
     "text": [
      "* Average Loss @1: 38087126.8629\n",
      "Best performing model so far average validation loss: 38042506.9348 on epoch 0\n",
      "\n"
     ]
    },
    {
     "data": {
      "application/vnd.jupyter.widget-view+json": {
       "model_id": "6ac38035c862425f97254db073e9170f",
       "version_major": 2,
       "version_minor": 0
      },
      "text/plain": [
       "  0%|          | 0/846 [00:00<?, ?it/s]"
      ]
     },
     "metadata": {},
     "output_type": "display_data"
    },
    {
     "name": "stdout",
     "output_type": "stream",
     "text": [
      "Average training loss this epoch: nan\n"
     ]
    },
    {
     "data": {
      "application/vnd.jupyter.widget-view+json": {
       "model_id": "1ea77fd14c824b1da83c2227f3254536",
       "version_major": 2,
       "version_minor": 0
      },
      "text/plain": [
       "  0%|          | 0/212 [00:00<?, ?it/s]"
      ]
     },
     "metadata": {},
     "output_type": "display_data"
    },
    {
     "name": "stdout",
     "output_type": "stream",
     "text": [
      "* Average Loss @1: 38144168.0146\n",
      "Best performing model so far average validation loss: 38042506.9348 on epoch 0\n",
      "\n"
     ]
    },
    {
     "data": {
      "application/vnd.jupyter.widget-view+json": {
       "model_id": "ca7a3802b9354c488f34382c526c9a72",
       "version_major": 2,
       "version_minor": 0
      },
      "text/plain": [
       "  0%|          | 0/846 [00:00<?, ?it/s]"
      ]
     },
     "metadata": {},
     "output_type": "display_data"
    },
    {
     "name": "stdout",
     "output_type": "stream",
     "text": [
      "Average training loss this epoch: nan\n"
     ]
    },
    {
     "data": {
      "application/vnd.jupyter.widget-view+json": {
       "model_id": "704813c9bce34d0f9a4846542d73002c",
       "version_major": 2,
       "version_minor": 0
      },
      "text/plain": [
       "  0%|          | 0/212 [00:00<?, ?it/s]"
      ]
     },
     "metadata": {},
     "output_type": "display_data"
    },
    {
     "name": "stdout",
     "output_type": "stream",
     "text": [
      "* Average Loss @1: 38060143.7712\n",
      "Best performing model so far average validation loss: 38042506.9348 on epoch 0\n",
      "\n",
      "Best Training Loss @1: 38042506.9348\n",
      "Run finished, view it on the SigOpt dashboard at https://app.sigopt.com/run/445150\n",
      "Run started, view it on the SigOpt dashboard at https://app.sigopt.com/run/445334\n",
      "Params :  {'reg': 0.14280090723486485, 'learning_rate': 0.0028654375439597537, 'batch_size': '32'}\n"
     ]
    },
    {
     "data": {
      "application/vnd.jupyter.widget-view+json": {
       "model_id": "5eaf98905a46439f8b05c644ba265a33",
       "version_major": 2,
       "version_minor": 0
      },
      "text/plain": [
       "  0%|          | 0/846 [00:00<?, ?it/s]"
      ]
     },
     "metadata": {},
     "output_type": "display_data"
    },
    {
     "name": "stdout",
     "output_type": "stream",
     "text": [
      "Average training loss this epoch: 0.0796\n"
     ]
    },
    {
     "data": {
      "application/vnd.jupyter.widget-view+json": {
       "model_id": "9643d2a894fd4a12959923f3d8d198fb",
       "version_major": 2,
       "version_minor": 0
      },
      "text/plain": [
       "  0%|          | 0/212 [00:00<?, ?it/s]"
      ]
     },
     "metadata": {},
     "output_type": "display_data"
    },
    {
     "name": "stdout",
     "output_type": "stream",
     "text": [
      "* Average Loss @1: 0.0690\n",
      "Best performing model so far average validation loss: 0.0690 on epoch 0\n",
      "\n"
     ]
    },
    {
     "data": {
      "application/vnd.jupyter.widget-view+json": {
       "model_id": "b9519af72c2f40f6bd507fb72a6ec5be",
       "version_major": 2,
       "version_minor": 0
      },
      "text/plain": [
       "  0%|          | 0/846 [00:00<?, ?it/s]"
      ]
     },
     "metadata": {},
     "output_type": "display_data"
    },
    {
     "name": "stdout",
     "output_type": "stream",
     "text": [
      "Average training loss this epoch: 0.0749\n"
     ]
    },
    {
     "data": {
      "application/vnd.jupyter.widget-view+json": {
       "model_id": "d8ffc1929bde490ab94f429c62c500d1",
       "version_major": 2,
       "version_minor": 0
      },
      "text/plain": [
       "  0%|          | 0/212 [00:00<?, ?it/s]"
      ]
     },
     "metadata": {},
     "output_type": "display_data"
    },
    {
     "name": "stdout",
     "output_type": "stream",
     "text": [
      "* Average Loss @1: 0.0690\n",
      "Best performing model so far average validation loss: 0.0690 on epoch 0\n",
      "\n"
     ]
    },
    {
     "data": {
      "application/vnd.jupyter.widget-view+json": {
       "model_id": "db569f2030da4fab8fda230078753878",
       "version_major": 2,
       "version_minor": 0
      },
      "text/plain": [
       "  0%|          | 0/846 [00:00<?, ?it/s]"
      ]
     },
     "metadata": {},
     "output_type": "display_data"
    },
    {
     "name": "stdout",
     "output_type": "stream",
     "text": [
      "Average training loss this epoch: 0.0750\n"
     ]
    },
    {
     "data": {
      "application/vnd.jupyter.widget-view+json": {
       "model_id": "c002469c5f014fc78a408a7cd71fb8c9",
       "version_major": 2,
       "version_minor": 0
      },
      "text/plain": [
       "  0%|          | 0/212 [00:00<?, ?it/s]"
      ]
     },
     "metadata": {},
     "output_type": "display_data"
    },
    {
     "name": "stdout",
     "output_type": "stream",
     "text": [
      "* Average Loss @1: 0.0690\n",
      "Best performing model so far average validation loss: 0.0690 on epoch 0\n",
      "\n"
     ]
    },
    {
     "data": {
      "application/vnd.jupyter.widget-view+json": {
       "model_id": "a97f8a1ee3cc4dabbe2223d1f790920c",
       "version_major": 2,
       "version_minor": 0
      },
      "text/plain": [
       "  0%|          | 0/846 [00:00<?, ?it/s]"
      ]
     },
     "metadata": {},
     "output_type": "display_data"
    },
    {
     "name": "stdout",
     "output_type": "stream",
     "text": [
      "Average training loss this epoch: 0.0749\n"
     ]
    },
    {
     "data": {
      "application/vnd.jupyter.widget-view+json": {
       "model_id": "7d797125236b495f9fd808f07859d02b",
       "version_major": 2,
       "version_minor": 0
      },
      "text/plain": [
       "  0%|          | 0/212 [00:00<?, ?it/s]"
      ]
     },
     "metadata": {},
     "output_type": "display_data"
    },
    {
     "name": "stdout",
     "output_type": "stream",
     "text": [
      "* Average Loss @1: 0.0690\n",
      "Best performing model so far average validation loss: 0.0690 on epoch 0\n",
      "\n"
     ]
    },
    {
     "data": {
      "application/vnd.jupyter.widget-view+json": {
       "model_id": "49ac47b28c2546f489cdef88b84d56fc",
       "version_major": 2,
       "version_minor": 0
      },
      "text/plain": [
       "  0%|          | 0/846 [00:00<?, ?it/s]"
      ]
     },
     "metadata": {},
     "output_type": "display_data"
    },
    {
     "name": "stdout",
     "output_type": "stream",
     "text": [
      "Average training loss this epoch: 0.0750\n"
     ]
    },
    {
     "data": {
      "application/vnd.jupyter.widget-view+json": {
       "model_id": "dad28607b9c3474698312324ced963e4",
       "version_major": 2,
       "version_minor": 0
      },
      "text/plain": [
       "  0%|          | 0/212 [00:00<?, ?it/s]"
      ]
     },
     "metadata": {},
     "output_type": "display_data"
    },
    {
     "name": "stdout",
     "output_type": "stream",
     "text": [
      "* Average Loss @1: 0.0691\n",
      "Best performing model so far average validation loss: 0.0690 on epoch 0\n",
      "\n",
      "Best Training Loss @1: 0.0690\n",
      "Run finished, view it on the SigOpt dashboard at https://app.sigopt.com/run/445334\n",
      "Run started, view it on the SigOpt dashboard at https://app.sigopt.com/run/445520\n",
      "Params :  {'learning_rate': 0.0006892811923412726, 'batch_size': '64', 'reg': 0.06698899511649309}\n"
     ]
    },
    {
     "data": {
      "application/vnd.jupyter.widget-view+json": {
       "model_id": "1aec685e8e34465eb317cb10f2c4eee3",
       "version_major": 2,
       "version_minor": 0
      },
      "text/plain": [
       "  0%|          | 0/423 [00:00<?, ?it/s]"
      ]
     },
     "metadata": {},
     "output_type": "display_data"
    },
    {
     "name": "stdout",
     "output_type": "stream",
     "text": [
      "Average training loss this epoch: 0.0741\n"
     ]
    },
    {
     "data": {
      "application/vnd.jupyter.widget-view+json": {
       "model_id": "deefe42cddfa4057bdc5cf4ac65e5951",
       "version_major": 2,
       "version_minor": 0
      },
      "text/plain": [
       "  0%|          | 0/106 [00:00<?, ?it/s]"
      ]
     },
     "metadata": {},
     "output_type": "display_data"
    },
    {
     "name": "stdout",
     "output_type": "stream",
     "text": [
      "* Average Loss @1: 0.0733\n",
      "Best performing model so far average validation loss: 0.0733 on epoch 0\n",
      "\n"
     ]
    },
    {
     "data": {
      "application/vnd.jupyter.widget-view+json": {
       "model_id": "38837c23797c48f0bb022587e5231abc",
       "version_major": 2,
       "version_minor": 0
      },
      "text/plain": [
       "  0%|          | 0/423 [00:00<?, ?it/s]"
      ]
     },
     "metadata": {},
     "output_type": "display_data"
    },
    {
     "name": "stdout",
     "output_type": "stream",
     "text": [
      "Average training loss this epoch: 0.0738\n"
     ]
    },
    {
     "data": {
      "application/vnd.jupyter.widget-view+json": {
       "model_id": "0f48519f71bb4c928c64dff28640b444",
       "version_major": 2,
       "version_minor": 0
      },
      "text/plain": [
       "  0%|          | 0/106 [00:00<?, ?it/s]"
      ]
     },
     "metadata": {},
     "output_type": "display_data"
    },
    {
     "name": "stdout",
     "output_type": "stream",
     "text": [
      "* Average Loss @1: 0.0733\n",
      "Best performing model so far average validation loss: 0.0733 on epoch 1\n",
      "\n"
     ]
    },
    {
     "data": {
      "application/vnd.jupyter.widget-view+json": {
       "model_id": "515e7213282248eea5edc5b10b1dac2e",
       "version_major": 2,
       "version_minor": 0
      },
      "text/plain": [
       "  0%|          | 0/423 [00:00<?, ?it/s]"
      ]
     },
     "metadata": {},
     "output_type": "display_data"
    },
    {
     "name": "stdout",
     "output_type": "stream",
     "text": [
      "Average training loss this epoch: 0.0738\n"
     ]
    },
    {
     "data": {
      "application/vnd.jupyter.widget-view+json": {
       "model_id": "5c841b57d16f487d8a6817707eb2cce0",
       "version_major": 2,
       "version_minor": 0
      },
      "text/plain": [
       "  0%|          | 0/106 [00:00<?, ?it/s]"
      ]
     },
     "metadata": {},
     "output_type": "display_data"
    },
    {
     "name": "stdout",
     "output_type": "stream",
     "text": [
      "* Average Loss @1: 0.0733\n",
      "Best performing model so far average validation loss: 0.0733 on epoch 1\n",
      "\n"
     ]
    },
    {
     "data": {
      "application/vnd.jupyter.widget-view+json": {
       "model_id": "b2c502ca571d414b83d48ca5a4bd78bf",
       "version_major": 2,
       "version_minor": 0
      },
      "text/plain": [
       "  0%|          | 0/423 [00:00<?, ?it/s]"
      ]
     },
     "metadata": {},
     "output_type": "display_data"
    },
    {
     "name": "stdout",
     "output_type": "stream",
     "text": [
      "Average training loss this epoch: 0.0738\n"
     ]
    },
    {
     "data": {
      "application/vnd.jupyter.widget-view+json": {
       "model_id": "016589ffa70b4ebda59a5e8f99d094bc",
       "version_major": 2,
       "version_minor": 0
      },
      "text/plain": [
       "  0%|          | 0/106 [00:00<?, ?it/s]"
      ]
     },
     "metadata": {},
     "output_type": "display_data"
    },
    {
     "name": "stdout",
     "output_type": "stream",
     "text": [
      "* Average Loss @1: 0.0733\n",
      "Best performing model so far average validation loss: 0.0733 on epoch 3\n",
      "\n"
     ]
    },
    {
     "data": {
      "application/vnd.jupyter.widget-view+json": {
       "model_id": "579c7f3a9b334fa8ae8d28f06ad3014d",
       "version_major": 2,
       "version_minor": 0
      },
      "text/plain": [
       "  0%|          | 0/423 [00:00<?, ?it/s]"
      ]
     },
     "metadata": {},
     "output_type": "display_data"
    },
    {
     "name": "stdout",
     "output_type": "stream",
     "text": [
      "Average training loss this epoch: 0.0738\n"
     ]
    },
    {
     "data": {
      "application/vnd.jupyter.widget-view+json": {
       "model_id": "503b9fa7ff754aaab9754057dbb3192a",
       "version_major": 2,
       "version_minor": 0
      },
      "text/plain": [
       "  0%|          | 0/106 [00:00<?, ?it/s]"
      ]
     },
     "metadata": {},
     "output_type": "display_data"
    },
    {
     "name": "stdout",
     "output_type": "stream",
     "text": [
      "* Average Loss @1: 0.0733\n",
      "Best performing model so far average validation loss: 0.0733 on epoch 3\n",
      "\n",
      "Best Training Loss @1: 0.0733\n",
      "Run finished, view it on the SigOpt dashboard at https://app.sigopt.com/run/445520\n",
      "Run started, view it on the SigOpt dashboard at https://app.sigopt.com/run/445712\n",
      "Params :  {'batch_size': '64', 'reg': 0.00040030229649861814, 'learning_rate': 0.00010758708461306807}\n"
     ]
    },
    {
     "data": {
      "application/vnd.jupyter.widget-view+json": {
       "model_id": "9be706330bcf41d389fe9cd8e6ed5041",
       "version_major": 2,
       "version_minor": 0
      },
      "text/plain": [
       "  0%|          | 0/423 [00:00<?, ?it/s]"
      ]
     },
     "metadata": {},
     "output_type": "display_data"
    },
    {
     "name": "stdout",
     "output_type": "stream",
     "text": [
      "Average training loss this epoch: 0.0486\n"
     ]
    },
    {
     "data": {
      "application/vnd.jupyter.widget-view+json": {
       "model_id": "43509999cfd64d7bb54f5ad0c59d43b0",
       "version_major": 2,
       "version_minor": 0
      },
      "text/plain": [
       "  0%|          | 0/106 [00:00<?, ?it/s]"
      ]
     },
     "metadata": {},
     "output_type": "display_data"
    },
    {
     "name": "stdout",
     "output_type": "stream",
     "text": [
      "* Average Loss @1: 0.1061\n",
      "Best performing model so far average validation loss: 0.1061 on epoch 0\n",
      "\n"
     ]
    },
    {
     "data": {
      "application/vnd.jupyter.widget-view+json": {
       "model_id": "5f8ec54f69504f03a0334639d1ed8eb9",
       "version_major": 2,
       "version_minor": 0
      },
      "text/plain": [
       "  0%|          | 0/423 [00:00<?, ?it/s]"
      ]
     },
     "metadata": {},
     "output_type": "display_data"
    },
    {
     "name": "stdout",
     "output_type": "stream",
     "text": [
      "Average training loss this epoch: 0.0251\n"
     ]
    },
    {
     "data": {
      "application/vnd.jupyter.widget-view+json": {
       "model_id": "657db1a84daf419186e9ccd0d5f6f933",
       "version_major": 2,
       "version_minor": 0
      },
      "text/plain": [
       "  0%|          | 0/106 [00:00<?, ?it/s]"
      ]
     },
     "metadata": {},
     "output_type": "display_data"
    },
    {
     "name": "stdout",
     "output_type": "stream",
     "text": [
      "* Average Loss @1: 0.1250\n",
      "Best performing model so far average validation loss: 0.1061 on epoch 0\n",
      "\n"
     ]
    },
    {
     "data": {
      "application/vnd.jupyter.widget-view+json": {
       "model_id": "aa3393c075ff41859aa039dc18d6ee65",
       "version_major": 2,
       "version_minor": 0
      },
      "text/plain": [
       "  0%|          | 0/423 [00:00<?, ?it/s]"
      ]
     },
     "metadata": {},
     "output_type": "display_data"
    },
    {
     "name": "stdout",
     "output_type": "stream",
     "text": [
      "Average training loss this epoch: 0.0138\n"
     ]
    },
    {
     "data": {
      "application/vnd.jupyter.widget-view+json": {
       "model_id": "f9722f8cb77148d7b7518c4ff01d155e",
       "version_major": 2,
       "version_minor": 0
      },
      "text/plain": [
       "  0%|          | 0/106 [00:00<?, ?it/s]"
      ]
     },
     "metadata": {},
     "output_type": "display_data"
    },
    {
     "name": "stdout",
     "output_type": "stream",
     "text": [
      "* Average Loss @1: 0.1286\n",
      "Best performing model so far average validation loss: 0.1061 on epoch 0\n",
      "\n"
     ]
    },
    {
     "data": {
      "application/vnd.jupyter.widget-view+json": {
       "model_id": "8404f1de13074c3ea47819ee18f7b39e",
       "version_major": 2,
       "version_minor": 0
      },
      "text/plain": [
       "  0%|          | 0/423 [00:00<?, ?it/s]"
      ]
     },
     "metadata": {},
     "output_type": "display_data"
    },
    {
     "name": "stdout",
     "output_type": "stream",
     "text": [
      "Average training loss this epoch: 0.0097\n"
     ]
    },
    {
     "data": {
      "application/vnd.jupyter.widget-view+json": {
       "model_id": "bcba32779fea4a50a3001be1bbcdabf6",
       "version_major": 2,
       "version_minor": 0
      },
      "text/plain": [
       "  0%|          | 0/106 [00:00<?, ?it/s]"
      ]
     },
     "metadata": {},
     "output_type": "display_data"
    },
    {
     "name": "stdout",
     "output_type": "stream",
     "text": [
      "* Average Loss @1: 0.1264\n",
      "Best performing model so far average validation loss: 0.1061 on epoch 0\n",
      "\n"
     ]
    },
    {
     "data": {
      "application/vnd.jupyter.widget-view+json": {
       "model_id": "8efa291173274a738f9e8c40cf86605d",
       "version_major": 2,
       "version_minor": 0
      },
      "text/plain": [
       "  0%|          | 0/423 [00:00<?, ?it/s]"
      ]
     },
     "metadata": {},
     "output_type": "display_data"
    },
    {
     "name": "stdout",
     "output_type": "stream",
     "text": [
      "Average training loss this epoch: 0.0076\n"
     ]
    },
    {
     "data": {
      "application/vnd.jupyter.widget-view+json": {
       "model_id": "67f9936d4f5a41d19b870fde7dafa1fb",
       "version_major": 2,
       "version_minor": 0
      },
      "text/plain": [
       "  0%|          | 0/106 [00:00<?, ?it/s]"
      ]
     },
     "metadata": {},
     "output_type": "display_data"
    },
    {
     "name": "stdout",
     "output_type": "stream",
     "text": [
      "* Average Loss @1: 0.1343\n",
      "Best performing model so far average validation loss: 0.1061 on epoch 0\n",
      "\n",
      "Best Training Loss @1: 0.1061\n",
      "Run finished, view it on the SigOpt dashboard at https://app.sigopt.com/run/445712\n",
      "Run started, view it on the SigOpt dashboard at https://app.sigopt.com/run/445890\n",
      "Params :  {'batch_size': '32', 'learning_rate': 0.000795985914865582, 'reg': 0.00010566931443326124}\n"
     ]
    },
    {
     "data": {
      "application/vnd.jupyter.widget-view+json": {
       "model_id": "4f8fd41d3f5049ff98888438611e9864",
       "version_major": 2,
       "version_minor": 0
      },
      "text/plain": [
       "  0%|          | 0/846 [00:00<?, ?it/s]"
      ]
     },
     "metadata": {},
     "output_type": "display_data"
    },
    {
     "name": "stdout",
     "output_type": "stream",
     "text": [
      "Average training loss this epoch: 0.0507\n"
     ]
    },
    {
     "data": {
      "application/vnd.jupyter.widget-view+json": {
       "model_id": "1948bab2dca247e596a92144af61fda2",
       "version_major": 2,
       "version_minor": 0
      },
      "text/plain": [
       "  0%|          | 0/212 [00:00<?, ?it/s]"
      ]
     },
     "metadata": {},
     "output_type": "display_data"
    },
    {
     "name": "stdout",
     "output_type": "stream",
     "text": [
      "* Average Loss @1: 0.1229\n",
      "Best performing model so far average validation loss: 0.1229 on epoch 0\n",
      "\n"
     ]
    },
    {
     "data": {
      "application/vnd.jupyter.widget-view+json": {
       "model_id": "698ae60736bb4a7cb3754969b4cdf52f",
       "version_major": 2,
       "version_minor": 0
      },
      "text/plain": [
       "  0%|          | 0/846 [00:00<?, ?it/s]"
      ]
     },
     "metadata": {},
     "output_type": "display_data"
    },
    {
     "name": "stdout",
     "output_type": "stream",
     "text": [
      "Average training loss this epoch: 0.0334\n"
     ]
    },
    {
     "data": {
      "application/vnd.jupyter.widget-view+json": {
       "model_id": "b5dbd8267f4b46b0bfe291440a620780",
       "version_major": 2,
       "version_minor": 0
      },
      "text/plain": [
       "  0%|          | 0/212 [00:00<?, ?it/s]"
      ]
     },
     "metadata": {},
     "output_type": "display_data"
    },
    {
     "name": "stdout",
     "output_type": "stream",
     "text": [
      "* Average Loss @1: 0.1141\n",
      "Best performing model so far average validation loss: 0.1141 on epoch 1\n",
      "\n"
     ]
    },
    {
     "data": {
      "application/vnd.jupyter.widget-view+json": {
       "model_id": "b2f7187ae55e4e6eb66f70757e120a8c",
       "version_major": 2,
       "version_minor": 0
      },
      "text/plain": [
       "  0%|          | 0/846 [00:00<?, ?it/s]"
      ]
     },
     "metadata": {},
     "output_type": "display_data"
    },
    {
     "name": "stdout",
     "output_type": "stream",
     "text": [
      "Average training loss this epoch: 0.0256\n"
     ]
    },
    {
     "data": {
      "application/vnd.jupyter.widget-view+json": {
       "model_id": "623ee814baa84ce280849299d85b5ff5",
       "version_major": 2,
       "version_minor": 0
      },
      "text/plain": [
       "  0%|          | 0/212 [00:00<?, ?it/s]"
      ]
     },
     "metadata": {},
     "output_type": "display_data"
    },
    {
     "name": "stdout",
     "output_type": "stream",
     "text": [
      "* Average Loss @1: 0.1399\n",
      "Best performing model so far average validation loss: 0.1141 on epoch 1\n",
      "\n"
     ]
    },
    {
     "data": {
      "application/vnd.jupyter.widget-view+json": {
       "model_id": "5c42cebe43a84425a318c90aecba6c45",
       "version_major": 2,
       "version_minor": 0
      },
      "text/plain": [
       "  0%|          | 0/846 [00:00<?, ?it/s]"
      ]
     },
     "metadata": {},
     "output_type": "display_data"
    },
    {
     "name": "stdout",
     "output_type": "stream",
     "text": [
      "Average training loss this epoch: 0.0240\n"
     ]
    },
    {
     "data": {
      "application/vnd.jupyter.widget-view+json": {
       "model_id": "08bce6e0fa02490796ecebd40f0c282a",
       "version_major": 2,
       "version_minor": 0
      },
      "text/plain": [
       "  0%|          | 0/212 [00:00<?, ?it/s]"
      ]
     },
     "metadata": {},
     "output_type": "display_data"
    },
    {
     "name": "stdout",
     "output_type": "stream",
     "text": [
      "* Average Loss @1: 0.1053\n",
      "Best performing model so far average validation loss: 0.1053 on epoch 3\n",
      "\n"
     ]
    },
    {
     "data": {
      "application/vnd.jupyter.widget-view+json": {
       "model_id": "83667f9d08b94989bb4c1b309a826dd3",
       "version_major": 2,
       "version_minor": 0
      },
      "text/plain": [
       "  0%|          | 0/846 [00:00<?, ?it/s]"
      ]
     },
     "metadata": {},
     "output_type": "display_data"
    },
    {
     "name": "stdout",
     "output_type": "stream",
     "text": [
      "Average training loss this epoch: 0.0179\n"
     ]
    },
    {
     "data": {
      "application/vnd.jupyter.widget-view+json": {
       "model_id": "517da99475554a99865f949dd36d493d",
       "version_major": 2,
       "version_minor": 0
      },
      "text/plain": [
       "  0%|          | 0/212 [00:00<?, ?it/s]"
      ]
     },
     "metadata": {},
     "output_type": "display_data"
    },
    {
     "name": "stdout",
     "output_type": "stream",
     "text": [
      "* Average Loss @1: 0.1217\n",
      "Best performing model so far average validation loss: 0.1053 on epoch 3\n",
      "\n",
      "Best Training Loss @1: 0.1053\n",
      "Run finished, view it on the SigOpt dashboard at https://app.sigopt.com/run/445890\n",
      "Run started, view it on the SigOpt dashboard at https://app.sigopt.com/run/446064\n",
      "Params :  {'batch_size': '64', 'learning_rate': 0.00013904476526628112, 'reg': 0.5}\n"
     ]
    },
    {
     "data": {
      "application/vnd.jupyter.widget-view+json": {
       "model_id": "bfcb874a217f4f339ac7be6e229681c5",
       "version_major": 2,
       "version_minor": 0
      },
      "text/plain": [
       "  0%|          | 0/423 [00:00<?, ?it/s]"
      ]
     },
     "metadata": {},
     "output_type": "display_data"
    },
    {
     "name": "stdout",
     "output_type": "stream",
     "text": [
      "Average training loss this epoch: 0.0865\n"
     ]
    },
    {
     "data": {
      "application/vnd.jupyter.widget-view+json": {
       "model_id": "c6221fa2b01142a58dfbd6c1ff71ac25",
       "version_major": 2,
       "version_minor": 0
      },
      "text/plain": [
       "  0%|          | 0/106 [00:00<?, ?it/s]"
      ]
     },
     "metadata": {},
     "output_type": "display_data"
    },
    {
     "name": "stdout",
     "output_type": "stream",
     "text": [
      "* Average Loss @1: 0.0833\n",
      "Best performing model so far average validation loss: 0.0833 on epoch 0\n",
      "\n"
     ]
    },
    {
     "data": {
      "application/vnd.jupyter.widget-view+json": {
       "model_id": "0f80086028ba4c98899014136d1e2548",
       "version_major": 2,
       "version_minor": 0
      },
      "text/plain": [
       "  0%|          | 0/423 [00:00<?, ?it/s]"
      ]
     },
     "metadata": {},
     "output_type": "display_data"
    },
    {
     "name": "stdout",
     "output_type": "stream",
     "text": [
      "Average training loss this epoch: 0.0803\n"
     ]
    },
    {
     "data": {
      "application/vnd.jupyter.widget-view+json": {
       "model_id": "73b3d89fc7de435bb0e141065aad7361",
       "version_major": 2,
       "version_minor": 0
      },
      "text/plain": [
       "  0%|          | 0/106 [00:00<?, ?it/s]"
      ]
     },
     "metadata": {},
     "output_type": "display_data"
    },
    {
     "name": "stdout",
     "output_type": "stream",
     "text": [
      "* Average Loss @1: 0.0751\n",
      "Best performing model so far average validation loss: 0.0751 on epoch 1\n",
      "\n"
     ]
    },
    {
     "data": {
      "application/vnd.jupyter.widget-view+json": {
       "model_id": "8e5684a1f52e4b4bb62b52ea9ad54f60",
       "version_major": 2,
       "version_minor": 0
      },
      "text/plain": [
       "  0%|          | 0/423 [00:00<?, ?it/s]"
      ]
     },
     "metadata": {},
     "output_type": "display_data"
    },
    {
     "name": "stdout",
     "output_type": "stream",
     "text": [
      "Average training loss this epoch: 0.0759\n"
     ]
    },
    {
     "data": {
      "application/vnd.jupyter.widget-view+json": {
       "model_id": "89e8fb5c13a74bf1949c8684d1edbfc1",
       "version_major": 2,
       "version_minor": 0
      },
      "text/plain": [
       "  0%|          | 0/106 [00:00<?, ?it/s]"
      ]
     },
     "metadata": {},
     "output_type": "display_data"
    },
    {
     "name": "stdout",
     "output_type": "stream",
     "text": [
      "* Average Loss @1: 0.0727\n",
      "Best performing model so far average validation loss: 0.0727 on epoch 2\n",
      "\n"
     ]
    },
    {
     "data": {
      "application/vnd.jupyter.widget-view+json": {
       "model_id": "0a4527af33ad43278b48b1f951a04579",
       "version_major": 2,
       "version_minor": 0
      },
      "text/plain": [
       "  0%|          | 0/423 [00:00<?, ?it/s]"
      ]
     },
     "metadata": {},
     "output_type": "display_data"
    },
    {
     "name": "stdout",
     "output_type": "stream",
     "text": [
      "Average training loss this epoch: 0.0746\n"
     ]
    },
    {
     "data": {
      "application/vnd.jupyter.widget-view+json": {
       "model_id": "dcba167b9f5041078253c7a6d8528b92",
       "version_major": 2,
       "version_minor": 0
      },
      "text/plain": [
       "  0%|          | 0/106 [00:00<?, ?it/s]"
      ]
     },
     "metadata": {},
     "output_type": "display_data"
    },
    {
     "name": "stdout",
     "output_type": "stream",
     "text": [
      "* Average Loss @1: 0.0720\n",
      "Best performing model so far average validation loss: 0.0720 on epoch 3\n",
      "\n"
     ]
    },
    {
     "data": {
      "application/vnd.jupyter.widget-view+json": {
       "model_id": "6cae5159eac44b32835126078cdafdb1",
       "version_major": 2,
       "version_minor": 0
      },
      "text/plain": [
       "  0%|          | 0/423 [00:00<?, ?it/s]"
      ]
     },
     "metadata": {},
     "output_type": "display_data"
    },
    {
     "name": "stdout",
     "output_type": "stream",
     "text": [
      "Average training loss this epoch: 0.0743\n"
     ]
    },
    {
     "data": {
      "application/vnd.jupyter.widget-view+json": {
       "model_id": "f7e636825b9f416783cf32f4155a6ada",
       "version_major": 2,
       "version_minor": 0
      },
      "text/plain": [
       "  0%|          | 0/106 [00:00<?, ?it/s]"
      ]
     },
     "metadata": {},
     "output_type": "display_data"
    },
    {
     "name": "stdout",
     "output_type": "stream",
     "text": [
      "* Average Loss @1: 0.0718\n",
      "Best performing model so far average validation loss: 0.0718 on epoch 4\n",
      "\n",
      "Best Training Loss @1: 0.0718\n",
      "Run finished, view it on the SigOpt dashboard at https://app.sigopt.com/run/446064\n",
      "Run started, view it on the SigOpt dashboard at https://app.sigopt.com/run/446239\n",
      "Params :  {'batch_size': '64', 'learning_rate': 0.00046675296107294634, 'reg': 0.00013601077923175155}\n"
     ]
    },
    {
     "data": {
      "application/vnd.jupyter.widget-view+json": {
       "model_id": "6172f29dde64445aaa9964b6108f19ca",
       "version_major": 2,
       "version_minor": 0
      },
      "text/plain": [
       "  0%|          | 0/423 [00:00<?, ?it/s]"
      ]
     },
     "metadata": {},
     "output_type": "display_data"
    },
    {
     "name": "stdout",
     "output_type": "stream",
     "text": [
      "Average training loss this epoch: 0.0415\n"
     ]
    },
    {
     "data": {
      "application/vnd.jupyter.widget-view+json": {
       "model_id": "db1c9182837f4a2fb6fe25a66cd70a33",
       "version_major": 2,
       "version_minor": 0
      },
      "text/plain": [
       "  0%|          | 0/106 [00:00<?, ?it/s]"
      ]
     },
     "metadata": {},
     "output_type": "display_data"
    },
    {
     "name": "stdout",
     "output_type": "stream",
     "text": [
      "* Average Loss @1: 0.1316\n",
      "Best performing model so far average validation loss: 0.1316 on epoch 0\n",
      "\n"
     ]
    },
    {
     "data": {
      "application/vnd.jupyter.widget-view+json": {
       "model_id": "4ea29017af144265988e63f3c0153c9c",
       "version_major": 2,
       "version_minor": 0
      },
      "text/plain": [
       "  0%|          | 0/423 [00:00<?, ?it/s]"
      ]
     },
     "metadata": {},
     "output_type": "display_data"
    },
    {
     "name": "stdout",
     "output_type": "stream",
     "text": [
      "Average training loss this epoch: 0.0239\n"
     ]
    },
    {
     "data": {
      "application/vnd.jupyter.widget-view+json": {
       "model_id": "4130c9c7c6434235b0f52941cb8f28ec",
       "version_major": 2,
       "version_minor": 0
      },
      "text/plain": [
       "  0%|          | 0/106 [00:00<?, ?it/s]"
      ]
     },
     "metadata": {},
     "output_type": "display_data"
    },
    {
     "name": "stdout",
     "output_type": "stream",
     "text": [
      "* Average Loss @1: 0.1221\n",
      "Best performing model so far average validation loss: 0.1221 on epoch 1\n",
      "\n"
     ]
    },
    {
     "data": {
      "application/vnd.jupyter.widget-view+json": {
       "model_id": "d91980b8666a409096af5a14da9cc1a6",
       "version_major": 2,
       "version_minor": 0
      },
      "text/plain": [
       "  0%|          | 0/423 [00:00<?, ?it/s]"
      ]
     },
     "metadata": {},
     "output_type": "display_data"
    },
    {
     "name": "stdout",
     "output_type": "stream",
     "text": [
      "Average training loss this epoch: 0.0145\n"
     ]
    },
    {
     "data": {
      "application/vnd.jupyter.widget-view+json": {
       "model_id": "668db8a07a2e429db6ce119fe0110bbc",
       "version_major": 2,
       "version_minor": 0
      },
      "text/plain": [
       "  0%|          | 0/106 [00:00<?, ?it/s]"
      ]
     },
     "metadata": {},
     "output_type": "display_data"
    },
    {
     "name": "stdout",
     "output_type": "stream",
     "text": [
      "* Average Loss @1: 0.1339\n",
      "Best performing model so far average validation loss: 0.1221 on epoch 1\n",
      "\n"
     ]
    },
    {
     "data": {
      "application/vnd.jupyter.widget-view+json": {
       "model_id": "3c46d8122e1a4d049d389a555417741c",
       "version_major": 2,
       "version_minor": 0
      },
      "text/plain": [
       "  0%|          | 0/423 [00:00<?, ?it/s]"
      ]
     },
     "metadata": {},
     "output_type": "display_data"
    },
    {
     "name": "stdout",
     "output_type": "stream",
     "text": [
      "Average training loss this epoch: 0.0116\n"
     ]
    },
    {
     "data": {
      "application/vnd.jupyter.widget-view+json": {
       "model_id": "3afda45675e84194a8b43064e7594c10",
       "version_major": 2,
       "version_minor": 0
      },
      "text/plain": [
       "  0%|          | 0/106 [00:00<?, ?it/s]"
      ]
     },
     "metadata": {},
     "output_type": "display_data"
    },
    {
     "name": "stdout",
     "output_type": "stream",
     "text": [
      "* Average Loss @1: 0.1275\n",
      "Best performing model so far average validation loss: 0.1221 on epoch 1\n",
      "\n"
     ]
    },
    {
     "data": {
      "application/vnd.jupyter.widget-view+json": {
       "model_id": "bc9b37c4b6864ae086a7b30062be8fd5",
       "version_major": 2,
       "version_minor": 0
      },
      "text/plain": [
       "  0%|          | 0/423 [00:00<?, ?it/s]"
      ]
     },
     "metadata": {},
     "output_type": "display_data"
    },
    {
     "name": "stdout",
     "output_type": "stream",
     "text": [
      "Average training loss this epoch: 0.0076\n"
     ]
    },
    {
     "data": {
      "application/vnd.jupyter.widget-view+json": {
       "model_id": "1f2f5b87ebf242bdbc936438177cc38f",
       "version_major": 2,
       "version_minor": 0
      },
      "text/plain": [
       "  0%|          | 0/106 [00:00<?, ?it/s]"
      ]
     },
     "metadata": {},
     "output_type": "display_data"
    },
    {
     "name": "stdout",
     "output_type": "stream",
     "text": [
      "* Average Loss @1: 0.1419\n",
      "Best performing model so far average validation loss: 0.1221 on epoch 1\n",
      "\n",
      "Best Training Loss @1: 0.1221\n",
      "Run finished, view it on the SigOpt dashboard at https://app.sigopt.com/run/446239\n",
      "Run started, view it on the SigOpt dashboard at https://app.sigopt.com/run/446418\n",
      "Params :  {'learning_rate': 0.0006947940381421509, 'batch_size': '32', 'reg': 0.16753266012635545}\n"
     ]
    },
    {
     "data": {
      "application/vnd.jupyter.widget-view+json": {
       "model_id": "1d274ab8b6ee4a81a63fcf047537ad68",
       "version_major": 2,
       "version_minor": 0
      },
      "text/plain": [
       "  0%|          | 0/846 [00:00<?, ?it/s]"
      ]
     },
     "metadata": {},
     "output_type": "display_data"
    },
    {
     "name": "stdout",
     "output_type": "stream",
     "text": [
      "Average training loss this epoch: 0.0743\n"
     ]
    },
    {
     "data": {
      "application/vnd.jupyter.widget-view+json": {
       "model_id": "0a984a9ca33f407a952ff64621cda5cd",
       "version_major": 2,
       "version_minor": 0
      },
      "text/plain": [
       "  0%|          | 0/212 [00:00<?, ?it/s]"
      ]
     },
     "metadata": {},
     "output_type": "display_data"
    },
    {
     "name": "stdout",
     "output_type": "stream",
     "text": [
      "* Average Loss @1: 0.0727\n",
      "Best performing model so far average validation loss: 0.0727 on epoch 0\n",
      "\n"
     ]
    },
    {
     "data": {
      "application/vnd.jupyter.widget-view+json": {
       "model_id": "d4529faa55c24a61be44d97264e7da62",
       "version_major": 2,
       "version_minor": 0
      },
      "text/plain": [
       "  0%|          | 0/846 [00:00<?, ?it/s]"
      ]
     },
     "metadata": {},
     "output_type": "display_data"
    },
    {
     "name": "stdout",
     "output_type": "stream",
     "text": [
      "Average training loss this epoch: 0.0740\n"
     ]
    },
    {
     "data": {
      "application/vnd.jupyter.widget-view+json": {
       "model_id": "ad912ad516a74c5ab60d6ecd7142ab79",
       "version_major": 2,
       "version_minor": 0
      },
      "text/plain": [
       "  0%|          | 0/212 [00:00<?, ?it/s]"
      ]
     },
     "metadata": {},
     "output_type": "display_data"
    },
    {
     "name": "stdout",
     "output_type": "stream",
     "text": [
      "* Average Loss @1: 0.0727\n",
      "Best performing model so far average validation loss: 0.0727 on epoch 1\n",
      "\n"
     ]
    },
    {
     "data": {
      "application/vnd.jupyter.widget-view+json": {
       "model_id": "39b0c9dca7e040988a87ea944db50ef8",
       "version_major": 2,
       "version_minor": 0
      },
      "text/plain": [
       "  0%|          | 0/846 [00:00<?, ?it/s]"
      ]
     },
     "metadata": {},
     "output_type": "display_data"
    },
    {
     "name": "stdout",
     "output_type": "stream",
     "text": [
      "Average training loss this epoch: 0.0740\n"
     ]
    },
    {
     "data": {
      "application/vnd.jupyter.widget-view+json": {
       "model_id": "c55d66c402194909a08d73939eef1f8e",
       "version_major": 2,
       "version_minor": 0
      },
      "text/plain": [
       "  0%|          | 0/212 [00:00<?, ?it/s]"
      ]
     },
     "metadata": {},
     "output_type": "display_data"
    },
    {
     "name": "stdout",
     "output_type": "stream",
     "text": [
      "* Average Loss @1: 0.0727\n",
      "Best performing model so far average validation loss: 0.0727 on epoch 2\n",
      "\n"
     ]
    },
    {
     "data": {
      "application/vnd.jupyter.widget-view+json": {
       "model_id": "94d85df046b54255b65b0c0e75f026b1",
       "version_major": 2,
       "version_minor": 0
      },
      "text/plain": [
       "  0%|          | 0/846 [00:00<?, ?it/s]"
      ]
     },
     "metadata": {},
     "output_type": "display_data"
    },
    {
     "name": "stdout",
     "output_type": "stream",
     "text": [
      "Average training loss this epoch: 0.0740\n"
     ]
    },
    {
     "data": {
      "application/vnd.jupyter.widget-view+json": {
       "model_id": "ea89b977b73349b1b19bf1914198e32b",
       "version_major": 2,
       "version_minor": 0
      },
      "text/plain": [
       "  0%|          | 0/212 [00:00<?, ?it/s]"
      ]
     },
     "metadata": {},
     "output_type": "display_data"
    },
    {
     "name": "stdout",
     "output_type": "stream",
     "text": [
      "* Average Loss @1: 0.0727\n",
      "Best performing model so far average validation loss: 0.0727 on epoch 3\n",
      "\n"
     ]
    },
    {
     "data": {
      "application/vnd.jupyter.widget-view+json": {
       "model_id": "10cdd7c081a84c998f2c54e3a6311bf6",
       "version_major": 2,
       "version_minor": 0
      },
      "text/plain": [
       "  0%|          | 0/846 [00:00<?, ?it/s]"
      ]
     },
     "metadata": {},
     "output_type": "display_data"
    },
    {
     "name": "stdout",
     "output_type": "stream",
     "text": [
      "Average training loss this epoch: 0.0740\n"
     ]
    },
    {
     "data": {
      "application/vnd.jupyter.widget-view+json": {
       "model_id": "f82f3571222e47cf9821a9807333ed28",
       "version_major": 2,
       "version_minor": 0
      },
      "text/plain": [
       "  0%|          | 0/212 [00:00<?, ?it/s]"
      ]
     },
     "metadata": {},
     "output_type": "display_data"
    },
    {
     "name": "stdout",
     "output_type": "stream",
     "text": [
      "* Average Loss @1: 0.0727\n",
      "Best performing model so far average validation loss: 0.0727 on epoch 3\n",
      "\n",
      "Best Training Loss @1: 0.0727\n",
      "Run finished, view it on the SigOpt dashboard at https://app.sigopt.com/run/446418\n",
      "Run started, view it on the SigOpt dashboard at https://app.sigopt.com/run/446589\n",
      "Params :  {'reg': 0.3454693992376663, 'learning_rate': 0.014610826492620613, 'batch_size': '64'}\n"
     ]
    },
    {
     "data": {
      "application/vnd.jupyter.widget-view+json": {
       "model_id": "11c9b4a00508438488949e8e0fda4da9",
       "version_major": 2,
       "version_minor": 0
      },
      "text/plain": [
       "  0%|          | 0/423 [00:00<?, ?it/s]"
      ]
     },
     "metadata": {},
     "output_type": "display_data"
    },
    {
     "name": "stdout",
     "output_type": "stream",
     "text": [
      "Average training loss this epoch: 0.0742\n"
     ]
    },
    {
     "data": {
      "application/vnd.jupyter.widget-view+json": {
       "model_id": "d4333919cb9e410b87f3cb291cc95d1e",
       "version_major": 2,
       "version_minor": 0
      },
      "text/plain": [
       "  0%|          | 0/106 [00:00<?, ?it/s]"
      ]
     },
     "metadata": {},
     "output_type": "display_data"
    },
    {
     "name": "stdout",
     "output_type": "stream",
     "text": [
      "* Average Loss @1: 0.0743\n",
      "Best performing model so far average validation loss: 0.0743 on epoch 0\n",
      "\n"
     ]
    },
    {
     "data": {
      "application/vnd.jupyter.widget-view+json": {
       "model_id": "d7186699b1164395969c54c9948dec1b",
       "version_major": 2,
       "version_minor": 0
      },
      "text/plain": [
       "  0%|          | 0/423 [00:00<?, ?it/s]"
      ]
     },
     "metadata": {},
     "output_type": "display_data"
    },
    {
     "name": "stdout",
     "output_type": "stream",
     "text": [
      "Average training loss this epoch: 0.0739\n"
     ]
    },
    {
     "data": {
      "application/vnd.jupyter.widget-view+json": {
       "model_id": "d24169a4b407456b89c0a7875c1b56bc",
       "version_major": 2,
       "version_minor": 0
      },
      "text/plain": [
       "  0%|          | 0/106 [00:00<?, ?it/s]"
      ]
     },
     "metadata": {},
     "output_type": "display_data"
    },
    {
     "name": "stdout",
     "output_type": "stream",
     "text": [
      "* Average Loss @1: 0.0741\n",
      "Best performing model so far average validation loss: 0.0741 on epoch 1\n",
      "\n"
     ]
    },
    {
     "data": {
      "application/vnd.jupyter.widget-view+json": {
       "model_id": "721714395a6e4edcbfcfa4529e10916f",
       "version_major": 2,
       "version_minor": 0
      },
      "text/plain": [
       "  0%|          | 0/423 [00:00<?, ?it/s]"
      ]
     },
     "metadata": {},
     "output_type": "display_data"
    },
    {
     "name": "stdout",
     "output_type": "stream",
     "text": [
      "Average training loss this epoch: 0.0738\n"
     ]
    },
    {
     "data": {
      "application/vnd.jupyter.widget-view+json": {
       "model_id": "c2cf1712209849809f914c929a0dded0",
       "version_major": 2,
       "version_minor": 0
      },
      "text/plain": [
       "  0%|          | 0/106 [00:00<?, ?it/s]"
      ]
     },
     "metadata": {},
     "output_type": "display_data"
    },
    {
     "name": "stdout",
     "output_type": "stream",
     "text": [
      "* Average Loss @1: 0.0740\n",
      "Best performing model so far average validation loss: 0.0740 on epoch 2\n",
      "\n"
     ]
    },
    {
     "data": {
      "application/vnd.jupyter.widget-view+json": {
       "model_id": "75b6532f8d924c068fc2c3a2637dae90",
       "version_major": 2,
       "version_minor": 0
      },
      "text/plain": [
       "  0%|          | 0/423 [00:00<?, ?it/s]"
      ]
     },
     "metadata": {},
     "output_type": "display_data"
    },
    {
     "name": "stdout",
     "output_type": "stream",
     "text": [
      "Average training loss this epoch: 0.0738\n"
     ]
    },
    {
     "data": {
      "application/vnd.jupyter.widget-view+json": {
       "model_id": "3a2e71e1d7b94d1b9aad73d8da7221dc",
       "version_major": 2,
       "version_minor": 0
      },
      "text/plain": [
       "  0%|          | 0/106 [00:00<?, ?it/s]"
      ]
     },
     "metadata": {},
     "output_type": "display_data"
    },
    {
     "name": "stdout",
     "output_type": "stream",
     "text": [
      "* Average Loss @1: 0.0741\n",
      "Best performing model so far average validation loss: 0.0740 on epoch 2\n",
      "\n"
     ]
    },
    {
     "data": {
      "application/vnd.jupyter.widget-view+json": {
       "model_id": "201b061a150b475398f4fd78de096609",
       "version_major": 2,
       "version_minor": 0
      },
      "text/plain": [
       "  0%|          | 0/423 [00:00<?, ?it/s]"
      ]
     },
     "metadata": {},
     "output_type": "display_data"
    },
    {
     "name": "stdout",
     "output_type": "stream",
     "text": [
      "Average training loss this epoch: 0.0739\n"
     ]
    },
    {
     "data": {
      "application/vnd.jupyter.widget-view+json": {
       "model_id": "7609a1b0c93147b89799c3373d53ed23",
       "version_major": 2,
       "version_minor": 0
      },
      "text/plain": [
       "  0%|          | 0/106 [00:00<?, ?it/s]"
      ]
     },
     "metadata": {},
     "output_type": "display_data"
    },
    {
     "name": "stdout",
     "output_type": "stream",
     "text": [
      "* Average Loss @1: 0.0740\n",
      "Best performing model so far average validation loss: 0.0740 on epoch 2\n",
      "\n",
      "Best Training Loss @1: 0.0740\n",
      "Run finished, view it on the SigOpt dashboard at https://app.sigopt.com/run/446589\n",
      "Run started, view it on the SigOpt dashboard at https://app.sigopt.com/run/446765\n",
      "Params :  {'batch_size': '32', 'learning_rate': 0.00010787139805185393, 'reg': 0.00011189621138379568}\n"
     ]
    },
    {
     "data": {
      "application/vnd.jupyter.widget-view+json": {
       "model_id": "75809b410ef647bbba2d2bf4267347f8",
       "version_major": 2,
       "version_minor": 0
      },
      "text/plain": [
       "  0%|          | 0/846 [00:00<?, ?it/s]"
      ]
     },
     "metadata": {},
     "output_type": "display_data"
    },
    {
     "name": "stdout",
     "output_type": "stream",
     "text": [
      "Average training loss this epoch: 0.0475\n"
     ]
    },
    {
     "data": {
      "application/vnd.jupyter.widget-view+json": {
       "model_id": "a1afa92053b1434aa1a67b603d9059ab",
       "version_major": 2,
       "version_minor": 0
      },
      "text/plain": [
       "  0%|          | 0/212 [00:00<?, ?it/s]"
      ]
     },
     "metadata": {},
     "output_type": "display_data"
    },
    {
     "name": "stdout",
     "output_type": "stream",
     "text": [
      "* Average Loss @1: 0.1079\n",
      "Best performing model so far average validation loss: 0.1079 on epoch 0\n",
      "\n"
     ]
    },
    {
     "data": {
      "application/vnd.jupyter.widget-view+json": {
       "model_id": "83f3ae67d6e24e49a01c3a3926c860d3",
       "version_major": 2,
       "version_minor": 0
      },
      "text/plain": [
       "  0%|          | 0/846 [00:00<?, ?it/s]"
      ]
     },
     "metadata": {},
     "output_type": "display_data"
    },
    {
     "name": "stdout",
     "output_type": "stream",
     "text": [
      "Average training loss this epoch: 0.0218\n"
     ]
    },
    {
     "data": {
      "application/vnd.jupyter.widget-view+json": {
       "model_id": "266d927374c3441b8bddb95c9d7b4ce1",
       "version_major": 2,
       "version_minor": 0
      },
      "text/plain": [
       "  0%|          | 0/212 [00:00<?, ?it/s]"
      ]
     },
     "metadata": {},
     "output_type": "display_data"
    },
    {
     "name": "stdout",
     "output_type": "stream",
     "text": [
      "* Average Loss @1: 0.1159\n",
      "Best performing model so far average validation loss: 0.1079 on epoch 0\n",
      "\n"
     ]
    },
    {
     "data": {
      "application/vnd.jupyter.widget-view+json": {
       "model_id": "25de32f60e8c4ef397c07e0c0743cb0e",
       "version_major": 2,
       "version_minor": 0
      },
      "text/plain": [
       "  0%|          | 0/846 [00:00<?, ?it/s]"
      ]
     },
     "metadata": {},
     "output_type": "display_data"
    },
    {
     "name": "stdout",
     "output_type": "stream",
     "text": [
      "Average training loss this epoch: 0.0116\n"
     ]
    },
    {
     "data": {
      "application/vnd.jupyter.widget-view+json": {
       "model_id": "ad7a7ae9952141a694876d143db8056e",
       "version_major": 2,
       "version_minor": 0
      },
      "text/plain": [
       "  0%|          | 0/212 [00:00<?, ?it/s]"
      ]
     },
     "metadata": {},
     "output_type": "display_data"
    },
    {
     "name": "stdout",
     "output_type": "stream",
     "text": [
      "* Average Loss @1: 0.1151\n",
      "Best performing model so far average validation loss: 0.1079 on epoch 0\n",
      "\n"
     ]
    },
    {
     "data": {
      "application/vnd.jupyter.widget-view+json": {
       "model_id": "a1a3bd5cba5e45c9a5024ee8ede7ec13",
       "version_major": 2,
       "version_minor": 0
      },
      "text/plain": [
       "  0%|          | 0/846 [00:00<?, ?it/s]"
      ]
     },
     "metadata": {},
     "output_type": "display_data"
    },
    {
     "name": "stdout",
     "output_type": "stream",
     "text": [
      "Average training loss this epoch: 0.0077\n"
     ]
    },
    {
     "data": {
      "application/vnd.jupyter.widget-view+json": {
       "model_id": "bcd9970653a344a191e90fdde2b4117c",
       "version_major": 2,
       "version_minor": 0
      },
      "text/plain": [
       "  0%|          | 0/212 [00:00<?, ?it/s]"
      ]
     },
     "metadata": {},
     "output_type": "display_data"
    },
    {
     "name": "stdout",
     "output_type": "stream",
     "text": [
      "* Average Loss @1: 0.1216\n",
      "Best performing model so far average validation loss: 0.1079 on epoch 0\n",
      "\n"
     ]
    },
    {
     "data": {
      "application/vnd.jupyter.widget-view+json": {
       "model_id": "0fdbd59c48ae4d23a4c738ff1485a7b5",
       "version_major": 2,
       "version_minor": 0
      },
      "text/plain": [
       "  0%|          | 0/846 [00:00<?, ?it/s]"
      ]
     },
     "metadata": {},
     "output_type": "display_data"
    },
    {
     "name": "stdout",
     "output_type": "stream",
     "text": [
      "Average training loss this epoch: 0.0062\n"
     ]
    },
    {
     "data": {
      "application/vnd.jupyter.widget-view+json": {
       "model_id": "6bab71eee6654c4aa0b552b5c288f054",
       "version_major": 2,
       "version_minor": 0
      },
      "text/plain": [
       "  0%|          | 0/212 [00:00<?, ?it/s]"
      ]
     },
     "metadata": {},
     "output_type": "display_data"
    },
    {
     "name": "stdout",
     "output_type": "stream",
     "text": [
      "* Average Loss @1: 0.1221\n",
      "Best performing model so far average validation loss: 0.1079 on epoch 0\n",
      "\n",
      "Best Training Loss @1: 0.1079\n",
      "Run finished, view it on the SigOpt dashboard at https://app.sigopt.com/run/446765\n",
      "Run started, view it on the SigOpt dashboard at https://app.sigopt.com/run/446942\n",
      "Params :  {'learning_rate': 0.01652395156278354, 'reg': 0.0017779648434006526, 'batch_size': '32'}\n"
     ]
    },
    {
     "data": {
      "application/vnd.jupyter.widget-view+json": {
       "model_id": "cc6e286cc82c4e4b904d8d3fb47cfa5a",
       "version_major": 2,
       "version_minor": 0
      },
      "text/plain": [
       "  0%|          | 0/846 [00:00<?, ?it/s]"
      ]
     },
     "metadata": {},
     "output_type": "display_data"
    },
    {
     "name": "stdout",
     "output_type": "stream",
     "text": [
      "Average training loss this epoch: nan\n"
     ]
    },
    {
     "data": {
      "application/vnd.jupyter.widget-view+json": {
       "model_id": "3865ec5fe0ac43aab304f31f37479663",
       "version_major": 2,
       "version_minor": 0
      },
      "text/plain": [
       "  0%|          | 0/212 [00:00<?, ?it/s]"
      ]
     },
     "metadata": {},
     "output_type": "display_data"
    },
    {
     "name": "stdout",
     "output_type": "stream",
     "text": [
      "* Average Loss @1: 0.3494\n",
      "Best performing model so far average validation loss: 0.3494 on epoch 0\n",
      "\n"
     ]
    },
    {
     "data": {
      "application/vnd.jupyter.widget-view+json": {
       "model_id": "9d89b9f7c31e481cb213f77844e0bcdd",
       "version_major": 2,
       "version_minor": 0
      },
      "text/plain": [
       "  0%|          | 0/846 [00:00<?, ?it/s]"
      ]
     },
     "metadata": {},
     "output_type": "display_data"
    },
    {
     "name": "stdout",
     "output_type": "stream",
     "text": [
      "Average training loss this epoch: nan\n"
     ]
    },
    {
     "data": {
      "application/vnd.jupyter.widget-view+json": {
       "model_id": "0207dbf7ec3f4ee38247592936bc68a4",
       "version_major": 2,
       "version_minor": 0
      },
      "text/plain": [
       "  0%|          | 0/212 [00:00<?, ?it/s]"
      ]
     },
     "metadata": {},
     "output_type": "display_data"
    },
    {
     "name": "stdout",
     "output_type": "stream",
     "text": [
      "* Average Loss @1: 0.3494\n",
      "Best performing model so far average validation loss: 0.3494 on epoch 1\n",
      "\n"
     ]
    },
    {
     "data": {
      "application/vnd.jupyter.widget-view+json": {
       "model_id": "fda8c3210fc54a28808eb1bda4ce162c",
       "version_major": 2,
       "version_minor": 0
      },
      "text/plain": [
       "  0%|          | 0/846 [00:00<?, ?it/s]"
      ]
     },
     "metadata": {},
     "output_type": "display_data"
    },
    {
     "name": "stdout",
     "output_type": "stream",
     "text": [
      "Average training loss this epoch: nan\n"
     ]
    },
    {
     "data": {
      "application/vnd.jupyter.widget-view+json": {
       "model_id": "36809016f70b4a0e930f96d5b31cae80",
       "version_major": 2,
       "version_minor": 0
      },
      "text/plain": [
       "  0%|          | 0/212 [00:00<?, ?it/s]"
      ]
     },
     "metadata": {},
     "output_type": "display_data"
    },
    {
     "name": "stdout",
     "output_type": "stream",
     "text": [
      "* Average Loss @1: 0.3494\n",
      "Best performing model so far average validation loss: 0.3494 on epoch 1\n",
      "\n"
     ]
    },
    {
     "data": {
      "application/vnd.jupyter.widget-view+json": {
       "model_id": "c5719fe846e64fa3885c9987e2d018c1",
       "version_major": 2,
       "version_minor": 0
      },
      "text/plain": [
       "  0%|          | 0/846 [00:00<?, ?it/s]"
      ]
     },
     "metadata": {},
     "output_type": "display_data"
    },
    {
     "name": "stdout",
     "output_type": "stream",
     "text": [
      "Average training loss this epoch: nan\n"
     ]
    },
    {
     "data": {
      "application/vnd.jupyter.widget-view+json": {
       "model_id": "20f93c9068fc406c8bb292833df01d00",
       "version_major": 2,
       "version_minor": 0
      },
      "text/plain": [
       "  0%|          | 0/212 [00:00<?, ?it/s]"
      ]
     },
     "metadata": {},
     "output_type": "display_data"
    },
    {
     "name": "stdout",
     "output_type": "stream",
     "text": [
      "* Average Loss @1: 0.3494\n",
      "Best performing model so far average validation loss: 0.3494 on epoch 1\n",
      "\n"
     ]
    },
    {
     "data": {
      "application/vnd.jupyter.widget-view+json": {
       "model_id": "052e86d38b7a486484c0543bfe6c0c85",
       "version_major": 2,
       "version_minor": 0
      },
      "text/plain": [
       "  0%|          | 0/846 [00:00<?, ?it/s]"
      ]
     },
     "metadata": {},
     "output_type": "display_data"
    },
    {
     "name": "stdout",
     "output_type": "stream",
     "text": [
      "Average training loss this epoch: nan\n"
     ]
    },
    {
     "data": {
      "application/vnd.jupyter.widget-view+json": {
       "model_id": "79a25fa57ea54cc7b86d0da73660a9c8",
       "version_major": 2,
       "version_minor": 0
      },
      "text/plain": [
       "  0%|          | 0/212 [00:00<?, ?it/s]"
      ]
     },
     "metadata": {},
     "output_type": "display_data"
    },
    {
     "name": "stdout",
     "output_type": "stream",
     "text": [
      "* Average Loss @1: 0.3494\n",
      "Best performing model so far average validation loss: 0.3494 on epoch 1\n",
      "\n",
      "Best Training Loss @1: 0.3494\n",
      "Run finished, view it on the SigOpt dashboard at https://app.sigopt.com/run/446942\n",
      "Run started, view it on the SigOpt dashboard at https://app.sigopt.com/run/447115\n",
      "Params :  {'learning_rate': 0.0035227565620396836, 'batch_size': '64', 'reg': 0.5}\n"
     ]
    },
    {
     "data": {
      "application/vnd.jupyter.widget-view+json": {
       "model_id": "6e8f9df6315449269f4c4fb9bbba8cc2",
       "version_major": 2,
       "version_minor": 0
      },
      "text/plain": [
       "  0%|          | 0/423 [00:00<?, ?it/s]"
      ]
     },
     "metadata": {},
     "output_type": "display_data"
    },
    {
     "name": "stdout",
     "output_type": "stream",
     "text": [
      "Average training loss this epoch: 0.0771\n"
     ]
    },
    {
     "data": {
      "application/vnd.jupyter.widget-view+json": {
       "model_id": "afa75e8064d1485888e4c85d8cf8afe3",
       "version_major": 2,
       "version_minor": 0
      },
      "text/plain": [
       "  0%|          | 0/106 [00:00<?, ?it/s]"
      ]
     },
     "metadata": {},
     "output_type": "display_data"
    },
    {
     "name": "stdout",
     "output_type": "stream",
     "text": [
      "* Average Loss @1: 0.0707\n",
      "Best performing model so far average validation loss: 0.0707 on epoch 0\n",
      "\n"
     ]
    },
    {
     "data": {
      "application/vnd.jupyter.widget-view+json": {
       "model_id": "ecd7df2a2acf4dfab467f2178fc1ca03",
       "version_major": 2,
       "version_minor": 0
      },
      "text/plain": [
       "  0%|          | 0/423 [00:00<?, ?it/s]"
      ]
     },
     "metadata": {},
     "output_type": "display_data"
    },
    {
     "name": "stdout",
     "output_type": "stream",
     "text": [
      "Average training loss this epoch: 0.0746\n"
     ]
    },
    {
     "data": {
      "application/vnd.jupyter.widget-view+json": {
       "model_id": "275de60ada874b24a79e23849496f775",
       "version_major": 2,
       "version_minor": 0
      },
      "text/plain": [
       "  0%|          | 0/106 [00:00<?, ?it/s]"
      ]
     },
     "metadata": {},
     "output_type": "display_data"
    },
    {
     "name": "stdout",
     "output_type": "stream",
     "text": [
      "* Average Loss @1: 0.0705\n",
      "Best performing model so far average validation loss: 0.0705 on epoch 1\n",
      "\n"
     ]
    },
    {
     "data": {
      "application/vnd.jupyter.widget-view+json": {
       "model_id": "f7a711d9240246e19ab10ed6e533def0",
       "version_major": 2,
       "version_minor": 0
      },
      "text/plain": [
       "  0%|          | 0/423 [00:00<?, ?it/s]"
      ]
     },
     "metadata": {},
     "output_type": "display_data"
    },
    {
     "name": "stdout",
     "output_type": "stream",
     "text": [
      "Average training loss this epoch: 0.0746\n"
     ]
    },
    {
     "data": {
      "application/vnd.jupyter.widget-view+json": {
       "model_id": "3bbd33d83adf4aeaac962dfa0d668a3f",
       "version_major": 2,
       "version_minor": 0
      },
      "text/plain": [
       "  0%|          | 0/106 [00:00<?, ?it/s]"
      ]
     },
     "metadata": {},
     "output_type": "display_data"
    },
    {
     "name": "stdout",
     "output_type": "stream",
     "text": [
      "* Average Loss @1: 0.0706\n",
      "Best performing model so far average validation loss: 0.0705 on epoch 1\n",
      "\n"
     ]
    },
    {
     "data": {
      "application/vnd.jupyter.widget-view+json": {
       "model_id": "77cfdc790a0d4dda9c0f9b149c8254a8",
       "version_major": 2,
       "version_minor": 0
      },
      "text/plain": [
       "  0%|          | 0/423 [00:00<?, ?it/s]"
      ]
     },
     "metadata": {},
     "output_type": "display_data"
    },
    {
     "name": "stdout",
     "output_type": "stream",
     "text": [
      "Average training loss this epoch: 0.0746\n"
     ]
    },
    {
     "data": {
      "application/vnd.jupyter.widget-view+json": {
       "model_id": "6cba4f5114de4898b441ce90235ad863",
       "version_major": 2,
       "version_minor": 0
      },
      "text/plain": [
       "  0%|          | 0/106 [00:00<?, ?it/s]"
      ]
     },
     "metadata": {},
     "output_type": "display_data"
    },
    {
     "name": "stdout",
     "output_type": "stream",
     "text": [
      "* Average Loss @1: 0.0705\n",
      "Best performing model so far average validation loss: 0.0705 on epoch 3\n",
      "\n"
     ]
    },
    {
     "data": {
      "application/vnd.jupyter.widget-view+json": {
       "model_id": "228cb2638cdf4b40b4b0dee301fe0223",
       "version_major": 2,
       "version_minor": 0
      },
      "text/plain": [
       "  0%|          | 0/423 [00:00<?, ?it/s]"
      ]
     },
     "metadata": {},
     "output_type": "display_data"
    },
    {
     "name": "stdout",
     "output_type": "stream",
     "text": [
      "Average training loss this epoch: 0.0745\n"
     ]
    },
    {
     "data": {
      "application/vnd.jupyter.widget-view+json": {
       "model_id": "f0a5218b7a8d4511bd44545c3425ce94",
       "version_major": 2,
       "version_minor": 0
      },
      "text/plain": [
       "  0%|          | 0/106 [00:00<?, ?it/s]"
      ]
     },
     "metadata": {},
     "output_type": "display_data"
    },
    {
     "name": "stdout",
     "output_type": "stream",
     "text": [
      "* Average Loss @1: 0.0705\n",
      "Best performing model so far average validation loss: 0.0705 on epoch 3\n",
      "\n",
      "Best Training Loss @1: 0.0705\n",
      "Run finished, view it on the SigOpt dashboard at https://app.sigopt.com/run/447115\n",
      "Run started, view it on the SigOpt dashboard at https://app.sigopt.com/run/447293\n",
      "Params :  {'reg': 0.00391369506452751, 'batch_size': '64', 'learning_rate': 0.0002474048690739496}\n"
     ]
    },
    {
     "data": {
      "application/vnd.jupyter.widget-view+json": {
       "model_id": "8b797db8120b4d5d8837a778e4e79de0",
       "version_major": 2,
       "version_minor": 0
      },
      "text/plain": [
       "  0%|          | 0/423 [00:00<?, ?it/s]"
      ]
     },
     "metadata": {},
     "output_type": "display_data"
    },
    {
     "name": "stdout",
     "output_type": "stream",
     "text": [
      "Average training loss this epoch: 0.0556\n"
     ]
    },
    {
     "data": {
      "application/vnd.jupyter.widget-view+json": {
       "model_id": "eefa9e1531a74a61a1bc5bae9cd7cea1",
       "version_major": 2,
       "version_minor": 0
      },
      "text/plain": [
       "  0%|          | 0/106 [00:00<?, ?it/s]"
      ]
     },
     "metadata": {},
     "output_type": "display_data"
    },
    {
     "name": "stdout",
     "output_type": "stream",
     "text": [
      "* Average Loss @1: 0.1100\n",
      "Best performing model so far average validation loss: 0.1100 on epoch 0\n",
      "\n"
     ]
    },
    {
     "data": {
      "application/vnd.jupyter.widget-view+json": {
       "model_id": "dc03d66060bd41178c1ea9378d9d176a",
       "version_major": 2,
       "version_minor": 0
      },
      "text/plain": [
       "  0%|          | 0/423 [00:00<?, ?it/s]"
      ]
     },
     "metadata": {},
     "output_type": "display_data"
    },
    {
     "name": "stdout",
     "output_type": "stream",
     "text": [
      "Average training loss this epoch: 0.0443\n"
     ]
    },
    {
     "data": {
      "application/vnd.jupyter.widget-view+json": {
       "model_id": "f3db11d90fd54d07b0eb7d3ec9a5cd81",
       "version_major": 2,
       "version_minor": 0
      },
      "text/plain": [
       "  0%|          | 0/106 [00:00<?, ?it/s]"
      ]
     },
     "metadata": {},
     "output_type": "display_data"
    },
    {
     "name": "stdout",
     "output_type": "stream",
     "text": [
      "* Average Loss @1: 0.1067\n",
      "Best performing model so far average validation loss: 0.1067 on epoch 1\n",
      "\n"
     ]
    },
    {
     "data": {
      "application/vnd.jupyter.widget-view+json": {
       "model_id": "275d95899eb14be780994bca74535811",
       "version_major": 2,
       "version_minor": 0
      },
      "text/plain": [
       "  0%|          | 0/423 [00:00<?, ?it/s]"
      ]
     },
     "metadata": {},
     "output_type": "display_data"
    },
    {
     "name": "stdout",
     "output_type": "stream",
     "text": [
      "Average training loss this epoch: 0.0336\n"
     ]
    },
    {
     "data": {
      "application/vnd.jupyter.widget-view+json": {
       "model_id": "7a82a3b130664b509b03a209abcb6c82",
       "version_major": 2,
       "version_minor": 0
      },
      "text/plain": [
       "  0%|          | 0/106 [00:00<?, ?it/s]"
      ]
     },
     "metadata": {},
     "output_type": "display_data"
    },
    {
     "name": "stdout",
     "output_type": "stream",
     "text": [
      "* Average Loss @1: 0.1261\n",
      "Best performing model so far average validation loss: 0.1067 on epoch 1\n",
      "\n"
     ]
    },
    {
     "data": {
      "application/vnd.jupyter.widget-view+json": {
       "model_id": "818897cb5c0e424fbd4ab5b5f4afd22e",
       "version_major": 2,
       "version_minor": 0
      },
      "text/plain": [
       "  0%|          | 0/423 [00:00<?, ?it/s]"
      ]
     },
     "metadata": {},
     "output_type": "display_data"
    },
    {
     "name": "stdout",
     "output_type": "stream",
     "text": [
      "Average training loss this epoch: 0.0276\n"
     ]
    },
    {
     "data": {
      "application/vnd.jupyter.widget-view+json": {
       "model_id": "f260b363daf2422e8e7ef866b17d8ef6",
       "version_major": 2,
       "version_minor": 0
      },
      "text/plain": [
       "  0%|          | 0/106 [00:00<?, ?it/s]"
      ]
     },
     "metadata": {},
     "output_type": "display_data"
    },
    {
     "name": "stdout",
     "output_type": "stream",
     "text": [
      "* Average Loss @1: 0.1141\n",
      "Best performing model so far average validation loss: 0.1067 on epoch 1\n",
      "\n"
     ]
    },
    {
     "data": {
      "application/vnd.jupyter.widget-view+json": {
       "model_id": "7b50b8b5c0b147b28fde4e118d52a82c",
       "version_major": 2,
       "version_minor": 0
      },
      "text/plain": [
       "  0%|          | 0/423 [00:00<?, ?it/s]"
      ]
     },
     "metadata": {},
     "output_type": "display_data"
    },
    {
     "name": "stdout",
     "output_type": "stream",
     "text": [
      "Average training loss this epoch: 0.0241\n"
     ]
    },
    {
     "data": {
      "application/vnd.jupyter.widget-view+json": {
       "model_id": "deaa4d67cf5d4f988e0f14b4023d1635",
       "version_major": 2,
       "version_minor": 0
      },
      "text/plain": [
       "  0%|          | 0/106 [00:00<?, ?it/s]"
      ]
     },
     "metadata": {},
     "output_type": "display_data"
    },
    {
     "name": "stdout",
     "output_type": "stream",
     "text": [
      "* Average Loss @1: 0.1207\n",
      "Best performing model so far average validation loss: 0.1067 on epoch 1\n",
      "\n",
      "Best Training Loss @1: 0.1067\n",
      "Run finished, view it on the SigOpt dashboard at https://app.sigopt.com/run/447293\n",
      "Run started, view it on the SigOpt dashboard at https://app.sigopt.com/run/447471\n",
      "Params :  {'reg': 0.5, 'batch_size': '32', 'learning_rate': 0.0001}\n"
     ]
    },
    {
     "data": {
      "application/vnd.jupyter.widget-view+json": {
       "model_id": "ba3206959ce347e4b5e40cbbcefec4e8",
       "version_major": 2,
       "version_minor": 0
      },
      "text/plain": [
       "  0%|          | 0/846 [00:00<?, ?it/s]"
      ]
     },
     "metadata": {},
     "output_type": "display_data"
    },
    {
     "name": "stdout",
     "output_type": "stream",
     "text": [
      "Average training loss this epoch: 0.0928\n"
     ]
    },
    {
     "data": {
      "application/vnd.jupyter.widget-view+json": {
       "model_id": "b845f816ada6478cbf870eb0f68e240b",
       "version_major": 2,
       "version_minor": 0
      },
      "text/plain": [
       "  0%|          | 0/212 [00:00<?, ?it/s]"
      ]
     },
     "metadata": {},
     "output_type": "display_data"
    },
    {
     "name": "stdout",
     "output_type": "stream",
     "text": [
      "* Average Loss @1: 0.0953\n",
      "Best performing model so far average validation loss: 0.0953 on epoch 0\n",
      "\n"
     ]
    },
    {
     "data": {
      "application/vnd.jupyter.widget-view+json": {
       "model_id": "675e7cccbceb4ed79822820eb4e067ff",
       "version_major": 2,
       "version_minor": 0
      },
      "text/plain": [
       "  0%|          | 0/846 [00:00<?, ?it/s]"
      ]
     },
     "metadata": {},
     "output_type": "display_data"
    },
    {
     "name": "stdout",
     "output_type": "stream",
     "text": [
      "Average training loss this epoch: 0.0898\n"
     ]
    },
    {
     "data": {
      "application/vnd.jupyter.widget-view+json": {
       "model_id": "fbe6b63fcc1441b2bd89d97bee2a4f0d",
       "version_major": 2,
       "version_minor": 0
      },
      "text/plain": [
       "  0%|          | 0/212 [00:00<?, ?it/s]"
      ]
     },
     "metadata": {},
     "output_type": "display_data"
    },
    {
     "name": "stdout",
     "output_type": "stream",
     "text": [
      "* Average Loss @1: 0.0860\n",
      "Best performing model so far average validation loss: 0.0860 on epoch 1\n",
      "\n"
     ]
    },
    {
     "data": {
      "application/vnd.jupyter.widget-view+json": {
       "model_id": "facfe1d5b03844f39d277f889dfcfa30",
       "version_major": 2,
       "version_minor": 0
      },
      "text/plain": [
       "  0%|          | 0/846 [00:00<?, ?it/s]"
      ]
     },
     "metadata": {},
     "output_type": "display_data"
    },
    {
     "name": "stdout",
     "output_type": "stream",
     "text": [
      "Average training loss this epoch: 0.0821\n"
     ]
    },
    {
     "data": {
      "application/vnd.jupyter.widget-view+json": {
       "model_id": "e19b94d368f5460dbf31e1617e87d751",
       "version_major": 2,
       "version_minor": 0
      },
      "text/plain": [
       "  0%|          | 0/212 [00:00<?, ?it/s]"
      ]
     },
     "metadata": {},
     "output_type": "display_data"
    },
    {
     "name": "stdout",
     "output_type": "stream",
     "text": [
      "* Average Loss @1: 0.0795\n",
      "Best performing model so far average validation loss: 0.0795 on epoch 2\n",
      "\n"
     ]
    },
    {
     "data": {
      "application/vnd.jupyter.widget-view+json": {
       "model_id": "f51c8bed1ee64dd286335a27da5d6776",
       "version_major": 2,
       "version_minor": 0
      },
      "text/plain": [
       "  0%|          | 0/846 [00:00<?, ?it/s]"
      ]
     },
     "metadata": {},
     "output_type": "display_data"
    },
    {
     "name": "stdout",
     "output_type": "stream",
     "text": [
      "Average training loss this epoch: 0.0768\n"
     ]
    },
    {
     "data": {
      "application/vnd.jupyter.widget-view+json": {
       "model_id": "4427e5ca14774947a54634ddf012aed5",
       "version_major": 2,
       "version_minor": 0
      },
      "text/plain": [
       "  0%|          | 0/212 [00:00<?, ?it/s]"
      ]
     },
     "metadata": {},
     "output_type": "display_data"
    },
    {
     "name": "stdout",
     "output_type": "stream",
     "text": [
      "* Average Loss @1: 0.0755\n",
      "Best performing model so far average validation loss: 0.0755 on epoch 3\n",
      "\n"
     ]
    },
    {
     "data": {
      "application/vnd.jupyter.widget-view+json": {
       "model_id": "734e24dc81f94d8abcfe9bacacdc29ba",
       "version_major": 2,
       "version_minor": 0
      },
      "text/plain": [
       "  0%|          | 0/846 [00:00<?, ?it/s]"
      ]
     },
     "metadata": {},
     "output_type": "display_data"
    },
    {
     "name": "stdout",
     "output_type": "stream",
     "text": [
      "Average training loss this epoch: 0.0743\n"
     ]
    },
    {
     "data": {
      "application/vnd.jupyter.widget-view+json": {
       "model_id": "da58e6b80ddd427b83f20581b7c64655",
       "version_major": 2,
       "version_minor": 0
      },
      "text/plain": [
       "  0%|          | 0/212 [00:00<?, ?it/s]"
      ]
     },
     "metadata": {},
     "output_type": "display_data"
    },
    {
     "name": "stdout",
     "output_type": "stream",
     "text": [
      "* Average Loss @1: 0.0743\n",
      "Best performing model so far average validation loss: 0.0743 on epoch 4\n",
      "\n",
      "Best Training Loss @1: 0.0743\n",
      "Run finished, view it on the SigOpt dashboard at https://app.sigopt.com/run/447471\n",
      "Run started, view it on the SigOpt dashboard at https://app.sigopt.com/run/447644\n",
      "Params :  {'learning_rate': 0.019695512462225936, 'reg': 0.0001, 'batch_size': '32'}\n"
     ]
    },
    {
     "data": {
      "application/vnd.jupyter.widget-view+json": {
       "model_id": "b42a6118e4fe42559e688e1c66f86f99",
       "version_major": 2,
       "version_minor": 0
      },
      "text/plain": [
       "  0%|          | 0/846 [00:00<?, ?it/s]"
      ]
     },
     "metadata": {},
     "output_type": "display_data"
    },
    {
     "name": "stdout",
     "output_type": "stream",
     "text": [
      "Average training loss this epoch: nan\n"
     ]
    },
    {
     "data": {
      "application/vnd.jupyter.widget-view+json": {
       "model_id": "f72387aa93e3467182644df03491af61",
       "version_major": 2,
       "version_minor": 0
      },
      "text/plain": [
       "  0%|          | 0/212 [00:00<?, ?it/s]"
      ]
     },
     "metadata": {},
     "output_type": "display_data"
    },
    {
     "name": "stdout",
     "output_type": "stream",
     "text": [
      "* Average Loss @1: 217930711.4941\n",
      "Best performing model so far average validation loss: 217930711.4941 on epoch 0\n",
      "\n"
     ]
    },
    {
     "data": {
      "application/vnd.jupyter.widget-view+json": {
       "model_id": "5eeca1274e2f42618059bd0829297dc8",
       "version_major": 2,
       "version_minor": 0
      },
      "text/plain": [
       "  0%|          | 0/846 [00:00<?, ?it/s]"
      ]
     },
     "metadata": {},
     "output_type": "display_data"
    },
    {
     "name": "stdout",
     "output_type": "stream",
     "text": [
      "Average training loss this epoch: nan\n"
     ]
    },
    {
     "data": {
      "application/vnd.jupyter.widget-view+json": {
       "model_id": "e167741cc94643839e3cdf19f8b3e9e2",
       "version_major": 2,
       "version_minor": 0
      },
      "text/plain": [
       "  0%|          | 0/212 [00:00<?, ?it/s]"
      ]
     },
     "metadata": {},
     "output_type": "display_data"
    },
    {
     "name": "stdout",
     "output_type": "stream",
     "text": [
      "* Average Loss @1: 217881524.9862\n",
      "Best performing model so far average validation loss: 217881524.9862 on epoch 1\n",
      "\n"
     ]
    },
    {
     "data": {
      "application/vnd.jupyter.widget-view+json": {
       "model_id": "0f6060ac98e24ce7a73551406252faba",
       "version_major": 2,
       "version_minor": 0
      },
      "text/plain": [
       "  0%|          | 0/846 [00:00<?, ?it/s]"
      ]
     },
     "metadata": {},
     "output_type": "display_data"
    },
    {
     "name": "stdout",
     "output_type": "stream",
     "text": [
      "Average training loss this epoch: nan\n"
     ]
    },
    {
     "data": {
      "application/vnd.jupyter.widget-view+json": {
       "model_id": "47f2aa5db3cc47f194f71812022ea70c",
       "version_major": 2,
       "version_minor": 0
      },
      "text/plain": [
       "  0%|          | 0/212 [00:00<?, ?it/s]"
      ]
     },
     "metadata": {},
     "output_type": "display_data"
    },
    {
     "name": "stdout",
     "output_type": "stream",
     "text": [
      "* Average Loss @1: 217837954.1920\n",
      "Best performing model so far average validation loss: 217837954.1920 on epoch 2\n",
      "\n"
     ]
    },
    {
     "data": {
      "application/vnd.jupyter.widget-view+json": {
       "model_id": "4b31028a1d624cd1afe2b7a6ca7b8fcd",
       "version_major": 2,
       "version_minor": 0
      },
      "text/plain": [
       "  0%|          | 0/846 [00:00<?, ?it/s]"
      ]
     },
     "metadata": {},
     "output_type": "display_data"
    },
    {
     "name": "stdout",
     "output_type": "stream",
     "text": [
      "Average training loss this epoch: nan\n"
     ]
    },
    {
     "data": {
      "application/vnd.jupyter.widget-view+json": {
       "model_id": "0fe7a093ad8d445abf3c61cd2e4b9031",
       "version_major": 2,
       "version_minor": 0
      },
      "text/plain": [
       "  0%|          | 0/212 [00:00<?, ?it/s]"
      ]
     },
     "metadata": {},
     "output_type": "display_data"
    },
    {
     "name": "stdout",
     "output_type": "stream",
     "text": [
      "* Average Loss @1: 217726525.7700\n",
      "Best performing model so far average validation loss: 217726525.7700 on epoch 3\n",
      "\n"
     ]
    },
    {
     "data": {
      "application/vnd.jupyter.widget-view+json": {
       "model_id": "de92e955ab364ae8b7826045b1b3f51d",
       "version_major": 2,
       "version_minor": 0
      },
      "text/plain": [
       "  0%|          | 0/846 [00:00<?, ?it/s]"
      ]
     },
     "metadata": {},
     "output_type": "display_data"
    },
    {
     "name": "stdout",
     "output_type": "stream",
     "text": [
      "Average training loss this epoch: nan\n"
     ]
    },
    {
     "data": {
      "application/vnd.jupyter.widget-view+json": {
       "model_id": "dc72e99d11894ec49f31a6782e9d26f2",
       "version_major": 2,
       "version_minor": 0
      },
      "text/plain": [
       "  0%|          | 0/212 [00:00<?, ?it/s]"
      ]
     },
     "metadata": {},
     "output_type": "display_data"
    },
    {
     "name": "stdout",
     "output_type": "stream",
     "text": [
      "* Average Loss @1: 217757695.3290\n",
      "Best performing model so far average validation loss: 217726525.7700 on epoch 3\n",
      "\n",
      "Best Training Loss @1: 217726525.7700\n",
      "Run finished, view it on the SigOpt dashboard at https://app.sigopt.com/run/447644\n",
      "Run started, view it on the SigOpt dashboard at https://app.sigopt.com/run/447780\n",
      "Params :  {'batch_size': '64', 'reg': 0.0001, 'learning_rate': 0.0014993386242399586}\n"
     ]
    },
    {
     "data": {
      "application/vnd.jupyter.widget-view+json": {
       "model_id": "dcabbc2a36a742fdb4849a43c72c1261",
       "version_major": 2,
       "version_minor": 0
      },
      "text/plain": [
       "  0%|          | 0/423 [00:00<?, ?it/s]"
      ]
     },
     "metadata": {},
     "output_type": "display_data"
    },
    {
     "name": "stdout",
     "output_type": "stream",
     "text": [
      "Average training loss this epoch: 0.0810\n"
     ]
    },
    {
     "data": {
      "application/vnd.jupyter.widget-view+json": {
       "model_id": "5e75f2700aa34b52b49b1795be252de2",
       "version_major": 2,
       "version_minor": 0
      },
      "text/plain": [
       "  0%|          | 0/106 [00:00<?, ?it/s]"
      ]
     },
     "metadata": {},
     "output_type": "display_data"
    },
    {
     "name": "stdout",
     "output_type": "stream",
     "text": [
      "* Average Loss @1: 0.0781\n",
      "Best performing model so far average validation loss: 0.0781 on epoch 0\n",
      "\n"
     ]
    },
    {
     "data": {
      "application/vnd.jupyter.widget-view+json": {
       "model_id": "37c75860cec84e18ad7fa4220d921a4a",
       "version_major": 2,
       "version_minor": 0
      },
      "text/plain": [
       "  0%|          | 0/423 [00:00<?, ?it/s]"
      ]
     },
     "metadata": {},
     "output_type": "display_data"
    },
    {
     "name": "stdout",
     "output_type": "stream",
     "text": [
      "Average training loss this epoch: 0.0728\n"
     ]
    },
    {
     "data": {
      "application/vnd.jupyter.widget-view+json": {
       "model_id": "da4ec292b3154eb9a76419d2b5fcb44d",
       "version_major": 2,
       "version_minor": 0
      },
      "text/plain": [
       "  0%|          | 0/106 [00:00<?, ?it/s]"
      ]
     },
     "metadata": {},
     "output_type": "display_data"
    },
    {
     "name": "stdout",
     "output_type": "stream",
     "text": [
      "* Average Loss @1: 0.0780\n",
      "Best performing model so far average validation loss: 0.0780 on epoch 1\n",
      "\n"
     ]
    },
    {
     "data": {
      "application/vnd.jupyter.widget-view+json": {
       "model_id": "f552533ac2cd436abfea7cbf9207aad1",
       "version_major": 2,
       "version_minor": 0
      },
      "text/plain": [
       "  0%|          | 0/423 [00:00<?, ?it/s]"
      ]
     },
     "metadata": {},
     "output_type": "display_data"
    },
    {
     "name": "stdout",
     "output_type": "stream",
     "text": [
      "Average training loss this epoch: 0.0718\n"
     ]
    },
    {
     "data": {
      "application/vnd.jupyter.widget-view+json": {
       "model_id": "fcd5c7d10de14572a3e5d5d098df7e90",
       "version_major": 2,
       "version_minor": 0
      },
      "text/plain": [
       "  0%|          | 0/106 [00:00<?, ?it/s]"
      ]
     },
     "metadata": {},
     "output_type": "display_data"
    },
    {
     "name": "stdout",
     "output_type": "stream",
     "text": [
      "* Average Loss @1: 0.0880\n",
      "Best performing model so far average validation loss: 0.0780 on epoch 1\n",
      "\n"
     ]
    },
    {
     "data": {
      "application/vnd.jupyter.widget-view+json": {
       "model_id": "f0bbd51df2c8447cb4fa15f8c8d1fa7b",
       "version_major": 2,
       "version_minor": 0
      },
      "text/plain": [
       "  0%|          | 0/423 [00:00<?, ?it/s]"
      ]
     },
     "metadata": {},
     "output_type": "display_data"
    },
    {
     "name": "stdout",
     "output_type": "stream",
     "text": [
      "Average training loss this epoch: 0.0553\n"
     ]
    },
    {
     "data": {
      "application/vnd.jupyter.widget-view+json": {
       "model_id": "de889bf26b1b4094854bfb3a73091b68",
       "version_major": 2,
       "version_minor": 0
      },
      "text/plain": [
       "  0%|          | 0/106 [00:00<?, ?it/s]"
      ]
     },
     "metadata": {},
     "output_type": "display_data"
    },
    {
     "name": "stdout",
     "output_type": "stream",
     "text": [
      "* Average Loss @1: 0.0966\n",
      "Best performing model so far average validation loss: 0.0780 on epoch 1\n",
      "\n"
     ]
    },
    {
     "data": {
      "application/vnd.jupyter.widget-view+json": {
       "model_id": "7af95ee74a4c4210923c618d07643652",
       "version_major": 2,
       "version_minor": 0
      },
      "text/plain": [
       "  0%|          | 0/423 [00:00<?, ?it/s]"
      ]
     },
     "metadata": {},
     "output_type": "display_data"
    },
    {
     "name": "stdout",
     "output_type": "stream",
     "text": [
      "Average training loss this epoch: 0.0441\n"
     ]
    },
    {
     "data": {
      "application/vnd.jupyter.widget-view+json": {
       "model_id": "b02872fdc9614f3a8889fcd007b8cedd",
       "version_major": 2,
       "version_minor": 0
      },
      "text/plain": [
       "  0%|          | 0/106 [00:00<?, ?it/s]"
      ]
     },
     "metadata": {},
     "output_type": "display_data"
    },
    {
     "name": "stdout",
     "output_type": "stream",
     "text": [
      "* Average Loss @1: 0.1121\n",
      "Best performing model so far average validation loss: 0.0780 on epoch 1\n",
      "\n",
      "Best Training Loss @1: 0.0780\n",
      "Run finished, view it on the SigOpt dashboard at https://app.sigopt.com/run/447780\n",
      "Run started, view it on the SigOpt dashboard at https://app.sigopt.com/run/447952\n",
      "Params :  {'batch_size': '32', 'learning_rate': 0.003080041338447943, 'reg': 0.0001}\n"
     ]
    },
    {
     "data": {
      "application/vnd.jupyter.widget-view+json": {
       "model_id": "a20a044982254696a496de6f9f34bab5",
       "version_major": 2,
       "version_minor": 0
      },
      "text/plain": [
       "  0%|          | 0/846 [00:00<?, ?it/s]"
      ]
     },
     "metadata": {},
     "output_type": "display_data"
    },
    {
     "name": "stdout",
     "output_type": "stream",
     "text": [
      "Average training loss this epoch: 0.2540\n"
     ]
    },
    {
     "data": {
      "application/vnd.jupyter.widget-view+json": {
       "model_id": "a82e1b5519944606b00746449dccc429",
       "version_major": 2,
       "version_minor": 0
      },
      "text/plain": [
       "  0%|          | 0/212 [00:00<?, ?it/s]"
      ]
     },
     "metadata": {},
     "output_type": "display_data"
    },
    {
     "name": "stdout",
     "output_type": "stream",
     "text": [
      "* Average Loss @1: 0.0737\n",
      "Best performing model so far average validation loss: 0.0737 on epoch 0\n",
      "\n"
     ]
    },
    {
     "data": {
      "application/vnd.jupyter.widget-view+json": {
       "model_id": "a38b8e67773b408c9a03008725998bab",
       "version_major": 2,
       "version_minor": 0
      },
      "text/plain": [
       "  0%|          | 0/846 [00:00<?, ?it/s]"
      ]
     },
     "metadata": {},
     "output_type": "display_data"
    },
    {
     "name": "stdout",
     "output_type": "stream",
     "text": [
      "Average training loss this epoch: 0.0738\n"
     ]
    },
    {
     "data": {
      "application/vnd.jupyter.widget-view+json": {
       "model_id": "4d26f3db7f0d404a8fec8fdacd44b709",
       "version_major": 2,
       "version_minor": 0
      },
      "text/plain": [
       "  0%|          | 0/212 [00:00<?, ?it/s]"
      ]
     },
     "metadata": {},
     "output_type": "display_data"
    },
    {
     "name": "stdout",
     "output_type": "stream",
     "text": [
      "* Average Loss @1: 0.0737\n",
      "Best performing model so far average validation loss: 0.0737 on epoch 1\n",
      "\n"
     ]
    },
    {
     "data": {
      "application/vnd.jupyter.widget-view+json": {
       "model_id": "8de75a32fbee4587bf1438686ec17486",
       "version_major": 2,
       "version_minor": 0
      },
      "text/plain": [
       "  0%|          | 0/846 [00:00<?, ?it/s]"
      ]
     },
     "metadata": {},
     "output_type": "display_data"
    },
    {
     "name": "stdout",
     "output_type": "stream",
     "text": [
      "Average training loss this epoch: 0.0739\n"
     ]
    },
    {
     "data": {
      "application/vnd.jupyter.widget-view+json": {
       "model_id": "3797641e6383490f87827c6997b971da",
       "version_major": 2,
       "version_minor": 0
      },
      "text/plain": [
       "  0%|          | 0/212 [00:00<?, ?it/s]"
      ]
     },
     "metadata": {},
     "output_type": "display_data"
    },
    {
     "name": "stdout",
     "output_type": "stream",
     "text": [
      "* Average Loss @1: 0.0740\n",
      "Best performing model so far average validation loss: 0.0737 on epoch 1\n",
      "\n"
     ]
    },
    {
     "data": {
      "application/vnd.jupyter.widget-view+json": {
       "model_id": "64beb81f4dfa4bca8a879f53ea0a5192",
       "version_major": 2,
       "version_minor": 0
      },
      "text/plain": [
       "  0%|          | 0/846 [00:00<?, ?it/s]"
      ]
     },
     "metadata": {},
     "output_type": "display_data"
    },
    {
     "name": "stdout",
     "output_type": "stream",
     "text": [
      "Average training loss this epoch: 0.0739\n"
     ]
    },
    {
     "data": {
      "application/vnd.jupyter.widget-view+json": {
       "model_id": "17d9a497d6e0460284fe766430789cbd",
       "version_major": 2,
       "version_minor": 0
      },
      "text/plain": [
       "  0%|          | 0/212 [00:00<?, ?it/s]"
      ]
     },
     "metadata": {},
     "output_type": "display_data"
    },
    {
     "name": "stdout",
     "output_type": "stream",
     "text": [
      "* Average Loss @1: 0.0740\n",
      "Best performing model so far average validation loss: 0.0737 on epoch 1\n",
      "\n"
     ]
    },
    {
     "data": {
      "application/vnd.jupyter.widget-view+json": {
       "model_id": "f77e254c9719470aa3ee128cfb019570",
       "version_major": 2,
       "version_minor": 0
      },
      "text/plain": [
       "  0%|          | 0/846 [00:00<?, ?it/s]"
      ]
     },
     "metadata": {},
     "output_type": "display_data"
    },
    {
     "name": "stdout",
     "output_type": "stream",
     "text": [
      "Average training loss this epoch: 0.0740\n"
     ]
    },
    {
     "data": {
      "application/vnd.jupyter.widget-view+json": {
       "model_id": "c012ecd1b08d4e0982902e2ceae405ee",
       "version_major": 2,
       "version_minor": 0
      },
      "text/plain": [
       "  0%|          | 0/212 [00:00<?, ?it/s]"
      ]
     },
     "metadata": {},
     "output_type": "display_data"
    },
    {
     "name": "stdout",
     "output_type": "stream",
     "text": [
      "* Average Loss @1: 0.0738\n",
      "Best performing model so far average validation loss: 0.0737 on epoch 1\n",
      "\n",
      "Best Training Loss @1: 0.0737\n",
      "Run finished, view it on the SigOpt dashboard at https://app.sigopt.com/run/447952\n",
      "Run started, view it on the SigOpt dashboard at https://app.sigopt.com/run/448157\n",
      "Params :  {'reg': 0.004280725436972789, 'learning_rate': 0.001528219754039935, 'batch_size': '32'}\n"
     ]
    },
    {
     "data": {
      "application/vnd.jupyter.widget-view+json": {
       "model_id": "90f5610ffae84ee6824cf3bbf71d84c4",
       "version_major": 2,
       "version_minor": 0
      },
      "text/plain": [
       "  0%|          | 0/846 [00:00<?, ?it/s]"
      ]
     },
     "metadata": {},
     "output_type": "display_data"
    },
    {
     "name": "stdout",
     "output_type": "stream",
     "text": [
      "Average training loss this epoch: 0.0685\n"
     ]
    },
    {
     "data": {
      "application/vnd.jupyter.widget-view+json": {
       "model_id": "8756bd8c486848d3a551ee401460a063",
       "version_major": 2,
       "version_minor": 0
      },
      "text/plain": [
       "  0%|          | 0/212 [00:00<?, ?it/s]"
      ]
     },
     "metadata": {},
     "output_type": "display_data"
    },
    {
     "name": "stdout",
     "output_type": "stream",
     "text": [
      "* Average Loss @1: 0.0916\n",
      "Best performing model so far average validation loss: 0.0916 on epoch 0\n",
      "\n"
     ]
    },
    {
     "data": {
      "application/vnd.jupyter.widget-view+json": {
       "model_id": "737dcf195f2b493c9baca6afbd8983c9",
       "version_major": 2,
       "version_minor": 0
      },
      "text/plain": [
       "  0%|          | 0/846 [00:00<?, ?it/s]"
      ]
     },
     "metadata": {},
     "output_type": "display_data"
    },
    {
     "name": "stdout",
     "output_type": "stream",
     "text": [
      "Average training loss this epoch: 0.0554\n"
     ]
    },
    {
     "data": {
      "application/vnd.jupyter.widget-view+json": {
       "model_id": "6bb7146e360844c8aadd0eef01ac2925",
       "version_major": 2,
       "version_minor": 0
      },
      "text/plain": [
       "  0%|          | 0/212 [00:00<?, ?it/s]"
      ]
     },
     "metadata": {},
     "output_type": "display_data"
    },
    {
     "name": "stdout",
     "output_type": "stream",
     "text": [
      "* Average Loss @1: 0.0849\n",
      "Best performing model so far average validation loss: 0.0849 on epoch 1\n",
      "\n"
     ]
    },
    {
     "data": {
      "application/vnd.jupyter.widget-view+json": {
       "model_id": "2d83eec7008941db8492cb0d2c62d318",
       "version_major": 2,
       "version_minor": 0
      },
      "text/plain": [
       "  0%|          | 0/846 [00:00<?, ?it/s]"
      ]
     },
     "metadata": {},
     "output_type": "display_data"
    },
    {
     "name": "stdout",
     "output_type": "stream",
     "text": [
      "Average training loss this epoch: 0.0525\n"
     ]
    },
    {
     "data": {
      "application/vnd.jupyter.widget-view+json": {
       "model_id": "61ef56929768440f866f6c38f0834370",
       "version_major": 2,
       "version_minor": 0
      },
      "text/plain": [
       "  0%|          | 0/212 [00:00<?, ?it/s]"
      ]
     },
     "metadata": {},
     "output_type": "display_data"
    },
    {
     "name": "stdout",
     "output_type": "stream",
     "text": [
      "* Average Loss @1: 0.0843\n",
      "Best performing model so far average validation loss: 0.0843 on epoch 2\n",
      "\n"
     ]
    },
    {
     "data": {
      "application/vnd.jupyter.widget-view+json": {
       "model_id": "f9251afc201d47ed96050fbe00a6811e",
       "version_major": 2,
       "version_minor": 0
      },
      "text/plain": [
       "  0%|          | 0/846 [00:00<?, ?it/s]"
      ]
     },
     "metadata": {},
     "output_type": "display_data"
    },
    {
     "name": "stdout",
     "output_type": "stream",
     "text": [
      "Average training loss this epoch: 0.0540\n"
     ]
    },
    {
     "data": {
      "application/vnd.jupyter.widget-view+json": {
       "model_id": "a85fd3601d0d4935b4408c469b76a848",
       "version_major": 2,
       "version_minor": 0
      },
      "text/plain": [
       "  0%|          | 0/212 [00:00<?, ?it/s]"
      ]
     },
     "metadata": {},
     "output_type": "display_data"
    },
    {
     "name": "stdout",
     "output_type": "stream",
     "text": [
      "* Average Loss @1: 0.0776\n",
      "Best performing model so far average validation loss: 0.0776 on epoch 3\n",
      "\n"
     ]
    },
    {
     "data": {
      "application/vnd.jupyter.widget-view+json": {
       "model_id": "ec47440fa2ac4a91b7a10bcfa579fa89",
       "version_major": 2,
       "version_minor": 0
      },
      "text/plain": [
       "  0%|          | 0/846 [00:00<?, ?it/s]"
      ]
     },
     "metadata": {},
     "output_type": "display_data"
    },
    {
     "name": "stdout",
     "output_type": "stream",
     "text": [
      "Average training loss this epoch: 0.0517\n"
     ]
    },
    {
     "data": {
      "application/vnd.jupyter.widget-view+json": {
       "model_id": "542ccfbd92a84aff9074a97bda2a60ad",
       "version_major": 2,
       "version_minor": 0
      },
      "text/plain": [
       "  0%|          | 0/212 [00:00<?, ?it/s]"
      ]
     },
     "metadata": {},
     "output_type": "display_data"
    },
    {
     "name": "stdout",
     "output_type": "stream",
     "text": [
      "* Average Loss @1: 0.0963\n",
      "Best performing model so far average validation loss: 0.0776 on epoch 3\n",
      "\n",
      "Best Training Loss @1: 0.0776\n",
      "Run finished, view it on the SigOpt dashboard at https://app.sigopt.com/run/448157\n",
      "Run started, view it on the SigOpt dashboard at https://app.sigopt.com/run/448377\n",
      "Params :  {'batch_size': '32', 'learning_rate': 0.0001, 'reg': 0.019477546248408372}\n"
     ]
    },
    {
     "data": {
      "application/vnd.jupyter.widget-view+json": {
       "model_id": "eccaba6ea0144bc0ba8d7180c2d710ae",
       "version_major": 2,
       "version_minor": 0
      },
      "text/plain": [
       "  0%|          | 0/846 [00:00<?, ?it/s]"
      ]
     },
     "metadata": {},
     "output_type": "display_data"
    },
    {
     "name": "stdout",
     "output_type": "stream",
     "text": [
      "Average training loss this epoch: 0.0613\n"
     ]
    },
    {
     "data": {
      "application/vnd.jupyter.widget-view+json": {
       "model_id": "e3770e2f33ee4f1081e09bf0ff9c0756",
       "version_major": 2,
       "version_minor": 0
      },
      "text/plain": [
       "  0%|          | 0/212 [00:00<?, ?it/s]"
      ]
     },
     "metadata": {},
     "output_type": "display_data"
    },
    {
     "name": "stdout",
     "output_type": "stream",
     "text": [
      "* Average Loss @1: 0.0826\n",
      "Best performing model so far average validation loss: 0.0826 on epoch 0\n",
      "\n"
     ]
    },
    {
     "data": {
      "application/vnd.jupyter.widget-view+json": {
       "model_id": "5bd1fdf84f8749c58a28109c26bf02bd",
       "version_major": 2,
       "version_minor": 0
      },
      "text/plain": [
       "  0%|          | 0/846 [00:00<?, ?it/s]"
      ]
     },
     "metadata": {},
     "output_type": "display_data"
    },
    {
     "name": "stdout",
     "output_type": "stream",
     "text": [
      "Average training loss this epoch: 0.0567\n"
     ]
    },
    {
     "data": {
      "application/vnd.jupyter.widget-view+json": {
       "model_id": "795b45f7454e4a589c8c4b4ee2a9a3a9",
       "version_major": 2,
       "version_minor": 0
      },
      "text/plain": [
       "  0%|          | 0/212 [00:00<?, ?it/s]"
      ]
     },
     "metadata": {},
     "output_type": "display_data"
    },
    {
     "name": "stdout",
     "output_type": "stream",
     "text": [
      "* Average Loss @1: 0.0897\n",
      "Best performing model so far average validation loss: 0.0826 on epoch 0\n",
      "\n"
     ]
    },
    {
     "data": {
      "application/vnd.jupyter.widget-view+json": {
       "model_id": "73245b995c9d444e9a38b6758a672b0e",
       "version_major": 2,
       "version_minor": 0
      },
      "text/plain": [
       "  0%|          | 0/846 [00:00<?, ?it/s]"
      ]
     },
     "metadata": {},
     "output_type": "display_data"
    },
    {
     "name": "stdout",
     "output_type": "stream",
     "text": [
      "Average training loss this epoch: 0.0549\n"
     ]
    },
    {
     "data": {
      "application/vnd.jupyter.widget-view+json": {
       "model_id": "a53dcedbbb974aba93b1e8d648c853c8",
       "version_major": 2,
       "version_minor": 0
      },
      "text/plain": [
       "  0%|          | 0/212 [00:00<?, ?it/s]"
      ]
     },
     "metadata": {},
     "output_type": "display_data"
    },
    {
     "name": "stdout",
     "output_type": "stream",
     "text": [
      "* Average Loss @1: 0.0930\n",
      "Best performing model so far average validation loss: 0.0826 on epoch 0\n",
      "\n"
     ]
    },
    {
     "data": {
      "application/vnd.jupyter.widget-view+json": {
       "model_id": "681dc905259c43728b9e1c75e1c1b03f",
       "version_major": 2,
       "version_minor": 0
      },
      "text/plain": [
       "  0%|          | 0/846 [00:00<?, ?it/s]"
      ]
     },
     "metadata": {},
     "output_type": "display_data"
    },
    {
     "name": "stdout",
     "output_type": "stream",
     "text": [
      "Average training loss this epoch: 0.0538\n"
     ]
    },
    {
     "data": {
      "application/vnd.jupyter.widget-view+json": {
       "model_id": "cafd3456ba324788ab752af1bffbfb25",
       "version_major": 2,
       "version_minor": 0
      },
      "text/plain": [
       "  0%|          | 0/212 [00:00<?, ?it/s]"
      ]
     },
     "metadata": {},
     "output_type": "display_data"
    },
    {
     "name": "stdout",
     "output_type": "stream",
     "text": [
      "* Average Loss @1: 0.0904\n",
      "Best performing model so far average validation loss: 0.0826 on epoch 0\n",
      "\n"
     ]
    },
    {
     "data": {
      "application/vnd.jupyter.widget-view+json": {
       "model_id": "3c1a17788a464657b2d871d4bbbe5396",
       "version_major": 2,
       "version_minor": 0
      },
      "text/plain": [
       "  0%|          | 0/846 [00:00<?, ?it/s]"
      ]
     },
     "metadata": {},
     "output_type": "display_data"
    },
    {
     "name": "stdout",
     "output_type": "stream",
     "text": [
      "Average training loss this epoch: 0.0527\n"
     ]
    },
    {
     "data": {
      "application/vnd.jupyter.widget-view+json": {
       "model_id": "5dd56d013b834d73a9feb74169e12941",
       "version_major": 2,
       "version_minor": 0
      },
      "text/plain": [
       "  0%|          | 0/212 [00:00<?, ?it/s]"
      ]
     },
     "metadata": {},
     "output_type": "display_data"
    },
    {
     "name": "stdout",
     "output_type": "stream",
     "text": [
      "* Average Loss @1: 0.0907\n",
      "Best performing model so far average validation loss: 0.0826 on epoch 0\n",
      "\n",
      "Best Training Loss @1: 0.0826\n",
      "Run finished, view it on the SigOpt dashboard at https://app.sigopt.com/run/448377\n",
      "Run started, view it on the SigOpt dashboard at https://app.sigopt.com/run/448582\n",
      "Params :  {'reg': 0.027204703957656423, 'batch_size': '64', 'learning_rate': 0.012473186837404643}\n"
     ]
    },
    {
     "data": {
      "application/vnd.jupyter.widget-view+json": {
       "model_id": "b2b0d62481294f1c89a227ee6b0dca5c",
       "version_major": 2,
       "version_minor": 0
      },
      "text/plain": [
       "  0%|          | 0/423 [00:00<?, ?it/s]"
      ]
     },
     "metadata": {},
     "output_type": "display_data"
    },
    {
     "name": "stdout",
     "output_type": "stream",
     "text": [
      "Average training loss this epoch: nan\n"
     ]
    },
    {
     "data": {
      "application/vnd.jupyter.widget-view+json": {
       "model_id": "a5099a7330db47fab66abc5175dacffd",
       "version_major": 2,
       "version_minor": 0
      },
      "text/plain": [
       "  0%|          | 0/106 [00:00<?, ?it/s]"
      ]
     },
     "metadata": {},
     "output_type": "display_data"
    },
    {
     "name": "stdout",
     "output_type": "stream",
     "text": [
      "* Average Loss @1: 24622.0710\n",
      "Best performing model so far average validation loss: 24622.0710 on epoch 0\n",
      "\n"
     ]
    },
    {
     "data": {
      "application/vnd.jupyter.widget-view+json": {
       "model_id": "94a6a31a2ff54f189fed840ce0315f01",
       "version_major": 2,
       "version_minor": 0
      },
      "text/plain": [
       "  0%|          | 0/423 [00:00<?, ?it/s]"
      ]
     },
     "metadata": {},
     "output_type": "display_data"
    },
    {
     "name": "stdout",
     "output_type": "stream",
     "text": [
      "Average training loss this epoch: nan\n"
     ]
    },
    {
     "data": {
      "application/vnd.jupyter.widget-view+json": {
       "model_id": "a2a9cbbe398e4829a8c241e85ddd297f",
       "version_major": 2,
       "version_minor": 0
      },
      "text/plain": [
       "  0%|          | 0/106 [00:00<?, ?it/s]"
      ]
     },
     "metadata": {},
     "output_type": "display_data"
    },
    {
     "name": "stdout",
     "output_type": "stream",
     "text": [
      "* Average Loss @1: 24591.3463\n",
      "Best performing model so far average validation loss: 24591.3463 on epoch 1\n",
      "\n"
     ]
    },
    {
     "data": {
      "application/vnd.jupyter.widget-view+json": {
       "model_id": "1a778b5b71ef4af09e5258af1cee444e",
       "version_major": 2,
       "version_minor": 0
      },
      "text/plain": [
       "  0%|          | 0/423 [00:00<?, ?it/s]"
      ]
     },
     "metadata": {},
     "output_type": "display_data"
    },
    {
     "name": "stdout",
     "output_type": "stream",
     "text": [
      "Average training loss this epoch: nan\n"
     ]
    },
    {
     "data": {
      "application/vnd.jupyter.widget-view+json": {
       "model_id": "dddbcc860fc74ef9982f4ff6f3964c32",
       "version_major": 2,
       "version_minor": 0
      },
      "text/plain": [
       "  0%|          | 0/106 [00:00<?, ?it/s]"
      ]
     },
     "metadata": {},
     "output_type": "display_data"
    },
    {
     "name": "stdout",
     "output_type": "stream",
     "text": [
      "* Average Loss @1: 24597.7143\n",
      "Best performing model so far average validation loss: 24591.3463 on epoch 1\n",
      "\n"
     ]
    },
    {
     "data": {
      "application/vnd.jupyter.widget-view+json": {
       "model_id": "456abea4076046ebbf26c13409c446e2",
       "version_major": 2,
       "version_minor": 0
      },
      "text/plain": [
       "  0%|          | 0/423 [00:00<?, ?it/s]"
      ]
     },
     "metadata": {},
     "output_type": "display_data"
    },
    {
     "name": "stdout",
     "output_type": "stream",
     "text": [
      "Average training loss this epoch: nan\n"
     ]
    },
    {
     "data": {
      "application/vnd.jupyter.widget-view+json": {
       "model_id": "30718255cdcc4c2db8d3b37b63ae303b",
       "version_major": 2,
       "version_minor": 0
      },
      "text/plain": [
       "  0%|          | 0/106 [00:00<?, ?it/s]"
      ]
     },
     "metadata": {},
     "output_type": "display_data"
    },
    {
     "name": "stdout",
     "output_type": "stream",
     "text": [
      "* Average Loss @1: 24563.2854\n",
      "Best performing model so far average validation loss: 24563.2854 on epoch 3\n",
      "\n"
     ]
    },
    {
     "data": {
      "application/vnd.jupyter.widget-view+json": {
       "model_id": "7cff0c3bd08a4bae9bc1183c9bcdc6ee",
       "version_major": 2,
       "version_minor": 0
      },
      "text/plain": [
       "  0%|          | 0/423 [00:00<?, ?it/s]"
      ]
     },
     "metadata": {},
     "output_type": "display_data"
    },
    {
     "name": "stdout",
     "output_type": "stream",
     "text": [
      "Average training loss this epoch: nan\n"
     ]
    },
    {
     "data": {
      "application/vnd.jupyter.widget-view+json": {
       "model_id": "61a2a6c465d3445b8f5b2d84e6c45499",
       "version_major": 2,
       "version_minor": 0
      },
      "text/plain": [
       "  0%|          | 0/106 [00:00<?, ?it/s]"
      ]
     },
     "metadata": {},
     "output_type": "display_data"
    },
    {
     "name": "stdout",
     "output_type": "stream",
     "text": [
      "* Average Loss @1: 24617.5350\n",
      "Best performing model so far average validation loss: 24563.2854 on epoch 3\n",
      "\n",
      "Best Training Loss @1: 24563.2854\n",
      "Run finished, view it on the SigOpt dashboard at https://app.sigopt.com/run/448582\n",
      "Run started, view it on the SigOpt dashboard at https://app.sigopt.com/run/448788\n",
      "Params :  {'learning_rate': 0.0002549502503996142, 'batch_size': '32', 'reg': 0.00016393850349765592}\n"
     ]
    },
    {
     "data": {
      "application/vnd.jupyter.widget-view+json": {
       "model_id": "1ec72785a9244d789d3cda33c016a491",
       "version_major": 2,
       "version_minor": 0
      },
      "text/plain": [
       "  0%|          | 0/846 [00:00<?, ?it/s]"
      ]
     },
     "metadata": {},
     "output_type": "display_data"
    },
    {
     "name": "stdout",
     "output_type": "stream",
     "text": [
      "Average training loss this epoch: 0.0453\n"
     ]
    },
    {
     "data": {
      "application/vnd.jupyter.widget-view+json": {
       "model_id": "fc9f1bfef4ed4edbb1dd41809df5db9b",
       "version_major": 2,
       "version_minor": 0
      },
      "text/plain": [
       "  0%|          | 0/212 [00:00<?, ?it/s]"
      ]
     },
     "metadata": {},
     "output_type": "display_data"
    },
    {
     "name": "stdout",
     "output_type": "stream",
     "text": [
      "* Average Loss @1: 0.1007\n",
      "Best performing model so far average validation loss: 0.1007 on epoch 0\n",
      "\n"
     ]
    },
    {
     "data": {
      "application/vnd.jupyter.widget-view+json": {
       "model_id": "f7af9a88082940f786960373954aab31",
       "version_major": 2,
       "version_minor": 0
      },
      "text/plain": [
       "  0%|          | 0/846 [00:00<?, ?it/s]"
      ]
     },
     "metadata": {},
     "output_type": "display_data"
    },
    {
     "name": "stdout",
     "output_type": "stream",
     "text": [
      "Average training loss this epoch: 0.0224\n"
     ]
    },
    {
     "data": {
      "application/vnd.jupyter.widget-view+json": {
       "model_id": "f95ca697e4174812b7c9d1c893d3f7b6",
       "version_major": 2,
       "version_minor": 0
      },
      "text/plain": [
       "  0%|          | 0/212 [00:00<?, ?it/s]"
      ]
     },
     "metadata": {},
     "output_type": "display_data"
    },
    {
     "name": "stdout",
     "output_type": "stream",
     "text": [
      "* Average Loss @1: 0.1289\n",
      "Best performing model so far average validation loss: 0.1007 on epoch 0\n",
      "\n"
     ]
    },
    {
     "data": {
      "application/vnd.jupyter.widget-view+json": {
       "model_id": "319e79f523a84246bd02368a39f5b0f0",
       "version_major": 2,
       "version_minor": 0
      },
      "text/plain": [
       "  0%|          | 0/846 [00:00<?, ?it/s]"
      ]
     },
     "metadata": {},
     "output_type": "display_data"
    },
    {
     "name": "stdout",
     "output_type": "stream",
     "text": [
      "Average training loss this epoch: 0.0151\n"
     ]
    },
    {
     "data": {
      "application/vnd.jupyter.widget-view+json": {
       "model_id": "bcde274f2679463797cfdce12db261ab",
       "version_major": 2,
       "version_minor": 0
      },
      "text/plain": [
       "  0%|          | 0/212 [00:00<?, ?it/s]"
      ]
     },
     "metadata": {},
     "output_type": "display_data"
    },
    {
     "name": "stdout",
     "output_type": "stream",
     "text": [
      "* Average Loss @1: 0.1320\n",
      "Best performing model so far average validation loss: 0.1007 on epoch 0\n",
      "\n"
     ]
    },
    {
     "data": {
      "application/vnd.jupyter.widget-view+json": {
       "model_id": "65496d0f628348e68ac1e4e6970f29fb",
       "version_major": 2,
       "version_minor": 0
      },
      "text/plain": [
       "  0%|          | 0/846 [00:00<?, ?it/s]"
      ]
     },
     "metadata": {},
     "output_type": "display_data"
    },
    {
     "name": "stdout",
     "output_type": "stream",
     "text": [
      "Average training loss this epoch: 0.0098\n"
     ]
    },
    {
     "data": {
      "application/vnd.jupyter.widget-view+json": {
       "model_id": "e97f19572f8240b69af43ce4879959bb",
       "version_major": 2,
       "version_minor": 0
      },
      "text/plain": [
       "  0%|          | 0/212 [00:00<?, ?it/s]"
      ]
     },
     "metadata": {},
     "output_type": "display_data"
    },
    {
     "name": "stdout",
     "output_type": "stream",
     "text": [
      "* Average Loss @1: 0.1294\n",
      "Best performing model so far average validation loss: 0.1007 on epoch 0\n",
      "\n"
     ]
    },
    {
     "data": {
      "application/vnd.jupyter.widget-view+json": {
       "model_id": "4bd7577e2c604d6d9fb8e0ad8991e95f",
       "version_major": 2,
       "version_minor": 0
      },
      "text/plain": [
       "  0%|          | 0/846 [00:00<?, ?it/s]"
      ]
     },
     "metadata": {},
     "output_type": "display_data"
    },
    {
     "name": "stdout",
     "output_type": "stream",
     "text": [
      "Average training loss this epoch: 0.0079\n"
     ]
    },
    {
     "data": {
      "application/vnd.jupyter.widget-view+json": {
       "model_id": "7e8e32a9a5f34c7bbce0ef022b4453ff",
       "version_major": 2,
       "version_minor": 0
      },
      "text/plain": [
       "  0%|          | 0/212 [00:00<?, ?it/s]"
      ]
     },
     "metadata": {},
     "output_type": "display_data"
    },
    {
     "name": "stdout",
     "output_type": "stream",
     "text": [
      "* Average Loss @1: 0.1308\n",
      "Best performing model so far average validation loss: 0.1007 on epoch 0\n",
      "\n",
      "Best Training Loss @1: 0.1007\n",
      "Run finished, view it on the SigOpt dashboard at https://app.sigopt.com/run/448788\n",
      "Run started, view it on the SigOpt dashboard at https://app.sigopt.com/run/449001\n",
      "Params :  {'reg': 0.03978362716630089, 'learning_rate': 0.0018808754891849926, 'batch_size': '64'}\n"
     ]
    },
    {
     "data": {
      "application/vnd.jupyter.widget-view+json": {
       "model_id": "f290feb0eae849f09f4cb2bd67efbb96",
       "version_major": 2,
       "version_minor": 0
      },
      "text/plain": [
       "  0%|          | 0/423 [00:00<?, ?it/s]"
      ]
     },
     "metadata": {},
     "output_type": "display_data"
    },
    {
     "name": "stdout",
     "output_type": "stream",
     "text": [
      "Average training loss this epoch: 0.0751\n"
     ]
    },
    {
     "data": {
      "application/vnd.jupyter.widget-view+json": {
       "model_id": "6dcd42aa22ec412db394928fc5928e34",
       "version_major": 2,
       "version_minor": 0
      },
      "text/plain": [
       "  0%|          | 0/106 [00:00<?, ?it/s]"
      ]
     },
     "metadata": {},
     "output_type": "display_data"
    },
    {
     "name": "stdout",
     "output_type": "stream",
     "text": [
      "* Average Loss @1: 0.0765\n",
      "Best performing model so far average validation loss: 0.0765 on epoch 0\n",
      "\n"
     ]
    },
    {
     "data": {
      "application/vnd.jupyter.widget-view+json": {
       "model_id": "525762d718cf4afd99805cfe5e323a53",
       "version_major": 2,
       "version_minor": 0
      },
      "text/plain": [
       "  0%|          | 0/423 [00:00<?, ?it/s]"
      ]
     },
     "metadata": {},
     "output_type": "display_data"
    },
    {
     "name": "stdout",
     "output_type": "stream",
     "text": [
      "Average training loss this epoch: 0.0731\n"
     ]
    },
    {
     "data": {
      "application/vnd.jupyter.widget-view+json": {
       "model_id": "65eccd12e2e64cdf8f84ff3b070adb6a",
       "version_major": 2,
       "version_minor": 0
      },
      "text/plain": [
       "  0%|          | 0/106 [00:00<?, ?it/s]"
      ]
     },
     "metadata": {},
     "output_type": "display_data"
    },
    {
     "name": "stdout",
     "output_type": "stream",
     "text": [
      "* Average Loss @1: 0.0765\n",
      "Best performing model so far average validation loss: 0.0765 on epoch 0\n",
      "\n"
     ]
    },
    {
     "data": {
      "application/vnd.jupyter.widget-view+json": {
       "model_id": "16aadb998fcf4ae5a4538efe6ddcac39",
       "version_major": 2,
       "version_minor": 0
      },
      "text/plain": [
       "  0%|          | 0/423 [00:00<?, ?it/s]"
      ]
     },
     "metadata": {},
     "output_type": "display_data"
    },
    {
     "name": "stdout",
     "output_type": "stream",
     "text": [
      "Average training loss this epoch: 0.0731\n"
     ]
    },
    {
     "data": {
      "application/vnd.jupyter.widget-view+json": {
       "model_id": "d881107565674e1ea7f68ce96dcefc71",
       "version_major": 2,
       "version_minor": 0
      },
      "text/plain": [
       "  0%|          | 0/106 [00:00<?, ?it/s]"
      ]
     },
     "metadata": {},
     "output_type": "display_data"
    },
    {
     "name": "stdout",
     "output_type": "stream",
     "text": [
      "* Average Loss @1: 0.0766\n",
      "Best performing model so far average validation loss: 0.0765 on epoch 0\n",
      "\n"
     ]
    },
    {
     "data": {
      "application/vnd.jupyter.widget-view+json": {
       "model_id": "c98262054b8a4ef4a780772331902637",
       "version_major": 2,
       "version_minor": 0
      },
      "text/plain": [
       "  0%|          | 0/423 [00:00<?, ?it/s]"
      ]
     },
     "metadata": {},
     "output_type": "display_data"
    },
    {
     "name": "stdout",
     "output_type": "stream",
     "text": [
      "Average training loss this epoch: 0.0731\n"
     ]
    },
    {
     "data": {
      "application/vnd.jupyter.widget-view+json": {
       "model_id": "f5d7fab670d447a688cf9183519e8d4a",
       "version_major": 2,
       "version_minor": 0
      },
      "text/plain": [
       "  0%|          | 0/106 [00:00<?, ?it/s]"
      ]
     },
     "metadata": {},
     "output_type": "display_data"
    },
    {
     "name": "stdout",
     "output_type": "stream",
     "text": [
      "* Average Loss @1: 0.0764\n",
      "Best performing model so far average validation loss: 0.0764 on epoch 3\n",
      "\n"
     ]
    },
    {
     "data": {
      "application/vnd.jupyter.widget-view+json": {
       "model_id": "6d55658b67d24c2db10a4c8b27341f49",
       "version_major": 2,
       "version_minor": 0
      },
      "text/plain": [
       "  0%|          | 0/423 [00:00<?, ?it/s]"
      ]
     },
     "metadata": {},
     "output_type": "display_data"
    },
    {
     "name": "stdout",
     "output_type": "stream",
     "text": [
      "Average training loss this epoch: 0.0731\n"
     ]
    },
    {
     "data": {
      "application/vnd.jupyter.widget-view+json": {
       "model_id": "019a78ac8ff64584a8d65275a00a72e1",
       "version_major": 2,
       "version_minor": 0
      },
      "text/plain": [
       "  0%|          | 0/106 [00:00<?, ?it/s]"
      ]
     },
     "metadata": {},
     "output_type": "display_data"
    },
    {
     "name": "stdout",
     "output_type": "stream",
     "text": [
      "* Average Loss @1: 0.0764\n",
      "Best performing model so far average validation loss: 0.0764 on epoch 4\n",
      "\n",
      "Best Training Loss @1: 0.0764\n",
      "Run finished, view it on the SigOpt dashboard at https://app.sigopt.com/run/449001\n",
      "Run started, view it on the SigOpt dashboard at https://app.sigopt.com/run/449214\n",
      "Params :  {'batch_size': '64', 'learning_rate': 0.0001, 'reg': 0.10336652425114365}\n"
     ]
    },
    {
     "data": {
      "application/vnd.jupyter.widget-view+json": {
       "model_id": "0fa3d475dab44d7b9ce495918cc4e78f",
       "version_major": 2,
       "version_minor": 0
      },
      "text/plain": [
       "  0%|          | 0/423 [00:00<?, ?it/s]"
      ]
     },
     "metadata": {},
     "output_type": "display_data"
    },
    {
     "name": "stdout",
     "output_type": "stream",
     "text": [
      "Average training loss this epoch: 0.0748\n"
     ]
    },
    {
     "data": {
      "application/vnd.jupyter.widget-view+json": {
       "model_id": "5abd93f898fa422888c9df366552f4ef",
       "version_major": 2,
       "version_minor": 0
      },
      "text/plain": [
       "  0%|          | 0/106 [00:00<?, ?it/s]"
      ]
     },
     "metadata": {},
     "output_type": "display_data"
    },
    {
     "name": "stdout",
     "output_type": "stream",
     "text": [
      "* Average Loss @1: 0.0759\n",
      "Best performing model so far average validation loss: 0.0759 on epoch 0\n",
      "\n"
     ]
    },
    {
     "data": {
      "application/vnd.jupyter.widget-view+json": {
       "model_id": "7c4458ddaec0401c8e3909d0f1e4bb7a",
       "version_major": 2,
       "version_minor": 0
      },
      "text/plain": [
       "  0%|          | 0/423 [00:00<?, ?it/s]"
      ]
     },
     "metadata": {},
     "output_type": "display_data"
    },
    {
     "name": "stdout",
     "output_type": "stream",
     "text": [
      "Average training loss this epoch: 0.0761\n"
     ]
    },
    {
     "data": {
      "application/vnd.jupyter.widget-view+json": {
       "model_id": "641b48443a7a434693d9e620e071bbd3",
       "version_major": 2,
       "version_minor": 0
      },
      "text/plain": [
       "  0%|          | 0/106 [00:00<?, ?it/s]"
      ]
     },
     "metadata": {},
     "output_type": "display_data"
    },
    {
     "name": "stdout",
     "output_type": "stream",
     "text": [
      "* Average Loss @1: 0.0767\n",
      "Best performing model so far average validation loss: 0.0759 on epoch 0\n",
      "\n"
     ]
    },
    {
     "data": {
      "application/vnd.jupyter.widget-view+json": {
       "model_id": "fe81361106124966990cf7957e8da323",
       "version_major": 2,
       "version_minor": 0
      },
      "text/plain": [
       "  0%|          | 0/423 [00:00<?, ?it/s]"
      ]
     },
     "metadata": {},
     "output_type": "display_data"
    },
    {
     "name": "stdout",
     "output_type": "stream",
     "text": [
      "Average training loss this epoch: 0.0768\n"
     ]
    },
    {
     "data": {
      "application/vnd.jupyter.widget-view+json": {
       "model_id": "28be13353a5b4b51a400bae8a0b0f9a4",
       "version_major": 2,
       "version_minor": 0
      },
      "text/plain": [
       "  0%|          | 0/106 [00:00<?, ?it/s]"
      ]
     },
     "metadata": {},
     "output_type": "display_data"
    },
    {
     "name": "stdout",
     "output_type": "stream",
     "text": [
      "* Average Loss @1: 0.0744\n",
      "Best performing model so far average validation loss: 0.0744 on epoch 2\n",
      "\n"
     ]
    },
    {
     "data": {
      "application/vnd.jupyter.widget-view+json": {
       "model_id": "2d6dfb55f1324c598797dfef2591331c",
       "version_major": 2,
       "version_minor": 0
      },
      "text/plain": [
       "  0%|          | 0/423 [00:00<?, ?it/s]"
      ]
     },
     "metadata": {},
     "output_type": "display_data"
    },
    {
     "name": "stdout",
     "output_type": "stream",
     "text": [
      "Average training loss this epoch: 0.0752\n"
     ]
    },
    {
     "data": {
      "application/vnd.jupyter.widget-view+json": {
       "model_id": "b07531fb6cef49598278a00035f24ad7",
       "version_major": 2,
       "version_minor": 0
      },
      "text/plain": [
       "  0%|          | 0/106 [00:00<?, ?it/s]"
      ]
     },
     "metadata": {},
     "output_type": "display_data"
    },
    {
     "name": "stdout",
     "output_type": "stream",
     "text": [
      "* Average Loss @1: 0.0736\n",
      "Best performing model so far average validation loss: 0.0736 on epoch 3\n",
      "\n"
     ]
    },
    {
     "data": {
      "application/vnd.jupyter.widget-view+json": {
       "model_id": "66af7b1134b44bf28cd0fb58a17195ea",
       "version_major": 2,
       "version_minor": 0
      },
      "text/plain": [
       "  0%|          | 0/423 [00:00<?, ?it/s]"
      ]
     },
     "metadata": {},
     "output_type": "display_data"
    },
    {
     "name": "stdout",
     "output_type": "stream",
     "text": [
      "Average training loss this epoch: 0.0747\n"
     ]
    },
    {
     "data": {
      "application/vnd.jupyter.widget-view+json": {
       "model_id": "5dce4b15e4684ca1b1df2603ddfb1e33",
       "version_major": 2,
       "version_minor": 0
      },
      "text/plain": [
       "  0%|          | 0/106 [00:00<?, ?it/s]"
      ]
     },
     "metadata": {},
     "output_type": "display_data"
    },
    {
     "name": "stdout",
     "output_type": "stream",
     "text": [
      "* Average Loss @1: 0.0733\n",
      "Best performing model so far average validation loss: 0.0733 on epoch 4\n",
      "\n",
      "Best Training Loss @1: 0.0733\n",
      "Run finished, view it on the SigOpt dashboard at https://app.sigopt.com/run/449214\n"
     ]
    }
   ],
   "source": [
    "%%optimize gcp_nvidia_cnn_optimization_run_4\n",
    "evaluate(args)"
   ]
  },
  {
   "cell_type": "code",
   "execution_count": null,
   "metadata": {},
   "outputs": [],
   "source": []
  }
 ],
 "metadata": {
  "accelerator": "GPU",
  "colab": {
   "collapsed_sections": [],
   "name": "base_cnn.ipynb",
   "provenance": []
  },
  "environment": {
   "kernel": "python3",
   "name": "pytorch-gpu.1-11.m94",
   "type": "gcloud",
   "uri": "gcr.io/deeplearning-platform-release/pytorch-gpu.1-11:m94"
  },
  "gpuClass": "standard",
  "kernelspec": {
   "display_name": "Python 3",
   "language": "python",
   "name": "python3"
  },
  "language_info": {
   "codemirror_mode": {
    "name": "ipython",
    "version": 3
   },
   "file_extension": ".py",
   "mimetype": "text/x-python",
   "name": "python",
   "nbconvert_exporter": "python",
   "pygments_lexer": "ipython3",
   "version": "3.7.12"
  },
  "widgets": {
   "application/vnd.jupyter.widget-state+json": {
    "state": {
     "0056e628b92b4d018ee8334c52c7e3ee": {
      "model_module": "@jupyter-widgets/base",
      "model_module_version": "1.2.0",
      "model_name": "LayoutModel",
      "state": {}
     },
     "016318ee0fc4476a953044bfbb6c7fa7": {
      "model_module": "@jupyter-widgets/controls",
      "model_module_version": "1.5.0",
      "model_name": "HTMLModel",
      "state": {
       "layout": "IPY_MODEL_77630b3f46c143a0995d55d7cb65be8a",
       "style": "IPY_MODEL_f0c42e3b6ee444a7b45c460a3b2fed50",
       "value": "Batch: 6762, Loss: 0.0047: 100%"
      }
     },
     "020fb7920ccf48c9a950333dbd276da4": {
      "model_module": "@jupyter-widgets/controls",
      "model_module_version": "1.5.0",
      "model_name": "ProgressStyleModel",
      "state": {
       "description_width": ""
      }
     },
     "04eed76fd3a74316ade900cef9230733": {
      "model_module": "@jupyter-widgets/base",
      "model_module_version": "1.2.0",
      "model_name": "LayoutModel",
      "state": {}
     },
     "05ef7244048749a1aad0277c33a0f07d": {
      "model_module": "@jupyter-widgets/controls",
      "model_module_version": "1.5.0",
      "model_name": "HBoxModel",
      "state": {
       "children": [
        "IPY_MODEL_4828677d39c6430295a13c8457f19b7f",
        "IPY_MODEL_bd66f04c57284486ba0af85a62483abf",
        "IPY_MODEL_6263f13d63c146c6a8b2238165ab316b"
       ],
       "layout": "IPY_MODEL_b136bfe0b57d4436a8350807b86c32b0"
      }
     },
     "06bff77ad7284394897ff3ca4f3c2cf0": {
      "model_module": "@jupyter-widgets/base",
      "model_module_version": "1.2.0",
      "model_name": "LayoutModel",
      "state": {}
     },
     "079caced33f54d5cb42ef758cdb9ff67": {
      "model_module": "@jupyter-widgets/base",
      "model_module_version": "1.2.0",
      "model_name": "LayoutModel",
      "state": {}
     },
     "07d17fc306c34de1a3d96419425f6712": {
      "model_module": "@jupyter-widgets/controls",
      "model_module_version": "1.5.0",
      "model_name": "DescriptionStyleModel",
      "state": {
       "description_width": ""
      }
     },
     "0816cf2a60cc45989028ddbff1eb5e03": {
      "model_module": "@jupyter-widgets/controls",
      "model_module_version": "1.5.0",
      "model_name": "FloatProgressModel",
      "state": {
       "bar_style": "success",
       "layout": "IPY_MODEL_eeca088fe68e432cad17c96dbb423426",
       "max": 5614,
       "style": "IPY_MODEL_7d97b72d3a144e70a22e4249411a7f71",
       "value": 5614
      }
     },
     "0899123713184d02a9167c557b657d9a": {
      "model_module": "@jupyter-widgets/controls",
      "model_module_version": "1.5.0",
      "model_name": "DescriptionStyleModel",
      "state": {
       "description_width": ""
      }
     },
     "0b7f17cc654d4ad9a9effecf3a5d5571": {
      "model_module": "@jupyter-widgets/controls",
      "model_module_version": "1.5.0",
      "model_name": "DescriptionStyleModel",
      "state": {
       "description_width": ""
      }
     },
     "0c932e3f51524c64b67625e39728b024": {
      "model_module": "@jupyter-widgets/controls",
      "model_module_version": "1.5.0",
      "model_name": "HTMLModel",
      "state": {
       "layout": "IPY_MODEL_c0f4356dab17471aa443c03c22ba5ad5",
       "style": "IPY_MODEL_9cfc3bcdea3b4ebf8d494abb94bcd76d",
       "value": "Batch: 6762, Loss: 0.0099: 100%"
      }
     },
     "0cfd0439068d4392a92b009aa59c07c3": {
      "model_module": "@jupyter-widgets/controls",
      "model_module_version": "1.5.0",
      "model_name": "ProgressStyleModel",
      "state": {
       "description_width": ""
      }
     },
     "0d1fda80ad5042b68b8d1d7cba7b9683": {
      "model_module": "@jupyter-widgets/controls",
      "model_module_version": "1.5.0",
      "model_name": "HTMLModel",
      "state": {
       "layout": "IPY_MODEL_9fae7fee9e63420e8c17a5de457ad65a",
       "style": "IPY_MODEL_1fb1e1451354496c8a29dba48edc1e04",
       "value": "Batch: 6762, Loss: 0.0010: 100%"
      }
     },
     "0d68827d7a8c4a95a566da8ef59b0225": {
      "model_module": "@jupyter-widgets/base",
      "model_module_version": "1.2.0",
      "model_name": "LayoutModel",
      "state": {}
     },
     "0ed37858b0074e8bba8873dbc16e4f28": {
      "model_module": "@jupyter-widgets/controls",
      "model_module_version": "1.5.0",
      "model_name": "HTMLModel",
      "state": {
       "layout": "IPY_MODEL_8c590335b9a443d79179a3683fe9c763",
       "style": "IPY_MODEL_72fdcba51fbe4bd19406df773fdff710",
       "value": "Batch: 6762, Loss: 0.0120: 100%"
      }
     },
     "0f69800810b64db18a819984ef4065b4": {
      "model_module": "@jupyter-widgets/controls",
      "model_module_version": "1.5.0",
      "model_name": "DescriptionStyleModel",
      "state": {
       "description_width": ""
      }
     },
     "0fc7324451164089a415c7f12d48fde4": {
      "model_module": "@jupyter-widgets/base",
      "model_module_version": "1.2.0",
      "model_name": "LayoutModel",
      "state": {}
     },
     "12f11f37d5a84d408f1ad3de38ea7856": {
      "model_module": "@jupyter-widgets/controls",
      "model_module_version": "1.5.0",
      "model_name": "HBoxModel",
      "state": {
       "children": [
        "IPY_MODEL_287306f5d68d49f1a28d49d1216af103",
        "IPY_MODEL_e508cc79317240fa855bbaf3b4d14f9e",
        "IPY_MODEL_548c178045f94a6aaa428a63a50b8a6b"
       ],
       "layout": "IPY_MODEL_d0a4fa34e98a49d8892de9addeb24ebd"
      }
     },
     "13382aac9faf4054a55652e23685eb2a": {
      "model_module": "@jupyter-widgets/controls",
      "model_module_version": "1.5.0",
      "model_name": "ProgressStyleModel",
      "state": {
       "description_width": ""
      }
     },
     "1345460e65d546aeb127dfb6b83d67ab": {
      "model_module": "@jupyter-widgets/controls",
      "model_module_version": "1.5.0",
      "model_name": "HTMLModel",
      "state": {
       "layout": "IPY_MODEL_d512ee4eecb7416884e30146924588da",
       "style": "IPY_MODEL_34e80d4b19b8454298c7a43c33f1e194",
       "value": " 6762/6762 [00:32&lt;00:00, 216.12it/s]"
      }
     },
     "13a7ba8467d44802bd672ca15a3f66db": {
      "model_module": "@jupyter-widgets/controls",
      "model_module_version": "1.5.0",
      "model_name": "HBoxModel",
      "state": {
       "children": [
        "IPY_MODEL_7b53edd27a7e4324acf55386c294a7cd",
        "IPY_MODEL_9fd6084899324c70a948324cf36fbae2",
        "IPY_MODEL_33a424cd654941e3ab563fe879da3b79"
       ],
       "layout": "IPY_MODEL_53f8ed40732a4c7bbb26a8e06398c65f"
      }
     },
     "141b61896b6643dc9201f15bf339dac8": {
      "model_module": "@jupyter-widgets/controls",
      "model_module_version": "1.5.0",
      "model_name": "FloatProgressModel",
      "state": {
       "bar_style": "success",
       "layout": "IPY_MODEL_b5cb3fcf6ae04948a7f888dc3a8f16f6",
       "max": 6762,
       "style": "IPY_MODEL_13382aac9faf4054a55652e23685eb2a",
       "value": 6762
      }
     },
     "14490629d17a4380a65eccfb110a9d70": {
      "model_module": "@jupyter-widgets/base",
      "model_module_version": "1.2.0",
      "model_name": "LayoutModel",
      "state": {}
     },
     "144dfb82960e4cbaa748bd0342728b5f": {
      "model_module": "@jupyter-widgets/controls",
      "model_module_version": "1.5.0",
      "model_name": "HTMLModel",
      "state": {
       "layout": "IPY_MODEL_66702b5efc9e40768a0a78fb168e0fd2",
       "style": "IPY_MODEL_6b2d387f9ffa4746b1ded358e41dc0ac",
       "value": "Batch: 6762, Loss: 0.0016: 100%"
      }
     },
     "14d2eb1842ad40519bd170e688c7eaaf": {
      "model_module": "@jupyter-widgets/base",
      "model_module_version": "1.2.0",
      "model_name": "LayoutModel",
      "state": {}
     },
     "15535ae1e3954ffeab5db18e954fb58c": {
      "model_module": "@jupyter-widgets/base",
      "model_module_version": "1.2.0",
      "model_name": "LayoutModel",
      "state": {}
     },
     "15ab6f8c601a4042b85bcf12f48efddb": {
      "model_module": "@jupyter-widgets/controls",
      "model_module_version": "1.5.0",
      "model_name": "DescriptionStyleModel",
      "state": {
       "description_width": ""
      }
     },
     "15efff237eb24bf387da9192eac3600a": {
      "model_module": "@jupyter-widgets/base",
      "model_module_version": "1.2.0",
      "model_name": "LayoutModel",
      "state": {}
     },
     "161ec7a9ec5d461aa618ad5a50af62c7": {
      "model_module": "@jupyter-widgets/controls",
      "model_module_version": "1.5.0",
      "model_name": "HBoxModel",
      "state": {
       "children": [
        "IPY_MODEL_bd7fb692559b46238dcedd70d53ba3d5",
        "IPY_MODEL_d66d84b2d5d249d9ba7082e5a9a34856",
        "IPY_MODEL_d0b07b14ebf34e5a85187e09ad57bc66"
       ],
       "layout": "IPY_MODEL_e79e754e982445baa3091610762c4378"
      }
     },
     "162602f2877448b6a3877c658a98dfb8": {
      "model_module": "@jupyter-widgets/base",
      "model_module_version": "1.2.0",
      "model_name": "LayoutModel",
      "state": {}
     },
     "170c9fa3feea4e3bac2d2c87b1615ede": {
      "model_module": "@jupyter-widgets/controls",
      "model_module_version": "1.5.0",
      "model_name": "HTMLModel",
      "state": {
       "layout": "IPY_MODEL_d5c9c6a130d7465c856780da775d0e82",
       "style": "IPY_MODEL_67b4b6001cea4fce90cf10bca2dda5e2",
       "value": "Epoch 0, Batch: 27046, Loss: 0.0078: 100%"
      }
     },
     "1766f351d39e4c3399d6900f602d421e": {
      "model_module": "@jupyter-widgets/base",
      "model_module_version": "1.2.0",
      "model_name": "LayoutModel",
      "state": {}
     },
     "1806e3d1dffb41ccb133615329cb3c6f": {
      "model_module": "@jupyter-widgets/controls",
      "model_module_version": "1.5.0",
      "model_name": "HTMLModel",
      "state": {
       "layout": "IPY_MODEL_8f7fce001cf842e1a35754974e143cf1",
       "style": "IPY_MODEL_1b6c7078bdcc49f1bdc7197bd3b0b289",
       "value": " 27046/27046 [04:42&lt;00:00, 98.88it/s]"
      }
     },
     "185ef654d2644bcf91a2016262b94f6f": {
      "model_module": "@jupyter-widgets/controls",
      "model_module_version": "1.5.0",
      "model_name": "DescriptionStyleModel",
      "state": {
       "description_width": ""
      }
     },
     "18aae338a08540518bdca29345dca4f7": {
      "model_module": "@jupyter-widgets/controls",
      "model_module_version": "1.5.0",
      "model_name": "HTMLModel",
      "state": {
       "layout": "IPY_MODEL_7bfc3d858e4449428b4e12f1c5d5eb4d",
       "style": "IPY_MODEL_37b2830476a647338dc014e3b05bab25",
       "value": " 27046/27046 [04:41&lt;00:00, 93.77it/s]"
      }
     },
     "194eab176edc4064beab32281581c11b": {
      "model_module": "@jupyter-widgets/base",
      "model_module_version": "1.2.0",
      "model_name": "LayoutModel",
      "state": {}
     },
     "19a7ceb1b70c4182bdb88cc38f2030cc": {
      "model_module": "@jupyter-widgets/controls",
      "model_module_version": "1.5.0",
      "model_name": "HTMLModel",
      "state": {
       "layout": "IPY_MODEL_a1b437d8c4874606bdec8713d4a0021c",
       "style": "IPY_MODEL_3d74ba6dc64940c2847bde9357539178",
       "value": " 27046/27046 [04:43&lt;00:00, 95.27it/s]"
      }
     },
     "1a0c63d33fe8424a994c36b45e18f4ff": {
      "model_module": "@jupyter-widgets/base",
      "model_module_version": "1.2.0",
      "model_name": "LayoutModel",
      "state": {}
     },
     "1a823e1b2178417eb018c6034ee43536": {
      "model_module": "@jupyter-widgets/controls",
      "model_module_version": "1.5.0",
      "model_name": "HTMLModel",
      "state": {
       "layout": "IPY_MODEL_1c23ccc57e44456abe4e58604cd57aa6",
       "style": "IPY_MODEL_225f6745b50346a9b7ccc9249688b11b",
       "value": "Batch: 6762, Loss: 0.0037: 100%"
      }
     },
     "1ad9f3b3d05c4eb184d8b59f214c2020": {
      "model_module": "@jupyter-widgets/controls",
      "model_module_version": "1.5.0",
      "model_name": "ProgressStyleModel",
      "state": {
       "description_width": ""
      }
     },
     "1aea81149bda4019a190dc521777691b": {
      "model_module": "@jupyter-widgets/base",
      "model_module_version": "1.2.0",
      "model_name": "LayoutModel",
      "state": {}
     },
     "1b3ddf0d26d24c1b8fef464002b493dc": {
      "model_module": "@jupyter-widgets/controls",
      "model_module_version": "1.5.0",
      "model_name": "ProgressStyleModel",
      "state": {
       "description_width": ""
      }
     },
     "1b6c7078bdcc49f1bdc7197bd3b0b289": {
      "model_module": "@jupyter-widgets/controls",
      "model_module_version": "1.5.0",
      "model_name": "DescriptionStyleModel",
      "state": {
       "description_width": ""
      }
     },
     "1c23ccc57e44456abe4e58604cd57aa6": {
      "model_module": "@jupyter-widgets/base",
      "model_module_version": "1.2.0",
      "model_name": "LayoutModel",
      "state": {}
     },
     "1c39c750aea34530b9d29049e5e126ea": {
      "model_module": "@jupyter-widgets/base",
      "model_module_version": "1.2.0",
      "model_name": "LayoutModel",
      "state": {}
     },
     "1d8635128849480a9be849a2581ef944": {
      "model_module": "@jupyter-widgets/controls",
      "model_module_version": "1.5.0",
      "model_name": "FloatProgressModel",
      "state": {
       "bar_style": "success",
       "layout": "IPY_MODEL_5171248b187345fc95c84a0e86397dd1",
       "max": 27046,
       "style": "IPY_MODEL_9b40675752d6400e82ebd715e98f0547",
       "value": 27046
      }
     },
     "1e59e5257a424508ab61151d7bf6e1f5": {
      "model_module": "@jupyter-widgets/base",
      "model_module_version": "1.2.0",
      "model_name": "LayoutModel",
      "state": {}
     },
     "1ebc857f243c4514a5b851c0b32ae1ea": {
      "model_module": "@jupyter-widgets/base",
      "model_module_version": "1.2.0",
      "model_name": "LayoutModel",
      "state": {}
     },
     "1fb1e1451354496c8a29dba48edc1e04": {
      "model_module": "@jupyter-widgets/controls",
      "model_module_version": "1.5.0",
      "model_name": "DescriptionStyleModel",
      "state": {
       "description_width": ""
      }
     },
     "1fead84f6e584012923200be902c2e1a": {
      "model_module": "@jupyter-widgets/controls",
      "model_module_version": "1.5.0",
      "model_name": "DescriptionStyleModel",
      "state": {
       "description_width": ""
      }
     },
     "21ba902ca75b443aad29a7df7ea4e2bb": {
      "model_module": "@jupyter-widgets/controls",
      "model_module_version": "1.5.0",
      "model_name": "DescriptionStyleModel",
      "state": {
       "description_width": ""
      }
     },
     "225f6745b50346a9b7ccc9249688b11b": {
      "model_module": "@jupyter-widgets/controls",
      "model_module_version": "1.5.0",
      "model_name": "DescriptionStyleModel",
      "state": {
       "description_width": ""
      }
     },
     "22b17d26d65f42b8accfed26356d9bd4": {
      "model_module": "@jupyter-widgets/controls",
      "model_module_version": "1.5.0",
      "model_name": "HTMLModel",
      "state": {
       "layout": "IPY_MODEL_f5d241726175441e9146b0f71896edb3",
       "style": "IPY_MODEL_8e7cf27b98164b0084cb3c21e8ee7181",
       "value": "Epoch 8, Batch: 27046, Loss: 0.0006: 100%"
      }
     },
     "236a7b439dcf48c39c0a0a90ab214da6": {
      "model_module": "@jupyter-widgets/controls",
      "model_module_version": "1.5.0",
      "model_name": "DescriptionStyleModel",
      "state": {
       "description_width": ""
      }
     },
     "244f02841038468b9ac2f0e3733d5de9": {
      "model_module": "@jupyter-widgets/controls",
      "model_module_version": "1.5.0",
      "model_name": "FloatProgressModel",
      "state": {
       "bar_style": "success",
       "layout": "IPY_MODEL_ed990b70862e4b499dbb708bcc6b7447",
       "max": 6762,
       "style": "IPY_MODEL_0cfd0439068d4392a92b009aa59c07c3",
       "value": 6762
      }
     },
     "24b5f87e294647028a29c85baf75e2db": {
      "model_module": "@jupyter-widgets/controls",
      "model_module_version": "1.5.0",
      "model_name": "FloatProgressModel",
      "state": {
       "bar_style": "success",
       "layout": "IPY_MODEL_8833571d0feb4e49bf68594d5cea9b04",
       "max": 6762,
       "style": "IPY_MODEL_342cb6be0d9b4c549ae35ebc10650a14",
       "value": 6762
      }
     },
     "2539359ef7144178a7413d28cd160ce4": {
      "model_module": "@jupyter-widgets/controls",
      "model_module_version": "1.5.0",
      "model_name": "HTMLModel",
      "state": {
       "layout": "IPY_MODEL_546c7cf9b2b64321aa77349b320cb7f0",
       "style": "IPY_MODEL_f36202d7aecd4bed8f90601ecf143195",
       "value": " 6762/6762 [00:33&lt;00:00, 215.00it/s]"
      }
     },
     "262e5b5818f94c958e37cedbc3bb6cc3": {
      "model_module": "@jupyter-widgets/controls",
      "model_module_version": "1.5.0",
      "model_name": "FloatProgressModel",
      "state": {
       "bar_style": "success",
       "layout": "IPY_MODEL_7b9790d2483940af9b1167bb6f36c403",
       "max": 27046,
       "style": "IPY_MODEL_4fc4587371a547edbec67ec91b11aaf7",
       "value": 27046
      }
     },
     "2718558479404919a498a14642bf38fb": {
      "model_module": "@jupyter-widgets/controls",
      "model_module_version": "1.5.0",
      "model_name": "HTMLModel",
      "state": {
       "layout": "IPY_MODEL_80abe146d5b84e63860f24869804a01a",
       "style": "IPY_MODEL_c1e7c495b52440d68d1208bbcf8d44c1",
       "value": "Epoch 5, Batch: 27046, Loss: 0.0007: 100%"
      }
     },
     "287306f5d68d49f1a28d49d1216af103": {
      "model_module": "@jupyter-widgets/controls",
      "model_module_version": "1.5.0",
      "model_name": "HTMLModel",
      "state": {
       "layout": "IPY_MODEL_640ad11e54f94bbf88507620d4ad0836",
       "style": "IPY_MODEL_43af88915d884ff7b3297806ec939a9b",
       "value": "Epoch 11, Batch: 27046, Loss: 0.0000: 100%"
      }
     },
     "2972333e02904a308cfdea45104c2bcb": {
      "model_module": "@jupyter-widgets/controls",
      "model_module_version": "1.5.0",
      "model_name": "HBoxModel",
      "state": {
       "children": [
        "IPY_MODEL_af2d47879735477d815154331713e6f9",
        "IPY_MODEL_2a084fdaeb6b488492172f801d89c3ff",
        "IPY_MODEL_3457432dbbb64d5dafd619dd95a73498"
       ],
       "layout": "IPY_MODEL_d7be4673e5c64f8db35b535ec057dfe1"
      }
     },
     "2995680b4f634d45a914e74ffcf65143": {
      "model_module": "@jupyter-widgets/base",
      "model_module_version": "1.2.0",
      "model_name": "LayoutModel",
      "state": {}
     },
     "2a084fdaeb6b488492172f801d89c3ff": {
      "model_module": "@jupyter-widgets/controls",
      "model_module_version": "1.5.0",
      "model_name": "FloatProgressModel",
      "state": {
       "bar_style": "success",
       "layout": "IPY_MODEL_1ebc857f243c4514a5b851c0b32ae1ea",
       "max": 27046,
       "style": "IPY_MODEL_441a36bee5f340a284b13fb4e076a345",
       "value": 27046
      }
     },
     "2d7a0f275d4d412a9261f9b29efbb457": {
      "model_module": "@jupyter-widgets/controls",
      "model_module_version": "1.5.0",
      "model_name": "ProgressStyleModel",
      "state": {
       "description_width": ""
      }
     },
     "2dbb5e343db34413843c39477585b8b3": {
      "model_module": "@jupyter-widgets/controls",
      "model_module_version": "1.5.0",
      "model_name": "FloatProgressModel",
      "state": {
       "bar_style": "success",
       "layout": "IPY_MODEL_ee747c8b75014d43982dd2dc25ec33e7",
       "max": 27046,
       "style": "IPY_MODEL_8b76617481204712996c2d24307a712c",
       "value": 27046
      }
     },
     "2e213236c10941da920b8e0757e85cec": {
      "model_module": "@jupyter-widgets/controls",
      "model_module_version": "1.5.0",
      "model_name": "HTMLModel",
      "state": {
       "layout": "IPY_MODEL_9f945b26684c4085901089f2bacdb0b8",
       "style": "IPY_MODEL_e9f1da1ed9d04fe39351d42fc0e695eb",
       "value": "Batch: 6762, Loss: 0.0005: 100%"
      }
     },
     "2eb9ac09a71e4fa1bf6a0f5b176d7c56": {
      "model_module": "@jupyter-widgets/controls",
      "model_module_version": "1.5.0",
      "model_name": "ProgressStyleModel",
      "state": {
       "description_width": ""
      }
     },
     "2eccf6b9c01c4d71af14be20454f5287": {
      "model_module": "@jupyter-widgets/controls",
      "model_module_version": "1.5.0",
      "model_name": "ProgressStyleModel",
      "state": {
       "description_width": ""
      }
     },
     "2f23ca189ac349e4a9825def5acb5969": {
      "model_module": "@jupyter-widgets/controls",
      "model_module_version": "1.5.0",
      "model_name": "HTMLModel",
      "state": {
       "layout": "IPY_MODEL_37615139bfa4401ab13c457def241ce2",
       "style": "IPY_MODEL_ef1c9c644c44406ea3931dfd1a367b63",
       "value": " 27046/27046 [04:44&lt;00:00, 93.79it/s]"
      }
     },
     "331b089a9baf4e4983dc39de1375fc18": {
      "model_module": "@jupyter-widgets/controls",
      "model_module_version": "1.5.0",
      "model_name": "DescriptionStyleModel",
      "state": {
       "description_width": ""
      }
     },
     "33a424cd654941e3ab563fe879da3b79": {
      "model_module": "@jupyter-widgets/controls",
      "model_module_version": "1.5.0",
      "model_name": "HTMLModel",
      "state": {
       "layout": "IPY_MODEL_69273b6309d940659a0ff82275038d55",
       "style": "IPY_MODEL_5445cfc6c4664a4badbc9e99e881e3a4",
       "value": " 6762/6762 [00:32&lt;00:00, 213.73it/s]"
      }
     },
     "33d624c1474c48ee9904382da8b15dbf": {
      "model_module": "@jupyter-widgets/base",
      "model_module_version": "1.2.0",
      "model_name": "LayoutModel",
      "state": {}
     },
     "33ec1464d99d460c84fa844c08ec2546": {
      "model_module": "@jupyter-widgets/base",
      "model_module_version": "1.2.0",
      "model_name": "LayoutModel",
      "state": {}
     },
     "342cb6be0d9b4c549ae35ebc10650a14": {
      "model_module": "@jupyter-widgets/controls",
      "model_module_version": "1.5.0",
      "model_name": "ProgressStyleModel",
      "state": {
       "description_width": ""
      }
     },
     "3457432dbbb64d5dafd619dd95a73498": {
      "model_module": "@jupyter-widgets/controls",
      "model_module_version": "1.5.0",
      "model_name": "HTMLModel",
      "state": {
       "layout": "IPY_MODEL_6a64c9cdac034de89999f1914e85e6c1",
       "style": "IPY_MODEL_f2cce92599a24799ba4719aa6c8cdf32",
       "value": " 27046/27046 [04:42&lt;00:00, 97.83it/s]"
      }
     },
     "34e80d4b19b8454298c7a43c33f1e194": {
      "model_module": "@jupyter-widgets/controls",
      "model_module_version": "1.5.0",
      "model_name": "DescriptionStyleModel",
      "state": {
       "description_width": ""
      }
     },
     "36098d12029d43e6ab8286ebabeeb5be": {
      "model_module": "@jupyter-widgets/controls",
      "model_module_version": "1.5.0",
      "model_name": "FloatProgressModel",
      "state": {
       "bar_style": "success",
       "layout": "IPY_MODEL_554277be4b63470fa3ef86b5541c160b",
       "max": 27046,
       "style": "IPY_MODEL_2eb9ac09a71e4fa1bf6a0f5b176d7c56",
       "value": 27046
      }
     },
     "37615139bfa4401ab13c457def241ce2": {
      "model_module": "@jupyter-widgets/base",
      "model_module_version": "1.2.0",
      "model_name": "LayoutModel",
      "state": {}
     },
     "37adbca83de741409ea48e383d45fbfd": {
      "model_module": "@jupyter-widgets/controls",
      "model_module_version": "1.5.0",
      "model_name": "HTMLModel",
      "state": {
       "layout": "IPY_MODEL_e2033880a01946d0b9cda7557c53cd51",
       "style": "IPY_MODEL_71da15f2abd246cb825735c86de12823",
       "value": " 6762/6762 [00:32&lt;00:00, 204.64it/s]"
      }
     },
     "37b2830476a647338dc014e3b05bab25": {
      "model_module": "@jupyter-widgets/controls",
      "model_module_version": "1.5.0",
      "model_name": "DescriptionStyleModel",
      "state": {
       "description_width": ""
      }
     },
     "38cc938b579b4b4ca80a694028affc15": {
      "model_module": "@jupyter-widgets/controls",
      "model_module_version": "1.5.0",
      "model_name": "ProgressStyleModel",
      "state": {
       "description_width": ""
      }
     },
     "38d92a05785b40ad8ac5f443f24d566b": {
      "model_module": "@jupyter-widgets/controls",
      "model_module_version": "1.5.0",
      "model_name": "DescriptionStyleModel",
      "state": {
       "description_width": ""
      }
     },
     "391e8415866845d884442812c9f7681c": {
      "model_module": "@jupyter-widgets/controls",
      "model_module_version": "1.5.0",
      "model_name": "FloatProgressModel",
      "state": {
       "bar_style": "success",
       "layout": "IPY_MODEL_bf9bd3d0f8d24cd9be77911d2d47f205",
       "max": 6762,
       "style": "IPY_MODEL_4142260f311c43c9951633b43d43b216",
       "value": 6762
      }
     },
     "3cd2f306f94f4706b5950cc14195f41d": {
      "model_module": "@jupyter-widgets/base",
      "model_module_version": "1.2.0",
      "model_name": "LayoutModel",
      "state": {}
     },
     "3d34d672ac0c4f948b038edadda878a7": {
      "model_module": "@jupyter-widgets/controls",
      "model_module_version": "1.5.0",
      "model_name": "DescriptionStyleModel",
      "state": {
       "description_width": ""
      }
     },
     "3d74ba6dc64940c2847bde9357539178": {
      "model_module": "@jupyter-widgets/controls",
      "model_module_version": "1.5.0",
      "model_name": "DescriptionStyleModel",
      "state": {
       "description_width": ""
      }
     },
     "3dd111491fd74797ac40794af6b7cd19": {
      "model_module": "@jupyter-widgets/base",
      "model_module_version": "1.2.0",
      "model_name": "LayoutModel",
      "state": {}
     },
     "3e596e03bba4409d8d4ef2405045a332": {
      "model_module": "@jupyter-widgets/controls",
      "model_module_version": "1.5.0",
      "model_name": "FloatProgressModel",
      "state": {
       "bar_style": "success",
       "layout": "IPY_MODEL_45d8f8ee4c6b4a158c4f3f4228794b67",
       "max": 6762,
       "style": "IPY_MODEL_c77faea23f9646da99ee89d3cf088f7e",
       "value": 6762
      }
     },
     "3f9f53faa123483bbc44f623eb79f0d9": {
      "model_module": "@jupyter-widgets/base",
      "model_module_version": "1.2.0",
      "model_name": "LayoutModel",
      "state": {}
     },
     "40abd9e062ce47d3984c1ecb85c6a72d": {
      "model_module": "@jupyter-widgets/base",
      "model_module_version": "1.2.0",
      "model_name": "LayoutModel",
      "state": {}
     },
     "4142260f311c43c9951633b43d43b216": {
      "model_module": "@jupyter-widgets/controls",
      "model_module_version": "1.5.0",
      "model_name": "ProgressStyleModel",
      "state": {
       "description_width": ""
      }
     },
     "43af88915d884ff7b3297806ec939a9b": {
      "model_module": "@jupyter-widgets/controls",
      "model_module_version": "1.5.0",
      "model_name": "DescriptionStyleModel",
      "state": {
       "description_width": ""
      }
     },
     "43e5e347bde64f3c94c5b84340b16df3": {
      "model_module": "@jupyter-widgets/controls",
      "model_module_version": "1.5.0",
      "model_name": "ProgressStyleModel",
      "state": {
       "description_width": ""
      }
     },
     "441a36bee5f340a284b13fb4e076a345": {
      "model_module": "@jupyter-widgets/controls",
      "model_module_version": "1.5.0",
      "model_name": "ProgressStyleModel",
      "state": {
       "description_width": ""
      }
     },
     "4498311e4ac04639a55f46ab78989013": {
      "model_module": "@jupyter-widgets/controls",
      "model_module_version": "1.5.0",
      "model_name": "HTMLModel",
      "state": {
       "layout": "IPY_MODEL_6d8489acf899404b9d2b765347046853",
       "style": "IPY_MODEL_cd9f2901ae3445e68b894b254ca67255",
       "value": " 27046/27046 [04:44&lt;00:00, 96.72it/s]"
      }
     },
     "45d69426578542ac84332591495a1b30": {
      "model_module": "@jupyter-widgets/base",
      "model_module_version": "1.2.0",
      "model_name": "LayoutModel",
      "state": {}
     },
     "45d8f8ee4c6b4a158c4f3f4228794b67": {
      "model_module": "@jupyter-widgets/base",
      "model_module_version": "1.2.0",
      "model_name": "LayoutModel",
      "state": {}
     },
     "4674a6f8a30840308a9248bb9ec67f40": {
      "model_module": "@jupyter-widgets/controls",
      "model_module_version": "1.5.0",
      "model_name": "HTMLModel",
      "state": {
       "layout": "IPY_MODEL_f7e9c0480ba840098a50c2c8c4eafc9c",
       "style": "IPY_MODEL_6dc0d6350cfe41bbb8b2d824b2f0e79a",
       "value": "Batch: 6762, Loss: 0.0045: 100%"
      }
     },
     "473953d6159b42f2acf05d71644e3889": {
      "model_module": "@jupyter-widgets/base",
      "model_module_version": "1.2.0",
      "model_name": "LayoutModel",
      "state": {}
     },
     "47bd0e4eaff74493b8616322992ff60a": {
      "model_module": "@jupyter-widgets/controls",
      "model_module_version": "1.5.0",
      "model_name": "DescriptionStyleModel",
      "state": {
       "description_width": ""
      }
     },
     "47d43c01f89f4872aed1d2314365ba72": {
      "model_module": "@jupyter-widgets/controls",
      "model_module_version": "1.5.0",
      "model_name": "ProgressStyleModel",
      "state": {
       "description_width": ""
      }
     },
     "4828677d39c6430295a13c8457f19b7f": {
      "model_module": "@jupyter-widgets/controls",
      "model_module_version": "1.5.0",
      "model_name": "HTMLModel",
      "state": {
       "layout": "IPY_MODEL_7109b220ce544bc68a39d76eae87a276",
       "style": "IPY_MODEL_f5a35d7379b649e6b264678fad44c1e7",
       "value": "Epoch 2, Batch: 27046, Loss: 0.0004: 100%"
      }
     },
     "482fa7bb51d8454ba1357b03e1c98200": {
      "model_module": "@jupyter-widgets/base",
      "model_module_version": "1.2.0",
      "model_name": "LayoutModel",
      "state": {}
     },
     "4856e9d288594b43bc29a7e7517eeb7b": {
      "model_module": "@jupyter-widgets/base",
      "model_module_version": "1.2.0",
      "model_name": "LayoutModel",
      "state": {}
     },
     "486ba12d54964e59ad10e704b9a5e6e0": {
      "model_module": "@jupyter-widgets/controls",
      "model_module_version": "1.5.0",
      "model_name": "ProgressStyleModel",
      "state": {
       "description_width": ""
      }
     },
     "4b3c9df1c285476c9f28945914fe3a3a": {
      "model_module": "@jupyter-widgets/base",
      "model_module_version": "1.2.0",
      "model_name": "LayoutModel",
      "state": {}
     },
     "4dd096c87d464fc7ac805038040ccda0": {
      "model_module": "@jupyter-widgets/base",
      "model_module_version": "1.2.0",
      "model_name": "LayoutModel",
      "state": {}
     },
     "4e12224d89844998b81da8ae99da8ade": {
      "model_module": "@jupyter-widgets/base",
      "model_module_version": "1.2.0",
      "model_name": "LayoutModel",
      "state": {}
     },
     "4fc4587371a547edbec67ec91b11aaf7": {
      "model_module": "@jupyter-widgets/controls",
      "model_module_version": "1.5.0",
      "model_name": "ProgressStyleModel",
      "state": {
       "description_width": ""
      }
     },
     "504beda2a74545e1944ecb005a52677e": {
      "model_module": "@jupyter-widgets/base",
      "model_module_version": "1.2.0",
      "model_name": "LayoutModel",
      "state": {}
     },
     "5107a6d446d743939830ed897d8563d3": {
      "model_module": "@jupyter-widgets/controls",
      "model_module_version": "1.5.0",
      "model_name": "HTMLModel",
      "state": {
       "layout": "IPY_MODEL_3cd2f306f94f4706b5950cc14195f41d",
       "style": "IPY_MODEL_21ba902ca75b443aad29a7df7ea4e2bb",
       "value": "Epoch 6, Batch: 27046, Loss: 0.0067: 100%"
      }
     },
     "5171248b187345fc95c84a0e86397dd1": {
      "model_module": "@jupyter-widgets/base",
      "model_module_version": "1.2.0",
      "model_name": "LayoutModel",
      "state": {}
     },
     "52d7e7450ef446979d91f2564dfc884d": {
      "model_module": "@jupyter-widgets/base",
      "model_module_version": "1.2.0",
      "model_name": "LayoutModel",
      "state": {}
     },
     "538ed1ffe82d4e57a75cb921b495ecf9": {
      "model_module": "@jupyter-widgets/controls",
      "model_module_version": "1.5.0",
      "model_name": "ProgressStyleModel",
      "state": {
       "description_width": ""
      }
     },
     "53f8ed40732a4c7bbb26a8e06398c65f": {
      "model_module": "@jupyter-widgets/base",
      "model_module_version": "1.2.0",
      "model_name": "LayoutModel",
      "state": {}
     },
     "5445cfc6c4664a4badbc9e99e881e3a4": {
      "model_module": "@jupyter-widgets/controls",
      "model_module_version": "1.5.0",
      "model_name": "DescriptionStyleModel",
      "state": {
       "description_width": ""
      }
     },
     "546c7cf9b2b64321aa77349b320cb7f0": {
      "model_module": "@jupyter-widgets/base",
      "model_module_version": "1.2.0",
      "model_name": "LayoutModel",
      "state": {}
     },
     "548c178045f94a6aaa428a63a50b8a6b": {
      "model_module": "@jupyter-widgets/controls",
      "model_module_version": "1.5.0",
      "model_name": "HTMLModel",
      "state": {
       "layout": "IPY_MODEL_80d3c15d9dd9484aa96080c12e93ca0d",
       "style": "IPY_MODEL_38d92a05785b40ad8ac5f443f24d566b",
       "value": " 27046/27046 [04:42&lt;00:00, 99.62it/s]"
      }
     },
     "554277be4b63470fa3ef86b5541c160b": {
      "model_module": "@jupyter-widgets/base",
      "model_module_version": "1.2.0",
      "model_name": "LayoutModel",
      "state": {}
     },
     "56abfc65af3f4cddbcdd05e4de4daae4": {
      "model_module": "@jupyter-widgets/base",
      "model_module_version": "1.2.0",
      "model_name": "LayoutModel",
      "state": {}
     },
     "5739adad62524e6c878f9b0225eb685b": {
      "model_module": "@jupyter-widgets/controls",
      "model_module_version": "1.5.0",
      "model_name": "HBoxModel",
      "state": {
       "children": [
        "IPY_MODEL_f09e2406993b4adb944d3872de3d4c3e",
        "IPY_MODEL_d13d50a62334413dac40366017cd8cda",
        "IPY_MODEL_37adbca83de741409ea48e383d45fbfd"
       ],
       "layout": "IPY_MODEL_bdafc104b6eb4ee3adbbba2905b9aa17"
      }
     },
     "5854fafd41e146e49430ed868ae813c9": {
      "model_module": "@jupyter-widgets/controls",
      "model_module_version": "1.5.0",
      "model_name": "HBoxModel",
      "state": {
       "children": [
        "IPY_MODEL_0d1fda80ad5042b68b8d1d7cba7b9683",
        "IPY_MODEL_24b5f87e294647028a29c85baf75e2db",
        "IPY_MODEL_d1cbdfd534ae40a28348a26f32a72b90"
       ],
       "layout": "IPY_MODEL_15535ae1e3954ffeab5db18e954fb58c"
      }
     },
     "5897d23c24994614a45493058ceee3a9": {
      "model_module": "@jupyter-widgets/controls",
      "model_module_version": "1.5.0",
      "model_name": "HTMLModel",
      "state": {
       "layout": "IPY_MODEL_b7f59fe402ed4eeba2ba265efb91e195",
       "style": "IPY_MODEL_5c669ce397654b43869881c777eba3a4",
       "value": " 27046/27046 [04:42&lt;00:00, 92.93it/s]"
      }
     },
     "5a2b58ab451c4930bc0eb42672848d08": {
      "model_module": "@jupyter-widgets/controls",
      "model_module_version": "1.5.0",
      "model_name": "FloatProgressModel",
      "state": {
       "bar_style": "success",
       "layout": "IPY_MODEL_f335ac7107e04b47abcca06da3d1f1e0",
       "max": 6762,
       "style": "IPY_MODEL_ecbc4b91403847a4a99fcb4fd4395031",
       "value": 6762
      }
     },
     "5b5fa2bac3a942b1adb776d05c0a2977": {
      "model_module": "@jupyter-widgets/controls",
      "model_module_version": "1.5.0",
      "model_name": "HTMLModel",
      "state": {
       "layout": "IPY_MODEL_cd4bd8d22b7f4b9aa4d03f6341978784",
       "style": "IPY_MODEL_62ba994cd77c414cb01435b386d969ea",
       "value": "Batch: 5614, Loss: 0.0007: 100%"
      }
     },
     "5c669ce397654b43869881c777eba3a4": {
      "model_module": "@jupyter-widgets/controls",
      "model_module_version": "1.5.0",
      "model_name": "DescriptionStyleModel",
      "state": {
       "description_width": ""
      }
     },
     "5cf379752e384130a5face4a417fa366": {
      "model_module": "@jupyter-widgets/controls",
      "model_module_version": "1.5.0",
      "model_name": "FloatProgressModel",
      "state": {
       "bar_style": "success",
       "layout": "IPY_MODEL_8fbae4da878c4848a0ff6a82bc7c7460",
       "max": 27046,
       "style": "IPY_MODEL_486ba12d54964e59ad10e704b9a5e6e0",
       "value": 27046
      }
     },
     "5d057c567fe74517b90d3765d0abed09": {
      "model_module": "@jupyter-widgets/controls",
      "model_module_version": "1.5.0",
      "model_name": "HTMLModel",
      "state": {
       "layout": "IPY_MODEL_45d69426578542ac84332591495a1b30",
       "style": "IPY_MODEL_fc40e021ecb642b5bff6508527538b21",
       "value": "Batch: 6762, Loss: 0.0004: 100%"
      }
     },
     "5daaa0546c484a848b438f1450ed83a5": {
      "model_module": "@jupyter-widgets/controls",
      "model_module_version": "1.5.0",
      "model_name": "HTMLModel",
      "state": {
       "layout": "IPY_MODEL_4856e9d288594b43bc29a7e7517eeb7b",
       "style": "IPY_MODEL_e0263fac916c4dd48ce761466b8528cb",
       "value": " 27046/27046 [04:42&lt;00:00, 90.30it/s]"
      }
     },
     "60488a237eba4dbe9412d5279b4e4b3f": {
      "model_module": "@jupyter-widgets/controls",
      "model_module_version": "1.5.0",
      "model_name": "FloatProgressModel",
      "state": {
       "bar_style": "success",
       "layout": "IPY_MODEL_6093858680684b89bd86c9d192a02914",
       "max": 27046,
       "style": "IPY_MODEL_6d34a19733cf44a3996efe53ec36599a",
       "value": 27046
      }
     },
     "6093858680684b89bd86c9d192a02914": {
      "model_module": "@jupyter-widgets/base",
      "model_module_version": "1.2.0",
      "model_name": "LayoutModel",
      "state": {}
     },
     "6263f13d63c146c6a8b2238165ab316b": {
      "model_module": "@jupyter-widgets/controls",
      "model_module_version": "1.5.0",
      "model_name": "HTMLModel",
      "state": {
       "layout": "IPY_MODEL_06bff77ad7284394897ff3ca4f3c2cf0",
       "style": "IPY_MODEL_236a7b439dcf48c39c0a0a90ab214da6",
       "value": " 27046/27046 [04:54&lt;00:00, 91.56it/s]"
      }
     },
     "628f9b82ab524570aabc56f9f504936e": {
      "model_module": "@jupyter-widgets/controls",
      "model_module_version": "1.5.0",
      "model_name": "HBoxModel",
      "state": {
       "children": [
        "IPY_MODEL_2718558479404919a498a14642bf38fb",
        "IPY_MODEL_36098d12029d43e6ab8286ebabeeb5be",
        "IPY_MODEL_a773ecb24d764b568b5a8f3e8ef5ede1"
       ],
       "layout": "IPY_MODEL_a00184f22b0a45d19de5ff9316f7a145"
      }
     },
     "62ba994cd77c414cb01435b386d969ea": {
      "model_module": "@jupyter-widgets/controls",
      "model_module_version": "1.5.0",
      "model_name": "DescriptionStyleModel",
      "state": {
       "description_width": ""
      }
     },
     "6373de969f1949b59251133a3439aac6": {
      "model_module": "@jupyter-widgets/controls",
      "model_module_version": "1.5.0",
      "model_name": "ProgressStyleModel",
      "state": {
       "description_width": ""
      }
     },
     "640ad11e54f94bbf88507620d4ad0836": {
      "model_module": "@jupyter-widgets/base",
      "model_module_version": "1.2.0",
      "model_name": "LayoutModel",
      "state": {}
     },
     "64c1dc64c2c149deae89fb3e02991678": {
      "model_module": "@jupyter-widgets/controls",
      "model_module_version": "1.5.0",
      "model_name": "ProgressStyleModel",
      "state": {
       "description_width": ""
      }
     },
     "653cec42c7e2436493cc7200608bd8ce": {
      "model_module": "@jupyter-widgets/base",
      "model_module_version": "1.2.0",
      "model_name": "LayoutModel",
      "state": {}
     },
     "663c702223af4a4596e6509225ab07ee": {
      "model_module": "@jupyter-widgets/base",
      "model_module_version": "1.2.0",
      "model_name": "LayoutModel",
      "state": {}
     },
     "664e5b4ad205426cbd20424a11cc98c9": {
      "model_module": "@jupyter-widgets/controls",
      "model_module_version": "1.5.0",
      "model_name": "HTMLModel",
      "state": {
       "layout": "IPY_MODEL_c5c310fc4405474caacb51fbe84c2e52",
       "style": "IPY_MODEL_874aed99383944fd985deb83d442ebf9",
       "value": " 6762/6762 [00:32&lt;00:00, 208.88it/s]"
      }
     },
     "66702b5efc9e40768a0a78fb168e0fd2": {
      "model_module": "@jupyter-widgets/base",
      "model_module_version": "1.2.0",
      "model_name": "LayoutModel",
      "state": {}
     },
     "67b4b6001cea4fce90cf10bca2dda5e2": {
      "model_module": "@jupyter-widgets/controls",
      "model_module_version": "1.5.0",
      "model_name": "DescriptionStyleModel",
      "state": {
       "description_width": ""
      }
     },
     "69273b6309d940659a0ff82275038d55": {
      "model_module": "@jupyter-widgets/base",
      "model_module_version": "1.2.0",
      "model_name": "LayoutModel",
      "state": {}
     },
     "698da10e8c714bda8f3342204adb0776": {
      "model_module": "@jupyter-widgets/controls",
      "model_module_version": "1.5.0",
      "model_name": "HTMLModel",
      "state": {
       "layout": "IPY_MODEL_a10f4e0f13f24e5f8b1de086366a9886",
       "style": "IPY_MODEL_07d17fc306c34de1a3d96419425f6712",
       "value": "Epoch 10, Batch: 27046, Loss: 0.0000: 100%"
      }
     },
     "6a64c9cdac034de89999f1914e85e6c1": {
      "model_module": "@jupyter-widgets/base",
      "model_module_version": "1.2.0",
      "model_name": "LayoutModel",
      "state": {}
     },
     "6b2d387f9ffa4746b1ded358e41dc0ac": {
      "model_module": "@jupyter-widgets/controls",
      "model_module_version": "1.5.0",
      "model_name": "DescriptionStyleModel",
      "state": {
       "description_width": ""
      }
     },
     "6c187ae0dbaa48c382690a89b3e9b84f": {
      "model_module": "@jupyter-widgets/base",
      "model_module_version": "1.2.0",
      "model_name": "LayoutModel",
      "state": {}
     },
     "6c6071a03bed4e8eafb1935886eb95c7": {
      "model_module": "@jupyter-widgets/controls",
      "model_module_version": "1.5.0",
      "model_name": "DescriptionStyleModel",
      "state": {
       "description_width": ""
      }
     },
     "6d0f7debf2874eee897cc808fd907224": {
      "model_module": "@jupyter-widgets/base",
      "model_module_version": "1.2.0",
      "model_name": "LayoutModel",
      "state": {}
     },
     "6d34a19733cf44a3996efe53ec36599a": {
      "model_module": "@jupyter-widgets/controls",
      "model_module_version": "1.5.0",
      "model_name": "ProgressStyleModel",
      "state": {
       "description_width": ""
      }
     },
     "6d8489acf899404b9d2b765347046853": {
      "model_module": "@jupyter-widgets/base",
      "model_module_version": "1.2.0",
      "model_name": "LayoutModel",
      "state": {}
     },
     "6dc0d6350cfe41bbb8b2d824b2f0e79a": {
      "model_module": "@jupyter-widgets/controls",
      "model_module_version": "1.5.0",
      "model_name": "DescriptionStyleModel",
      "state": {
       "description_width": ""
      }
     },
     "6e9b720f24694c6f9154ef30996a2932": {
      "model_module": "@jupyter-widgets/controls",
      "model_module_version": "1.5.0",
      "model_name": "HBoxModel",
      "state": {
       "children": [
        "IPY_MODEL_698da10e8c714bda8f3342204adb0776",
        "IPY_MODEL_f8a17e234c65450489aada739f63e1bd",
        "IPY_MODEL_5daaa0546c484a848b438f1450ed83a5"
       ],
       "layout": "IPY_MODEL_9bf78ecd98d84c749c427b7218e21029"
      }
     },
     "6ff668dd625c4976862f6b7e4533c9b0": {
      "model_module": "@jupyter-widgets/controls",
      "model_module_version": "1.5.0",
      "model_name": "FloatProgressModel",
      "state": {
       "bar_style": "success",
       "layout": "IPY_MODEL_d67c32a8d9104c99a64dcb44a02658da",
       "max": 6762,
       "style": "IPY_MODEL_2eccf6b9c01c4d71af14be20454f5287",
       "value": 6762
      }
     },
     "7109b220ce544bc68a39d76eae87a276": {
      "model_module": "@jupyter-widgets/base",
      "model_module_version": "1.2.0",
      "model_name": "LayoutModel",
      "state": {}
     },
     "71da15f2abd246cb825735c86de12823": {
      "model_module": "@jupyter-widgets/controls",
      "model_module_version": "1.5.0",
      "model_name": "DescriptionStyleModel",
      "state": {
       "description_width": ""
      }
     },
     "724ef4887bfd46d2b9cb046962d991c1": {
      "model_module": "@jupyter-widgets/base",
      "model_module_version": "1.2.0",
      "model_name": "LayoutModel",
      "state": {}
     },
     "72fdcba51fbe4bd19406df773fdff710": {
      "model_module": "@jupyter-widgets/controls",
      "model_module_version": "1.5.0",
      "model_name": "DescriptionStyleModel",
      "state": {
       "description_width": ""
      }
     },
     "732620d9953a43b5b229e58b9d6f48f3": {
      "model_module": "@jupyter-widgets/base",
      "model_module_version": "1.2.0",
      "model_name": "LayoutModel",
      "state": {}
     },
     "741035842f7e4ab9820f3e24c37c284e": {
      "model_module": "@jupyter-widgets/controls",
      "model_module_version": "1.5.0",
      "model_name": "DescriptionStyleModel",
      "state": {
       "description_width": ""
      }
     },
     "75eda8d306e04b6eac877d79099c1b04": {
      "model_module": "@jupyter-widgets/controls",
      "model_module_version": "1.5.0",
      "model_name": "ProgressStyleModel",
      "state": {
       "description_width": ""
      }
     },
     "77630b3f46c143a0995d55d7cb65be8a": {
      "model_module": "@jupyter-widgets/base",
      "model_module_version": "1.2.0",
      "model_name": "LayoutModel",
      "state": {}
     },
     "77fe016e6d9d4cf5810c7880f6ff4e4d": {
      "model_module": "@jupyter-widgets/base",
      "model_module_version": "1.2.0",
      "model_name": "LayoutModel",
      "state": {}
     },
     "78d4a290b1f2456cb563977bb8cda11a": {
      "model_module": "@jupyter-widgets/base",
      "model_module_version": "1.2.0",
      "model_name": "LayoutModel",
      "state": {}
     },
     "7905cca42a144d4894815c8001a070b0": {
      "model_module": "@jupyter-widgets/controls",
      "model_module_version": "1.5.0",
      "model_name": "FloatProgressModel",
      "state": {
       "bar_style": "success",
       "layout": "IPY_MODEL_2995680b4f634d45a914e74ffcf65143",
       "max": 27046,
       "style": "IPY_MODEL_64c1dc64c2c149deae89fb3e02991678",
       "value": 27046
      }
     },
     "7b53edd27a7e4324acf55386c294a7cd": {
      "model_module": "@jupyter-widgets/controls",
      "model_module_version": "1.5.0",
      "model_name": "HTMLModel",
      "state": {
       "layout": "IPY_MODEL_6d0f7debf2874eee897cc808fd907224",
       "style": "IPY_MODEL_8f4ae2099bed4756a58cf49c7e57d57b",
       "value": "Batch: 6762, Loss: 0.0029: 100%"
      }
     },
     "7b9790d2483940af9b1167bb6f36c403": {
      "model_module": "@jupyter-widgets/base",
      "model_module_version": "1.2.0",
      "model_name": "LayoutModel",
      "state": {}
     },
     "7bfc3d858e4449428b4e12f1c5d5eb4d": {
      "model_module": "@jupyter-widgets/base",
      "model_module_version": "1.2.0",
      "model_name": "LayoutModel",
      "state": {}
     },
     "7c62d10da9d448869d410cb624608f6e": {
      "model_module": "@jupyter-widgets/controls",
      "model_module_version": "1.5.0",
      "model_name": "HBoxModel",
      "state": {
       "children": [
        "IPY_MODEL_5107a6d446d743939830ed897d8563d3",
        "IPY_MODEL_7905cca42a144d4894815c8001a070b0",
        "IPY_MODEL_18aae338a08540518bdca29345dca4f7"
       ],
       "layout": "IPY_MODEL_98c47b9e129b423784fcedd52ef2c8b3"
      }
     },
     "7cc9c91053df48af8babc8bb731acc98": {
      "model_module": "@jupyter-widgets/base",
      "model_module_version": "1.2.0",
      "model_name": "LayoutModel",
      "state": {}
     },
     "7d97b72d3a144e70a22e4249411a7f71": {
      "model_module": "@jupyter-widgets/controls",
      "model_module_version": "1.5.0",
      "model_name": "ProgressStyleModel",
      "state": {
       "description_width": ""
      }
     },
     "7dc772671d444dc29052e28acad8a73f": {
      "model_module": "@jupyter-widgets/controls",
      "model_module_version": "1.5.0",
      "model_name": "ProgressStyleModel",
      "state": {
       "description_width": ""
      }
     },
     "7e0f5103f5954d5da9fb2c2e779bebb8": {
      "model_module": "@jupyter-widgets/controls",
      "model_module_version": "1.5.0",
      "model_name": "HBoxModel",
      "state": {
       "children": [
        "IPY_MODEL_8f5b03e5831540569ce47064ad1e533b",
        "IPY_MODEL_5cf379752e384130a5face4a417fa366",
        "IPY_MODEL_1806e3d1dffb41ccb133615329cb3c6f"
       ],
       "layout": "IPY_MODEL_95533bc187414f319d1cdfaad056fe88"
      }
     },
     "7f2feaf986e542419674691ade0cb556": {
      "model_module": "@jupyter-widgets/base",
      "model_module_version": "1.2.0",
      "model_name": "LayoutModel",
      "state": {}
     },
     "807324f4f0494cf3b90b7cb81b830baa": {
      "model_module": "@jupyter-widgets/base",
      "model_module_version": "1.2.0",
      "model_name": "LayoutModel",
      "state": {}
     },
     "8085a623a3c44746b6c8bb2e697420f2": {
      "model_module": "@jupyter-widgets/controls",
      "model_module_version": "1.5.0",
      "model_name": "DescriptionStyleModel",
      "state": {
       "description_width": ""
      }
     },
     "80abe146d5b84e63860f24869804a01a": {
      "model_module": "@jupyter-widgets/base",
      "model_module_version": "1.2.0",
      "model_name": "LayoutModel",
      "state": {}
     },
     "80d3c15d9dd9484aa96080c12e93ca0d": {
      "model_module": "@jupyter-widgets/base",
      "model_module_version": "1.2.0",
      "model_name": "LayoutModel",
      "state": {}
     },
     "81951954d8a9487aa01070ad2424f635": {
      "model_module": "@jupyter-widgets/base",
      "model_module_version": "1.2.0",
      "model_name": "LayoutModel",
      "state": {}
     },
     "819b40721658474ba7a592c2a17f4e12": {
      "model_module": "@jupyter-widgets/base",
      "model_module_version": "1.2.0",
      "model_name": "LayoutModel",
      "state": {}
     },
     "81d856ca03ed4131bc4d73fbb1ff1dfc": {
      "model_module": "@jupyter-widgets/controls",
      "model_module_version": "1.5.0",
      "model_name": "HBoxModel",
      "state": {
       "children": [
        "IPY_MODEL_dfa26ba520004c86a4cdb88109012844",
        "IPY_MODEL_60488a237eba4dbe9412d5279b4e4b3f",
        "IPY_MODEL_be205073ec7f4fc5996c0f6f7f5da44f"
       ],
       "layout": "IPY_MODEL_81951954d8a9487aa01070ad2424f635"
      }
     },
     "81da6fbd03ef4b5bac9bf2af243709fa": {
      "model_module": "@jupyter-widgets/base",
      "model_module_version": "1.2.0",
      "model_name": "LayoutModel",
      "state": {}
     },
     "822407c6a9254428a9ed4dc237f196f3": {
      "model_module": "@jupyter-widgets/controls",
      "model_module_version": "1.5.0",
      "model_name": "ProgressStyleModel",
      "state": {
       "description_width": ""
      }
     },
     "8253eec8d7024cacaf2701a62ee7c939": {
      "model_module": "@jupyter-widgets/controls",
      "model_module_version": "1.5.0",
      "model_name": "DescriptionStyleModel",
      "state": {
       "description_width": ""
      }
     },
     "8321aa73d0604d1abb6de2db09f3f7a5": {
      "model_module": "@jupyter-widgets/controls",
      "model_module_version": "1.5.0",
      "model_name": "HTMLModel",
      "state": {
       "layout": "IPY_MODEL_b751e43df70b4307b08fbb125e937c99",
       "style": "IPY_MODEL_e1e093a77d3c4dd995c4f46eb6211459",
       "value": "Epoch 13, Batch: 27046, Loss: 0.0004: 100%"
      }
     },
     "83970e91ada74f45b8ae0604ee0516cd": {
      "model_module": "@jupyter-widgets/controls",
      "model_module_version": "1.5.0",
      "model_name": "DescriptionStyleModel",
      "state": {
       "description_width": ""
      }
     },
     "83c16316da5c42ed91ccdb6e8e7685a8": {
      "model_module": "@jupyter-widgets/base",
      "model_module_version": "1.2.0",
      "model_name": "LayoutModel",
      "state": {}
     },
     "870c66d0bbef4639b768d1bf97f0dbbb": {
      "model_module": "@jupyter-widgets/controls",
      "model_module_version": "1.5.0",
      "model_name": "HTMLModel",
      "state": {
       "layout": "IPY_MODEL_9c29caa669af42a79f8a675d1bc79c04",
       "style": "IPY_MODEL_8253eec8d7024cacaf2701a62ee7c939",
       "value": "Batch: 6762, Loss: 0.0060: 100%"
      }
     },
     "873f8c1ce2324edfa74bfe909bd18446": {
      "model_module": "@jupyter-widgets/controls",
      "model_module_version": "1.5.0",
      "model_name": "FloatProgressModel",
      "state": {
       "bar_style": "success",
       "layout": "IPY_MODEL_bd06b8e9fdf6457992699c83d2ee4f50",
       "max": 27046,
       "style": "IPY_MODEL_d3695151ce8b451a9f495051a563c6cc",
       "value": 27046
      }
     },
     "874aed99383944fd985deb83d442ebf9": {
      "model_module": "@jupyter-widgets/controls",
      "model_module_version": "1.5.0",
      "model_name": "DescriptionStyleModel",
      "state": {
       "description_width": ""
      }
     },
     "882266ab9e324a2aa2e34dc0d79cc420": {
      "model_module": "@jupyter-widgets/base",
      "model_module_version": "1.2.0",
      "model_name": "LayoutModel",
      "state": {}
     },
     "8833571d0feb4e49bf68594d5cea9b04": {
      "model_module": "@jupyter-widgets/base",
      "model_module_version": "1.2.0",
      "model_name": "LayoutModel",
      "state": {}
     },
     "898de9f12af040e89940a9fd1f7bb74d": {
      "model_module": "@jupyter-widgets/controls",
      "model_module_version": "1.5.0",
      "model_name": "HBoxModel",
      "state": {
       "children": [
        "IPY_MODEL_5d057c567fe74517b90d3765d0abed09",
        "IPY_MODEL_141b61896b6643dc9201f15bf339dac8",
        "IPY_MODEL_edaede1571c74d04adf448e9162c507f"
       ],
       "layout": "IPY_MODEL_7f2feaf986e542419674691ade0cb556"
      }
     },
     "8b3930fdaba440c6999b12a49a1de1fe": {
      "model_module": "@jupyter-widgets/controls",
      "model_module_version": "1.5.0",
      "model_name": "HBoxModel",
      "state": {
       "children": [
        "IPY_MODEL_5b5fa2bac3a942b1adb776d05c0a2977",
        "IPY_MODEL_bab12e6c3b8e48e8b0ce52949effe924",
        "IPY_MODEL_c166742c7ede4d7d98d6fad42bf2c9e4"
       ],
       "layout": "IPY_MODEL_aaedf302097c43c29bbfacf72eb8d1de"
      }
     },
     "8b76617481204712996c2d24307a712c": {
      "model_module": "@jupyter-widgets/controls",
      "model_module_version": "1.5.0",
      "model_name": "ProgressStyleModel",
      "state": {
       "description_width": ""
      }
     },
     "8c590335b9a443d79179a3683fe9c763": {
      "model_module": "@jupyter-widgets/base",
      "model_module_version": "1.2.0",
      "model_name": "LayoutModel",
      "state": {}
     },
     "8ca8a80602de4785b183c1c9990696bb": {
      "model_module": "@jupyter-widgets/controls",
      "model_module_version": "1.5.0",
      "model_name": "DescriptionStyleModel",
      "state": {
       "description_width": ""
      }
     },
     "8e6df1daca024495a28957578df2f971": {
      "model_module": "@jupyter-widgets/controls",
      "model_module_version": "1.5.0",
      "model_name": "DescriptionStyleModel",
      "state": {
       "description_width": ""
      }
     },
     "8e7cf27b98164b0084cb3c21e8ee7181": {
      "model_module": "@jupyter-widgets/controls",
      "model_module_version": "1.5.0",
      "model_name": "DescriptionStyleModel",
      "state": {
       "description_width": ""
      }
     },
     "8f4ae2099bed4756a58cf49c7e57d57b": {
      "model_module": "@jupyter-widgets/controls",
      "model_module_version": "1.5.0",
      "model_name": "DescriptionStyleModel",
      "state": {
       "description_width": ""
      }
     },
     "8f5b03e5831540569ce47064ad1e533b": {
      "model_module": "@jupyter-widgets/controls",
      "model_module_version": "1.5.0",
      "model_name": "HTMLModel",
      "state": {
       "layout": "IPY_MODEL_78d4a290b1f2456cb563977bb8cda11a",
       "style": "IPY_MODEL_331b089a9baf4e4983dc39de1375fc18",
       "value": "Epoch 12, Batch: 27046, Loss: 0.0010: 100%"
      }
     },
     "8f7fce001cf842e1a35754974e143cf1": {
      "model_module": "@jupyter-widgets/base",
      "model_module_version": "1.2.0",
      "model_name": "LayoutModel",
      "state": {}
     },
     "8fbae4da878c4848a0ff6a82bc7c7460": {
      "model_module": "@jupyter-widgets/base",
      "model_module_version": "1.2.0",
      "model_name": "LayoutModel",
      "state": {}
     },
     "91bcbbcd1200497fbd2a2a837b8719f6": {
      "model_module": "@jupyter-widgets/controls",
      "model_module_version": "1.5.0",
      "model_name": "HTMLModel",
      "state": {
       "layout": "IPY_MODEL_0fc7324451164089a415c7f12d48fde4",
       "style": "IPY_MODEL_47bd0e4eaff74493b8616322992ff60a",
       "value": "Batch: 5614, Loss: 0.0125: 100%"
      }
     },
     "92c19f1985d242ba80f12077453c1563": {
      "model_module": "@jupyter-widgets/controls",
      "model_module_version": "1.5.0",
      "model_name": "HBoxModel",
      "state": {
       "children": [
        "IPY_MODEL_016318ee0fc4476a953044bfbb6c7fa7",
        "IPY_MODEL_9baa5301507c4f659a589725d3895ae9",
        "IPY_MODEL_c3843786eb3e4f21aa5c6c8dffb8460d"
       ],
       "layout": "IPY_MODEL_1c39c750aea34530b9d29049e5e126ea"
      }
     },
     "937dcb5800dd42d7b1be61930a685adb": {
      "model_module": "@jupyter-widgets/controls",
      "model_module_version": "1.5.0",
      "model_name": "HTMLModel",
      "state": {
       "layout": "IPY_MODEL_0056e628b92b4d018ee8334c52c7e3ee",
       "style": "IPY_MODEL_8e6df1daca024495a28957578df2f971",
       "value": "Epoch 3, Batch: 27046, Loss: 0.0027: 100%"
      }
     },
     "94945ef29ed74b3ab1b40387827ccc7b": {
      "model_module": "@jupyter-widgets/controls",
      "model_module_version": "1.5.0",
      "model_name": "DescriptionStyleModel",
      "state": {
       "description_width": ""
      }
     },
     "94baa8e93c0d43d49533ccf885bbfac5": {
      "model_module": "@jupyter-widgets/base",
      "model_module_version": "1.2.0",
      "model_name": "LayoutModel",
      "state": {}
     },
     "95533bc187414f319d1cdfaad056fe88": {
      "model_module": "@jupyter-widgets/base",
      "model_module_version": "1.2.0",
      "model_name": "LayoutModel",
      "state": {}
     },
     "957258f84d3f4b2493a286b15dc91759": {
      "model_module": "@jupyter-widgets/base",
      "model_module_version": "1.2.0",
      "model_name": "LayoutModel",
      "state": {}
     },
     "98c47b9e129b423784fcedd52ef2c8b3": {
      "model_module": "@jupyter-widgets/base",
      "model_module_version": "1.2.0",
      "model_name": "LayoutModel",
      "state": {}
     },
     "9b161d2b345a47bb913395246123465d": {
      "model_module": "@jupyter-widgets/controls",
      "model_module_version": "1.5.0",
      "model_name": "HTMLModel",
      "state": {
       "layout": "IPY_MODEL_d969f0d10edc48519fc7199237729611",
       "style": "IPY_MODEL_8ca8a80602de4785b183c1c9990696bb",
       "value": "Epoch 7, Batch: 27046, Loss: 0.0078: 100%"
      }
     },
     "9b40675752d6400e82ebd715e98f0547": {
      "model_module": "@jupyter-widgets/controls",
      "model_module_version": "1.5.0",
      "model_name": "ProgressStyleModel",
      "state": {
       "description_width": ""
      }
     },
     "9b8594038f6a463aacb14f533d296f34": {
      "model_module": "@jupyter-widgets/controls",
      "model_module_version": "1.5.0",
      "model_name": "HBoxModel",
      "state": {
       "children": [
        "IPY_MODEL_4674a6f8a30840308a9248bb9ec67f40",
        "IPY_MODEL_d6b0cef0e6ef45fda85756f0add5e057",
        "IPY_MODEL_e13a0fd9ace84af883f2e872df958596"
       ],
       "layout": "IPY_MODEL_1a0c63d33fe8424a994c36b45e18f4ff"
      }
     },
     "9baa5301507c4f659a589725d3895ae9": {
      "model_module": "@jupyter-widgets/controls",
      "model_module_version": "1.5.0",
      "model_name": "FloatProgressModel",
      "state": {
       "bar_style": "success",
       "layout": "IPY_MODEL_e67c13a73e5f4ddd9945d592be84f3e5",
       "max": 6762,
       "style": "IPY_MODEL_822407c6a9254428a9ed4dc237f196f3",
       "value": 6762
      }
     },
     "9be1f3f1a7944880926b5d83728f8d3c": {
      "model_module": "@jupyter-widgets/controls",
      "model_module_version": "1.5.0",
      "model_name": "DescriptionStyleModel",
      "state": {
       "description_width": ""
      }
     },
     "9bf78ecd98d84c749c427b7218e21029": {
      "model_module": "@jupyter-widgets/base",
      "model_module_version": "1.2.0",
      "model_name": "LayoutModel",
      "state": {}
     },
     "9c29caa669af42a79f8a675d1bc79c04": {
      "model_module": "@jupyter-widgets/base",
      "model_module_version": "1.2.0",
      "model_name": "LayoutModel",
      "state": {}
     },
     "9c78139994db4497be8cc89a526a6212": {
      "model_module": "@jupyter-widgets/controls",
      "model_module_version": "1.5.0",
      "model_name": "DescriptionStyleModel",
      "state": {
       "description_width": ""
      }
     },
     "9cfc3bcdea3b4ebf8d494abb94bcd76d": {
      "model_module": "@jupyter-widgets/controls",
      "model_module_version": "1.5.0",
      "model_name": "DescriptionStyleModel",
      "state": {
       "description_width": ""
      }
     },
     "9dbed38e77d9431bb61b6aa5fde50511": {
      "model_module": "@jupyter-widgets/controls",
      "model_module_version": "1.5.0",
      "model_name": "DescriptionStyleModel",
      "state": {
       "description_width": ""
      }
     },
     "9f945b26684c4085901089f2bacdb0b8": {
      "model_module": "@jupyter-widgets/base",
      "model_module_version": "1.2.0",
      "model_name": "LayoutModel",
      "state": {}
     },
     "9fae7fee9e63420e8c17a5de457ad65a": {
      "model_module": "@jupyter-widgets/base",
      "model_module_version": "1.2.0",
      "model_name": "LayoutModel",
      "state": {}
     },
     "9fd6084899324c70a948324cf36fbae2": {
      "model_module": "@jupyter-widgets/controls",
      "model_module_version": "1.5.0",
      "model_name": "FloatProgressModel",
      "state": {
       "bar_style": "success",
       "layout": "IPY_MODEL_663c702223af4a4596e6509225ab07ee",
       "max": 6762,
       "style": "IPY_MODEL_47d43c01f89f4872aed1d2314365ba72",
       "value": 6762
      }
     },
     "a00184f22b0a45d19de5ff9316f7a145": {
      "model_module": "@jupyter-widgets/base",
      "model_module_version": "1.2.0",
      "model_name": "LayoutModel",
      "state": {}
     },
     "a0318574cbd249549131e0b93002ef4c": {
      "model_module": "@jupyter-widgets/base",
      "model_module_version": "1.2.0",
      "model_name": "LayoutModel",
      "state": {}
     },
     "a10f4e0f13f24e5f8b1de086366a9886": {
      "model_module": "@jupyter-widgets/base",
      "model_module_version": "1.2.0",
      "model_name": "LayoutModel",
      "state": {}
     },
     "a123a6dacdc04643b1e92409a9ad65b3": {
      "model_module": "@jupyter-widgets/controls",
      "model_module_version": "1.5.0",
      "model_name": "HBoxModel",
      "state": {
       "children": [
        "IPY_MODEL_1a823e1b2178417eb018c6034ee43536",
        "IPY_MODEL_f24aed16a4f24e6f81648d74251e29f0",
        "IPY_MODEL_d219c1ae4d8c4631ab59dea0a6aaf805"
       ],
       "layout": "IPY_MODEL_162602f2877448b6a3877c658a98dfb8"
      }
     },
     "a1b437d8c4874606bdec8713d4a0021c": {
      "model_module": "@jupyter-widgets/base",
      "model_module_version": "1.2.0",
      "model_name": "LayoutModel",
      "state": {}
     },
     "a352fa1c10bf475aa88383faed8280b5": {
      "model_module": "@jupyter-widgets/controls",
      "model_module_version": "1.5.0",
      "model_name": "HBoxModel",
      "state": {
       "children": [
        "IPY_MODEL_91bcbbcd1200497fbd2a2a837b8719f6",
        "IPY_MODEL_0816cf2a60cc45989028ddbff1eb5e03",
        "IPY_MODEL_cee0d98743cf45aa958eb0049502317a"
       ],
       "layout": "IPY_MODEL_94baa8e93c0d43d49533ccf885bbfac5"
      }
     },
     "a41396c8733f4331b5ebc27f77a192f6": {
      "model_module": "@jupyter-widgets/controls",
      "model_module_version": "1.5.0",
      "model_name": "DescriptionStyleModel",
      "state": {
       "description_width": ""
      }
     },
     "a42e3339106f440f9d7cb7c5ab17669a": {
      "model_module": "@jupyter-widgets/controls",
      "model_module_version": "1.5.0",
      "model_name": "FloatProgressModel",
      "state": {
       "bar_style": "success",
       "layout": "IPY_MODEL_52d7e7450ef446979d91f2564dfc884d",
       "max": 6762,
       "style": "IPY_MODEL_f9adcc44ea30465f926daf4257489edd",
       "value": 6762
      }
     },
     "a6f7cddde3204c29b6edaf73cc8757ea": {
      "model_module": "@jupyter-widgets/controls",
      "model_module_version": "1.5.0",
      "model_name": "HBoxModel",
      "state": {
       "children": [
        "IPY_MODEL_9b161d2b345a47bb913395246123465d",
        "IPY_MODEL_1d8635128849480a9be849a2581ef944",
        "IPY_MODEL_2f23ca189ac349e4a9825def5acb5969"
       ],
       "layout": "IPY_MODEL_d8598eef67124d54919e7f3eae5e5887"
      }
     },
     "a773ecb24d764b568b5a8f3e8ef5ede1": {
      "model_module": "@jupyter-widgets/controls",
      "model_module_version": "1.5.0",
      "model_name": "HTMLModel",
      "state": {
       "layout": "IPY_MODEL_4dd096c87d464fc7ac805038040ccda0",
       "style": "IPY_MODEL_9dbed38e77d9431bb61b6aa5fde50511",
       "value": " 27046/27046 [04:38&lt;00:00, 97.61it/s]"
      }
     },
     "aaedf302097c43c29bbfacf72eb8d1de": {
      "model_module": "@jupyter-widgets/base",
      "model_module_version": "1.2.0",
      "model_name": "LayoutModel",
      "state": {}
     },
     "ae17b2035cdb48138cfab7bafcd72c2b": {
      "model_module": "@jupyter-widgets/base",
      "model_module_version": "1.2.0",
      "model_name": "LayoutModel",
      "state": {}
     },
     "af2d47879735477d815154331713e6f9": {
      "model_module": "@jupyter-widgets/controls",
      "model_module_version": "1.5.0",
      "model_name": "HTMLModel",
      "state": {
       "layout": "IPY_MODEL_d0632a18ddeb40569f11554c687b3c19",
       "style": "IPY_MODEL_1fead84f6e584012923200be902c2e1a",
       "value": "Epoch 14, Batch: 27046, Loss: 0.0004: 100%"
      }
     },
     "b136bfe0b57d4436a8350807b86c32b0": {
      "model_module": "@jupyter-widgets/base",
      "model_module_version": "1.2.0",
      "model_name": "LayoutModel",
      "state": {}
     },
     "b257da7834734be3a7b472e5e42bfa3b": {
      "model_module": "@jupyter-widgets/base",
      "model_module_version": "1.2.0",
      "model_name": "LayoutModel",
      "state": {}
     },
     "b3b4ffcc80064bfe881c85edb8b6ac62": {
      "model_module": "@jupyter-widgets/controls",
      "model_module_version": "1.5.0",
      "model_name": "HBoxModel",
      "state": {
       "children": [
        "IPY_MODEL_170c9fa3feea4e3bac2d2c87b1615ede",
        "IPY_MODEL_262e5b5818f94c958e37cedbc3bb6cc3",
        "IPY_MODEL_f0bb77582467424589d2ca8aed4d278c"
       ],
       "layout": "IPY_MODEL_7cc9c91053df48af8babc8bb731acc98"
      }
     },
     "b4ed8a7f9922429db2826c8777a59a8a": {
      "model_module": "@jupyter-widgets/controls",
      "model_module_version": "1.5.0",
      "model_name": "HTMLModel",
      "state": {
       "layout": "IPY_MODEL_ae17b2035cdb48138cfab7bafcd72c2b",
       "style": "IPY_MODEL_9c78139994db4497be8cc89a526a6212",
       "value": "Batch: 6762, Loss: 0.0019: 100%"
      }
     },
     "b5aa1a4dc3084b8181f15909ec431468": {
      "model_module": "@jupyter-widgets/controls",
      "model_module_version": "1.5.0",
      "model_name": "HBoxModel",
      "state": {
       "children": [
        "IPY_MODEL_f9047795f5184646893c8aee6e2ab312",
        "IPY_MODEL_2dbb5e343db34413843c39477585b8b3",
        "IPY_MODEL_5897d23c24994614a45493058ceee3a9"
       ],
       "layout": "IPY_MODEL_1aea81149bda4019a190dc521777691b"
      }
     },
     "b5cb3fcf6ae04948a7f888dc3a8f16f6": {
      "model_module": "@jupyter-widgets/base",
      "model_module_version": "1.2.0",
      "model_name": "LayoutModel",
      "state": {}
     },
     "b751e43df70b4307b08fbb125e937c99": {
      "model_module": "@jupyter-widgets/base",
      "model_module_version": "1.2.0",
      "model_name": "LayoutModel",
      "state": {}
     },
     "b7f59fe402ed4eeba2ba265efb91e195": {
      "model_module": "@jupyter-widgets/base",
      "model_module_version": "1.2.0",
      "model_name": "LayoutModel",
      "state": {}
     },
     "b92b7f96d04e470aad25e0af90d65e16": {
      "model_module": "@jupyter-widgets/base",
      "model_module_version": "1.2.0",
      "model_name": "LayoutModel",
      "state": {}
     },
     "ba85cd65f7994b7d8b0f96b428146f1c": {
      "model_module": "@jupyter-widgets/controls",
      "model_module_version": "1.5.0",
      "model_name": "HBoxModel",
      "state": {
       "children": [
        "IPY_MODEL_0ed37858b0074e8bba8873dbc16e4f28",
        "IPY_MODEL_244f02841038468b9ac2f0e3733d5de9",
        "IPY_MODEL_d534c0ac187b40669ab79c18a4992518"
       ],
       "layout": "IPY_MODEL_04eed76fd3a74316ade900cef9230733"
      }
     },
     "bab12e6c3b8e48e8b0ce52949effe924": {
      "model_module": "@jupyter-widgets/controls",
      "model_module_version": "1.5.0",
      "model_name": "FloatProgressModel",
      "state": {
       "bar_style": "success",
       "layout": "IPY_MODEL_f901548a8dd245fa8f51d8f1e95d17bf",
       "max": 5614,
       "style": "IPY_MODEL_38cc938b579b4b4ca80a694028affc15",
       "value": 5614
      }
     },
     "bcb99ccf5ed0428b9ddd26e02a5a3e65": {
      "model_module": "@jupyter-widgets/controls",
      "model_module_version": "1.5.0",
      "model_name": "ProgressStyleModel",
      "state": {
       "description_width": ""
      }
     },
     "bd06b8e9fdf6457992699c83d2ee4f50": {
      "model_module": "@jupyter-widgets/base",
      "model_module_version": "1.2.0",
      "model_name": "LayoutModel",
      "state": {}
     },
     "bd66f04c57284486ba0af85a62483abf": {
      "model_module": "@jupyter-widgets/controls",
      "model_module_version": "1.5.0",
      "model_name": "FloatProgressModel",
      "state": {
       "bar_style": "success",
       "layout": "IPY_MODEL_ef0ff53500c34e2b9febf913cb78bcfe",
       "max": 27046,
       "style": "IPY_MODEL_6373de969f1949b59251133a3439aac6",
       "value": 27046
      }
     },
     "bd7fb692559b46238dcedd70d53ba3d5": {
      "model_module": "@jupyter-widgets/controls",
      "model_module_version": "1.5.0",
      "model_name": "HTMLModel",
      "state": {
       "layout": "IPY_MODEL_d3a5cef41ea744dea5ee49f1bbe517f9",
       "style": "IPY_MODEL_c14800bf274c418badc9b6102d8157c7",
       "value": "Epoch 4, Batch: 27046, Loss: 0.0018: 100%"
      }
     },
     "bdafc104b6eb4ee3adbbba2905b9aa17": {
      "model_module": "@jupyter-widgets/base",
      "model_module_version": "1.2.0",
      "model_name": "LayoutModel",
      "state": {}
     },
     "be205073ec7f4fc5996c0f6f7f5da44f": {
      "model_module": "@jupyter-widgets/controls",
      "model_module_version": "1.5.0",
      "model_name": "HTMLModel",
      "state": {
       "layout": "IPY_MODEL_504beda2a74545e1944ecb005a52677e",
       "style": "IPY_MODEL_15ab6f8c601a4042b85bcf12f48efddb",
       "value": " 27046/27046 [04:50&lt;00:00, 95.19it/s]"
      }
     },
     "be883daabb274acf9ffc0355477b9458": {
      "model_module": "@jupyter-widgets/controls",
      "model_module_version": "1.5.0",
      "model_name": "HBoxModel",
      "state": {
       "children": [
        "IPY_MODEL_22b17d26d65f42b8accfed26356d9bd4",
        "IPY_MODEL_873f8c1ce2324edfa74bfe909bd18446",
        "IPY_MODEL_19a7ceb1b70c4182bdb88cc38f2030cc"
       ],
       "layout": "IPY_MODEL_ea4742755be64eecb21cae928c95bb68"
      }
     },
     "bf9bd3d0f8d24cd9be77911d2d47f205": {
      "model_module": "@jupyter-widgets/base",
      "model_module_version": "1.2.0",
      "model_name": "LayoutModel",
      "state": {}
     },
     "bfdcbdb2294a4d9bbeb876d047a2e77a": {
      "model_module": "@jupyter-widgets/controls",
      "model_module_version": "1.5.0",
      "model_name": "HBoxModel",
      "state": {
       "children": [
        "IPY_MODEL_2e213236c10941da920b8e0757e85cec",
        "IPY_MODEL_391e8415866845d884442812c9f7681c",
        "IPY_MODEL_f2742c3c559f44839b4218ab38335786"
       ],
       "layout": "IPY_MODEL_482fa7bb51d8454ba1357b03e1c98200"
      }
     },
     "c0f4356dab17471aa443c03c22ba5ad5": {
      "model_module": "@jupyter-widgets/base",
      "model_module_version": "1.2.0",
      "model_name": "LayoutModel",
      "state": {}
     },
     "c14800bf274c418badc9b6102d8157c7": {
      "model_module": "@jupyter-widgets/controls",
      "model_module_version": "1.5.0",
      "model_name": "DescriptionStyleModel",
      "state": {
       "description_width": ""
      }
     },
     "c166742c7ede4d7d98d6fad42bf2c9e4": {
      "model_module": "@jupyter-widgets/controls",
      "model_module_version": "1.5.0",
      "model_name": "HTMLModel",
      "state": {
       "layout": "IPY_MODEL_473953d6159b42f2acf05d71644e3889",
       "style": "IPY_MODEL_9be1f3f1a7944880926b5d83728f8d3c",
       "value": " 5614/5614 [00:32&lt;00:00, 173.83it/s]"
      }
     },
     "c1e7c495b52440d68d1208bbcf8d44c1": {
      "model_module": "@jupyter-widgets/controls",
      "model_module_version": "1.5.0",
      "model_name": "DescriptionStyleModel",
      "state": {
       "description_width": ""
      }
     },
     "c3843786eb3e4f21aa5c6c8dffb8460d": {
      "model_module": "@jupyter-widgets/controls",
      "model_module_version": "1.5.0",
      "model_name": "HTMLModel",
      "state": {
       "layout": "IPY_MODEL_d2c2b8dde4ea493fbfdd80ee783d7c15",
       "style": "IPY_MODEL_0899123713184d02a9167c557b657d9a",
       "value": " 6762/6762 [00:34&lt;00:00, 209.43it/s]"
      }
     },
     "c5c310fc4405474caacb51fbe84c2e52": {
      "model_module": "@jupyter-widgets/base",
      "model_module_version": "1.2.0",
      "model_name": "LayoutModel",
      "state": {}
     },
     "c5ed00dc113a450589992911583cb28e": {
      "model_module": "@jupyter-widgets/controls",
      "model_module_version": "1.5.0",
      "model_name": "ProgressStyleModel",
      "state": {
       "description_width": ""
      }
     },
     "c650ec751751459b8e3c51dc1641783e": {
      "model_module": "@jupyter-widgets/controls",
      "model_module_version": "1.5.0",
      "model_name": "HBoxModel",
      "state": {
       "children": [
        "IPY_MODEL_d335e08059594e62b757981787ba1085",
        "IPY_MODEL_5a2b58ab451c4930bc0eb42672848d08",
        "IPY_MODEL_ec1348f320bc4387892b4659bb2eccaa"
       ],
       "layout": "IPY_MODEL_882266ab9e324a2aa2e34dc0d79cc420"
      }
     },
     "c77faea23f9646da99ee89d3cf088f7e": {
      "model_module": "@jupyter-widgets/controls",
      "model_module_version": "1.5.0",
      "model_name": "ProgressStyleModel",
      "state": {
       "description_width": ""
      }
     },
     "c802bb24162f43bbb47cfc0c5aba9e85": {
      "model_module": "@jupyter-widgets/base",
      "model_module_version": "1.2.0",
      "model_name": "LayoutModel",
      "state": {}
     },
     "c86460ddcd1349fb9afab073d8bf01db": {
      "model_module": "@jupyter-widgets/controls",
      "model_module_version": "1.5.0",
      "model_name": "HBoxModel",
      "state": {
       "children": [
        "IPY_MODEL_144dfb82960e4cbaa748bd0342728b5f",
        "IPY_MODEL_f827aeb02d394d0d81e7225f85fc649b",
        "IPY_MODEL_1345460e65d546aeb127dfb6b83d67ab"
       ],
       "layout": "IPY_MODEL_77fe016e6d9d4cf5810c7880f6ff4e4d"
      }
     },
     "cd4bd8d22b7f4b9aa4d03f6341978784": {
      "model_module": "@jupyter-widgets/base",
      "model_module_version": "1.2.0",
      "model_name": "LayoutModel",
      "state": {}
     },
     "cd9f2901ae3445e68b894b254ca67255": {
      "model_module": "@jupyter-widgets/controls",
      "model_module_version": "1.5.0",
      "model_name": "DescriptionStyleModel",
      "state": {
       "description_width": ""
      }
     },
     "cee0d98743cf45aa958eb0049502317a": {
      "model_module": "@jupyter-widgets/controls",
      "model_module_version": "1.5.0",
      "model_name": "HTMLModel",
      "state": {
       "layout": "IPY_MODEL_33ec1464d99d460c84fa844c08ec2546",
       "style": "IPY_MODEL_0f69800810b64db18a819984ef4065b4",
       "value": " 5614/5614 [00:33&lt;00:00, 170.30it/s]"
      }
     },
     "d0632a18ddeb40569f11554c687b3c19": {
      "model_module": "@jupyter-widgets/base",
      "model_module_version": "1.2.0",
      "model_name": "LayoutModel",
      "state": {}
     },
     "d0a4fa34e98a49d8892de9addeb24ebd": {
      "model_module": "@jupyter-widgets/base",
      "model_module_version": "1.2.0",
      "model_name": "LayoutModel",
      "state": {}
     },
     "d0b07b14ebf34e5a85187e09ad57bc66": {
      "model_module": "@jupyter-widgets/controls",
      "model_module_version": "1.5.0",
      "model_name": "HTMLModel",
      "state": {
       "layout": "IPY_MODEL_c802bb24162f43bbb47cfc0c5aba9e85",
       "style": "IPY_MODEL_83970e91ada74f45b8ae0604ee0516cd",
       "value": " 27046/27046 [04:41&lt;00:00, 97.91it/s]"
      }
     },
     "d13d50a62334413dac40366017cd8cda": {
      "model_module": "@jupyter-widgets/controls",
      "model_module_version": "1.5.0",
      "model_name": "FloatProgressModel",
      "state": {
       "bar_style": "success",
       "layout": "IPY_MODEL_40abd9e062ce47d3984c1ecb85c6a72d",
       "max": 6762,
       "style": "IPY_MODEL_1ad9f3b3d05c4eb184d8b59f214c2020",
       "value": 6762
      }
     },
     "d1cbdfd534ae40a28348a26f32a72b90": {
      "model_module": "@jupyter-widgets/controls",
      "model_module_version": "1.5.0",
      "model_name": "HTMLModel",
      "state": {
       "layout": "IPY_MODEL_957258f84d3f4b2493a286b15dc91759",
       "style": "IPY_MODEL_94945ef29ed74b3ab1b40387827ccc7b",
       "value": " 6762/6762 [00:31&lt;00:00, 216.03it/s]"
      }
     },
     "d219c1ae4d8c4631ab59dea0a6aaf805": {
      "model_module": "@jupyter-widgets/controls",
      "model_module_version": "1.5.0",
      "model_name": "HTMLModel",
      "state": {
       "layout": "IPY_MODEL_653cec42c7e2436493cc7200608bd8ce",
       "style": "IPY_MODEL_6c6071a03bed4e8eafb1935886eb95c7",
       "value": " 6762/6762 [00:33&lt;00:00, 214.15it/s]"
      }
     },
     "d28b4b646535448ab75ee36cf2bd9fd2": {
      "model_module": "@jupyter-widgets/controls",
      "model_module_version": "1.5.0",
      "model_name": "HTMLModel",
      "state": {
       "layout": "IPY_MODEL_3f9f53faa123483bbc44f623eb79f0d9",
       "style": "IPY_MODEL_a41396c8733f4331b5ebc27f77a192f6",
       "value": " 6762/6762 [00:32&lt;00:00, 206.34it/s]"
      }
     },
     "d2c2b8dde4ea493fbfdd80ee783d7c15": {
      "model_module": "@jupyter-widgets/base",
      "model_module_version": "1.2.0",
      "model_name": "LayoutModel",
      "state": {}
     },
     "d335e08059594e62b757981787ba1085": {
      "model_module": "@jupyter-widgets/controls",
      "model_module_version": "1.5.0",
      "model_name": "HTMLModel",
      "state": {
       "layout": "IPY_MODEL_0d68827d7a8c4a95a566da8ef59b0225",
       "style": "IPY_MODEL_e481fd42769f4ae1bf963a0e5a14cfc0",
       "value": "Batch: 6762, Loss: 0.0112: 100%"
      }
     },
     "d3470a9e4d114720baa7194fc00b4b20": {
      "model_module": "@jupyter-widgets/controls",
      "model_module_version": "1.5.0",
      "model_name": "HBoxModel",
      "state": {
       "children": [
        "IPY_MODEL_0c932e3f51524c64b67625e39728b024",
        "IPY_MODEL_6ff668dd625c4976862f6b7e4533c9b0",
        "IPY_MODEL_d28b4b646535448ab75ee36cf2bd9fd2"
       ],
       "layout": "IPY_MODEL_807324f4f0494cf3b90b7cb81b830baa"
      }
     },
     "d3695151ce8b451a9f495051a563c6cc": {
      "model_module": "@jupyter-widgets/controls",
      "model_module_version": "1.5.0",
      "model_name": "ProgressStyleModel",
      "state": {
       "description_width": ""
      }
     },
     "d3a5cef41ea744dea5ee49f1bbe517f9": {
      "model_module": "@jupyter-widgets/base",
      "model_module_version": "1.2.0",
      "model_name": "LayoutModel",
      "state": {}
     },
     "d512ee4eecb7416884e30146924588da": {
      "model_module": "@jupyter-widgets/base",
      "model_module_version": "1.2.0",
      "model_name": "LayoutModel",
      "state": {}
     },
     "d51d81cd85904c4ebef6890516544435": {
      "model_module": "@jupyter-widgets/controls",
      "model_module_version": "1.5.0",
      "model_name": "DescriptionStyleModel",
      "state": {
       "description_width": ""
      }
     },
     "d534c0ac187b40669ab79c18a4992518": {
      "model_module": "@jupyter-widgets/controls",
      "model_module_version": "1.5.0",
      "model_name": "HTMLModel",
      "state": {
       "layout": "IPY_MODEL_81da6fbd03ef4b5bac9bf2af243709fa",
       "style": "IPY_MODEL_d51d81cd85904c4ebef6890516544435",
       "value": " 6762/6762 [00:33&lt;00:00, 207.61it/s]"
      }
     },
     "d5c9c6a130d7465c856780da775d0e82": {
      "model_module": "@jupyter-widgets/base",
      "model_module_version": "1.2.0",
      "model_name": "LayoutModel",
      "state": {}
     },
     "d66d84b2d5d249d9ba7082e5a9a34856": {
      "model_module": "@jupyter-widgets/controls",
      "model_module_version": "1.5.0",
      "model_name": "FloatProgressModel",
      "state": {
       "bar_style": "success",
       "layout": "IPY_MODEL_b257da7834734be3a7b472e5e42bfa3b",
       "max": 27046,
       "style": "IPY_MODEL_c5ed00dc113a450589992911583cb28e",
       "value": 27046
      }
     },
     "d67c32a8d9104c99a64dcb44a02658da": {
      "model_module": "@jupyter-widgets/base",
      "model_module_version": "1.2.0",
      "model_name": "LayoutModel",
      "state": {}
     },
     "d6b0cef0e6ef45fda85756f0add5e057": {
      "model_module": "@jupyter-widgets/controls",
      "model_module_version": "1.5.0",
      "model_name": "FloatProgressModel",
      "state": {
       "bar_style": "success",
       "layout": "IPY_MODEL_194eab176edc4064beab32281581c11b",
       "max": 6762,
       "style": "IPY_MODEL_43e5e347bde64f3c94c5b84340b16df3",
       "value": 6762
      }
     },
     "d6f135b2e7f144a1b1d756a8d235e66c": {
      "model_module": "@jupyter-widgets/controls",
      "model_module_version": "1.5.0",
      "model_name": "HBoxModel",
      "state": {
       "children": [
        "IPY_MODEL_f4c93c6cef3f4055aece974bf7e76ff3",
        "IPY_MODEL_fb158c1c30a946b3b6e6ff0c8f4f5048",
        "IPY_MODEL_e759dd8c317f4b92adb59b900eb2b633"
       ],
       "layout": "IPY_MODEL_079caced33f54d5cb42ef758cdb9ff67"
      }
     },
     "d7be4673e5c64f8db35b535ec057dfe1": {
      "model_module": "@jupyter-widgets/base",
      "model_module_version": "1.2.0",
      "model_name": "LayoutModel",
      "state": {}
     },
     "d8598eef67124d54919e7f3eae5e5887": {
      "model_module": "@jupyter-widgets/base",
      "model_module_version": "1.2.0",
      "model_name": "LayoutModel",
      "state": {}
     },
     "d969f0d10edc48519fc7199237729611": {
      "model_module": "@jupyter-widgets/base",
      "model_module_version": "1.2.0",
      "model_name": "LayoutModel",
      "state": {}
     },
     "dd7a52d6399a4216808a5a44c0ebffe8": {
      "model_module": "@jupyter-widgets/controls",
      "model_module_version": "1.5.0",
      "model_name": "HTMLModel",
      "state": {
       "layout": "IPY_MODEL_fc20aeb181eb4a8b97ff6b29683c1559",
       "style": "IPY_MODEL_fbb893f40add47a686720f8921d80cd3",
       "value": " 27046/27046 [04:46&lt;00:00, 93.82it/s]"
      }
     },
     "dea54b5641274fef996892df024a925c": {
      "model_module": "@jupyter-widgets/controls",
      "model_module_version": "1.5.0",
      "model_name": "DescriptionStyleModel",
      "state": {
       "description_width": ""
      }
     },
     "df839b91514047afbd1e36294771a729": {
      "model_module": "@jupyter-widgets/controls",
      "model_module_version": "1.5.0",
      "model_name": "DescriptionStyleModel",
      "state": {
       "description_width": ""
      }
     },
     "dfa26ba520004c86a4cdb88109012844": {
      "model_module": "@jupyter-widgets/controls",
      "model_module_version": "1.5.0",
      "model_name": "HTMLModel",
      "state": {
       "layout": "IPY_MODEL_f52d446911914ae7801189acbf266373",
       "style": "IPY_MODEL_8085a623a3c44746b6c8bb2e697420f2",
       "value": "Epoch 1, Batch: 27046, Loss: 0.0004: 100%"
      }
     },
     "e0263fac916c4dd48ce761466b8528cb": {
      "model_module": "@jupyter-widgets/controls",
      "model_module_version": "1.5.0",
      "model_name": "DescriptionStyleModel",
      "state": {
       "description_width": ""
      }
     },
     "e13a0fd9ace84af883f2e872df958596": {
      "model_module": "@jupyter-widgets/controls",
      "model_module_version": "1.5.0",
      "model_name": "HTMLModel",
      "state": {
       "layout": "IPY_MODEL_1e59e5257a424508ab61151d7bf6e1f5",
       "style": "IPY_MODEL_3d34d672ac0c4f948b038edadda878a7",
       "value": " 6762/6762 [00:33&lt;00:00, 212.75it/s]"
      }
     },
     "e1e093a77d3c4dd995c4f46eb6211459": {
      "model_module": "@jupyter-widgets/controls",
      "model_module_version": "1.5.0",
      "model_name": "DescriptionStyleModel",
      "state": {
       "description_width": ""
      }
     },
     "e2033880a01946d0b9cda7557c53cd51": {
      "model_module": "@jupyter-widgets/base",
      "model_module_version": "1.2.0",
      "model_name": "LayoutModel",
      "state": {}
     },
     "e3428420e520449493eef483395461d5": {
      "model_module": "@jupyter-widgets/controls",
      "model_module_version": "1.5.0",
      "model_name": "HBoxModel",
      "state": {
       "children": [
        "IPY_MODEL_b4ed8a7f9922429db2826c8777a59a8a",
        "IPY_MODEL_a42e3339106f440f9d7cb7c5ab17669a",
        "IPY_MODEL_664e5b4ad205426cbd20424a11cc98c9"
       ],
       "layout": "IPY_MODEL_819b40721658474ba7a592c2a17f4e12"
      }
     },
     "e481fd42769f4ae1bf963a0e5a14cfc0": {
      "model_module": "@jupyter-widgets/controls",
      "model_module_version": "1.5.0",
      "model_name": "DescriptionStyleModel",
      "state": {
       "description_width": ""
      }
     },
     "e508cc79317240fa855bbaf3b4d14f9e": {
      "model_module": "@jupyter-widgets/controls",
      "model_module_version": "1.5.0",
      "model_name": "FloatProgressModel",
      "state": {
       "bar_style": "success",
       "layout": "IPY_MODEL_732620d9953a43b5b229e58b9d6f48f3",
       "max": 27046,
       "style": "IPY_MODEL_75eda8d306e04b6eac877d79099c1b04",
       "value": 27046
      }
     },
     "e537261a16124b99abcc9c22c7079592": {
      "model_module": "@jupyter-widgets/base",
      "model_module_version": "1.2.0",
      "model_name": "LayoutModel",
      "state": {}
     },
     "e55db0111b4c4486984cb169e2765ea5": {
      "model_module": "@jupyter-widgets/controls",
      "model_module_version": "1.5.0",
      "model_name": "DescriptionStyleModel",
      "state": {
       "description_width": ""
      }
     },
     "e67c13a73e5f4ddd9945d592be84f3e5": {
      "model_module": "@jupyter-widgets/base",
      "model_module_version": "1.2.0",
      "model_name": "LayoutModel",
      "state": {}
     },
     "e759dd8c317f4b92adb59b900eb2b633": {
      "model_module": "@jupyter-widgets/controls",
      "model_module_version": "1.5.0",
      "model_name": "HTMLModel",
      "state": {
       "layout": "IPY_MODEL_fd9973811a3d44e898a4b6353db19583",
       "style": "IPY_MODEL_fa0930b723914f599923cb3dba1a9fb7",
       "value": " 6762/6762 [00:32&lt;00:00, 218.82it/s]"
      }
     },
     "e79e754e982445baa3091610762c4378": {
      "model_module": "@jupyter-widgets/base",
      "model_module_version": "1.2.0",
      "model_name": "LayoutModel",
      "state": {}
     },
     "e83e5e3b4017410abc9841d60c6e9042": {
      "model_module": "@jupyter-widgets/controls",
      "model_module_version": "1.5.0",
      "model_name": "HBoxModel",
      "state": {
       "children": [
        "IPY_MODEL_8321aa73d0604d1abb6de2db09f3f7a5",
        "IPY_MODEL_ef4a2bce1de74f80aa693b63f8f046bd",
        "IPY_MODEL_4498311e4ac04639a55f46ab78989013"
       ],
       "layout": "IPY_MODEL_724ef4887bfd46d2b9cb046962d991c1"
      }
     },
     "e9f1da1ed9d04fe39351d42fc0e695eb": {
      "model_module": "@jupyter-widgets/controls",
      "model_module_version": "1.5.0",
      "model_name": "DescriptionStyleModel",
      "state": {
       "description_width": ""
      }
     },
     "ea4742755be64eecb21cae928c95bb68": {
      "model_module": "@jupyter-widgets/base",
      "model_module_version": "1.2.0",
      "model_name": "LayoutModel",
      "state": {}
     },
     "eb8eb1d16e624bd7b911e2949eb2cbb9": {
      "model_module": "@jupyter-widgets/controls",
      "model_module_version": "1.5.0",
      "model_name": "FloatProgressModel",
      "state": {
       "bar_style": "success",
       "layout": "IPY_MODEL_14490629d17a4380a65eccfb110a9d70",
       "max": 27046,
       "style": "IPY_MODEL_020fb7920ccf48c9a950333dbd276da4",
       "value": 27046
      }
     },
     "ec1348f320bc4387892b4659bb2eccaa": {
      "model_module": "@jupyter-widgets/controls",
      "model_module_version": "1.5.0",
      "model_name": "HTMLModel",
      "state": {
       "layout": "IPY_MODEL_14d2eb1842ad40519bd170e688c7eaaf",
       "style": "IPY_MODEL_f7c94e1cd187448bb199fd6a0bca7060",
       "value": " 6762/6762 [00:32&lt;00:00, 150.09it/s]"
      }
     },
     "ecbc4b91403847a4a99fcb4fd4395031": {
      "model_module": "@jupyter-widgets/controls",
      "model_module_version": "1.5.0",
      "model_name": "ProgressStyleModel",
      "state": {
       "description_width": ""
      }
     },
     "ed49dbe6098e41278adce737e19a8a47": {
      "model_module": "@jupyter-widgets/base",
      "model_module_version": "1.2.0",
      "model_name": "LayoutModel",
      "state": {}
     },
     "ed990b70862e4b499dbb708bcc6b7447": {
      "model_module": "@jupyter-widgets/base",
      "model_module_version": "1.2.0",
      "model_name": "LayoutModel",
      "state": {}
     },
     "edaede1571c74d04adf448e9162c507f": {
      "model_module": "@jupyter-widgets/controls",
      "model_module_version": "1.5.0",
      "model_name": "HTMLModel",
      "state": {
       "layout": "IPY_MODEL_4b3c9df1c285476c9f28945914fe3a3a",
       "style": "IPY_MODEL_df839b91514047afbd1e36294771a729",
       "value": " 6762/6762 [00:31&lt;00:00, 218.28it/s]"
      }
     },
     "ee747c8b75014d43982dd2dc25ec33e7": {
      "model_module": "@jupyter-widgets/base",
      "model_module_version": "1.2.0",
      "model_name": "LayoutModel",
      "state": {}
     },
     "eeca088fe68e432cad17c96dbb423426": {
      "model_module": "@jupyter-widgets/base",
      "model_module_version": "1.2.0",
      "model_name": "LayoutModel",
      "state": {}
     },
     "ef0ff53500c34e2b9febf913cb78bcfe": {
      "model_module": "@jupyter-widgets/base",
      "model_module_version": "1.2.0",
      "model_name": "LayoutModel",
      "state": {}
     },
     "ef1c9c644c44406ea3931dfd1a367b63": {
      "model_module": "@jupyter-widgets/controls",
      "model_module_version": "1.5.0",
      "model_name": "DescriptionStyleModel",
      "state": {
       "description_width": ""
      }
     },
     "ef4a2bce1de74f80aa693b63f8f046bd": {
      "model_module": "@jupyter-widgets/controls",
      "model_module_version": "1.5.0",
      "model_name": "FloatProgressModel",
      "state": {
       "bar_style": "success",
       "layout": "IPY_MODEL_33d624c1474c48ee9904382da8b15dbf",
       "max": 27046,
       "style": "IPY_MODEL_2d7a0f275d4d412a9261f9b29efbb457",
       "value": 27046
      }
     },
     "f09e2406993b4adb944d3872de3d4c3e": {
      "model_module": "@jupyter-widgets/controls",
      "model_module_version": "1.5.0",
      "model_name": "HTMLModel",
      "state": {
       "layout": "IPY_MODEL_1766f351d39e4c3399d6900f602d421e",
       "style": "IPY_MODEL_e55db0111b4c4486984cb169e2765ea5",
       "value": "Batch: 6762, Loss: 0.0001: 100%"
      }
     },
     "f0bb77582467424589d2ca8aed4d278c": {
      "model_module": "@jupyter-widgets/controls",
      "model_module_version": "1.5.0",
      "model_name": "HTMLModel",
      "state": {
       "layout": "IPY_MODEL_b92b7f96d04e470aad25e0af90d65e16",
       "style": "IPY_MODEL_741035842f7e4ab9820f3e24c37c284e",
       "value": " 27046/27046 [04:51&lt;00:00, 93.69it/s]"
      }
     },
     "f0c42e3b6ee444a7b45c460a3b2fed50": {
      "model_module": "@jupyter-widgets/controls",
      "model_module_version": "1.5.0",
      "model_name": "DescriptionStyleModel",
      "state": {
       "description_width": ""
      }
     },
     "f1200a1d86bc4a1c908ed9e0c190ad90": {
      "model_module": "@jupyter-widgets/controls",
      "model_module_version": "1.5.0",
      "model_name": "HBoxModel",
      "state": {
       "children": [
        "IPY_MODEL_937dcb5800dd42d7b1be61930a685adb",
        "IPY_MODEL_eb8eb1d16e624bd7b911e2949eb2cbb9",
        "IPY_MODEL_dd7a52d6399a4216808a5a44c0ebffe8"
       ],
       "layout": "IPY_MODEL_6c187ae0dbaa48c382690a89b3e9b84f"
      }
     },
     "f24aed16a4f24e6f81648d74251e29f0": {
      "model_module": "@jupyter-widgets/controls",
      "model_module_version": "1.5.0",
      "model_name": "FloatProgressModel",
      "state": {
       "bar_style": "success",
       "layout": "IPY_MODEL_83c16316da5c42ed91ccdb6e8e7685a8",
       "max": 6762,
       "style": "IPY_MODEL_538ed1ffe82d4e57a75cb921b495ecf9",
       "value": 6762
      }
     },
     "f2742c3c559f44839b4218ab38335786": {
      "model_module": "@jupyter-widgets/controls",
      "model_module_version": "1.5.0",
      "model_name": "HTMLModel",
      "state": {
       "layout": "IPY_MODEL_56abfc65af3f4cddbcdd05e4de4daae4",
       "style": "IPY_MODEL_185ef654d2644bcf91a2016262b94f6f",
       "value": " 6762/6762 [00:31&lt;00:00, 218.61it/s]"
      }
     },
     "f2cce92599a24799ba4719aa6c8cdf32": {
      "model_module": "@jupyter-widgets/controls",
      "model_module_version": "1.5.0",
      "model_name": "DescriptionStyleModel",
      "state": {
       "description_width": ""
      }
     },
     "f335ac7107e04b47abcca06da3d1f1e0": {
      "model_module": "@jupyter-widgets/base",
      "model_module_version": "1.2.0",
      "model_name": "LayoutModel",
      "state": {}
     },
     "f36202d7aecd4bed8f90601ecf143195": {
      "model_module": "@jupyter-widgets/controls",
      "model_module_version": "1.5.0",
      "model_name": "DescriptionStyleModel",
      "state": {
       "description_width": ""
      }
     },
     "f4c93c6cef3f4055aece974bf7e76ff3": {
      "model_module": "@jupyter-widgets/controls",
      "model_module_version": "1.5.0",
      "model_name": "HTMLModel",
      "state": {
       "layout": "IPY_MODEL_4e12224d89844998b81da8ae99da8ade",
       "style": "IPY_MODEL_0b7f17cc654d4ad9a9effecf3a5d5571",
       "value": "Batch: 6762, Loss: 0.0250: 100%"
      }
     },
     "f52d446911914ae7801189acbf266373": {
      "model_module": "@jupyter-widgets/base",
      "model_module_version": "1.2.0",
      "model_name": "LayoutModel",
      "state": {}
     },
     "f5a35d7379b649e6b264678fad44c1e7": {
      "model_module": "@jupyter-widgets/controls",
      "model_module_version": "1.5.0",
      "model_name": "DescriptionStyleModel",
      "state": {
       "description_width": ""
      }
     },
     "f5d241726175441e9146b0f71896edb3": {
      "model_module": "@jupyter-widgets/base",
      "model_module_version": "1.2.0",
      "model_name": "LayoutModel",
      "state": {}
     },
     "f7c94e1cd187448bb199fd6a0bca7060": {
      "model_module": "@jupyter-widgets/controls",
      "model_module_version": "1.5.0",
      "model_name": "DescriptionStyleModel",
      "state": {
       "description_width": ""
      }
     },
     "f7e9c0480ba840098a50c2c8c4eafc9c": {
      "model_module": "@jupyter-widgets/base",
      "model_module_version": "1.2.0",
      "model_name": "LayoutModel",
      "state": {}
     },
     "f827aeb02d394d0d81e7225f85fc649b": {
      "model_module": "@jupyter-widgets/controls",
      "model_module_version": "1.5.0",
      "model_name": "FloatProgressModel",
      "state": {
       "bar_style": "success",
       "layout": "IPY_MODEL_ed49dbe6098e41278adce737e19a8a47",
       "max": 6762,
       "style": "IPY_MODEL_1b3ddf0d26d24c1b8fef464002b493dc",
       "value": 6762
      }
     },
     "f8a17e234c65450489aada739f63e1bd": {
      "model_module": "@jupyter-widgets/controls",
      "model_module_version": "1.5.0",
      "model_name": "FloatProgressModel",
      "state": {
       "bar_style": "success",
       "layout": "IPY_MODEL_15efff237eb24bf387da9192eac3600a",
       "max": 27046,
       "style": "IPY_MODEL_7dc772671d444dc29052e28acad8a73f",
       "value": 27046
      }
     },
     "f901548a8dd245fa8f51d8f1e95d17bf": {
      "model_module": "@jupyter-widgets/base",
      "model_module_version": "1.2.0",
      "model_name": "LayoutModel",
      "state": {}
     },
     "f9047795f5184646893c8aee6e2ab312": {
      "model_module": "@jupyter-widgets/controls",
      "model_module_version": "1.5.0",
      "model_name": "HTMLModel",
      "state": {
       "layout": "IPY_MODEL_a0318574cbd249549131e0b93002ef4c",
       "style": "IPY_MODEL_dea54b5641274fef996892df024a925c",
       "value": "Epoch 9, Batch: 27046, Loss: 0.0000: 100%"
      }
     },
     "f9adcc44ea30465f926daf4257489edd": {
      "model_module": "@jupyter-widgets/controls",
      "model_module_version": "1.5.0",
      "model_name": "ProgressStyleModel",
      "state": {
       "description_width": ""
      }
     },
     "fa0930b723914f599923cb3dba1a9fb7": {
      "model_module": "@jupyter-widgets/controls",
      "model_module_version": "1.5.0",
      "model_name": "DescriptionStyleModel",
      "state": {
       "description_width": ""
      }
     },
     "fb158c1c30a946b3b6e6ff0c8f4f5048": {
      "model_module": "@jupyter-widgets/controls",
      "model_module_version": "1.5.0",
      "model_name": "FloatProgressModel",
      "state": {
       "bar_style": "success",
       "layout": "IPY_MODEL_e537261a16124b99abcc9c22c7079592",
       "max": 6762,
       "style": "IPY_MODEL_bcb99ccf5ed0428b9ddd26e02a5a3e65",
       "value": 6762
      }
     },
     "fbb893f40add47a686720f8921d80cd3": {
      "model_module": "@jupyter-widgets/controls",
      "model_module_version": "1.5.0",
      "model_name": "DescriptionStyleModel",
      "state": {
       "description_width": ""
      }
     },
     "fc20aeb181eb4a8b97ff6b29683c1559": {
      "model_module": "@jupyter-widgets/base",
      "model_module_version": "1.2.0",
      "model_name": "LayoutModel",
      "state": {}
     },
     "fc40e021ecb642b5bff6508527538b21": {
      "model_module": "@jupyter-widgets/controls",
      "model_module_version": "1.5.0",
      "model_name": "DescriptionStyleModel",
      "state": {
       "description_width": ""
      }
     },
     "fd9973811a3d44e898a4b6353db19583": {
      "model_module": "@jupyter-widgets/base",
      "model_module_version": "1.2.0",
      "model_name": "LayoutModel",
      "state": {}
     },
     "fe18ad8d87c04866bb5ef7dd51497028": {
      "model_module": "@jupyter-widgets/controls",
      "model_module_version": "1.5.0",
      "model_name": "HBoxModel",
      "state": {
       "children": [
        "IPY_MODEL_870c66d0bbef4639b768d1bf97f0dbbb",
        "IPY_MODEL_3e596e03bba4409d8d4ef2405045a332",
        "IPY_MODEL_2539359ef7144178a7413d28cd160ce4"
       ],
       "layout": "IPY_MODEL_3dd111491fd74797ac40794af6b7cd19"
      }
     }
    },
    "version_major": 2,
    "version_minor": 0
   }
  }
 },
 "nbformat": 4,
 "nbformat_minor": 4
}
